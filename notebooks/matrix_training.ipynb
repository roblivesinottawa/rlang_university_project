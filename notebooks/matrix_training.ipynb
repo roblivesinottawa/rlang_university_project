{
 "cells": [
  {
   "cell_type": "code",
   "execution_count": 3,
   "metadata": {},
   "outputs": [],
   "source": [
    "A <- 1:3\n",
    "B <- 4:6\n",
    "mat <- rbind(A, B)"
   ]
  },
  {
   "cell_type": "code",
   "execution_count": 4,
   "metadata": {},
   "outputs": [
    {
     "name": "stdout",
     "output_type": "stream",
     "text": [
      "  [,1] [,2] [,3]\n",
      "A    1    2    3\n",
      "B    4    5    6\n"
     ]
    }
   ],
   "source": [
    "print(mat)"
   ]
  },
  {
   "cell_type": "code",
   "execution_count": 22,
   "metadata": {},
   "outputs": [
    {
     "name": "stdout",
     "output_type": "stream",
     "text": [
      "     [,1] [,2] [,3]\n",
      "[1,]    1    2    3\n",
      "[2,]    4    5    6\n",
      "[3,]    7    8    9\n"
     ]
    }
   ],
   "source": [
    "mat = matrix(1:9, nrow=3, byrow=TRUE)\n",
    "print(mat)"
   ]
  },
  {
   "cell_type": "code",
   "execution_count": 6,
   "metadata": {},
   "outputs": [
    {
     "name": "stdout",
     "output_type": "stream",
     "text": [
      "[1] TRUE\n"
     ]
    }
   ],
   "source": [
    "print(is.matrix(mat))"
   ]
  },
  {
   "cell_type": "code",
   "execution_count": 8,
   "metadata": {},
   "outputs": [
    {
     "name": "stdout",
     "output_type": "stream",
     "text": [
      "     [,1] [,2] [,3] [,4] [,5]\n",
      "[1,]    1    2    3    4    5\n",
      "[2,]    6    7    8    9   10\n",
      "[3,]   11   12   13   14   15\n",
      "[4,]   16   17   18   19   20\n",
      "[5,]   21   22   23   24   25\n"
     ]
    }
   ],
   "source": [
    "mat.25 <- matrix(1:25, nrow=5, byrow=TRUE)\n",
    "print(mat.25)"
   ]
  },
  {
   "cell_type": "code",
   "execution_count": 9,
   "metadata": {},
   "outputs": [
    {
     "name": "stdout",
     "output_type": "stream",
     "text": [
      "     [,1] [,2]\n",
      "[1,]    7    8\n",
      "[2,]   12   13\n"
     ]
    }
   ],
   "source": [
    "print(mat.25[2:3, 2:3])"
   ]
  },
  {
   "cell_type": "code",
   "execution_count": 10,
   "metadata": {},
   "outputs": [
    {
     "name": "stdout",
     "output_type": "stream",
     "text": [
      "     [,1] [,2]\n",
      "[1,]   19   20\n",
      "[2,]   24   25\n"
     ]
    }
   ],
   "source": [
    "print(mat.25[4:5, 4:5])"
   ]
  },
  {
   "cell_type": "code",
   "execution_count": 14,
   "metadata": {},
   "outputs": [
    {
     "name": "stdout",
     "output_type": "stream",
     "text": [
      "[1] 325\n"
     ]
    }
   ],
   "source": [
    "print(sum(mat.25))"
   ]
  },
  {
   "cell_type": "code",
   "execution_count": 15,
   "metadata": {},
   "outputs": [
    {
     "name": "stderr",
     "output_type": "stream",
     "text": [
      "Warning message in seq_len(head.end.idx):\n",
      "\"first element used of 'length.out' argument\"\n",
      "ERROR while rich displaying an object: Error in seq_len(head.end.idx): argument must be coercible to non-negative integer\n",
      "\n",
      "Traceback:\n",
      "1. FUN(X[[i]], ...)\n",
      "2. tryCatch(withCallingHandlers({\n",
      " .     if (!mime %in% names(repr::mime2repr)) \n",
      " .         stop(\"No repr_* for mimetype \", mime, \" in repr::mime2repr\")\n",
      " .     rpr <- repr::mime2repr[[mime]](obj)\n",
      " .     if (is.null(rpr)) \n",
      " .         return(NULL)\n",
      " .     prepare_content(is.raw(rpr), rpr)\n",
      " . }, error = error_handler), error = outer_handler)\n",
      "3. tryCatchList(expr, classes, parentenv, handlers)\n",
      "4. tryCatchOne(expr, names, parentenv, handlers[[1L]])\n",
      "5. doTryCatch(return(expr), name, parentenv, handler)\n",
      "6. withCallingHandlers({\n",
      " .     if (!mime %in% names(repr::mime2repr)) \n",
      " .         stop(\"No repr_* for mimetype \", mime, \" in repr::mime2repr\")\n",
      " .     rpr <- repr::mime2repr[[mime]](obj)\n",
      " .     if (is.null(rpr)) \n",
      " .         return(NULL)\n",
      " .     prepare_content(is.raw(rpr), rpr)\n",
      " . }, error = error_handler)\n",
      "7. repr::mime2repr[[mime]](obj)\n",
      "8. repr_html.help_files_with_topic(obj)\n",
      "9. repr_help_files_with_topic_generic(obj, Rd2HTML)\n"
     ]
    },
    {
     "name": "stdout",
     "output_type": "stream",
     "text": [
      "Uniform                 package:stats                  R Documentation\n",
      "\n",
      "_\bT_\bh_\be _\bU_\bn_\bi_\bf_\bo_\br_\bm _\bD_\bi_\bs_\bt_\br_\bi_\bb_\bu_\bt_\bi_\bo_\bn\n",
      "\n",
      "_\bD_\be_\bs_\bc_\br_\bi_\bp_\bt_\bi_\bo_\bn:\n",
      "\n",
      "     These functions provide information about the uniform distribution\n",
      "     on the interval from 'min' to 'max'.  'dunif' gives the density,\n",
      "     'punif' gives the distribution function 'qunif' gives the quantile\n",
      "     function and 'runif' generates random deviates.\n",
      "\n",
      "_\bU_\bs_\ba_\bg_\be:\n",
      "\n",
      "     dunif(x, min = 0, max = 1, log = FALSE)\n",
      "     punif(q, min = 0, max = 1, lower.tail = TRUE, log.p = FALSE)\n",
      "     qunif(p, min = 0, max = 1, lower.tail = TRUE, log.p = FALSE)\n",
      "     runif(n, min = 0, max = 1)\n",
      "     \n",
      "_\bA_\br_\bg_\bu_\bm_\be_\bn_\bt_\bs:\n",
      "\n",
      "    x, q: vector of quantiles.\n",
      "\n",
      "       p: vector of probabilities.\n",
      "\n",
      "       n: number of observations. If 'length(n) > 1', the length is\n",
      "          taken to be the number required.\n",
      "\n",
      "min, max: lower and upper limits of the distribution.  Must be finite.\n",
      "\n",
      "log, log.p: logical; if TRUE, probabilities p are given as log(p).\n",
      "\n",
      "lower.tail: logical; if TRUE (default), probabilities are P[X <= x],\n",
      "          otherwise, P[X > x].\n",
      "\n",
      "_\bD_\be_\bt_\ba_\bi_\bl_\bs:\n",
      "\n",
      "     If 'min' or 'max' are not specified they assume the default values\n",
      "     of '0' and '1' respectively.\n",
      "\n",
      "     The uniform distribution has density\n",
      "\n",
      "                             f(x) = 1/(max-min)                         \n",
      "     \n",
      "     for min <= x <= max.\n",
      "\n",
      "     For the case of u := min == max, the limit case of X == u is\n",
      "     assumed, although there is no density in that case and 'dunif'\n",
      "     will return 'NaN' (the error condition).\n",
      "\n",
      "     'runif' will not generate either of the extreme values unless 'max\n",
      "     = min' or 'max-min' is small compared to 'min', and in particular\n",
      "     not for the default arguments.\n",
      "\n",
      "_\bV_\ba_\bl_\bu_\be:\n",
      "\n",
      "     'dunif' gives the density, 'punif' gives the distribution\n",
      "     function, 'qunif' gives the quantile function, and 'runif'\n",
      "     generates random deviates.\n",
      "\n",
      "     The length of the result is determined by 'n' for 'runif', and is\n",
      "     the maximum of the lengths of the numerical arguments for the\n",
      "     other functions.\n",
      "\n",
      "     The numerical arguments other than 'n' are recycled to the length\n",
      "     of the result.  Only the first elements of the logical arguments\n",
      "     are used.\n",
      "\n",
      "_\bN_\bo_\bt_\be:\n",
      "\n",
      "     The characteristics of output from pseudo-random number generators\n",
      "     (such as precision and periodicity) vary widely.  See\n",
      "     '.Random.seed' for more information on R's random number\n",
      "     generation algorithms.\n",
      "\n",
      "_\bR_\be_\bf_\be_\br_\be_\bn_\bc_\be_\bs:\n",
      "\n",
      "     Becker, R. A., Chambers, J. M. and Wilks, A. R. (1988) _The New S\n",
      "     Language_.  Wadsworth & Brooks/Cole.\n",
      "\n",
      "_\bS_\be_\be _\bA_\bl_\bs_\bo:\n",
      "\n",
      "     'RNG' about random number generation in R.\n",
      "\n",
      "     Distributions for other standard distributions.\n",
      "\n",
      "_\bE_\bx_\ba_\bm_\bp_\bl_\be_\bs:\n",
      "\n",
      "     u <- runif(20)\n",
      "     \n",
      "     ## The following relations always hold :\n",
      "     punif(u) == u\n",
      "     dunif(u) == 1\n",
      "     \n",
      "     var(runif(10000))  #- ~ = 1/12 = .08333\n",
      "     "
     ]
    }
   ],
   "source": [
    "help(runif)"
   ]
  },
  {
   "cell_type": "code",
   "execution_count": 24,
   "metadata": {},
   "outputs": [
    {
     "name": "stdout",
     "output_type": "stream",
     "text": [
      "         [,1]     [,2]     [,3]     [,4]     [,5]\n",
      "[1,] 15.69480 15.67296 36.03026 92.89566 33.74047\n",
      "[2,] 83.15929 61.20487 25.47281 19.41453 92.02792\n",
      "[3,] 21.77527 49.13122 15.17207 79.79449 85.51607\n",
      "[4,] 82.97393 17.47842 88.74747 35.64993 29.91076\n"
     ]
    }
   ],
   "source": [
    "mat.20 <- matrix(runif(20, min=0, max=100), nrow=4, ncol=5)\n",
    "print(mat.20)"
   ]
  },
  {
   "cell_type": "code",
   "execution_count": null,
   "metadata": {},
   "outputs": [],
   "source": []
  }
 ],
 "metadata": {
  "kernelspec": {
   "display_name": "R",
   "language": "R",
   "name": "ir"
  },
  "language_info": {
   "codemirror_mode": "r",
   "file_extension": ".r",
   "mimetype": "text/x-r-source",
   "name": "R",
   "pygments_lexer": "r",
   "version": "4.1.2"
  },
  "orig_nbformat": 4
 },
 "nbformat": 4,
 "nbformat_minor": 2
}
