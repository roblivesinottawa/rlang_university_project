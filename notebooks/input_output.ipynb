{
 "cells": [
  {
   "cell_type": "code",
   "execution_count": 2,
   "metadata": {},
   "outputs": [],
   "source": [
    "ex <- read.csv('../data/example.csv')"
   ]
  },
  {
   "cell_type": "code",
   "execution_count": 3,
   "metadata": {},
   "outputs": [
    {
     "name": "stdout",
     "output_type": "stream",
     "text": [
      "     Name Orders       Date\n",
      "1    John     12 12/05/2016\n",
      "2 Charlie     11 12/06/2016\n",
      "3 Matilda     10 12/07/2016\n"
     ]
    }
   ],
   "source": [
    "print(ex)"
   ]
  },
  {
   "cell_type": "code",
   "execution_count": 4,
   "metadata": {},
   "outputs": [
    {
     "name": "stdout",
     "output_type": "stream",
     "text": [
      "'data.frame':\t3 obs. of  3 variables:\n",
      " $ Name  : chr  \"John\" \"Charlie\" \"Matilda\"\n",
      " $ Orders: int  12 11 10\n",
      " $ Date  : chr  \"12/05/2016\" \"12/06/2016\" \"12/07/2016\"\n"
     ]
    }
   ],
   "source": [
    "str(ex)"
   ]
  },
  {
   "cell_type": "code",
   "execution_count": 5,
   "metadata": {},
   "outputs": [
    {
     "data": {
      "text/html": [
       "'data.frame'"
      ],
      "text/latex": [
       "'data.frame'"
      ],
      "text/markdown": [
       "'data.frame'"
      ],
      "text/plain": [
       "[1] \"data.frame\""
      ]
     },
     "metadata": {},
     "output_type": "display_data"
    }
   ],
   "source": [
    "class(ex)"
   ]
  },
  {
   "cell_type": "code",
   "execution_count": 6,
   "metadata": {},
   "outputs": [
    {
     "data": {
      "text/html": [
       "<style>\n",
       ".list-inline {list-style: none; margin:0; padding: 0}\n",
       ".list-inline>li {display: inline-block}\n",
       ".list-inline>li:not(:last-child)::after {content: \"\\00b7\"; padding: 0 .5ex}\n",
       "</style>\n",
       "<ol class=list-inline><li>'Name'</li><li>'Orders'</li><li>'Date'</li></ol>\n"
      ],
      "text/latex": [
       "\\begin{enumerate*}\n",
       "\\item 'Name'\n",
       "\\item 'Orders'\n",
       "\\item 'Date'\n",
       "\\end{enumerate*}\n"
      ],
      "text/markdown": [
       "1. 'Name'\n",
       "2. 'Orders'\n",
       "3. 'Date'\n",
       "\n",
       "\n"
      ],
      "text/plain": [
       "[1] \"Name\"   \"Orders\" \"Date\"  "
      ]
     },
     "metadata": {},
     "output_type": "display_data"
    }
   ],
   "source": [
    "colnames(ex)"
   ]
  },
  {
   "cell_type": "code",
   "execution_count": 7,
   "metadata": {},
   "outputs": [],
   "source": [
    "df <- data.frame(ex)"
   ]
  },
  {
   "cell_type": "code",
   "execution_count": 8,
   "metadata": {},
   "outputs": [
    {
     "name": "stdout",
     "output_type": "stream",
     "text": [
      "     Name Orders       Date\n",
      "1    John     12 12/05/2016\n",
      "2 Charlie     11 12/06/2016\n",
      "3 Matilda     10 12/07/2016\n"
     ]
    }
   ],
   "source": [
    "print(head(df))"
   ]
  },
  {
   "cell_type": "code",
   "execution_count": 9,
   "metadata": {},
   "outputs": [],
   "source": [
    "write.csv(mtcars, file='../data/my_example.csv')"
   ]
  },
  {
   "cell_type": "code",
   "execution_count": 10,
   "metadata": {},
   "outputs": [],
   "source": [
    "my.example <- read.csv('../data/my_example.csv')"
   ]
  },
  {
   "cell_type": "code",
   "execution_count": 11,
   "metadata": {},
   "outputs": [
    {
     "name": "stdout",
     "output_type": "stream",
     "text": [
      "                  X  mpg cyl disp  hp drat    wt  qsec vs am gear carb\n",
      "1         Mazda RX4 21.0   6  160 110 3.90 2.620 16.46  0  1    4    4\n",
      "2     Mazda RX4 Wag 21.0   6  160 110 3.90 2.875 17.02  0  1    4    4\n",
      "3        Datsun 710 22.8   4  108  93 3.85 2.320 18.61  1  1    4    1\n",
      "4    Hornet 4 Drive 21.4   6  258 110 3.08 3.215 19.44  1  0    3    1\n",
      "5 Hornet Sportabout 18.7   8  360 175 3.15 3.440 17.02  0  0    3    2\n",
      "6           Valiant 18.1   6  225 105 2.76 3.460 20.22  1  0    3    1\n"
     ]
    }
   ],
   "source": [
    "print(head(my.example))"
   ]
  },
  {
   "cell_type": "code",
   "execution_count": 12,
   "metadata": {},
   "outputs": [
    {
     "name": "stdout",
     "output_type": "stream",
     "text": [
      "                    V1\n",
      "1                     \n",
      "2            Mazda RX4\n",
      "3        Mazda RX4 Wag\n",
      "4           Datsun 710\n",
      "5       Hornet 4 Drive\n",
      "6    Hornet Sportabout\n",
      "7              Valiant\n",
      "8           Duster 360\n",
      "9            Merc 240D\n",
      "10            Merc 230\n",
      "11            Merc 280\n",
      "12           Merc 280C\n",
      "13          Merc 450SE\n",
      "14          Merc 450SL\n",
      "15         Merc 450SLC\n",
      "16  Cadillac Fleetwood\n",
      "17 Lincoln Continental\n",
      "18   Chrysler Imperial\n",
      "19            Fiat 128\n",
      "20         Honda Civic\n",
      "21      Toyota Corolla\n",
      "22       Toyota Corona\n",
      "23    Dodge Challenger\n",
      "24         AMC Javelin\n",
      "25          Camaro Z28\n",
      "26    Pontiac Firebird\n",
      "27           Fiat X1-9\n",
      "28       Porsche 914-2\n",
      "29        Lotus Europa\n",
      "30      Ford Pantera L\n",
      "31        Ferrari Dino\n",
      "32       Maserati Bora\n",
      "33          Volvo 142E\n",
      "                                                                    V2\n",
      "1  ,\"mpg\",\"cyl\",\"disp\",\"hp\",\"drat\",\"wt\",\"qsec\",\"vs\",\"am\",\"gear\",\"carb\"\n",
      "2                                 ,21,6,160,110,3.9,2.62,16.46,0,1,4,4\n",
      "3                                ,21,6,160,110,3.9,2.875,17.02,0,1,4,4\n",
      "4                               ,22.8,4,108,93,3.85,2.32,18.61,1,1,4,1\n",
      "5                             ,21.4,6,258,110,3.08,3.215,19.44,1,0,3,1\n",
      "6                              ,18.7,8,360,175,3.15,3.44,17.02,0,0,3,2\n",
      "7                              ,18.1,6,225,105,2.76,3.46,20.22,1,0,3,1\n",
      "8                              ,14.3,8,360,245,3.21,3.57,15.84,0,0,3,4\n",
      "9                                ,24.4,4,146.7,62,3.69,3.19,20,1,0,4,2\n",
      "10                             ,22.8,4,140.8,95,3.92,3.15,22.9,1,0,4,2\n",
      "11                            ,19.2,6,167.6,123,3.92,3.44,18.3,1,0,4,4\n",
      "12                            ,17.8,6,167.6,123,3.92,3.44,18.9,1,0,4,4\n",
      "13                            ,16.4,8,275.8,180,3.07,4.07,17.4,0,0,3,3\n",
      "14                            ,17.3,8,275.8,180,3.07,3.73,17.6,0,0,3,3\n",
      "15                              ,15.2,8,275.8,180,3.07,3.78,18,0,0,3,3\n",
      "16                             ,10.4,8,472,205,2.93,5.25,17.98,0,0,3,4\n",
      "17                               ,10.4,8,460,215,3,5.424,17.82,0,0,3,4\n",
      "18                            ,14.7,8,440,230,3.23,5.345,17.42,0,0,3,4\n",
      "19                              ,32.4,4,78.7,66,4.08,2.2,19.47,1,1,4,1\n",
      "20                            ,30.4,4,75.7,52,4.93,1.615,18.52,1,1,4,2\n",
      "21                             ,33.9,4,71.1,65,4.22,1.835,19.9,1,1,4,1\n",
      "22                            ,21.5,4,120.1,97,3.7,2.465,20.01,1,0,3,1\n",
      "23                             ,15.5,8,318,150,2.76,3.52,16.87,0,0,3,2\n",
      "24                             ,15.2,8,304,150,3.15,3.435,17.3,0,0,3,2\n",
      "25                             ,13.3,8,350,245,3.73,3.84,15.41,0,0,3,4\n",
      "26                            ,19.2,8,400,175,3.08,3.845,17.05,0,0,3,2\n",
      "27                               ,27.3,4,79,66,4.08,1.935,18.9,1,1,4,1\n",
      "28                               ,26,4,120.3,91,4.43,2.14,16.7,0,1,5,2\n",
      "29                            ,30.4,4,95.1,113,3.77,1.513,16.9,1,1,5,2\n",
      "30                              ,15.8,8,351,264,4.22,3.17,14.5,0,1,5,4\n",
      "31                              ,19.7,6,145,175,3.62,2.77,15.5,0,1,5,6\n",
      "32                                ,15,8,301,335,3.54,3.57,14.6,0,1,5,8\n",
      "33                              ,21.4,4,121,109,4.11,2.78,18.6,1,1,4,2\n"
     ]
    }
   ],
   "source": [
    "print(read.table('../data/my_example.csv'))"
   ]
  },
  {
   "cell_type": "code",
   "execution_count": 13,
   "metadata": {},
   "outputs": [
    {
     "name": "stdout",
     "output_type": "stream",
     "text": [
      "                    V1   V2  V3    V4  V5   V6    V7    V8 V9 V10  V11  V12\n",
      "1                       mpg cyl  disp  hp drat    wt  qsec vs  am gear carb\n",
      "2            Mazda RX4   21   6   160 110  3.9  2.62 16.46  0   1    4    4\n",
      "3        Mazda RX4 Wag   21   6   160 110  3.9 2.875 17.02  0   1    4    4\n",
      "4           Datsun 710 22.8   4   108  93 3.85  2.32 18.61  1   1    4    1\n",
      "5       Hornet 4 Drive 21.4   6   258 110 3.08 3.215 19.44  1   0    3    1\n",
      "6    Hornet Sportabout 18.7   8   360 175 3.15  3.44 17.02  0   0    3    2\n",
      "7              Valiant 18.1   6   225 105 2.76  3.46 20.22  1   0    3    1\n",
      "8           Duster 360 14.3   8   360 245 3.21  3.57 15.84  0   0    3    4\n",
      "9            Merc 240D 24.4   4 146.7  62 3.69  3.19    20  1   0    4    2\n",
      "10            Merc 230 22.8   4 140.8  95 3.92  3.15  22.9  1   0    4    2\n",
      "11            Merc 280 19.2   6 167.6 123 3.92  3.44  18.3  1   0    4    4\n",
      "12           Merc 280C 17.8   6 167.6 123 3.92  3.44  18.9  1   0    4    4\n",
      "13          Merc 450SE 16.4   8 275.8 180 3.07  4.07  17.4  0   0    3    3\n",
      "14          Merc 450SL 17.3   8 275.8 180 3.07  3.73  17.6  0   0    3    3\n",
      "15         Merc 450SLC 15.2   8 275.8 180 3.07  3.78    18  0   0    3    3\n",
      "16  Cadillac Fleetwood 10.4   8   472 205 2.93  5.25 17.98  0   0    3    4\n",
      "17 Lincoln Continental 10.4   8   460 215    3 5.424 17.82  0   0    3    4\n",
      "18   Chrysler Imperial 14.7   8   440 230 3.23 5.345 17.42  0   0    3    4\n",
      "19            Fiat 128 32.4   4  78.7  66 4.08   2.2 19.47  1   1    4    1\n",
      "20         Honda Civic 30.4   4  75.7  52 4.93 1.615 18.52  1   1    4    2\n",
      "21      Toyota Corolla 33.9   4  71.1  65 4.22 1.835  19.9  1   1    4    1\n",
      "22       Toyota Corona 21.5   4 120.1  97  3.7 2.465 20.01  1   0    3    1\n",
      "23    Dodge Challenger 15.5   8   318 150 2.76  3.52 16.87  0   0    3    2\n",
      "24         AMC Javelin 15.2   8   304 150 3.15 3.435  17.3  0   0    3    2\n",
      "25          Camaro Z28 13.3   8   350 245 3.73  3.84 15.41  0   0    3    4\n",
      "26    Pontiac Firebird 19.2   8   400 175 3.08 3.845 17.05  0   0    3    2\n",
      "27           Fiat X1-9 27.3   4    79  66 4.08 1.935  18.9  1   1    4    1\n",
      "28       Porsche 914-2   26   4 120.3  91 4.43  2.14  16.7  0   1    5    2\n",
      "29        Lotus Europa 30.4   4  95.1 113 3.77 1.513  16.9  1   1    5    2\n",
      "30      Ford Pantera L 15.8   8   351 264 4.22  3.17  14.5  0   1    5    4\n",
      "31        Ferrari Dino 19.7   6   145 175 3.62  2.77  15.5  0   1    5    6\n",
      "32       Maserati Bora   15   8   301 335 3.54  3.57  14.6  0   1    5    8\n",
      "33          Volvo 142E 21.4   4   121 109 4.11  2.78  18.6  1   1    4    2\n"
     ]
    }
   ],
   "source": [
    "print(read.table(file='../data/my_example.csv', sep=','))"
   ]
  },
  {
   "cell_type": "code",
   "execution_count": 14,
   "metadata": {},
   "outputs": [],
   "source": [
    "write.csv(women, file='../data/women.csv')"
   ]
  },
  {
   "cell_type": "code",
   "execution_count": 15,
   "metadata": {},
   "outputs": [],
   "source": [
    "women.df <- read.csv('../data/women.csv')"
   ]
  },
  {
   "cell_type": "code",
   "execution_count": 16,
   "metadata": {},
   "outputs": [
    {
     "name": "stdout",
     "output_type": "stream",
     "text": [
      "    X height weight\n",
      "1   1     58    115\n",
      "2   2     59    117\n",
      "3   3     60    120\n",
      "4   4     61    123\n",
      "5   5     62    126\n",
      "6   6     63    129\n",
      "7   7     64    132\n",
      "8   8     65    135\n",
      "9   9     66    139\n",
      "10 10     67    142\n",
      "11 11     68    146\n",
      "12 12     69    150\n",
      "13 13     70    154\n",
      "14 14     71    159\n",
      "15 15     72    164\n"
     ]
    }
   ],
   "source": [
    "print(women.df)"
   ]
  },
  {
   "cell_type": "code",
   "execution_count": 17,
   "metadata": {},
   "outputs": [
    {
     "data": {
      "text/html": [
       "<table class=\"dataframe\">\n",
       "<caption>A data.frame: 6 × 3</caption>\n",
       "<thead>\n",
       "\t<tr><th></th><th scope=col>X</th><th scope=col>height</th><th scope=col>weight</th></tr>\n",
       "\t<tr><th></th><th scope=col>&lt;int&gt;</th><th scope=col>&lt;int&gt;</th><th scope=col>&lt;int&gt;</th></tr>\n",
       "</thead>\n",
       "<tbody>\n",
       "\t<tr><th scope=row>1</th><td>1</td><td>58</td><td>115</td></tr>\n",
       "\t<tr><th scope=row>2</th><td>2</td><td>59</td><td>117</td></tr>\n",
       "\t<tr><th scope=row>3</th><td>3</td><td>60</td><td>120</td></tr>\n",
       "\t<tr><th scope=row>4</th><td>4</td><td>61</td><td>123</td></tr>\n",
       "\t<tr><th scope=row>5</th><td>5</td><td>62</td><td>126</td></tr>\n",
       "\t<tr><th scope=row>6</th><td>6</td><td>63</td><td>129</td></tr>\n",
       "</tbody>\n",
       "</table>\n"
      ],
      "text/latex": [
       "A data.frame: 6 × 3\n",
       "\\begin{tabular}{r|lll}\n",
       "  & X & height & weight\\\\\n",
       "  & <int> & <int> & <int>\\\\\n",
       "\\hline\n",
       "\t1 & 1 & 58 & 115\\\\\n",
       "\t2 & 2 & 59 & 117\\\\\n",
       "\t3 & 3 & 60 & 120\\\\\n",
       "\t4 & 4 & 61 & 123\\\\\n",
       "\t5 & 5 & 62 & 126\\\\\n",
       "\t6 & 6 & 63 & 129\\\\\n",
       "\\end{tabular}\n"
      ],
      "text/markdown": [
       "\n",
       "A data.frame: 6 × 3\n",
       "\n",
       "| <!--/--> | X &lt;int&gt; | height &lt;int&gt; | weight &lt;int&gt; |\n",
       "|---|---|---|---|\n",
       "| 1 | 1 | 58 | 115 |\n",
       "| 2 | 2 | 59 | 117 |\n",
       "| 3 | 3 | 60 | 120 |\n",
       "| 4 | 4 | 61 | 123 |\n",
       "| 5 | 5 | 62 | 126 |\n",
       "| 6 | 6 | 63 | 129 |\n",
       "\n"
      ],
      "text/plain": [
       "  X height weight\n",
       "1 1 58     115   \n",
       "2 2 59     117   \n",
       "3 3 60     120   \n",
       "4 4 61     123   \n",
       "5 5 62     126   \n",
       "6 6 63     129   "
      ]
     },
     "metadata": {},
     "output_type": "display_data"
    }
   ],
   "source": [
    "head(women.df)"
   ]
  },
  {
   "cell_type": "code",
   "execution_count": 18,
   "metadata": {},
   "outputs": [
    {
     "name": "stdout",
     "output_type": "stream",
     "text": [
      "'data.frame':\t15 obs. of  3 variables:\n",
      " $ X     : int  1 2 3 4 5 6 7 8 9 10 ...\n",
      " $ height: int  58 59 60 61 62 63 64 65 66 67 ...\n",
      " $ weight: int  115 117 120 123 126 129 132 135 139 142 ...\n"
     ]
    }
   ],
   "source": [
    "str(women.df)"
   ]
  },
  {
   "cell_type": "code",
   "execution_count": 19,
   "metadata": {},
   "outputs": [
    {
     "name": "stdout",
     "output_type": "stream",
     "text": [
      "  X height weight\n",
      "1 1     58    115\n",
      "2 2     59    117\n",
      "3 3     60    120\n",
      "4 4     61    123\n",
      "5 5     62    126\n",
      "6 6     63    129\n"
     ]
    }
   ],
   "source": [
    "print(head(women.df))"
   ]
  },
  {
   "cell_type": "code",
   "execution_count": 20,
   "metadata": {},
   "outputs": [
    {
     "name": "stdout",
     "output_type": "stream",
     "text": [
      "     Jan Feb Mar Apr May Jun Jul Aug Sep Oct Nov Dec\n",
      "1949 112 118 132 129 121 135 148 148 136 119 104 118\n",
      "1950 115 126 141 135 125 149 170 170 158 133 114 140\n",
      "1951 145 150 178 163 172 178 199 199 184 162 146 166\n",
      "1952 171 180 193 181 183 218 230 242 209 191 172 194\n",
      "1953 196 196 236 235 229 243 264 272 237 211 180 201\n",
      "1954 204 188 235 227 234 264 302 293 259 229 203 229\n",
      "1955 242 233 267 269 270 315 364 347 312 274 237 278\n",
      "1956 284 277 317 313 318 374 413 405 355 306 271 306\n",
      "1957 315 301 356 348 355 422 465 467 404 347 305 336\n",
      "1958 340 318 362 348 363 435 491 505 404 359 310 337\n",
      "1959 360 342 406 396 420 472 548 559 463 407 362 405\n",
      "1960 417 391 419 461 472 535 622 606 508 461 390 432\n"
     ]
    }
   ],
   "source": [
    "print(AirPassengers)"
   ]
  },
  {
   "cell_type": "code",
   "execution_count": 21,
   "metadata": {},
   "outputs": [
    {
     "name": "stdout",
     "output_type": "stream",
     "text": [
      "  X   x\n",
      "1 1 112\n",
      "2 2 118\n",
      "3 3 132\n",
      "4 4 129\n",
      "5 5 121\n",
      "6 6 135\n"
     ]
    }
   ],
   "source": [
    "write.csv(AirPassengers, file='../data/airpassengers.csv')\n",
    "air.df <- read.csv('../data/airpassengers.csv')\n",
    "print(head(air.df))"
   ]
  },
  {
   "cell_type": "code",
   "execution_count": 22,
   "metadata": {},
   "outputs": [
    {
     "name": "stdout",
     "output_type": "stream",
     "text": [
      "  X    Name Orders       Date\n",
      "1 1    John     12 12/05/2016\n",
      "2 2 Charlie     11 12/06/2016\n",
      "3 3 Matilda     10 12/07/2016\n"
     ]
    }
   ],
   "source": [
    "write.csv(df, file='../data/foo.csv')\n",
    "df <- read.csv('../data/foo.csv')\n",
    "print(head(df))"
   ]
  },
  {
   "cell_type": "markdown",
   "metadata": {},
   "source": [
    "# excel files with R"
   ]
  },
  {
   "cell_type": "code",
   "execution_count": 1,
   "metadata": {},
   "outputs": [],
   "source": [
    "library(readxl)"
   ]
  },
  {
   "cell_type": "code",
   "execution_count": 2,
   "metadata": {},
   "outputs": [
    {
     "data": {
      "text/html": [
       "'Sheet1'"
      ],
      "text/latex": [
       "'Sheet1'"
      ],
      "text/markdown": [
       "'Sheet1'"
      ],
      "text/plain": [
       "[1] \"Sheet1\""
      ]
     },
     "metadata": {},
     "output_type": "display_data"
    }
   ],
   "source": [
    "excel_sheets('../data/Sample-Sales-Data.xlsx')"
   ]
  },
  {
   "cell_type": "code",
   "execution_count": 3,
   "metadata": {},
   "outputs": [],
   "source": [
    "df <- read_excel('../data/Sample-Sales-Data.xlsx', sheet='Sheet1')"
   ]
  },
  {
   "cell_type": "code",
   "execution_count": 4,
   "metadata": {},
   "outputs": [
    {
     "name": "stdout",
     "output_type": "stream",
     "text": [
      "\u001b[90m# A tibble: 6 x 5\u001b[39m\n",
      "  Postcode Sales_Rep_ID Sales_Rep_Name  Year  Value\n",
      "  \u001b[3m\u001b[90m<chr>\u001b[39m\u001b[23m           \u001b[3m\u001b[90m<dbl>\u001b[39m\u001b[23m \u001b[3m\u001b[90m<chr>\u001b[39m\u001b[23m          \u001b[3m\u001b[90m<dbl>\u001b[39m\u001b[23m  \u001b[3m\u001b[90m<dbl>\u001b[39m\u001b[23m\n",
      "\u001b[90m1\u001b[39m 2121              456 Jane            \u001b[4m2\u001b[24m011 \u001b[4m8\u001b[24m\u001b[4m4\u001b[24m219.\n",
      "\u001b[90m2\u001b[39m 2092              789 Ashish          \u001b[4m2\u001b[24m012 \u001b[4m2\u001b[24m\u001b[4m8\u001b[24m322.\n",
      "\u001b[90m3\u001b[39m 2128              456 Jane            \u001b[4m2\u001b[24m013 \u001b[4m8\u001b[24m\u001b[4m1\u001b[24m879.\n",
      "\u001b[90m4\u001b[39m 2073              123 John            \u001b[4m2\u001b[24m011 \u001b[4m4\u001b[24m\u001b[4m4\u001b[24m491.\n",
      "\u001b[90m5\u001b[39m 2134              789 Ashish          \u001b[4m2\u001b[24m012 \u001b[4m7\u001b[24m\u001b[4m1\u001b[24m838.\n",
      "\u001b[90m6\u001b[39m 2162              123 John            \u001b[4m2\u001b[24m013 \u001b[4m6\u001b[24m\u001b[4m4\u001b[24m532.\n"
     ]
    }
   ],
   "source": [
    "print(head(df))"
   ]
  },
  {
   "cell_type": "code",
   "execution_count": 5,
   "metadata": {},
   "outputs": [
    {
     "data": {
      "text/html": [
       "19199461.4387834"
      ],
      "text/latex": [
       "19199461.4387834"
      ],
      "text/markdown": [
       "19199461.4387834"
      ],
      "text/plain": [
       "[1] 19199461"
      ]
     },
     "metadata": {},
     "output_type": "display_data"
    }
   ],
   "source": [
    "sum(df$Value)"
   ]
  },
  {
   "cell_type": "code",
   "execution_count": 6,
   "metadata": {},
   "outputs": [
    {
     "name": "stdout",
     "output_type": "stream",
     "text": [
      "tibble [390 x 5] (S3: tbl_df/tbl/data.frame)\n",
      " $ Postcode      : chr [1:390] \"2121\" \"2092\" \"2128\" \"2073\" ...\n",
      " $ Sales_Rep_ID  : num [1:390] 456 789 456 123 789 123 456 789 123 789 ...\n",
      " $ Sales_Rep_Name: chr [1:390] \"Jane\" \"Ashish\" \"Jane\" \"John\" ...\n",
      " $ Year          : num [1:390] 2011 2012 2013 2011 2012 ...\n",
      " $ Value         : num [1:390] 84219 28322 81879 44491 71838 ...\n",
      "NULL\n"
     ]
    }
   ],
   "source": [
    "print(str(df))"
   ]
  },
  {
   "cell_type": "code",
   "execution_count": 7,
   "metadata": {},
   "outputs": [
    {
     "name": "stdout",
     "output_type": "stream",
     "text": [
      "   Postcode          Sales_Rep_ID Sales_Rep_Name          Year     \n",
      " Length:390         Min.   :123   Length:390         Min.   :2011  \n",
      " Class :character   1st Qu.:123   Class :character   1st Qu.:2011  \n",
      " Mode  :character   Median :456   Mode  :character   Median :2012  \n",
      "                    Mean   :456                      Mean   :2012  \n",
      "                    3rd Qu.:789                      3rd Qu.:2013  \n",
      "                    Max.   :789                      Max.   :2013  \n",
      "     Value        \n",
      " Min.   :  106.4  \n",
      " 1st Qu.:26101.5  \n",
      " Median :47447.4  \n",
      " Mean   :49229.4  \n",
      " 3rd Qu.:72277.8  \n",
      " Max.   :99878.5  \n"
     ]
    }
   ],
   "source": [
    "print(summary(df))"
   ]
  },
  {
   "cell_type": "code",
   "execution_count": 10,
   "metadata": {},
   "outputs": [],
   "source": [
    "entire.workbook <- lapply(excel_sheets('../data/Sample-Sales-Data.xlsx'), \n",
    "                read_excel, \n",
    "                path='../data/Sample-Sales-Data.xlsx')"
   ]
  },
  {
   "cell_type": "code",
   "execution_count": 11,
   "metadata": {},
   "outputs": [
    {
     "name": "stdout",
     "output_type": "stream",
     "text": [
      "[[1]]\n",
      "\u001b[90m# A tibble: 390 x 5\u001b[39m\n",
      "   Postcode Sales_Rep_ID Sales_Rep_Name  Year  Value\n",
      "   \u001b[3m\u001b[90m<chr>\u001b[39m\u001b[23m           \u001b[3m\u001b[90m<dbl>\u001b[39m\u001b[23m \u001b[3m\u001b[90m<chr>\u001b[39m\u001b[23m          \u001b[3m\u001b[90m<dbl>\u001b[39m\u001b[23m  \u001b[3m\u001b[90m<dbl>\u001b[39m\u001b[23m\n",
      "\u001b[90m 1\u001b[39m 2121              456 Jane            \u001b[4m2\u001b[24m011 \u001b[4m8\u001b[24m\u001b[4m4\u001b[24m219.\n",
      "\u001b[90m 2\u001b[39m 2092              789 Ashish          \u001b[4m2\u001b[24m012 \u001b[4m2\u001b[24m\u001b[4m8\u001b[24m322.\n",
      "\u001b[90m 3\u001b[39m 2128              456 Jane            \u001b[4m2\u001b[24m013 \u001b[4m8\u001b[24m\u001b[4m1\u001b[24m879.\n",
      "\u001b[90m 4\u001b[39m 2073              123 John            \u001b[4m2\u001b[24m011 \u001b[4m4\u001b[24m\u001b[4m4\u001b[24m491.\n",
      "\u001b[90m 5\u001b[39m 2134              789 Ashish          \u001b[4m2\u001b[24m012 \u001b[4m7\u001b[24m\u001b[4m1\u001b[24m838.\n",
      "\u001b[90m 6\u001b[39m 2162              123 John            \u001b[4m2\u001b[24m013 \u001b[4m6\u001b[24m\u001b[4m4\u001b[24m532.\n",
      "\u001b[90m 7\u001b[39m 2093              456 Jane            \u001b[4m2\u001b[24m011 \u001b[4m5\u001b[24m\u001b[4m8\u001b[24m963.\n",
      "\u001b[90m 8\u001b[39m 2042              789 Ashish          \u001b[4m2\u001b[24m012 \u001b[4m2\u001b[24m\u001b[4m7\u001b[24m522.\n",
      "\u001b[90m 9\u001b[39m 2198              123 John            \u001b[4m2\u001b[24m013 \u001b[4m7\u001b[24m\u001b[4m7\u001b[24m985.\n",
      "\u001b[90m10\u001b[39m 2043              789 Ashish          \u001b[4m2\u001b[24m011 \u001b[4m4\u001b[24m\u001b[4m9\u001b[24m546.\n",
      "\u001b[90m# ... with 380 more rows\u001b[39m\n",
      "\n"
     ]
    }
   ],
   "source": [
    "print(head(entire.workbook))"
   ]
  },
  {
   "cell_type": "code",
   "execution_count": 12,
   "metadata": {},
   "outputs": [
    {
     "data": {
      "text/html": [
       "'list'"
      ],
      "text/latex": [
       "'list'"
      ],
      "text/markdown": [
       "'list'"
      ],
      "text/plain": [
       "[1] \"list\""
      ]
     },
     "metadata": {},
     "output_type": "display_data"
    }
   ],
   "source": [
    "class(entire.workbook)"
   ]
  },
  {
   "cell_type": "markdown",
   "metadata": {},
   "source": [
    "writing to excel files"
   ]
  },
  {
   "cell_type": "code",
   "execution_count": 15,
   "metadata": {},
   "outputs": [],
   "source": [
    "library(xlsx)"
   ]
  },
  {
   "cell_type": "code",
   "execution_count": 16,
   "metadata": {},
   "outputs": [],
   "source": [
    "df <- data.frame(matrix(1:10))\n",
    "write.xlsx(df, file = \"../data/output.xlsx\")"
   ]
  },
  {
   "cell_type": "code",
   "execution_count": 17,
   "metadata": {},
   "outputs": [
    {
     "name": "stderr",
     "output_type": "stream",
     "text": [
      "New names:\n",
      "* `` -> ...1\n",
      "\n"
     ]
    },
    {
     "name": "stdout",
     "output_type": "stream",
     "text": [
      "\u001b[90m# A tibble: 10 x 2\u001b[39m\n",
      "   ...1  matrix.1.10.\n",
      "   \u001b[3m\u001b[90m<chr>\u001b[39m\u001b[23m        \u001b[3m\u001b[90m<dbl>\u001b[39m\u001b[23m\n",
      "\u001b[90m 1\u001b[39m 1                1\n",
      "\u001b[90m 2\u001b[39m 2                2\n",
      "\u001b[90m 3\u001b[39m 3                3\n",
      "\u001b[90m 4\u001b[39m 4                4\n",
      "\u001b[90m 5\u001b[39m 5                5\n",
      "\u001b[90m 6\u001b[39m 6                6\n",
      "\u001b[90m 7\u001b[39m 7                7\n",
      "\u001b[90m 8\u001b[39m 8                8\n",
      "\u001b[90m 9\u001b[39m 9                9\n",
      "\u001b[90m10\u001b[39m 10              10\n"
     ]
    }
   ],
   "source": [
    "output <- read_excel(\"../data/output.xlsx\", sheet = \"Sheet1\")\n",
    "print(output)\n"
   ]
  },
  {
   "cell_type": "code",
   "execution_count": 19,
   "metadata": {},
   "outputs": [
    {
     "name": "stdout",
     "output_type": "stream",
     "text": [
      "                   mpg cyl disp  hp drat    wt  qsec vs am gear carb\n",
      "Mazda RX4         21.0   6  160 110 3.90 2.620 16.46  0  1    4    4\n",
      "Mazda RX4 Wag     21.0   6  160 110 3.90 2.875 17.02  0  1    4    4\n",
      "Datsun 710        22.8   4  108  93 3.85 2.320 18.61  1  1    4    1\n",
      "Hornet 4 Drive    21.4   6  258 110 3.08 3.215 19.44  1  0    3    1\n",
      "Hornet Sportabout 18.7   8  360 175 3.15 3.440 17.02  0  0    3    2\n",
      "Valiant           18.1   6  225 105 2.76 3.460 20.22  1  0    3    1\n"
     ]
    }
   ],
   "source": [
    "print(head(mtcars))"
   ]
  },
  {
   "cell_type": "code",
   "execution_count": 27,
   "metadata": {},
   "outputs": [
    {
     "name": "stdout",
     "output_type": "stream",
     "text": [
      "           Population Income Illiteracy Life Exp Murder HS Grad Frost   Area\n",
      "Alabama          3615   3624        2.1    69.05   15.1    41.3    20  50708\n",
      "Alaska            365   6315        1.5    69.31   11.3    66.7   152 566432\n",
      "Arizona          2212   4530        1.8    70.55    7.8    58.1    15 113417\n",
      "Arkansas         2110   3378        1.9    70.66   10.1    39.9    65  51945\n",
      "California      21198   5114        1.1    71.71   10.3    62.6    20 156361\n",
      "Colorado         2541   4884        0.7    72.06    6.8    63.9   166 103766\n"
     ]
    }
   ],
   "source": [
    "print(head(state.x77))"
   ]
  },
  {
   "cell_type": "code",
   "execution_count": 28,
   "metadata": {},
   "outputs": [],
   "source": [
    "write.xlsx(state.x77, file = \"../data/state77.xlsx\")\n"
   ]
  },
  {
   "cell_type": "code",
   "execution_count": 29,
   "metadata": {},
   "outputs": [
    {
     "data": {
      "text/html": [
       "'Sheet1'"
      ],
      "text/latex": [
       "'Sheet1'"
      ],
      "text/markdown": [
       "'Sheet1'"
      ],
      "text/plain": [
       "[1] \"Sheet1\""
      ]
     },
     "metadata": {},
     "output_type": "display_data"
    }
   ],
   "source": [
    "excel_sheets('../data/state77.xlsx')"
   ]
  },
  {
   "cell_type": "code",
   "execution_count": 36,
   "metadata": {},
   "outputs": [],
   "source": [
    "new.df <- read.xlsx(\"../data/state77.xlsx\", sheetIndex=1)"
   ]
  },
  {
   "cell_type": "code",
   "execution_count": 37,
   "metadata": {},
   "outputs": [
    {
     "name": "stdout",
     "output_type": "stream",
     "text": [
      "         NA. Population Income Illiteracy Life.Exp Murder HS.Grad Frost   Area\n",
      "1    Alabama       3615   3624        2.1    69.05   15.1    41.3    20  50708\n",
      "2     Alaska        365   6315        1.5    69.31   11.3    66.7   152 566432\n",
      "3    Arizona       2212   4530        1.8    70.55    7.8    58.1    15 113417\n",
      "4   Arkansas       2110   3378        1.9    70.66   10.1    39.9    65  51945\n",
      "5 California      21198   5114        1.1    71.71   10.3    62.6    20 156361\n",
      "6   Colorado       2541   4884        0.7    72.06    6.8    63.9   166 103766\n"
     ]
    }
   ],
   "source": [
    "print(head(new.df))"
   ]
  },
  {
   "cell_type": "code",
   "execution_count": 38,
   "metadata": {},
   "outputs": [
    {
     "data": {
      "text/html": [
       "'data.frame'"
      ],
      "text/latex": [
       "'data.frame'"
      ],
      "text/markdown": [
       "'data.frame'"
      ],
      "text/plain": [
       "[1] \"data.frame\""
      ]
     },
     "metadata": {},
     "output_type": "display_data"
    }
   ],
   "source": [
    "class(new.df)"
   ]
  },
  {
   "cell_type": "code",
   "execution_count": 39,
   "metadata": {},
   "outputs": [
    {
     "data": {
      "text/plain": [
       "     NA.              Population        Income       Illiteracy   \n",
       " Length:50          Min.   :  365   Min.   :3098   Min.   :0.500  \n",
       " Class :character   1st Qu.: 1080   1st Qu.:3993   1st Qu.:0.625  \n",
       " Mode  :character   Median : 2838   Median :4519   Median :0.950  \n",
       "                    Mean   : 4246   Mean   :4436   Mean   :1.170  \n",
       "                    3rd Qu.: 4968   3rd Qu.:4814   3rd Qu.:1.575  \n",
       "                    Max.   :21198   Max.   :6315   Max.   :2.800  \n",
       "    Life.Exp         Murder          HS.Grad          Frost       \n",
       " Min.   :67.96   Min.   : 1.400   Min.   :37.80   Min.   :  0.00  \n",
       " 1st Qu.:70.12   1st Qu.: 4.350   1st Qu.:48.05   1st Qu.: 66.25  \n",
       " Median :70.67   Median : 6.850   Median :53.25   Median :114.50  \n",
       " Mean   :70.88   Mean   : 7.378   Mean   :53.11   Mean   :104.46  \n",
       " 3rd Qu.:71.89   3rd Qu.:10.675   3rd Qu.:59.15   3rd Qu.:139.75  \n",
       " Max.   :73.60   Max.   :15.100   Max.   :67.30   Max.   :188.00  \n",
       "      Area       \n",
       " Min.   :  1049  \n",
       " 1st Qu.: 36985  \n",
       " Median : 54277  \n",
       " Mean   : 70736  \n",
       " 3rd Qu.: 81162  \n",
       " Max.   :566432  "
      ]
     },
     "metadata": {},
     "output_type": "display_data"
    }
   ],
   "source": [
    "summary(new.df)"
   ]
  },
  {
   "cell_type": "code",
   "execution_count": null,
   "metadata": {},
   "outputs": [],
   "source": []
  }
 ],
 "metadata": {
  "kernelspec": {
   "display_name": "R",
   "language": "R",
   "name": "ir"
  },
  "language_info": {
   "codemirror_mode": "r",
   "file_extension": ".r",
   "mimetype": "text/x-r-source",
   "name": "R",
   "pygments_lexer": "r",
   "version": "4.1.2"
  },
  "orig_nbformat": 4
 },
 "nbformat": 4,
 "nbformat_minor": 2
}
