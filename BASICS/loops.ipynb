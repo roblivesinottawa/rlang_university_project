{
 "cells": [
  {
   "cell_type": "markdown",
   "metadata": {},
   "source": [
    "WHILE LOOPS"
   ]
  },
  {
   "cell_type": "code",
   "execution_count": 1,
   "metadata": {},
   "outputs": [
    {
     "name": "stdout",
     "output_type": "stream",
     "text": [
      "x is:  0 \n",
      "[1] \" x is still less than 10, adding 1 to x \"\n",
      "x is:  1 \n",
      "[1] \" x is still less than 10, adding 1 to x \"\n",
      "x is:  2 \n",
      "[1] \" x is still less than 10, adding 1 to x \"\n",
      "x is:  3 \n",
      "[1] \" x is still less than 10, adding 1 to x \"\n",
      "x is:  4 \n",
      "[1] \" x is still less than 10, adding 1 to x \"\n",
      "x is:  5 \n",
      "[1] \" x is still less than 10, adding 1 to x \"\n",
      "x is:  6 \n",
      "[1] \" x is still less than 10, adding 1 to x \"\n",
      "x is:  7 \n",
      "[1] \" x is still less than 10, adding 1 to x \"\n",
      "x is:  8 \n",
      "[1] \" x is still less than 10, adding 1 to x \"\n",
      "x is:  9 \n",
      "[1] \" x is still less than 10, adding 1 to x \"\n"
     ]
    }
   ],
   "source": [
    "x <- 0\n",
    "\n",
    "while(x < 10) {\n",
    "    cat(\"x is: \", x, \"\\n\")\n",
    "    print(\" x is still less than 10, adding 1 to x \")\n",
    "    x <- x + 1\n",
    "}"
   ]
  },
  {
   "cell_type": "code",
   "execution_count": 2,
   "metadata": {},
   "outputs": [
    {
     "name": "stdout",
     "output_type": "stream",
     "text": [
      "x is:  0[1] \" x is still less than 10, adding 1 to x \"\n",
      "x is:  1[1] \" x is still less than 10, adding 1 to x \"\n",
      "x is:  2[1] \" x is still less than 10, adding 1 to x \"\n",
      "x is:  3[1] \" x is still less than 10, adding 1 to x \"\n",
      "x is:  4[1] \" x is still less than 10, adding 1 to x \"\n",
      "x is:  5[1] \" x is still less than 10, adding 1 to x \"\n",
      "x is:  6[1] \" x is still less than 10, adding 1 to x \"\n",
      "x is:  7[1] \" x is still less than 10, adding 1 to x \"\n",
      "x is:  8[1] \" x is still less than 10, adding 1 to x \"\n",
      "x is:  9[1] \" x is still less than 10, adding 1 to x \"\n",
      "[1] \" x is now equal to 10, stopping the loop \"\n"
     ]
    }
   ],
   "source": [
    "x <- 0\n",
    "\n",
    "while(x < 10) {\n",
    "    cat(\"x is: \", x)\n",
    "    print(\" x is still less than 10, adding 1 to x \")\n",
    "    x <- x + 1\n",
    "\n",
    "    if (x == 10) {\n",
    "        print(\" x is now equal to 10, stopping the loop \")\n",
    "        break\n",
    "    }\n",
    "}"
   ]
  },
  {
   "cell_type": "code",
   "execution_count": 3,
   "metadata": {},
   "outputs": [
    {
     "name": "stdout",
     "output_type": "stream",
     "text": [
      "[1] 1\n",
      "[1] 2\n",
      "[1] 3\n",
      "[1] 4\n",
      "[1] 5\n"
     ]
    }
   ],
   "source": [
    "i <- 1\n",
    "\n",
    "while (i < 6) {\n",
    "    print(i)\n",
    "    i <- i + 1\n",
    "}"
   ]
  },
  {
   "cell_type": "code",
   "execution_count": 4,
   "metadata": {},
   "outputs": [
    {
     "name": "stdout",
     "output_type": "stream",
     "text": [
      "[1] \"sum of first 50 positive integers is:  1275\"\n"
     ]
    }
   ],
   "source": [
    "num <- 50\n",
    "if (num < 0) {\n",
    "    print(\"number is negative\")\n",
    "} else {\n",
    "    sum <- 0\n",
    "    while (num > 0) {\n",
    "        sum <- sum + num\n",
    "        num <- num - 1\n",
    "    }\n",
    "    print(paste(\"sum of first 50 positive integers is: \", sum))\n",
    "}"
   ]
  },
  {
   "cell_type": "code",
   "execution_count": null,
   "metadata": {},
   "outputs": [],
   "source": []
  },
  {
   "cell_type": "markdown",
   "metadata": {},
   "source": [
    "FOR LOOPS"
   ]
  },
  {
   "cell_type": "code",
   "execution_count": 8,
   "metadata": {},
   "outputs": [
    {
     "name": "stdout",
     "output_type": "stream",
     "text": [
      "[1] 10\n",
      "[1] 20\n",
      "[1] 30\n",
      "[1] 40\n",
      "[1] 50\n"
     ]
    }
   ],
   "source": [
    "v <- c(10, 20, 30, 40, 50)\n",
    "\n",
    "for (i in v) {\n",
    "    print(i)\n",
    "}"
   ]
  },
  {
   "cell_type": "code",
   "execution_count": 11,
   "metadata": {},
   "outputs": [
    {
     "name": "stdout",
     "output_type": "stream",
     "text": [
      "[1] 1\n",
      "[1] 2\n",
      "[1] 3\n",
      "[1] 4\n",
      "[1] 5\n",
      "[1] 6\n",
      "[1] 7\n",
      "[1] 8\n",
      "[1] 9\n",
      "[1] 10\n",
      "[1] 11\n",
      "[1] 12\n",
      "[1] 13\n",
      "[1] 14\n",
      "[1] 15\n",
      "[1] 16\n",
      "[1] 17\n",
      "[1] 18\n",
      "[1] 19\n",
      "[1] 20\n"
     ]
    }
   ],
   "source": [
    "vec <- c(1:20)\n",
    "\n",
    "for (i in 1:length(vec)) {\n",
    "    print(vec[i])\n",
    "}"
   ]
  },
  {
   "cell_type": "code",
   "execution_count": 14,
   "metadata": {},
   "outputs": [
    {
     "name": "stdout",
     "output_type": "stream",
     "text": [
      " [1]  1  2  3  4  5  6  7  8  9 10\n"
     ]
    }
   ],
   "source": [
    "li <- list(1:10)\n",
    "\n",
    "for (i in li) {\n",
    "    print(i)\n",
    "}"
   ]
  },
  {
   "cell_type": "code",
   "execution_count": 15,
   "metadata": {},
   "outputs": [
    {
     "name": "stdout",
     "output_type": "stream",
     "text": [
      " [1]  1  2  3  4  5  6  7  8  9 10\n"
     ]
    }
   ],
   "source": [
    "for (i in 1:length(li)) {\n",
    "    print(li[[i]])\n",
    "}"
   ]
  },
  {
   "cell_type": "code",
   "execution_count": 17,
   "metadata": {},
   "outputs": [
    {
     "name": "stdout",
     "output_type": "stream",
     "text": [
      "[1] 1\n",
      "[1] 2\n",
      "[1] 3\n",
      "[1] 4\n",
      "[1] 5\n",
      "[1] 6\n",
      "[1] 7\n",
      "[1] 8\n",
      "[1] 9\n",
      "[1] 10\n",
      "[1] 11\n",
      "[1] 12\n",
      "[1] 13\n",
      "[1] 14\n",
      "[1] 15\n",
      "[1] 16\n",
      "[1] 17\n",
      "[1] 18\n",
      "[1] 19\n",
      "[1] 20\n",
      "[1] 21\n",
      "[1] 22\n",
      "[1] 23\n",
      "[1] 24\n",
      "[1] 25\n"
     ]
    }
   ],
   "source": [
    "mat <- matrix(1:25, nrow = 5)\n",
    "\n",
    "for (i in mat){\n",
    "    print(i)\n",
    "} \n",
    "    "
   ]
  },
  {
   "cell_type": "code",
   "execution_count": 19,
   "metadata": {},
   "outputs": [
    {
     "name": "stdout",
     "output_type": "stream",
     "text": [
      "     [,1] [,2] [,3] [,4] [,5] [,6] [,7] [,8] [,9] [,10]\n",
      "[1,]    1    6   11   16   21   26   31   36   41    46\n",
      "[2,]    2    7   12   17   22   27   32   37   42    47\n",
      "[3,]    3    8   13   18   23   28   33   38   43    48\n",
      "[4,]    4    9   14   19   24   29   34   39   44    49\n",
      "[5,]    5   10   15   20   25   30   35   40   45    50\n"
     ]
    }
   ],
   "source": [
    "mat1 <- matrix(1:50, nrow = 5)\n",
    "print(mat1)"
   ]
  },
  {
   "cell_type": "code",
   "execution_count": 21,
   "metadata": {},
   "outputs": [
    {
     "name": "stdout",
     "output_type": "stream",
     "text": [
      "[1] 1\n",
      "[1] 6\n",
      "[1] 11\n",
      "[1] 16\n",
      "[1] 21\n",
      "[1] 26\n",
      "[1] 31\n",
      "[1] 36\n",
      "[1] 41\n",
      "[1] 46\n",
      "[1] 2\n",
      "[1] 7\n",
      "[1] 12\n",
      "[1] 17\n",
      "[1] 22\n",
      "[1] 27\n",
      "[1] 32\n",
      "[1] 37\n",
      "[1] 42\n",
      "[1] 47\n",
      "[1] 3\n",
      "[1] 8\n",
      "[1] 13\n",
      "[1] 18\n",
      "[1] 23\n",
      "[1] 28\n",
      "[1] 33\n",
      "[1] 38\n",
      "[1] 43\n",
      "[1] 48\n",
      "[1] 4\n",
      "[1] 9\n",
      "[1] 14\n",
      "[1] 19\n",
      "[1] 24\n",
      "[1] 29\n",
      "[1] 34\n",
      "[1] 39\n",
      "[1] 44\n",
      "[1] 49\n",
      "[1] 5\n",
      "[1] 10\n",
      "[1] 15\n",
      "[1] 20\n",
      "[1] 25\n",
      "[1] 30\n",
      "[1] 35\n",
      "[1] 40\n",
      "[1] 45\n",
      "[1] 50\n"
     ]
    }
   ],
   "source": [
    "for (row in 1:nrow(mat1)) {\n",
    "    for (col in 1:ncol(mat1)) {\n",
    "        print(mat1[row, col])\n",
    "    }\n",
    "}"
   ]
  },
  {
   "cell_type": "code",
   "execution_count": 28,
   "metadata": {},
   "outputs": [
    {
     "name": "stdout",
     "output_type": "stream",
     "text": [
      "[1] 0\n",
      "[1] 2\n",
      "[1] 2\n",
      "[1] 4\n",
      "[1] 4\n",
      "[1] 6\n",
      "[1] 6\n",
      "[1] 8\n",
      "[1] 8\n",
      "[1] 10\n",
      "[1] 10\n",
      "[1] 12\n",
      "[1] 12\n",
      "[1] 14\n",
      "[1] 14\n",
      "[1] 16\n",
      "[1] 16\n",
      "[1] 18\n",
      "[1] 18\n",
      "[1] 20\n"
     ]
    }
   ],
   "source": [
    "x <- c(1:20)\n",
    "count <- 0\n",
    "for (i in x) {\n",
    "    if (i %% 2 == 0) {\n",
    "        count <- count + 2\n",
    "    }\n",
    "    print(count)\n",
    "}\n"
   ]
  },
  {
   "cell_type": "code",
   "execution_count": 32,
   "metadata": {},
   "outputs": [
    {
     "name": "stdout",
     "output_type": "stream",
     "text": [
      "[1] \"100  *  1  =  100\"\n",
      "[1] \"100  *  2  =  200\"\n",
      "[1] \"100  *  3  =  300\"\n",
      "[1] \"100  *  4  =  400\"\n",
      "[1] \"100  *  5  =  500\"\n",
      "[1] \"100  *  6  =  600\"\n",
      "[1] \"100  *  7  =  700\"\n",
      "[1] \"100  *  8  =  800\"\n",
      "[1] \"100  *  9  =  900\"\n",
      "[1] \"100  *  10  =  1000\"\n"
     ]
    }
   ],
   "source": [
    "num <- 100\n",
    "\n",
    "for (i in 1:10) {\n",
    "    print(paste(num, \" * \", i, \" = \", num * i))\n",
    "}"
   ]
  },
  {
   "cell_type": "code",
   "execution_count": 42,
   "metadata": {},
   "outputs": [
    {
     "name": "stdout",
     "output_type": "stream",
     "text": [
      "[1] \"20  is not a prime number\"\n"
     ]
    }
   ],
   "source": [
    "# find prime numbers\n",
    "n <- as.integer(readline(\"Enter a number: \"))\n",
    "flag <- 0\n",
    "\n",
    "if (n > 1) {\n",
    "    flag <- 1\n",
    "    for (i in 2:(n - 1)) {\n",
    "        if (n %% i == 0) {\n",
    "            flag <- 0\n",
    "            break\n",
    "        }\n",
    "    }\n",
    "}\n",
    "if (n == 2) flag <- 1\n",
    "    if (flag == 1) {\n",
    "        print(n, \" is a prime number\")\n",
    "} else {\n",
    "    print(paste(n, \" is not a prime number\"))\n",
    "}\n"
   ]
  },
  {
   "cell_type": "code",
   "execution_count": null,
   "metadata": {},
   "outputs": [],
   "source": []
  }
 ],
 "metadata": {
  "kernelspec": {
   "display_name": "R",
   "language": "R",
   "name": "ir"
  },
  "language_info": {
   "codemirror_mode": "r",
   "file_extension": ".r",
   "mimetype": "text/x-r-source",
   "name": "R",
   "pygments_lexer": "r",
   "version": "4.1.2"
  },
  "orig_nbformat": 4
 },
 "nbformat": 4,
 "nbformat_minor": 2
}
