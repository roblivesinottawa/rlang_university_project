{
 "cells": [
  {
   "cell_type": "code",
   "execution_count": 1,
   "metadata": {},
   "outputs": [],
   "source": [
    "hello <- function () {\n",
    "    print('hello world')\n",
    "}"
   ]
  },
  {
   "cell_type": "code",
   "execution_count": 2,
   "metadata": {},
   "outputs": [
    {
     "name": "stdout",
     "output_type": "stream",
     "text": [
      "[1] \"hello world\"\n"
     ]
    }
   ],
   "source": [
    "hello()"
   ]
  },
  {
   "cell_type": "code",
   "execution_count": 6,
   "metadata": {},
   "outputs": [
    {
     "name": "stdout",
     "output_type": "stream",
     "text": [
      "[1] \"Hello  Rob !\"\n"
     ]
    }
   ],
   "source": [
    "name <- as.character(readline(\"What is your name? \"))\n",
    "\n",
    "get_name <- function (name) {\n",
    "    print(paste(\"Hello \", name, \"!\"))\n",
    "}\n",
    "\n",
    "get_name(name)\n"
   ]
  },
  {
   "cell_type": "code",
   "execution_count": 7,
   "metadata": {},
   "outputs": [
    {
     "name": "stdout",
     "output_type": "stream",
     "text": [
      "[1] 30\n"
     ]
    }
   ],
   "source": [
    "add <- function (x, y) {\n",
    "    return(x + y)\n",
    "}\n",
    "\n",
    "print(add(10, 20))"
   ]
  },
  {
   "cell_type": "code",
   "execution_count": 8,
   "metadata": {},
   "outputs": [
    {
     "name": "stdout",
     "output_type": "stream",
     "text": [
      "[1] 200\n"
     ]
    }
   ],
   "source": [
    "multiply <- function (x, y) {\n",
    "    return(x * y)\n",
    "}\n",
    "\n",
    "print(multiply(10, 20))"
   ]
  },
  {
   "cell_type": "code",
   "execution_count": 9,
   "metadata": {},
   "outputs": [
    {
     "name": "stdout",
     "output_type": "stream",
     "text": [
      "[1] -10\n"
     ]
    }
   ],
   "source": [
    "subtract <- function (x, y) {\n",
    "    return(x - y)\n",
    "}\n",
    "\n",
    "print(subtract(10, 20))"
   ]
  },
  {
   "cell_type": "code",
   "execution_count": 10,
   "metadata": {},
   "outputs": [
    {
     "name": "stdout",
     "output_type": "stream",
     "text": [
      "[1] 0.5\n"
     ]
    }
   ],
   "source": [
    "divide <- function (x, y) {\n",
    "    return(x / y)\n",
    "}\n",
    "\n",
    "print(divide(10, 20))"
   ]
  },
  {
   "cell_type": "code",
   "execution_count": 11,
   "metadata": {},
   "outputs": [
    {
     "name": "stdout",
     "output_type": "stream",
     "text": [
      "[1] 10\n"
     ]
    }
   ],
   "source": [
    "modulo <- function (x, y) {\n",
    "    return(x %% y)\n",
    "}\n",
    "\n",
    "print(modulo(10, 20))"
   ]
  },
  {
   "cell_type": "code",
   "execution_count": 13,
   "metadata": {},
   "outputs": [
    {
     "name": "stdout",
     "output_type": "stream",
     "text": [
      "[1] 100\n"
     ]
    }
   ],
   "source": [
    "power <- function (x, y) {\n",
    "    return(x ^ y)\n",
    "}\n",
    "\n",
    "print(power(10, 2))"
   ]
  },
  {
   "cell_type": "code",
   "execution_count": 15,
   "metadata": {},
   "outputs": [
    {
     "name": "stdout",
     "output_type": "stream",
     "text": [
      "[1] \"Mr. Rob\"\n"
     ]
    }
   ],
   "source": [
    "formal <- function (name=\"Rob\", title=\"Mr.\") {\n",
    "    return(paste(title, name, sep=\" \"))\n",
    "}\n",
    "\n",
    "print(formal())"
   ]
  },
  {
   "cell_type": "markdown",
   "metadata": {},
   "source": [
    "SCOPE"
   ]
  },
  {
   "cell_type": "code",
   "execution_count": 20,
   "metadata": {},
   "outputs": [
    {
     "data": {
      "text/html": [
       "50"
      ],
      "text/latex": [
       "50"
      ],
      "text/markdown": [
       "50"
      ],
      "text/plain": [
       "[1] 50"
      ]
     },
     "metadata": {},
     "output_type": "display_data"
    },
    {
     "ename": "ERROR",
     "evalue": "Error in print(result): object 'result' not found\n",
     "output_type": "error",
     "traceback": [
      "Error in print(result): object 'result' not found\nTraceback:\n",
      "1. print(result)"
     ]
    }
   ],
   "source": [
    "mult5 <- function (x) {\n",
    "    result <- x * 5\n",
    "    return(result)\n",
    "}\n",
    "\n",
    "mult5(10)\n",
    "print(result)\n",
    "print(x)"
   ]
  },
  {
   "cell_type": "code",
   "execution_count": 21,
   "metadata": {},
   "outputs": [
    {
     "name": "stdout",
     "output_type": "stream",
     "text": [
      "[1] \"global\"\n",
      "[1] \"also global\"\n",
      "[1] \"global\"\n",
      "[1] \"local\"\n",
      "[1] \"global\"\n"
     ]
    }
   ],
   "source": [
    "x <- \"global\"\n",
    "y <- \"also global\"\n",
    "\n",
    "example <- function (y) {\n",
    "    print(x)\n",
    "    y <- \"local\"\n",
    "    print(y)\n",
    "}\n",
    "\n",
    "print(x)\n",
    "print(y)\n",
    "example(y)\n",
    "print(x)\n"
   ]
  },
  {
   "cell_type": "code",
   "execution_count": 22,
   "metadata": {},
   "outputs": [
    {
     "data": {
      "text/html": [
       "10"
      ],
      "text/latex": [
       "10"
      ],
      "text/markdown": [
       "10"
      ],
      "text/plain": [
       "[1] 10"
      ]
     },
     "metadata": {},
     "output_type": "display_data"
    },
    {
     "name": "stdout",
     "output_type": "stream",
     "text": [
      "[1] 5\n"
     ]
    }
   ],
   "source": [
    "double <- function (a) {\n",
    "    a <- 2 * a\n",
    "    a\n",
    "}\n",
    "\n",
    "var <- 5\n",
    "double(var)\n",
    "print(var)\n"
   ]
  },
  {
   "cell_type": "markdown",
   "metadata": {},
   "source": [
    "PRACTICE:"
   ]
  },
  {
   "cell_type": "code",
   "execution_count": 23,
   "metadata": {},
   "outputs": [
    {
     "name": "stdout",
     "output_type": "stream",
     "text": [
      "[1] \"Hello  Rob !\"\n"
     ]
    }
   ],
   "source": [
    "# take a name as an argument and return a greeting with that name\n",
    "hello <- function (name) {\n",
    "    print(paste(\"Hello \", name, \"!\"))\n",
    "}\n",
    "\n",
    "hello(\"Rob\")"
   ]
  },
  {
   "cell_type": "code",
   "execution_count": 26,
   "metadata": {},
   "outputs": [
    {
     "name": "stdout",
     "output_type": "stream",
     "text": [
      "[1] 12\n",
      "[1] 30\n"
     ]
    }
   ],
   "source": [
    "# return the product of two integers\n",
    "prod <- function (x, y) {\n",
    "    return(x * y)\n",
    "}\n",
    "\n",
    "print(prod(3, 4))\n",
    "print(prod(5, 6))"
   ]
  },
  {
   "cell_type": "code",
   "execution_count": 31,
   "metadata": {},
   "outputs": [
    {
     "name": "stdout",
     "output_type": "stream",
     "text": [
      "[1] FALSE\n",
      "[1] TRUE\n"
     ]
    }
   ],
   "source": [
    "# check if the integer is present in the vector\n",
    "n_check <- function (x, v) {\n",
    "    for (i in v) {\n",
    "        if (i == x) {\n",
    "            return(TRUE)\n",
    "        }\n",
    "    }\n",
    "    return(FALSE)\n",
    "}\n",
    "\n",
    "print(n_check(15, c(1:10)))\n",
    "print(n_check(5, c(1:10)))"
   ]
  },
  {
   "cell_type": "code",
   "execution_count": 36,
   "metadata": {},
   "outputs": [
    {
     "name": "stdout",
     "output_type": "stream",
     "text": [
      "[1] 3\n",
      "[1] 2\n"
     ]
    }
   ],
   "source": [
    "# return the count of the number of times the integer is present in the vector\n",
    "num_count <- function (x, v) {\n",
    "    count <- 0\n",
    "    for (i in v) {\n",
    "        if (i == x) {\n",
    "            count <- count + 1\n",
    "        }\n",
    "    }\n",
    "    return(count)\n",
    "}\n",
    "\n",
    "print(num_count(15, c(1, 2, 3, 15, 15, 15, 4, 5, 6, 7, 8, 9, 10)))\n",
    "print(num_count(1, c(1, 2, 3, 15, 15, 15, 1, 4, 5, 6, 7, 8, 9, 10)))"
   ]
  },
  {
   "cell_type": "code",
   "execution_count": 39,
   "metadata": {},
   "outputs": [
    {
     "name": "stdout",
     "output_type": "stream",
     "text": [
      "[1] 2\n",
      "[1] 4.2\n"
     ]
    }
   ],
   "source": [
    "# to ship bars of alluminum we need a function that takes the number of bars in kg. small bars = 1 kg, large bars = 5 kg\n",
    "# return the least number of small bars needed to ship the given number of large bars\n",
    "\n",
    "bar_count <- function(x) {\n",
    "    ones <- x && 5\n",
    "    fives <- (x - ones) / 5\n",
    "    return(ones + fives)\n",
    "}\n",
    "\n",
    "print(bar_count(6))\n",
    "print(bar_count(17))"
   ]
  },
  {
   "cell_type": "code",
   "execution_count": 48,
   "metadata": {},
   "outputs": [
    {
     "name": "stdout",
     "output_type": "stream",
     "text": [
      "[1] 9\n",
      "[1] 0\n",
      "[1] 11\n"
     ]
    }
   ],
   "source": [
    "# function takes 3 integer values and returns their sum. But if any of the values ia divisible by 3, then return the sum of the other two values\n",
    "\n",
    "sum.numbers <- function(x, y, z) {\n",
    "   num <- c(0)\n",
    "   if (x %% 3 != 0) {\n",
    "       num <- append(x, num)\n",
    "   }\n",
    "   if (y %% 3 != 0) {\n",
    "       num <- append(y, num)\n",
    "   }\n",
    "   if (z %% 3 != 0) {\n",
    "       num <- append(z, num)\n",
    "   }\n",
    "   return(sum(num))\n",
    "}\n",
    "\n",
    "print(sum.numbers(7, 2, 3))\n",
    "print(sum.numbers(3, 6, 9))\n",
    "print(sum.numbers(9, 11, 12))"
   ]
  },
  {
   "cell_type": "code",
   "execution_count": 50,
   "metadata": {},
   "outputs": [
    {
     "name": "stdout",
     "output_type": "stream",
     "text": [
      "[1] TRUE\n",
      "[1] TRUE\n",
      "[1] FALSE\n"
     ]
    }
   ],
   "source": [
    "# create a function that returns the prime numbers between 1 and n\n",
    "prime_check <- function(n) {\n",
    "    if (n == 2) {\n",
    "        return(TRUE)\n",
    "    } else if (any(n %% 2:(n - 1) == 0)) {\n",
    "        return(FALSE)\n",
    "    } else {\n",
    "        return(TRUE)\n",
    "    }\n",
    "}\n",
    "\n",
    "print(prime_check(2))\n",
    "print(prime_check(5))\n",
    "print(prime_check(4))"
   ]
  },
  {
   "cell_type": "code",
   "execution_count": null,
   "metadata": {},
   "outputs": [],
   "source": []
  }
 ],
 "metadata": {
  "kernelspec": {
   "display_name": "R",
   "language": "R",
   "name": "python397jvsc74a57bd0843ed4014e0c5c9016b0be3f012b8ea5a0b4055cbc7abd39c785865cd85ff6da"
  },
  "language_info": {
   "codemirror_mode": "r",
   "file_extension": ".r",
   "mimetype": "text/x-r-source",
   "name": "R",
   "pygments_lexer": "r",
   "version": "4.1.2"
  },
  "orig_nbformat": 4
 },
 "nbformat": 4,
 "nbformat_minor": 2
}
