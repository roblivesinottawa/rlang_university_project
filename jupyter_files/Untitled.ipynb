{
 "cells": [
  {
   "cell_type": "code",
   "execution_count": null,
   "id": "df619e06",
   "metadata": {},
   "outputs": [],
   "source": [
    "print(1 + 3)"
   ]
  },
  {
   "cell_type": "code",
   "execution_count": null,
   "id": "7d639321",
   "metadata": {},
   "outputs": [],
   "source": []
  }
 ],
 "metadata": {
  "kernelspec": {
   "display_name": "R",
   "language": "R",
   "name": "ir"
  }
 },
 "nbformat": 4,
 "nbformat_minor": 5
}
