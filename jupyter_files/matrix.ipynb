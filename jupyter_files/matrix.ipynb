{
 "cells": [
  {
   "cell_type": "markdown",
   "metadata": {},
   "source": [
    "# creating a matrix"
   ]
  },
  {
   "cell_type": "code",
   "execution_count": 1,
   "metadata": {},
   "outputs": [
    {
     "name": "stdout",
     "output_type": "stream",
     "text": [
      " [1]  1  2  3  4  5  6  7  8  9 10\n"
     ]
    }
   ],
   "source": [
    "vec = 1:10\n",
    "print(vec)"
   ]
  },
  {
   "cell_type": "code",
   "execution_count": 3,
   "metadata": {},
   "outputs": [
    {
     "name": "stdout",
     "output_type": "stream",
     "text": [
      "      [,1]\n",
      " [1,]    1\n",
      " [2,]    2\n",
      " [3,]    3\n",
      " [4,]    4\n",
      " [5,]    5\n",
      " [6,]    6\n",
      " [7,]    7\n",
      " [8,]    8\n",
      " [9,]    9\n",
      "[10,]   10\n"
     ]
    }
   ],
   "source": [
    "print(matrix(vec))"
   ]
  },
  {
   "cell_type": "code",
   "execution_count": 6,
   "metadata": {},
   "outputs": [
    {
     "name": "stdout",
     "output_type": "stream",
     "text": [
      "     [,1] [,2] [,3] [,4] [,5]\n",
      "[1,]    1    3    5    7    9\n",
      "[2,]    2    4    6    8   10\n"
     ]
    }
   ],
   "source": [
    "print(matrix(vec, nrow=2))"
   ]
  },
  {
   "cell_type": "code",
   "execution_count": 8,
   "metadata": {},
   "outputs": [
    {
     "name": "stdout",
     "output_type": "stream",
     "text": [
      "     [,1] [,2] [,3]\n",
      "[1,]    1    5    9\n",
      "[2,]    2    6   10\n",
      "[3,]    3    7   11\n",
      "[4,]    4    8   12\n"
     ]
    }
   ],
   "source": [
    "print(matrix(1:12, nrow=4, byrow=FALSE))"
   ]
  },
  {
   "cell_type": "code",
   "execution_count": 9,
   "metadata": {},
   "outputs": [
    {
     "name": "stdout",
     "output_type": "stream",
     "text": [
      "     [,1] [,2] [,3]\n",
      "[1,]    1    2    3\n",
      "[2,]    4    5    6\n",
      "[3,]    7    8    9\n",
      "[4,]   10   11   12\n"
     ]
    }
   ],
   "source": [
    "print(matrix(1:12, nrow=4, byrow=TRUE))"
   ]
  },
  {
   "cell_type": "code",
   "execution_count": 10,
   "metadata": {},
   "outputs": [
    {
     "name": "stdout",
     "output_type": "stream",
     "text": [
      " [1] 450 451 452 445 468 230 232 235 240 250\n"
     ]
    }
   ],
   "source": [
    "goog <- c(450, 451, 452, 445, 468)\n",
    "msft <- c(230, 232, 235, 240, 250)\n",
    "stocks <- c(goog, msft)\n",
    "\n",
    "print(stocks)"
   ]
  },
  {
   "cell_type": "code",
   "execution_count": 12,
   "metadata": {},
   "outputs": [
    {
     "name": "stdout",
     "output_type": "stream",
     "text": [
      "     [,1] [,2] [,3] [,4] [,5]\n",
      "[1,]  450  451  452  445  468\n",
      "[2,]  230  232  235  240  250\n"
     ]
    }
   ],
   "source": [
    "# build a matrix\n",
    "stock.matrix <- matrix(stocks, byrow=TRUE, nrow=2)\n",
    "print(stock.matrix)"
   ]
  },
  {
   "cell_type": "code",
   "execution_count": 13,
   "metadata": {},
   "outputs": [
    {
     "name": "stdout",
     "output_type": "stream",
     "text": [
      "     Mon Tue Wed Thu Fri\n",
      "GOOG 450 451 452 445 468\n",
      "MSFT 230 232 235 240 250\n"
     ]
    }
   ],
   "source": [
    "days <- c(\"Mon\", \"Tue\", \"Wed\", \"Thu\", \"Fri\")\n",
    "stock.names <- c(\"GOOG\", \"MSFT\")\n",
    "\n",
    "colnames(stock.matrix) <- days\n",
    "rownames(stock.matrix) <- stock.names\n",
    "\n",
    "print(stock.matrix)"
   ]
  },
  {
   "cell_type": "markdown",
   "metadata": {},
   "source": [
    "# matrix arithmetic:"
   ]
  },
  {
   "cell_type": "code",
   "execution_count": 14,
   "metadata": {},
   "outputs": [
    {
     "name": "stdout",
     "output_type": "stream",
     "text": [
      "     [,1] [,2] [,3] [,4] [,5]\n",
      "[1,]    1    2    3    4    5\n",
      "[2,]    6    7    8    9   10\n",
      "[3,]   11   12   13   14   15\n",
      "[4,]   16   17   18   19   20\n",
      "[5,]   21   22   23   24   25\n"
     ]
    }
   ],
   "source": [
    "mat <- matrix(1:25, nrow=5, byrow=TRUE)\n",
    "print(mat)"
   ]
  },
  {
   "cell_type": "code",
   "execution_count": 16,
   "metadata": {},
   "outputs": [
    {
     "name": "stdout",
     "output_type": "stream",
     "text": [
      "     [,1] [,2] [,3] [,4] [,5]\n",
      "[1,]    3    4    5    6    7\n",
      "[2,]    8    9   10   11   12\n",
      "[3,]   13   14   15   16   17\n",
      "[4,]   18   19   20   21   22\n",
      "[5,]   23   24   25   26   27\n"
     ]
    }
   ],
   "source": [
    "print(mat+2)"
   ]
  },
  {
   "cell_type": "code",
   "execution_count": 17,
   "metadata": {},
   "outputs": [
    {
     "name": "stdout",
     "output_type": "stream",
     "text": [
      "     [,1] [,2] [,3] [,4] [,5]\n",
      "[1,]   -1    0    1    2    3\n",
      "[2,]    4    5    6    7    8\n",
      "[3,]    9   10   11   12   13\n",
      "[4,]   14   15   16   17   18\n",
      "[5,]   19   20   21   22   23\n"
     ]
    }
   ],
   "source": [
    "print(mat-2)"
   ]
  },
  {
   "cell_type": "code",
   "execution_count": 18,
   "metadata": {},
   "outputs": [
    {
     "name": "stdout",
     "output_type": "stream",
     "text": [
      "     [,1] [,2] [,3] [,4] [,5]\n",
      "[1,]    1    4    9   16   25\n",
      "[2,]   36   49   64   81  100\n",
      "[3,]  121  144  169  196  225\n",
      "[4,]  256  289  324  361  400\n",
      "[5,]  441  484  529  576  625\n"
     ]
    }
   ],
   "source": [
    "print(mat^2)"
   ]
  },
  {
   "cell_type": "code",
   "execution_count": 19,
   "metadata": {},
   "outputs": [
    {
     "name": "stdout",
     "output_type": "stream",
     "text": [
      "     [,1] [,2] [,3] [,4] [,5]\n",
      "[1,]    1    2    3    4    5\n",
      "[2,]    6    7    8    9    0\n",
      "[3,]    1    2    3    4    5\n",
      "[4,]    6    7    8    9    0\n",
      "[5,]    1    2    3    4    5\n"
     ]
    }
   ],
   "source": [
    "print(mat%%10)"
   ]
  },
  {
   "cell_type": "code",
   "execution_count": 20,
   "metadata": {},
   "outputs": [
    {
     "name": "stdout",
     "output_type": "stream",
     "text": [
      "           [,1]       [,2]       [,3]       [,4]       [,5]\n",
      "[1,] 1.00000000 0.50000000 0.33333333 0.25000000 0.20000000\n",
      "[2,] 0.16666667 0.14285714 0.12500000 0.11111111 0.10000000\n",
      "[3,] 0.09090909 0.08333333 0.07692308 0.07142857 0.06666667\n",
      "[4,] 0.06250000 0.05882353 0.05555556 0.05263158 0.05000000\n",
      "[5,] 0.04761905 0.04545455 0.04347826 0.04166667 0.04000000\n"
     ]
    }
   ],
   "source": [
    "print(1/mat)"
   ]
  },
  {
   "cell_type": "code",
   "execution_count": 21,
   "metadata": {},
   "outputs": [
    {
     "name": "stdout",
     "output_type": "stream",
     "text": [
      "      [,1]  [,2]  [,3]  [,4]  [,5]\n",
      "[1,] FALSE FALSE FALSE FALSE FALSE\n",
      "[2,] FALSE FALSE FALSE FALSE FALSE\n",
      "[3,] FALSE FALSE FALSE FALSE FALSE\n",
      "[4,]  TRUE  TRUE  TRUE  TRUE  TRUE\n",
      "[5,]  TRUE  TRUE  TRUE  TRUE  TRUE\n"
     ]
    }
   ],
   "source": [
    "print(mat > 15)"
   ]
  },
  {
   "cell_type": "code",
   "execution_count": 22,
   "metadata": {},
   "outputs": [
    {
     "name": "stdout",
     "output_type": "stream",
     "text": [
      " [1] 16 21 17 22 18 23 19 24 20 25\n"
     ]
    }
   ],
   "source": [
    "print(mat[mat>15])"
   ]
  },
  {
   "cell_type": "code",
   "execution_count": 23,
   "metadata": {},
   "outputs": [
    {
     "name": "stdout",
     "output_type": "stream",
     "text": [
      "     [,1] [,2] [,3] [,4] [,5]\n",
      "[1,]    1    4    9   16   25\n",
      "[2,]   36   49   64   81  100\n",
      "[3,]  121  144  169  196  225\n",
      "[4,]  256  289  324  361  400\n",
      "[5,]  441  484  529  576  625\n"
     ]
    }
   ],
   "source": [
    "print(mat * mat)"
   ]
  },
  {
   "cell_type": "code",
   "execution_count": 24,
   "metadata": {},
   "outputs": [
    {
     "name": "stdout",
     "output_type": "stream",
     "text": [
      "             [,1]         [,2]         [,3]         [,4]         [,5]\n",
      "[1,] 1.000000e+00 4.000000e+00 2.700000e+01 2.560000e+02 3.125000e+03\n",
      "[2,] 4.665600e+04 8.235430e+05 1.677722e+07 3.874205e+08 1.000000e+10\n",
      "[3,] 2.853117e+11 8.916100e+12 3.028751e+14 1.111201e+16 4.378939e+17\n",
      "[4,] 1.844674e+19 8.272403e+20 3.934641e+22 1.978420e+24 1.048576e+26\n",
      "[5,] 5.842587e+27 3.414279e+29 2.088047e+31 1.333736e+33 8.881784e+34\n"
     ]
    }
   ],
   "source": [
    "print(mat ^ mat)"
   ]
  },
  {
   "cell_type": "code",
   "execution_count": 26,
   "metadata": {},
   "outputs": [
    {
     "data": {
      "text/html": [
       "<table class=\"dataframe\">\n",
       "<caption>A matrix: 5 × 5 of type int</caption>\n",
       "<tbody>\n",
       "\t<tr><td>0</td><td>0</td><td>0</td><td>0</td><td>0</td></tr>\n",
       "\t<tr><td>0</td><td>0</td><td>0</td><td>0</td><td>0</td></tr>\n",
       "\t<tr><td>0</td><td>0</td><td>0</td><td>0</td><td>0</td></tr>\n",
       "\t<tr><td>0</td><td>0</td><td>0</td><td>0</td><td>0</td></tr>\n",
       "\t<tr><td>0</td><td>0</td><td>0</td><td>0</td><td>0</td></tr>\n",
       "</tbody>\n",
       "</table>\n"
      ],
      "text/latex": [
       "A matrix: 5 × 5 of type int\n",
       "\\begin{tabular}{lllll}\n",
       "\t 0 & 0 & 0 & 0 & 0\\\\\n",
       "\t 0 & 0 & 0 & 0 & 0\\\\\n",
       "\t 0 & 0 & 0 & 0 & 0\\\\\n",
       "\t 0 & 0 & 0 & 0 & 0\\\\\n",
       "\t 0 & 0 & 0 & 0 & 0\\\\\n",
       "\\end{tabular}\n"
      ],
      "text/markdown": [
       "\n",
       "A matrix: 5 × 5 of type int\n",
       "\n",
       "| 0 | 0 | 0 | 0 | 0 |\n",
       "| 0 | 0 | 0 | 0 | 0 |\n",
       "| 0 | 0 | 0 | 0 | 0 |\n",
       "| 0 | 0 | 0 | 0 | 0 |\n",
       "| 0 | 0 | 0 | 0 | 0 |\n",
       "\n"
      ],
      "text/plain": [
       "     [,1] [,2] [,3] [,4] [,5]\n",
       "[1,] 0    0    0    0    0   \n",
       "[2,] 0    0    0    0    0   \n",
       "[3,] 0    0    0    0    0   \n",
       "[4,] 0    0    0    0    0   \n",
       "[5,] 0    0    0    0    0   "
      ]
     },
     "metadata": {},
     "output_type": "display_data"
    }
   ],
   "source": [
    "mat %% mat"
   ]
  },
  {
   "cell_type": "markdown",
   "metadata": {},
   "source": [
    "# matrix operations"
   ]
  },
  {
   "cell_type": "code",
   "execution_count": 29,
   "metadata": {},
   "outputs": [
    {
     "name": "stdout",
     "output_type": "stream",
     "text": [
      "     Mon Tue Wed Thu Fri\n",
      "GOOG 450 451 452 445 468\n",
      "MSFT 230 232 235 240 250\n"
     ]
    }
   ],
   "source": [
    "goog <- c(450, 451, 452, 445, 468)\n",
    "msft <- c(230, 232, 235, 240, 250)\n",
    "\n",
    "stocks <- c(goog, msft)\n",
    "stock.matrix <- matrix(stocks, byrow=TRUE, nrow=2)\n",
    "\n",
    "days <- c(\"Mon\", \"Tue\", \"Wed\", \"Thu\", \"Fri\")\n",
    "stock.names <- c(\"GOOG\", \"MSFT\")\n",
    "\n",
    "colnames(stock.matrix) <- days\n",
    "rownames(stock.matrix) <- stock.names\n",
    "\n",
    "print(stock.matrix)"
   ]
  },
  {
   "cell_type": "code",
   "execution_count": 32,
   "metadata": {},
   "outputs": [
    {
     "name": "stdout",
     "output_type": "stream",
     "text": [
      "Mon Tue Wed Thu Fri \n",
      "680 683 687 685 718 \n"
     ]
    }
   ],
   "source": [
    "# sum the columns\n",
    "print(colSums(stock.matrix))"
   ]
  },
  {
   "cell_type": "code",
   "execution_count": 33,
   "metadata": {},
   "outputs": [
    {
     "name": "stdout",
     "output_type": "stream",
     "text": [
      "GOOG MSFT \n",
      "2266 1187 \n"
     ]
    }
   ],
   "source": [
    "# sum the rows\n",
    "print(rowSums(stock.matrix))"
   ]
  },
  {
   "cell_type": "code",
   "execution_count": 34,
   "metadata": {},
   "outputs": [
    {
     "name": "stdout",
     "output_type": "stream",
     "text": [
      " GOOG  MSFT \n",
      "453.2 237.4 \n"
     ]
    }
   ],
   "source": [
    "print(rowMeans(stock.matrix))"
   ]
  },
  {
   "cell_type": "code",
   "execution_count": 35,
   "metadata": {},
   "outputs": [
    {
     "name": "stdout",
     "output_type": "stream",
     "text": [
      "  Mon   Tue   Wed   Thu   Fri \n",
      "340.0 341.5 343.5 342.5 359.0 \n"
     ]
    }
   ],
   "source": [
    "print(colMeans(stock.matrix))"
   ]
  },
  {
   "cell_type": "markdown",
   "metadata": {},
   "source": [
    "add columns and rows to a matrix"
   ]
  },
  {
   "cell_type": "code",
   "execution_count": 38,
   "metadata": {},
   "outputs": [],
   "source": [
    "FB <- c(111, 112, 113, 120, 145)"
   ]
  },
  {
   "cell_type": "code",
   "execution_count": 39,
   "metadata": {},
   "outputs": [
    {
     "name": "stdout",
     "output_type": "stream",
     "text": [
      "     Mon Tue Wed Thu Fri\n",
      "GOOG 450 451 452 445 468\n",
      "MSFT 230 232 235 240 250\n",
      "FB   111 112 113 120 145\n"
     ]
    }
   ],
   "source": [
    "tech.stocks <- rbind(stock.matrix, FB)\n",
    "print(tech.stocks)"
   ]
  },
  {
   "cell_type": "code",
   "execution_count": 40,
   "metadata": {},
   "outputs": [],
   "source": [
    "avg <- rowMeans(tech.stocks)"
   ]
  },
  {
   "cell_type": "code",
   "execution_count": 41,
   "metadata": {},
   "outputs": [
    {
     "name": "stdout",
     "output_type": "stream",
     "text": [
      " GOOG  MSFT    FB \n",
      "453.2 237.4 120.2 \n"
     ]
    }
   ],
   "source": [
    "print(avg)"
   ]
  },
  {
   "cell_type": "code",
   "execution_count": 42,
   "metadata": {},
   "outputs": [],
   "source": [
    "tech.stocks <- cbind(tech.stocks, avg)"
   ]
  },
  {
   "cell_type": "code",
   "execution_count": 43,
   "metadata": {},
   "outputs": [
    {
     "name": "stdout",
     "output_type": "stream",
     "text": [
      "     Mon Tue Wed Thu Fri   avg\n",
      "GOOG 450 451 452 445 468 453.2\n",
      "MSFT 230 232 235 240 250 237.4\n",
      "FB   111 112 113 120 145 120.2\n"
     ]
    }
   ],
   "source": [
    "print(tech.stocks)"
   ]
  },
  {
   "cell_type": "markdown",
   "metadata": {},
   "source": [
    "# matrix selection and indexing"
   ]
  },
  {
   "cell_type": "code",
   "execution_count": 44,
   "metadata": {},
   "outputs": [
    {
     "name": "stdout",
     "output_type": "stream",
     "text": [
      "     [,1] [,2] [,3] [,4] [,5] [,6] [,7] [,8] [,9] [,10]\n",
      "[1,]    1    2    3    4    5    6    7    8    9    10\n",
      "[2,]   11   12   13   14   15   16   17   18   19    20\n",
      "[3,]   21   22   23   24   25   26   27   28   29    30\n",
      "[4,]   31   32   33   34   35   36   37   38   39    40\n",
      "[5,]   41   42   43   44   45   46   47   48   49    50\n"
     ]
    }
   ],
   "source": [
    "mat <- matrix(1:50, nrow=5, byrow=TRUE)\n",
    "print(mat)"
   ]
  },
  {
   "cell_type": "code",
   "execution_count": 45,
   "metadata": {},
   "outputs": [
    {
     "name": "stdout",
     "output_type": "stream",
     "text": [
      " [1]  1  2  3  4  5  6  7  8  9 10\n"
     ]
    }
   ],
   "source": [
    "# get first row\n",
    "print(mat[1,])"
   ]
  },
  {
   "cell_type": "code",
   "execution_count": 46,
   "metadata": {},
   "outputs": [
    {
     "name": "stdout",
     "output_type": "stream",
     "text": [
      "[1]  1 11 21 31 41\n"
     ]
    }
   ],
   "source": [
    "# get first column\n",
    "print(mat[,1])"
   ]
  },
  {
   "cell_type": "code",
   "execution_count": 50,
   "metadata": {},
   "outputs": [
    {
     "name": "stdout",
     "output_type": "stream",
     "text": [
      "     [,1] [,2] [,3] [,4] [,5] [,6] [,7] [,8] [,9] [,10]\n",
      "[1,]    1    2    3    4    5    6    7    8    9    10\n",
      "[2,]   11   12   13   14   15   16   17   18   19    20\n",
      "[3,]   21   22   23   24   25   26   27   28   29    30\n"
     ]
    }
   ],
   "source": [
    "# get first three rows\n",
    "print(mat[1:3,])"
   ]
  },
  {
   "cell_type": "code",
   "execution_count": 51,
   "metadata": {},
   "outputs": [
    {
     "name": "stdout",
     "output_type": "stream",
     "text": [
      "     [,1] [,2] [,3] [,4] [,5] [,6] [,7] [,8] [,9] [,10]\n",
      "[1,]    1    2    3    4    5    6    7    8    9    10\n",
      "[2,]   11   12   13   14   15   16   17   18   19    20\n",
      "[3,]   21   22   23   24   25   26   27   28   29    30\n",
      "[4,]   31   32   33   34   35   36   37   38   39    40\n",
      "[5,]   41   42   43   44   45   46   47   48   49    50\n"
     ]
    }
   ],
   "source": [
    "print(mat)"
   ]
  },
  {
   "cell_type": "code",
   "execution_count": 52,
   "metadata": {},
   "outputs": [
    {
     "name": "stdout",
     "output_type": "stream",
     "text": [
      "     [,1] [,2] [,3]\n",
      "[1,]    1    2    3\n",
      "[2,]   11   12   13\n",
      "[3,]   21   22   23\n",
      "[4,]   31   32   33\n",
      "[5,]   41   42   43\n"
     ]
    }
   ],
   "source": [
    "print(mat[,1:3])"
   ]
  },
  {
   "cell_type": "code",
   "execution_count": 54,
   "metadata": {},
   "outputs": [
    {
     "name": "stdout",
     "output_type": "stream",
     "text": [
      "     [,1] [,2] [,3]\n",
      "[1,]    1    2    3\n",
      "[2,]   11   12   13\n"
     ]
    }
   ],
   "source": [
    "print(mat[1:2, 1:3])"
   ]
  },
  {
   "cell_type": "code",
   "execution_count": 57,
   "metadata": {},
   "outputs": [
    {
     "name": "stdout",
     "output_type": "stream",
     "text": [
      "     [,1] [,2] [,3] [,4]\n",
      "[1,]   27   28   29   30\n",
      "[2,]   37   38   39   40\n"
     ]
    }
   ],
   "source": [
    "print(mat[3:4, 7:10])"
   ]
  },
  {
   "cell_type": "code",
   "execution_count": 58,
   "metadata": {},
   "outputs": [
    {
     "name": "stdout",
     "output_type": "stream",
     "text": [
      "     [,1] [,2] [,3] [,4] [,5] [,6] [,7] [,8] [,9] [,10]\n",
      "[1,]    1    2    3    4    5    6    7    8    9    10\n",
      "[2,]   11   12   13   14   15   16   17   18   19    20\n",
      "[3,]   21   22   23   24   25   26   27   28   29    30\n",
      "[4,]   31   32   33   34   35   36   37   38   39    40\n",
      "[5,]   41   42   43   44   45   46   47   48   49    50\n"
     ]
    }
   ],
   "source": [
    "print(mat)"
   ]
  },
  {
   "cell_type": "code",
   "execution_count": 59,
   "metadata": {},
   "outputs": [
    {
     "name": "stdout",
     "output_type": "stream",
     "text": [
      "     [,1] [,2]\n",
      "[1,]   15   16\n",
      "[2,]   25   26\n"
     ]
    }
   ],
   "source": [
    "print(mat[2:3, 5:6])"
   ]
  },
  {
   "cell_type": "code",
   "execution_count": 61,
   "metadata": {},
   "outputs": [
    {
     "name": "stdout",
     "output_type": "stream",
     "text": [
      "     [,1] [,2] [,3] [,4]\n",
      "[1,]   27   28   29   30\n",
      "[2,]   37   38   39   40\n",
      "[3,]   47   48   49   50\n"
     ]
    }
   ],
   "source": [
    "print(mat[3:5, 7:10])"
   ]
  },
  {
   "cell_type": "markdown",
   "metadata": {},
   "source": [
    "# factor and categorcal matrix"
   ]
  },
  {
   "cell_type": "code",
   "execution_count": 62,
   "metadata": {},
   "outputs": [],
   "source": [
    "animal <- c(\"cat\", \"dog\", \"dog\", \"cat\", \"cat\")\n",
    "id <- c(1, 2, 3, 4, 5)"
   ]
  },
  {
   "cell_type": "code",
   "execution_count": 64,
   "metadata": {},
   "outputs": [
    {
     "name": "stdout",
     "output_type": "stream",
     "text": [
      "[1] cat dog dog cat cat\n",
      "Levels: cat dog\n"
     ]
    }
   ],
   "source": [
    "print(factor(animal))"
   ]
  },
  {
   "cell_type": "code",
   "execution_count": 65,
   "metadata": {},
   "outputs": [
    {
     "name": "stdout",
     "output_type": "stream",
     "text": [
      "[1] cat dog dog cat cat\n",
      "Levels: cat dog\n"
     ]
    }
   ],
   "source": [
    "fact.ani <- factor(animal)\n",
    "print(fact.ani)"
   ]
  },
  {
   "cell_type": "code",
   "execution_count": 66,
   "metadata": {},
   "outputs": [],
   "source": [
    "# nominal categorical variables have no order\n",
    "# ordinal categorical variables have order"
   ]
  },
  {
   "cell_type": "code",
   "execution_count": 67,
   "metadata": {},
   "outputs": [],
   "source": [
    "ordinal.cat <- c(\"low\", \"medium\", \"high\")\n"
   ]
  },
  {
   "cell_type": "code",
   "execution_count": 68,
   "metadata": {},
   "outputs": [],
   "source": [
    "temperatures <- c('cold', 'medium', 'hot', 'hot', 'hot', 'cold', 'medium')"
   ]
  },
  {
   "cell_type": "code",
   "execution_count": 69,
   "metadata": {},
   "outputs": [
    {
     "name": "stdout",
     "output_type": "stream",
     "text": [
      "[1] \"low\"    \"medium\" \"high\"  \n"
     ]
    }
   ],
   "source": [
    "print(ordinal.cat)"
   ]
  },
  {
   "cell_type": "code",
   "execution_count": 70,
   "metadata": {},
   "outputs": [
    {
     "name": "stdout",
     "output_type": "stream",
     "text": [
      "[1] \"cold\"   \"medium\" \"hot\"    \"hot\"    \"hot\"    \"cold\"   \"medium\"\n"
     ]
    }
   ],
   "source": [
    "print(temperatures)"
   ]
  },
  {
   "cell_type": "code",
   "execution_count": 74,
   "metadata": {},
   "outputs": [
    {
     "name": "stdout",
     "output_type": "stream",
     "text": [
      "[1] cold   medium hot    hot    hot    cold   medium\n",
      "Levels: cold < medium < hot\n"
     ]
    }
   ],
   "source": [
    "fact.temp <- factor(temperatures, ordered=TRUE, levels=c(\"cold\", \"medium\", \"hot\"))\n",
    "print(fact.temp)"
   ]
  },
  {
   "cell_type": "code",
   "execution_count": 76,
   "metadata": {},
   "outputs": [
    {
     "name": "stdout",
     "output_type": "stream",
     "text": [
      "  cold medium    hot \n",
      "     2      2      3 \n"
     ]
    }
   ],
   "source": [
    "print(summary(fact.temp))\n"
   ]
  },
  {
   "cell_type": "code",
   "execution_count": null,
   "metadata": {},
   "outputs": [],
   "source": []
  }
 ],
 "metadata": {
  "kernelspec": {
   "display_name": "R",
   "language": "R",
   "name": "ir"
  },
  "language_info": {
   "codemirror_mode": "r",
   "file_extension": ".r",
   "mimetype": "text/x-r-source",
   "name": "R",
   "pygments_lexer": "r",
   "version": "4.1.2"
  },
  "orig_nbformat": 4
 },
 "nbformat": 4,
 "nbformat_minor": 2
}
