{
 "cells": [
  {
   "cell_type": "markdown",
   "id": "16d6dc37",
   "metadata": {},
   "source": [
    "# performing basic arithmetic operations in R"
   ]
  },
  {
   "cell_type": "code",
   "execution_count": 1,
   "id": "a33cc244",
   "metadata": {},
   "outputs": [
    {
     "name": "stdout",
     "output_type": "stream",
     "text": [
      "[1] 3\n"
     ]
    }
   ],
   "source": [
    "# addition\n",
    "print(1+2)"
   ]
  },
  {
   "cell_type": "code",
   "execution_count": 2,
   "id": "e396f146",
   "metadata": {},
   "outputs": [
    {
     "name": "stdout",
     "output_type": "stream",
     "text": [
      "[1] 3\n"
     ]
    }
   ],
   "source": [
    "# subtraction\n",
    "print(5-2)"
   ]
  },
  {
   "cell_type": "code",
   "execution_count": 3,
   "id": "d78f2380",
   "metadata": {},
   "outputs": [
    {
     "name": "stdout",
     "output_type": "stream",
     "text": [
      "[1] 5\n"
     ]
    }
   ],
   "source": [
    "# division\n",
    "print(10/2)"
   ]
  },
  {
   "cell_type": "code",
   "execution_count": 4,
   "id": "8554e7a3",
   "metadata": {},
   "outputs": [
    {
     "name": "stdout",
     "output_type": "stream",
     "text": [
      "[1] 1000\n"
     ]
    }
   ],
   "source": [
    "# exponent\n",
    "print(10^3)"
   ]
  },
  {
   "cell_type": "code",
   "execution_count": 5,
   "id": "d84649a7",
   "metadata": {},
   "outputs": [
    {
     "name": "stdout",
     "output_type": "stream",
     "text": [
      "[1] 1\n"
     ]
    }
   ],
   "source": [
    "# modulo\n",
    "print(10%%3)"
   ]
  },
  {
   "cell_type": "code",
   "execution_count": 6,
   "id": "52490b2f",
   "metadata": {},
   "outputs": [
    {
     "name": "stdout",
     "output_type": "stream",
     "text": [
      "[1] 1025\n"
     ]
    }
   ],
   "source": [
    "# order of operations\n",
    "print((100 * 10) + (50 / 2))"
   ]
  },
  {
   "cell_type": "markdown",
   "id": "a803ebbf",
   "metadata": {},
   "source": [
    "# variables"
   ]
  },
  {
   "cell_type": "code",
   "execution_count": 7,
   "id": "647be03c",
   "metadata": {},
   "outputs": [
    {
     "name": "stdout",
     "output_type": "stream",
     "text": [
      "[1] 110\n"
     ]
    }
   ],
   "source": [
    "x <- 100\n",
    "y <- 10\n",
    "print(x + y)"
   ]
  },
  {
   "cell_type": "code",
   "execution_count": 8,
   "id": "18329517",
   "metadata": {},
   "outputs": [
    {
     "data": {
      "text/html": [
       "100"
      ],
      "text/latex": [
       "100"
      ],
      "text/markdown": [
       "100"
      ],
      "text/plain": [
       "[1] 100"
      ]
     },
     "metadata": {},
     "output_type": "display_data"
    }
   ],
   "source": [
    "x"
   ]
  },
  {
   "cell_type": "code",
   "execution_count": 9,
   "id": "82ac9d29",
   "metadata": {},
   "outputs": [
    {
     "data": {
      "text/html": [
       "10"
      ],
      "text/latex": [
       "10"
      ],
      "text/markdown": [
       "10"
      ],
      "text/plain": [
       "[1] 10"
      ]
     },
     "metadata": {},
     "output_type": "display_data"
    }
   ],
   "source": [
    "y"
   ]
  },
  {
   "cell_type": "code",
   "execution_count": 11,
   "id": "6b51c816",
   "metadata": {},
   "outputs": [
    {
     "name": "stdout",
     "output_type": "stream",
     "text": [
      "[1] 150\n"
     ]
    }
   ],
   "source": [
    "bank.account <- 100\n",
    "deposit <- 50\n",
    "bank.account <- bank.account + deposit\n",
    "print(bank.account)"
   ]
  },
  {
   "cell_type": "code",
   "execution_count": 12,
   "id": "98f1961a",
   "metadata": {},
   "outputs": [],
   "source": [
    "# never used underscore in R variable names"
   ]
  },
  {
   "cell_type": "code",
   "execution_count": 13,
   "id": "991088fc",
   "metadata": {},
   "outputs": [],
   "source": [
    "deposit <- 1000"
   ]
  },
  {
   "cell_type": "code",
   "execution_count": 14,
   "id": "87de6a96",
   "metadata": {},
   "outputs": [
    {
     "name": "stdout",
     "output_type": "stream",
     "text": [
      "[1] 1150\n"
     ]
    }
   ],
   "source": [
    "bank.account = bank.account + deposit\n",
    "print(bank.account)"
   ]
  },
  {
   "cell_type": "markdown",
   "id": "4047c51b",
   "metadata": {},
   "source": [
    "# R data types"
   ]
  },
  {
   "cell_type": "code",
   "execution_count": 15,
   "id": "8a8ae978",
   "metadata": {},
   "outputs": [
    {
     "data": {
      "text/html": [
       "1.5"
      ],
      "text/latex": [
       "1.5"
      ],
      "text/markdown": [
       "1.5"
      ],
      "text/plain": [
       "[1] 1.5"
      ]
     },
     "metadata": {},
     "output_type": "display_data"
    }
   ],
   "source": [
    "# numeric (float)\n",
    "n <- 1.5\n",
    "n"
   ]
  },
  {
   "cell_type": "code",
   "execution_count": 16,
   "id": "ff7161f4",
   "metadata": {},
   "outputs": [
    {
     "data": {
      "text/html": [
       "100"
      ],
      "text/latex": [
       "100"
      ],
      "text/markdown": [
       "100"
      ],
      "text/plain": [
       "[1] 100"
      ]
     },
     "metadata": {},
     "output_type": "display_data"
    }
   ],
   "source": [
    "# integers\n",
    "i <- 100\n",
    "i"
   ]
  },
  {
   "cell_type": "code",
   "execution_count": 17,
   "id": "87c5493a",
   "metadata": {},
   "outputs": [],
   "source": [
    "# logical (boolean)\n",
    "b <- TRUE\n",
    "c <- FALSE"
   ]
  },
  {
   "cell_type": "code",
   "execution_count": 18,
   "id": "f82bfd50",
   "metadata": {},
   "outputs": [
    {
     "data": {
      "text/html": [
       "TRUE"
      ],
      "text/latex": [
       "TRUE"
      ],
      "text/markdown": [
       "TRUE"
      ],
      "text/plain": [
       "[1] TRUE"
      ]
     },
     "metadata": {},
     "output_type": "display_data"
    }
   ],
   "source": [
    "b"
   ]
  },
  {
   "cell_type": "code",
   "execution_count": 19,
   "id": "dd0221ec",
   "metadata": {},
   "outputs": [
    {
     "data": {
      "text/html": [
       "FALSE"
      ],
      "text/latex": [
       "FALSE"
      ],
      "text/markdown": [
       "FALSE"
      ],
      "text/plain": [
       "[1] FALSE"
      ]
     },
     "metadata": {},
     "output_type": "display_data"
    }
   ],
   "source": [
    "c"
   ]
  },
  {
   "cell_type": "code",
   "execution_count": 20,
   "id": "e97b5c4b",
   "metadata": {},
   "outputs": [
    {
     "data": {
      "text/html": [
       "TRUE"
      ],
      "text/latex": [
       "TRUE"
      ],
      "text/markdown": [
       "TRUE"
      ],
      "text/plain": [
       "[1] TRUE"
      ]
     },
     "metadata": {},
     "output_type": "display_data"
    }
   ],
   "source": [
    "10 == 10"
   ]
  },
  {
   "cell_type": "code",
   "execution_count": 21,
   "id": "8648c8b2",
   "metadata": {},
   "outputs": [],
   "source": [
    "# characters\n",
    "x = \"hello world\""
   ]
  },
  {
   "cell_type": "code",
   "execution_count": 22,
   "id": "37fe9436",
   "metadata": {},
   "outputs": [
    {
     "name": "stdout",
     "output_type": "stream",
     "text": [
      "[1] \"hello world\"\n"
     ]
    }
   ],
   "source": [
    "print(x)"
   ]
  },
  {
   "cell_type": "code",
   "execution_count": 23,
   "id": "f4262189",
   "metadata": {},
   "outputs": [],
   "source": [
    "sentence <- 'this is a longer string'"
   ]
  },
  {
   "cell_type": "code",
   "execution_count": 24,
   "id": "b0c570e0",
   "metadata": {},
   "outputs": [
    {
     "data": {
      "text/html": [
       "'this is a longer string'"
      ],
      "text/latex": [
       "'this is a longer string'"
      ],
      "text/markdown": [
       "'this is a longer string'"
      ],
      "text/plain": [
       "[1] \"this is a longer string\""
      ]
     },
     "metadata": {},
     "output_type": "display_data"
    }
   ],
   "source": [
    "sentence"
   ]
  },
  {
   "cell_type": "code",
   "execution_count": 25,
   "id": "35c8c6f9",
   "metadata": {},
   "outputs": [],
   "source": [
    "# use double quotes for strings"
   ]
  },
  {
   "cell_type": "code",
   "execution_count": 26,
   "id": "5ba0e25e",
   "metadata": {},
   "outputs": [],
   "source": [
    "# checking data types"
   ]
  },
  {
   "cell_type": "code",
   "execution_count": 27,
   "id": "41a7492b",
   "metadata": {},
   "outputs": [
    {
     "data": {
      "text/html": [
       "'numeric'"
      ],
      "text/latex": [
       "'numeric'"
      ],
      "text/markdown": [
       "'numeric'"
      ],
      "text/plain": [
       "[1] \"numeric\""
      ]
     },
     "metadata": {},
     "output_type": "display_data"
    }
   ],
   "source": [
    "class(n)"
   ]
  },
  {
   "cell_type": "code",
   "execution_count": 28,
   "id": "cae57bd0",
   "metadata": {},
   "outputs": [
    {
     "data": {
      "text/html": [
       "'numeric'"
      ],
      "text/latex": [
       "'numeric'"
      ],
      "text/markdown": [
       "'numeric'"
      ],
      "text/plain": [
       "[1] \"numeric\""
      ]
     },
     "metadata": {},
     "output_type": "display_data"
    }
   ],
   "source": [
    "class(i)"
   ]
  },
  {
   "cell_type": "code",
   "execution_count": 29,
   "id": "14c734a7",
   "metadata": {},
   "outputs": [
    {
     "data": {
      "text/html": [
       "'logical'"
      ],
      "text/latex": [
       "'logical'"
      ],
      "text/markdown": [
       "'logical'"
      ],
      "text/plain": [
       "[1] \"logical\""
      ]
     },
     "metadata": {},
     "output_type": "display_data"
    }
   ],
   "source": [
    "class(b)"
   ]
  },
  {
   "cell_type": "code",
   "execution_count": 30,
   "id": "34815b11",
   "metadata": {},
   "outputs": [
    {
     "data": {
      "text/html": [
       "'logical'"
      ],
      "text/latex": [
       "'logical'"
      ],
      "text/markdown": [
       "'logical'"
      ],
      "text/plain": [
       "[1] \"logical\""
      ]
     },
     "metadata": {},
     "output_type": "display_data"
    }
   ],
   "source": [
    "class(c)"
   ]
  },
  {
   "cell_type": "code",
   "execution_count": 31,
   "id": "49db7021",
   "metadata": {},
   "outputs": [
    {
     "data": {
      "text/html": [
       "'character'"
      ],
      "text/latex": [
       "'character'"
      ],
      "text/markdown": [
       "'character'"
      ],
      "text/plain": [
       "[1] \"character\""
      ]
     },
     "metadata": {},
     "output_type": "display_data"
    }
   ],
   "source": [
    "class(x)"
   ]
  },
  {
   "cell_type": "code",
   "execution_count": 32,
   "id": "820aa512",
   "metadata": {},
   "outputs": [
    {
     "data": {
      "text/html": [
       "'character'"
      ],
      "text/latex": [
       "'character'"
      ],
      "text/markdown": [
       "'character'"
      ],
      "text/plain": [
       "[1] \"character\""
      ]
     },
     "metadata": {},
     "output_type": "display_data"
    }
   ],
   "source": [
    "class(sentence)"
   ]
  },
  {
   "cell_type": "code",
   "execution_count": 33,
   "id": "89604131",
   "metadata": {},
   "outputs": [
    {
     "data": {
      "text/html": [
       "'numeric'"
      ],
      "text/latex": [
       "'numeric'"
      ],
      "text/markdown": [
       "'numeric'"
      ],
      "text/plain": [
       "[1] \"numeric\""
      ]
     },
     "metadata": {},
     "output_type": "display_data"
    }
   ],
   "source": [
    "class(bank.account)"
   ]
  },
  {
   "cell_type": "code",
   "execution_count": 34,
   "id": "af70a3bd",
   "metadata": {},
   "outputs": [
    {
     "data": {
      "text/html": [
       "'logical'"
      ],
      "text/latex": [
       "'logical'"
      ],
      "text/markdown": [
       "'logical'"
      ],
      "text/plain": [
       "[1] \"logical\""
      ]
     },
     "metadata": {},
     "output_type": "display_data"
    }
   ],
   "source": [
    "class(TRUE)"
   ]
  },
  {
   "cell_type": "markdown",
   "id": "891fe194",
   "metadata": {},
   "source": [
    "# vectors"
   ]
  },
  {
   "cell_type": "code",
   "execution_count": 35,
   "id": "a07f4f62",
   "metadata": {},
   "outputs": [],
   "source": [
    "# creating a vector of numerics using c()\n",
    "nvec <- c(1,2,3,4,5)"
   ]
  },
  {
   "cell_type": "code",
   "execution_count": 36,
   "id": "510a7a89",
   "metadata": {},
   "outputs": [
    {
     "data": {
      "text/html": [
       "'numeric'"
      ],
      "text/latex": [
       "'numeric'"
      ],
      "text/markdown": [
       "'numeric'"
      ],
      "text/plain": [
       "[1] \"numeric\""
      ]
     },
     "metadata": {},
     "output_type": "display_data"
    }
   ],
   "source": [
    "class(nvec)"
   ]
  },
  {
   "cell_type": "code",
   "execution_count": 37,
   "id": "6a701d92",
   "metadata": {},
   "outputs": [],
   "source": [
    "# vector of characters\n",
    "cvec <- c('a','b','c','d','e')"
   ]
  },
  {
   "cell_type": "code",
   "execution_count": 38,
   "id": "7a0cf32a",
   "metadata": {},
   "outputs": [
    {
     "data": {
      "text/html": [
       "'character'"
      ],
      "text/latex": [
       "'character'"
      ],
      "text/markdown": [
       "'character'"
      ],
      "text/plain": [
       "[1] \"character\""
      ]
     },
     "metadata": {},
     "output_type": "display_data"
    }
   ],
   "source": [
    "class(cvec)"
   ]
  },
  {
   "cell_type": "code",
   "execution_count": 39,
   "id": "81495f0d",
   "metadata": {},
   "outputs": [],
   "source": [
    "# logical vector\n",
    "bvec <- c(TRUE,FALSE,TRUE,FALSE,TRUE)"
   ]
  },
  {
   "cell_type": "code",
   "execution_count": 40,
   "id": "e6bbc728",
   "metadata": {},
   "outputs": [
    {
     "data": {
      "text/html": [
       "'logical'"
      ],
      "text/latex": [
       "'logical'"
      ],
      "text/markdown": [
       "'logical'"
      ],
      "text/plain": [
       "[1] \"logical\""
      ]
     },
     "metadata": {},
     "output_type": "display_data"
    }
   ],
   "source": [
    "class(bvec)"
   ]
  },
  {
   "cell_type": "code",
   "execution_count": 41,
   "id": "5affe971",
   "metadata": {},
   "outputs": [],
   "source": [
    "# data types cannot be mixed\n",
    "cvec <- c(1,'a',TRUE)"
   ]
  },
  {
   "cell_type": "code",
   "execution_count": 42,
   "id": "83105ff9",
   "metadata": {},
   "outputs": [
    {
     "data": {
      "text/html": [
       "'character'"
      ],
      "text/latex": [
       "'character'"
      ],
      "text/markdown": [
       "'character'"
      ],
      "text/plain": [
       "[1] \"character\""
      ]
     },
     "metadata": {},
     "output_type": "display_data"
    }
   ],
   "source": [
    "class(cvec)"
   ]
  },
  {
   "cell_type": "code",
   "execution_count": 43,
   "id": "d612b3d7",
   "metadata": {},
   "outputs": [
    {
     "data": {
      "text/html": [
       "'character'"
      ],
      "text/latex": [
       "'character'"
      ],
      "text/markdown": [
       "'character'"
      ],
      "text/plain": [
       "[1] \"character\""
      ]
     },
     "metadata": {},
     "output_type": "display_data"
    }
   ],
   "source": [
    "v <- c('a', 20)\n",
    "class(v)"
   ]
  },
  {
   "cell_type": "code",
   "execution_count": 44,
   "id": "5360745f",
   "metadata": {},
   "outputs": [
    {
     "data": {
      "text/html": [
       "'numeric'"
      ],
      "text/latex": [
       "'numeric'"
      ],
      "text/markdown": [
       "'numeric'"
      ],
      "text/plain": [
       "[1] \"numeric\""
      ]
     },
     "metadata": {},
     "output_type": "display_data"
    }
   ],
   "source": [
    "n <- c(1,2,3, TRUE)\n",
    "class(n)"
   ]
  },
  {
   "cell_type": "code",
   "execution_count": 45,
   "id": "cbbada9d",
   "metadata": {},
   "outputs": [],
   "source": [
    "# LISTS WILL ALLOW FOR MIXING OF DIFFERENT DATA TYPES"
   ]
  },
  {
   "cell_type": "code",
   "execution_count": 46,
   "id": "05b9bd12",
   "metadata": {},
   "outputs": [],
   "source": [
    "# VECTOR NAMES\n",
    "temperatures <- c(30, 22, 28, 34, 29, 27, 28)"
   ]
  },
  {
   "cell_type": "code",
   "execution_count": 47,
   "id": "dbc0d305",
   "metadata": {},
   "outputs": [
    {
     "data": {
      "text/html": [
       "<style>\n",
       ".list-inline {list-style: none; margin:0; padding: 0}\n",
       ".list-inline>li {display: inline-block}\n",
       ".list-inline>li:not(:last-child)::after {content: \"\\00b7\"; padding: 0 .5ex}\n",
       "</style>\n",
       "<ol class=list-inline><li>30</li><li>22</li><li>28</li><li>34</li><li>29</li><li>27</li><li>28</li></ol>\n"
      ],
      "text/latex": [
       "\\begin{enumerate*}\n",
       "\\item 30\n",
       "\\item 22\n",
       "\\item 28\n",
       "\\item 34\n",
       "\\item 29\n",
       "\\item 27\n",
       "\\item 28\n",
       "\\end{enumerate*}\n"
      ],
      "text/markdown": [
       "1. 30\n",
       "2. 22\n",
       "3. 28\n",
       "4. 34\n",
       "5. 29\n",
       "6. 27\n",
       "7. 28\n",
       "\n",
       "\n"
      ],
      "text/plain": [
       "[1] 30 22 28 34 29 27 28"
      ]
     },
     "metadata": {},
     "output_type": "display_data"
    }
   ],
   "source": [
    "temperatures"
   ]
  },
  {
   "cell_type": "code",
   "execution_count": 48,
   "id": "971b3568",
   "metadata": {},
   "outputs": [],
   "source": [
    "names(temperatures) <- c('Austin', 'Chicago', 'Denver', 'Houston', 'Los Angeles', 'New York', 'Seattle')"
   ]
  },
  {
   "cell_type": "code",
   "execution_count": 52,
   "id": "d4facf82",
   "metadata": {},
   "outputs": [
    {
     "data": {
      "text/html": [
       "<style>\n",
       ".dl-inline {width: auto; margin:0; padding: 0}\n",
       ".dl-inline>dt, .dl-inline>dd {float: none; width: auto; display: inline-block}\n",
       ".dl-inline>dt::after {content: \":\\0020\"; padding-right: .5ex}\n",
       ".dl-inline>dt:not(:first-of-type) {padding-left: .5ex}\n",
       "</style><dl class=dl-inline><dt>Austin</dt><dd>30</dd><dt>Chicago</dt><dd>22</dd><dt>Denver</dt><dd>28</dd><dt>Houston</dt><dd>34</dd><dt>Los Angeles</dt><dd>29</dd><dt>New York</dt><dd>27</dd><dt>Seattle</dt><dd>28</dd></dl>\n"
      ],
      "text/latex": [
       "\\begin{description*}\n",
       "\\item[Austin] 30\n",
       "\\item[Chicago] 22\n",
       "\\item[Denver] 28\n",
       "\\item[Houston] 34\n",
       "\\item[Los Angeles] 29\n",
       "\\item[New York] 27\n",
       "\\item[Seattle] 28\n",
       "\\end{description*}\n"
      ],
      "text/markdown": [
       "Austin\n",
       ":   30Chicago\n",
       ":   22Denver\n",
       ":   28Houston\n",
       ":   34Los Angeles\n",
       ":   29New York\n",
       ":   27Seattle\n",
       ":   28\n",
       "\n"
      ],
      "text/plain": [
       "     Austin     Chicago      Denver     Houston Los Angeles    New York \n",
       "         30          22          28          34          29          27 \n",
       "    Seattle \n",
       "         28 "
      ]
     },
     "metadata": {},
     "output_type": "display_data"
    }
   ],
   "source": [
    "temperatures"
   ]
  },
  {
   "cell_type": "code",
   "execution_count": 53,
   "id": "8e167c2e",
   "metadata": {},
   "outputs": [],
   "source": [
    "cities <- c('Austin', 'Chicago', 'Denver', 'Houston', 'Los Angeles', 'New York', 'Seattle')"
   ]
  },
  {
   "cell_type": "code",
   "execution_count": 54,
   "id": "6cf7371f",
   "metadata": {},
   "outputs": [
    {
     "data": {
      "text/html": [
       "<style>\n",
       ".list-inline {list-style: none; margin:0; padding: 0}\n",
       ".list-inline>li {display: inline-block}\n",
       ".list-inline>li:not(:last-child)::after {content: \"\\00b7\"; padding: 0 .5ex}\n",
       "</style>\n",
       "<ol class=list-inline><li>'Austin'</li><li>'Chicago'</li><li>'Denver'</li><li>'Houston'</li><li>'Los Angeles'</li><li>'New York'</li><li>'Seattle'</li></ol>\n"
      ],
      "text/latex": [
       "\\begin{enumerate*}\n",
       "\\item 'Austin'\n",
       "\\item 'Chicago'\n",
       "\\item 'Denver'\n",
       "\\item 'Houston'\n",
       "\\item 'Los Angeles'\n",
       "\\item 'New York'\n",
       "\\item 'Seattle'\n",
       "\\end{enumerate*}\n"
      ],
      "text/markdown": [
       "1. 'Austin'\n",
       "2. 'Chicago'\n",
       "3. 'Denver'\n",
       "4. 'Houston'\n",
       "5. 'Los Angeles'\n",
       "6. 'New York'\n",
       "7. 'Seattle'\n",
       "\n",
       "\n"
      ],
      "text/plain": [
       "[1] \"Austin\"      \"Chicago\"     \"Denver\"      \"Houston\"     \"Los Angeles\"\n",
       "[6] \"New York\"    \"Seattle\"    "
      ]
     },
     "metadata": {},
     "output_type": "display_data"
    }
   ],
   "source": [
    "cities"
   ]
  },
  {
   "cell_type": "code",
   "execution_count": 55,
   "id": "7649e593",
   "metadata": {},
   "outputs": [],
   "source": [
    "names(temperatures) <- cities"
   ]
  },
  {
   "cell_type": "code",
   "execution_count": 56,
   "id": "69e336f6",
   "metadata": {},
   "outputs": [
    {
     "data": {
      "text/html": [
       "<style>\n",
       ".dl-inline {width: auto; margin:0; padding: 0}\n",
       ".dl-inline>dt, .dl-inline>dd {float: none; width: auto; display: inline-block}\n",
       ".dl-inline>dt::after {content: \":\\0020\"; padding-right: .5ex}\n",
       ".dl-inline>dt:not(:first-of-type) {padding-left: .5ex}\n",
       "</style><dl class=dl-inline><dt>Austin</dt><dd>30</dd><dt>Chicago</dt><dd>22</dd><dt>Denver</dt><dd>28</dd><dt>Houston</dt><dd>34</dd><dt>Los Angeles</dt><dd>29</dd><dt>New York</dt><dd>27</dd><dt>Seattle</dt><dd>28</dd></dl>\n"
      ],
      "text/latex": [
       "\\begin{description*}\n",
       "\\item[Austin] 30\n",
       "\\item[Chicago] 22\n",
       "\\item[Denver] 28\n",
       "\\item[Houston] 34\n",
       "\\item[Los Angeles] 29\n",
       "\\item[New York] 27\n",
       "\\item[Seattle] 28\n",
       "\\end{description*}\n"
      ],
      "text/markdown": [
       "Austin\n",
       ":   30Chicago\n",
       ":   22Denver\n",
       ":   28Houston\n",
       ":   34Los Angeles\n",
       ":   29New York\n",
       ":   27Seattle\n",
       ":   28\n",
       "\n"
      ],
      "text/plain": [
       "     Austin     Chicago      Denver     Houston Los Angeles    New York \n",
       "         30          22          28          34          29          27 \n",
       "    Seattle \n",
       "         28 "
      ]
     },
     "metadata": {},
     "output_type": "display_data"
    }
   ],
   "source": [
    "temperatures"
   ]
  },
  {
   "cell_type": "markdown",
   "id": "8a24585a",
   "metadata": {},
   "source": [
    "# vector operations"
   ]
  },
  {
   "cell_type": "code",
   "execution_count": 57,
   "id": "a4b73f12",
   "metadata": {},
   "outputs": [],
   "source": [
    "vector1 <- c(1,2,3,4,5)\n",
    "vector2 <- c(6,7,8,9,10)"
   ]
  },
  {
   "cell_type": "code",
   "execution_count": 58,
   "id": "cf5c16bf",
   "metadata": {},
   "outputs": [
    {
     "name": "stdout",
     "output_type": "stream",
     "text": [
      "[1]  6 14 24 36 50\n"
     ]
    }
   ],
   "source": [
    "print(vector1 * vector2)"
   ]
  },
  {
   "cell_type": "code",
   "execution_count": 59,
   "id": "57911fe8",
   "metadata": {},
   "outputs": [
    {
     "name": "stdout",
     "output_type": "stream",
     "text": [
      "[1]  7  9 11 13 15\n"
     ]
    }
   ],
   "source": [
    "print(vector1 + vector2)"
   ]
  },
  {
   "cell_type": "code",
   "execution_count": 60,
   "id": "f4a341f7",
   "metadata": {},
   "outputs": [
    {
     "name": "stdout",
     "output_type": "stream",
     "text": [
      "[1]       1     128    6561  262144 9765625\n"
     ]
    }
   ],
   "source": [
    "print(vector1 ^ vector2)"
   ]
  },
  {
   "cell_type": "code",
   "execution_count": 61,
   "id": "bbe60a9c",
   "metadata": {},
   "outputs": [
    {
     "name": "stdout",
     "output_type": "stream",
     "text": [
      "[1] -5 -5 -5 -5 -5\n"
     ]
    }
   ],
   "source": [
    "print(vector1 - vector2)"
   ]
  },
  {
   "cell_type": "code",
   "execution_count": 62,
   "id": "7bab4522",
   "metadata": {},
   "outputs": [
    {
     "name": "stdout",
     "output_type": "stream",
     "text": [
      "[1] 0.1666667 0.2857143 0.3750000 0.4444444 0.5000000\n"
     ]
    }
   ],
   "source": [
    "print(vector1 / vector2)"
   ]
  },
  {
   "cell_type": "code",
   "execution_count": 63,
   "id": "ea22e9e5",
   "metadata": {},
   "outputs": [
    {
     "data": {
      "text/html": [
       "15"
      ],
      "text/latex": [
       "15"
      ],
      "text/markdown": [
       "15"
      ],
      "text/plain": [
       "[1] 15"
      ]
     },
     "metadata": {},
     "output_type": "display_data"
    }
   ],
   "source": [
    "sum(vector1)"
   ]
  },
  {
   "cell_type": "code",
   "execution_count": 64,
   "id": "09cb34e2",
   "metadata": {},
   "outputs": [
    {
     "data": {
      "text/html": [
       "40"
      ],
      "text/latex": [
       "40"
      ],
      "text/markdown": [
       "40"
      ],
      "text/plain": [
       "[1] 40"
      ]
     },
     "metadata": {},
     "output_type": "display_data"
    }
   ],
   "source": [
    "sum(vector2)"
   ]
  },
  {
   "cell_type": "code",
   "execution_count": 65,
   "id": "def08fb7",
   "metadata": {},
   "outputs": [
    {
     "data": {
      "text/html": [
       "3"
      ],
      "text/latex": [
       "3"
      ],
      "text/markdown": [
       "3"
      ],
      "text/plain": [
       "[1] 3"
      ]
     },
     "metadata": {},
     "output_type": "display_data"
    }
   ],
   "source": [
    "mean(vector1)"
   ]
  },
  {
   "cell_type": "code",
   "execution_count": 66,
   "id": "2e30dee4",
   "metadata": {},
   "outputs": [
    {
     "data": {
      "text/html": [
       "8"
      ],
      "text/latex": [
       "8"
      ],
      "text/markdown": [
       "8"
      ],
      "text/plain": [
       "[1] 8"
      ]
     },
     "metadata": {},
     "output_type": "display_data"
    }
   ],
   "source": [
    "mean(vector2)"
   ]
  },
  {
   "cell_type": "code",
   "execution_count": 67,
   "id": "4680c20e",
   "metadata": {},
   "outputs": [
    {
     "data": {
      "text/html": [
       "1.58113883008419"
      ],
      "text/latex": [
       "1.58113883008419"
      ],
      "text/markdown": [
       "1.58113883008419"
      ],
      "text/plain": [
       "[1] 1.581139"
      ]
     },
     "metadata": {},
     "output_type": "display_data"
    }
   ],
   "source": [
    "sd(vector1)"
   ]
  },
  {
   "cell_type": "code",
   "execution_count": 68,
   "id": "9a0c75f2",
   "metadata": {},
   "outputs": [
    {
     "data": {
      "text/html": [
       "1.58113883008419"
      ],
      "text/latex": [
       "1.58113883008419"
      ],
      "text/markdown": [
       "1.58113883008419"
      ],
      "text/plain": [
       "[1] 1.581139"
      ]
     },
     "metadata": {},
     "output_type": "display_data"
    }
   ],
   "source": [
    "sd(vector2)"
   ]
  },
  {
   "cell_type": "code",
   "execution_count": 69,
   "id": "008fd6a4",
   "metadata": {},
   "outputs": [
    {
     "data": {
      "text/html": [
       "1"
      ],
      "text/latex": [
       "1"
      ],
      "text/markdown": [
       "1"
      ],
      "text/plain": [
       "[1] 1"
      ]
     },
     "metadata": {},
     "output_type": "display_data"
    }
   ],
   "source": [
    "min(vector1)"
   ]
  },
  {
   "cell_type": "code",
   "execution_count": 70,
   "id": "21d65b22",
   "metadata": {},
   "outputs": [
    {
     "data": {
      "text/html": [
       "5"
      ],
      "text/latex": [
       "5"
      ],
      "text/markdown": [
       "5"
      ],
      "text/plain": [
       "[1] 5"
      ]
     },
     "metadata": {},
     "output_type": "display_data"
    }
   ],
   "source": [
    "max(vector1)"
   ]
  },
  {
   "cell_type": "code",
   "execution_count": 71,
   "id": "5581a9e3",
   "metadata": {},
   "outputs": [
    {
     "data": {
      "text/html": [
       "120"
      ],
      "text/latex": [
       "120"
      ],
      "text/markdown": [
       "120"
      ],
      "text/plain": [
       "[1] 120"
      ]
     },
     "metadata": {},
     "output_type": "display_data"
    }
   ],
   "source": [
    "prod(vector1)"
   ]
  },
  {
   "cell_type": "code",
   "execution_count": 72,
   "id": "74a992d0",
   "metadata": {},
   "outputs": [
    {
     "data": {
      "text/html": [
       "30240"
      ],
      "text/latex": [
       "30240"
      ],
      "text/markdown": [
       "30240"
      ],
      "text/plain": [
       "[1] 30240"
      ]
     },
     "metadata": {},
     "output_type": "display_data"
    }
   ],
   "source": [
    "prod(vector2)"
   ]
  },
  {
   "cell_type": "markdown",
   "id": "70596be7",
   "metadata": {},
   "source": [
    "# comparison operators"
   ]
  },
  {
   "cell_type": "code",
   "execution_count": 73,
   "id": "94036b8b",
   "metadata": {},
   "outputs": [],
   "source": [
    "a <- 5\n",
    "b <- 10"
   ]
  },
  {
   "cell_type": "code",
   "execution_count": 74,
   "id": "df08a65e",
   "metadata": {},
   "outputs": [
    {
     "data": {
      "text/html": [
       "FALSE"
      ],
      "text/latex": [
       "FALSE"
      ],
      "text/markdown": [
       "FALSE"
      ],
      "text/plain": [
       "[1] FALSE"
      ]
     },
     "metadata": {},
     "output_type": "display_data"
    }
   ],
   "source": [
    "a > b"
   ]
  },
  {
   "cell_type": "code",
   "execution_count": 75,
   "id": "d8875690",
   "metadata": {},
   "outputs": [
    {
     "data": {
      "text/html": [
       "TRUE"
      ],
      "text/latex": [
       "TRUE"
      ],
      "text/markdown": [
       "TRUE"
      ],
      "text/plain": [
       "[1] TRUE"
      ]
     },
     "metadata": {},
     "output_type": "display_data"
    }
   ],
   "source": [
    "a < b"
   ]
  },
  {
   "cell_type": "code",
   "execution_count": 76,
   "id": "067118f9",
   "metadata": {},
   "outputs": [
    {
     "data": {
      "text/html": [
       "FALSE"
      ],
      "text/latex": [
       "FALSE"
      ],
      "text/markdown": [
       "FALSE"
      ],
      "text/plain": [
       "[1] FALSE"
      ]
     },
     "metadata": {},
     "output_type": "display_data"
    }
   ],
   "source": [
    "a == b"
   ]
  },
  {
   "cell_type": "code",
   "execution_count": 79,
   "id": "dcceaef2",
   "metadata": {},
   "outputs": [
    {
     "name": "stdout",
     "output_type": "stream",
     "text": [
      "[1] 1 2 3 4 5\n",
      "[1]  6  7  8  9 10\n"
     ]
    }
   ],
   "source": [
    "print(vector1)\n",
    "print(vector2)"
   ]
  },
  {
   "cell_type": "code",
   "execution_count": 77,
   "id": "6eb16043",
   "metadata": {},
   "outputs": [
    {
     "data": {
      "text/html": [
       "<style>\n",
       ".list-inline {list-style: none; margin:0; padding: 0}\n",
       ".list-inline>li {display: inline-block}\n",
       ".list-inline>li:not(:last-child)::after {content: \"\\00b7\"; padding: 0 .5ex}\n",
       "</style>\n",
       "<ol class=list-inline><li>FALSE</li><li>FALSE</li><li>FALSE</li><li>FALSE</li><li>FALSE</li></ol>\n"
      ],
      "text/latex": [
       "\\begin{enumerate*}\n",
       "\\item FALSE\n",
       "\\item FALSE\n",
       "\\item FALSE\n",
       "\\item FALSE\n",
       "\\item FALSE\n",
       "\\end{enumerate*}\n"
      ],
      "text/markdown": [
       "1. FALSE\n",
       "2. FALSE\n",
       "3. FALSE\n",
       "4. FALSE\n",
       "5. FALSE\n",
       "\n",
       "\n"
      ],
      "text/plain": [
       "[1] FALSE FALSE FALSE FALSE FALSE"
      ]
     },
     "metadata": {},
     "output_type": "display_data"
    }
   ],
   "source": [
    "vector1 > vector2"
   ]
  },
  {
   "cell_type": "code",
   "execution_count": 78,
   "id": "0428e623",
   "metadata": {},
   "outputs": [
    {
     "data": {
      "text/html": [
       "<style>\n",
       ".list-inline {list-style: none; margin:0; padding: 0}\n",
       ".list-inline>li {display: inline-block}\n",
       ".list-inline>li:not(:last-child)::after {content: \"\\00b7\"; padding: 0 .5ex}\n",
       "</style>\n",
       "<ol class=list-inline><li>TRUE</li><li>TRUE</li><li>TRUE</li><li>TRUE</li><li>TRUE</li></ol>\n"
      ],
      "text/latex": [
       "\\begin{enumerate*}\n",
       "\\item TRUE\n",
       "\\item TRUE\n",
       "\\item TRUE\n",
       "\\item TRUE\n",
       "\\item TRUE\n",
       "\\end{enumerate*}\n"
      ],
      "text/markdown": [
       "1. TRUE\n",
       "2. TRUE\n",
       "3. TRUE\n",
       "4. TRUE\n",
       "5. TRUE\n",
       "\n",
       "\n"
      ],
      "text/plain": [
       "[1] TRUE TRUE TRUE TRUE TRUE"
      ]
     },
     "metadata": {},
     "output_type": "display_data"
    }
   ],
   "source": [
    "vector1 < vector2"
   ]
  },
  {
   "cell_type": "code",
   "execution_count": 80,
   "id": "afe76ef9",
   "metadata": {},
   "outputs": [
    {
     "data": {
      "text/html": [
       "<style>\n",
       ".list-inline {list-style: none; margin:0; padding: 0}\n",
       ".list-inline>li {display: inline-block}\n",
       ".list-inline>li:not(:last-child)::after {content: \"\\00b7\"; padding: 0 .5ex}\n",
       "</style>\n",
       "<ol class=list-inline><li>TRUE</li><li>TRUE</li><li>TRUE</li><li>TRUE</li><li>TRUE</li></ol>\n"
      ],
      "text/latex": [
       "\\begin{enumerate*}\n",
       "\\item TRUE\n",
       "\\item TRUE\n",
       "\\item TRUE\n",
       "\\item TRUE\n",
       "\\item TRUE\n",
       "\\end{enumerate*}\n"
      ],
      "text/markdown": [
       "1. TRUE\n",
       "2. TRUE\n",
       "3. TRUE\n",
       "4. TRUE\n",
       "5. TRUE\n",
       "\n",
       "\n"
      ],
      "text/plain": [
       "[1] TRUE TRUE TRUE TRUE TRUE"
      ]
     },
     "metadata": {},
     "output_type": "display_data"
    }
   ],
   "source": [
    "vector1 != vector2"
   ]
  },
  {
   "cell_type": "code",
   "execution_count": 81,
   "id": "db1b6929",
   "metadata": {},
   "outputs": [
    {
     "name": "stdout",
     "output_type": "stream",
     "text": [
      "[1] FALSE\n"
     ]
    }
   ],
   "source": [
    "print(10 < 8)"
   ]
  },
  {
   "cell_type": "code",
   "execution_count": 82,
   "id": "012d2674",
   "metadata": {},
   "outputs": [],
   "source": [
    "v <- 10"
   ]
  },
  {
   "cell_type": "code",
   "execution_count": 83,
   "id": "441f192e",
   "metadata": {},
   "outputs": [
    {
     "data": {
      "text/html": [
       "FALSE"
      ],
      "text/latex": [
       "FALSE"
      ],
      "text/markdown": [
       "FALSE"
      ],
      "text/plain": [
       "[1] FALSE"
      ]
     },
     "metadata": {},
     "output_type": "display_data"
    }
   ],
   "source": [
    "v < -10"
   ]
  },
  {
   "cell_type": "code",
   "execution_count": 84,
   "id": "7a163d3a",
   "metadata": {},
   "outputs": [],
   "source": [
    "vector3 <- c(10,20,30,40,50)\n",
    "vector4 <- c(60,70,80,90,100)"
   ]
  },
  {
   "cell_type": "code",
   "execution_count": 85,
   "id": "d5e0a780",
   "metadata": {},
   "outputs": [
    {
     "data": {
      "text/html": [
       "<style>\n",
       ".list-inline {list-style: none; margin:0; padding: 0}\n",
       ".list-inline>li {display: inline-block}\n",
       ".list-inline>li:not(:last-child)::after {content: \"\\00b7\"; padding: 0 .5ex}\n",
       "</style>\n",
       "<ol class=list-inline><li>TRUE</li><li>TRUE</li><li>TRUE</li><li>TRUE</li><li>TRUE</li></ol>\n"
      ],
      "text/latex": [
       "\\begin{enumerate*}\n",
       "\\item TRUE\n",
       "\\item TRUE\n",
       "\\item TRUE\n",
       "\\item TRUE\n",
       "\\item TRUE\n",
       "\\end{enumerate*}\n"
      ],
      "text/markdown": [
       "1. TRUE\n",
       "2. TRUE\n",
       "3. TRUE\n",
       "4. TRUE\n",
       "5. TRUE\n",
       "\n",
       "\n"
      ],
      "text/plain": [
       "[1] TRUE TRUE TRUE TRUE TRUE"
      ]
     },
     "metadata": {},
     "output_type": "display_data"
    }
   ],
   "source": [
    "vector1 < vector3"
   ]
  },
  {
   "cell_type": "code",
   "execution_count": 86,
   "id": "d9c76086",
   "metadata": {},
   "outputs": [
    {
     "data": {
      "text/html": [
       "<style>\n",
       ".list-inline {list-style: none; margin:0; padding: 0}\n",
       ".list-inline>li {display: inline-block}\n",
       ".list-inline>li:not(:last-child)::after {content: \"\\00b7\"; padding: 0 .5ex}\n",
       "</style>\n",
       "<ol class=list-inline><li>FALSE</li><li>FALSE</li><li>FALSE</li><li>FALSE</li><li>FALSE</li></ol>\n"
      ],
      "text/latex": [
       "\\begin{enumerate*}\n",
       "\\item FALSE\n",
       "\\item FALSE\n",
       "\\item FALSE\n",
       "\\item FALSE\n",
       "\\item FALSE\n",
       "\\end{enumerate*}\n"
      ],
      "text/markdown": [
       "1. FALSE\n",
       "2. FALSE\n",
       "3. FALSE\n",
       "4. FALSE\n",
       "5. FALSE\n",
       "\n",
       "\n"
      ],
      "text/plain": [
       "[1] FALSE FALSE FALSE FALSE FALSE"
      ]
     },
     "metadata": {},
     "output_type": "display_data"
    }
   ],
   "source": [
    "vector2 >= vector4"
   ]
  },
  {
   "cell_type": "code",
   "execution_count": 88,
   "id": "30ba072f",
   "metadata": {},
   "outputs": [
    {
     "data": {
      "text/html": [
       "<style>\n",
       ".list-inline {list-style: none; margin:0; padding: 0}\n",
       ".list-inline>li {display: inline-block}\n",
       ".list-inline>li:not(:last-child)::after {content: \"\\00b7\"; padding: 0 .5ex}\n",
       "</style>\n",
       "<ol class=list-inline><li>TRUE</li><li>TRUE</li><li>TRUE</li><li>TRUE</li><li>TRUE</li></ol>\n"
      ],
      "text/latex": [
       "\\begin{enumerate*}\n",
       "\\item TRUE\n",
       "\\item TRUE\n",
       "\\item TRUE\n",
       "\\item TRUE\n",
       "\\item TRUE\n",
       "\\end{enumerate*}\n"
      ],
      "text/markdown": [
       "1. TRUE\n",
       "2. TRUE\n",
       "3. TRUE\n",
       "4. TRUE\n",
       "5. TRUE\n",
       "\n",
       "\n"
      ],
      "text/plain": [
       "[1] TRUE TRUE TRUE TRUE TRUE"
      ]
     },
     "metadata": {},
     "output_type": "display_data"
    }
   ],
   "source": [
    "vector3 != vector2"
   ]
  },
  {
   "cell_type": "markdown",
   "id": "6fc67cef",
   "metadata": {},
   "source": [
    "# vector indexing and slicing"
   ]
  },
  {
   "cell_type": "code",
   "execution_count": 92,
   "id": "676c4944",
   "metadata": {},
   "outputs": [],
   "source": [
    "vector.num <- c(100,200,300,400,500)"
   ]
  },
  {
   "cell_type": "code",
   "execution_count": 93,
   "id": "dc7618a1",
   "metadata": {},
   "outputs": [],
   "source": [
    "vector.char <- c('a','b','c','d','e')"
   ]
  },
  {
   "cell_type": "code",
   "execution_count": 94,
   "id": "87d9ac71",
   "metadata": {},
   "outputs": [
    {
     "data": {
      "text/html": [
       "<style>\n",
       ".list-inline {list-style: none; margin:0; padding: 0}\n",
       ".list-inline>li {display: inline-block}\n",
       ".list-inline>li:not(:last-child)::after {content: \"\\00b7\"; padding: 0 .5ex}\n",
       "</style>\n",
       "<ol class=list-inline><li>100</li><li>200</li><li>300</li><li>400</li><li>500</li></ol>\n"
      ],
      "text/latex": [
       "\\begin{enumerate*}\n",
       "\\item 100\n",
       "\\item 200\n",
       "\\item 300\n",
       "\\item 400\n",
       "\\item 500\n",
       "\\end{enumerate*}\n"
      ],
      "text/markdown": [
       "1. 100\n",
       "2. 200\n",
       "3. 300\n",
       "4. 400\n",
       "5. 500\n",
       "\n",
       "\n"
      ],
      "text/plain": [
       "[1] 100 200 300 400 500"
      ]
     },
     "metadata": {},
     "output_type": "display_data"
    }
   ],
   "source": [
    "vector.num"
   ]
  },
  {
   "cell_type": "code",
   "execution_count": 95,
   "id": "457df0e4",
   "metadata": {},
   "outputs": [
    {
     "data": {
      "text/html": [
       "<style>\n",
       ".list-inline {list-style: none; margin:0; padding: 0}\n",
       ".list-inline>li {display: inline-block}\n",
       ".list-inline>li:not(:last-child)::after {content: \"\\00b7\"; padding: 0 .5ex}\n",
       "</style>\n",
       "<ol class=list-inline><li>'a'</li><li>'b'</li><li>'c'</li><li>'d'</li><li>'e'</li></ol>\n"
      ],
      "text/latex": [
       "\\begin{enumerate*}\n",
       "\\item 'a'\n",
       "\\item 'b'\n",
       "\\item 'c'\n",
       "\\item 'd'\n",
       "\\item 'e'\n",
       "\\end{enumerate*}\n"
      ],
      "text/markdown": [
       "1. 'a'\n",
       "2. 'b'\n",
       "3. 'c'\n",
       "4. 'd'\n",
       "5. 'e'\n",
       "\n",
       "\n"
      ],
      "text/plain": [
       "[1] \"a\" \"b\" \"c\" \"d\" \"e\""
      ]
     },
     "metadata": {},
     "output_type": "display_data"
    }
   ],
   "source": [
    "vector.char"
   ]
  },
  {
   "cell_type": "code",
   "execution_count": 96,
   "id": "3a4ef263",
   "metadata": {},
   "outputs": [
    {
     "data": {
      "text/html": [
       "100"
      ],
      "text/latex": [
       "100"
      ],
      "text/markdown": [
       "100"
      ],
      "text/plain": [
       "[1] 100"
      ]
     },
     "metadata": {},
     "output_type": "display_data"
    }
   ],
   "source": [
    "# indexing starts at 1\n",
    "vector.num[1]"
   ]
  },
  {
   "cell_type": "code",
   "execution_count": 97,
   "id": "9ad93b5d",
   "metadata": {},
   "outputs": [
    {
     "data": {
      "text/html": [
       "'b'"
      ],
      "text/latex": [
       "'b'"
      ],
      "text/markdown": [
       "'b'"
      ],
      "text/plain": [
       "[1] \"b\""
      ]
     },
     "metadata": {},
     "output_type": "display_data"
    }
   ],
   "source": [
    "vector.char[2]"
   ]
  },
  {
   "cell_type": "code",
   "execution_count": 98,
   "id": "8167905c",
   "metadata": {},
   "outputs": [
    {
     "data": {
      "text/html": [
       "<style>\n",
       ".list-inline {list-style: none; margin:0; padding: 0}\n",
       ".list-inline>li {display: inline-block}\n",
       ".list-inline>li:not(:last-child)::after {content: \"\\00b7\"; padding: 0 .5ex}\n",
       "</style>\n",
       "<ol class=list-inline><li>'b'</li><li>'c'</li><li>'d'</li><li>'e'</li></ol>\n"
      ],
      "text/latex": [
       "\\begin{enumerate*}\n",
       "\\item 'b'\n",
       "\\item 'c'\n",
       "\\item 'd'\n",
       "\\item 'e'\n",
       "\\end{enumerate*}\n"
      ],
      "text/markdown": [
       "1. 'b'\n",
       "2. 'c'\n",
       "3. 'd'\n",
       "4. 'e'\n",
       "\n",
       "\n"
      ],
      "text/plain": [
       "[1] \"b\" \"c\" \"d\" \"e\""
      ]
     },
     "metadata": {},
     "output_type": "display_data"
    }
   ],
   "source": [
    "vector.char[-1]"
   ]
  },
  {
   "cell_type": "code",
   "execution_count": 99,
   "id": "18799bd3",
   "metadata": {},
   "outputs": [
    {
     "data": {
      "text/html": [
       "<style>\n",
       ".list-inline {list-style: none; margin:0; padding: 0}\n",
       ".list-inline>li {display: inline-block}\n",
       ".list-inline>li:not(:last-child)::after {content: \"\\00b7\"; padding: 0 .5ex}\n",
       "</style>\n",
       "<ol class=list-inline><li>100</li><li>200</li><li>300</li></ol>\n"
      ],
      "text/latex": [
       "\\begin{enumerate*}\n",
       "\\item 100\n",
       "\\item 200\n",
       "\\item 300\n",
       "\\end{enumerate*}\n"
      ],
      "text/markdown": [
       "1. 100\n",
       "2. 200\n",
       "3. 300\n",
       "\n",
       "\n"
      ],
      "text/plain": [
       "[1] 100 200 300"
      ]
     },
     "metadata": {},
     "output_type": "display_data"
    }
   ],
   "source": [
    "vector.num[1:3]"
   ]
  },
  {
   "cell_type": "code",
   "execution_count": 100,
   "id": "4bfe78e5",
   "metadata": {},
   "outputs": [
    {
     "data": {
      "text/html": [
       "<style>\n",
       ".list-inline {list-style: none; margin:0; padding: 0}\n",
       ".list-inline>li {display: inline-block}\n",
       ".list-inline>li:not(:last-child)::after {content: \"\\00b7\"; padding: 0 .5ex}\n",
       "</style>\n",
       "<ol class=list-inline><li>100</li><li>300</li></ol>\n"
      ],
      "text/latex": [
       "\\begin{enumerate*}\n",
       "\\item 100\n",
       "\\item 300\n",
       "\\end{enumerate*}\n"
      ],
      "text/markdown": [
       "1. 100\n",
       "2. 300\n",
       "\n",
       "\n"
      ],
      "text/plain": [
       "[1] 100 300"
      ]
     },
     "metadata": {},
     "output_type": "display_data"
    }
   ],
   "source": [
    "vector.num[c(1, 3)]"
   ]
  },
  {
   "cell_type": "code",
   "execution_count": 101,
   "id": "d85fd82a",
   "metadata": {},
   "outputs": [
    {
     "data": {
      "text/html": [
       "<style>\n",
       ".list-inline {list-style: none; margin:0; padding: 0}\n",
       ".list-inline>li {display: inline-block}\n",
       ".list-inline>li:not(:last-child)::after {content: \"\\00b7\"; padding: 0 .5ex}\n",
       "</style>\n",
       "<ol class=list-inline><li>1</li><li>2</li><li>3</li><li>4</li><li>5</li><li>6</li><li>7</li><li>8</li><li>9</li><li>10</li></ol>\n"
      ],
      "text/latex": [
       "\\begin{enumerate*}\n",
       "\\item 1\n",
       "\\item 2\n",
       "\\item 3\n",
       "\\item 4\n",
       "\\item 5\n",
       "\\item 6\n",
       "\\item 7\n",
       "\\item 8\n",
       "\\item 9\n",
       "\\item 10\n",
       "\\end{enumerate*}\n"
      ],
      "text/markdown": [
       "1. 1\n",
       "2. 2\n",
       "3. 3\n",
       "4. 4\n",
       "5. 5\n",
       "6. 6\n",
       "7. 7\n",
       "8. 8\n",
       "9. 9\n",
       "10. 10\n",
       "\n",
       "\n"
      ],
      "text/plain": [
       " [1]  1  2  3  4  5  6  7  8  9 10"
      ]
     },
     "metadata": {},
     "output_type": "display_data"
    }
   ],
   "source": [
    "vector.num <- c(1,2,3,4,5,6,7,8,9,10)\n",
    "vector.num"
   ]
  },
  {
   "cell_type": "code",
   "execution_count": 103,
   "id": "1fcedfa3",
   "metadata": {},
   "outputs": [
    {
     "data": {
      "text/html": [
       "<style>\n",
       ".list-inline {list-style: none; margin:0; padding: 0}\n",
       ".list-inline>li {display: inline-block}\n",
       ".list-inline>li:not(:last-child)::after {content: \"\\00b7\"; padding: 0 .5ex}\n",
       "</style>\n",
       "<ol class=list-inline><li>1</li><li>2</li><li>3</li><li>4</li><li>5</li></ol>\n"
      ],
      "text/latex": [
       "\\begin{enumerate*}\n",
       "\\item 1\n",
       "\\item 2\n",
       "\\item 3\n",
       "\\item 4\n",
       "\\item 5\n",
       "\\end{enumerate*}\n"
      ],
      "text/markdown": [
       "1. 1\n",
       "2. 2\n",
       "3. 3\n",
       "4. 4\n",
       "5. 5\n",
       "\n",
       "\n"
      ],
      "text/plain": [
       "[1] 1 2 3 4 5"
      ]
     },
     "metadata": {},
     "output_type": "display_data"
    }
   ],
   "source": [
    "vector.num[1:5]"
   ]
  },
  {
   "cell_type": "code",
   "execution_count": 104,
   "id": "882e7926",
   "metadata": {},
   "outputs": [
    {
     "data": {
      "text/html": [
       "'numeric'"
      ],
      "text/latex": [
       "'numeric'"
      ],
      "text/markdown": [
       "'numeric'"
      ],
      "text/plain": [
       "[1] \"numeric\""
      ]
     },
     "metadata": {},
     "output_type": "display_data"
    }
   ],
   "source": [
    "class(vector.num)"
   ]
  },
  {
   "cell_type": "code",
   "execution_count": 107,
   "id": "5a8b0c6d",
   "metadata": {},
   "outputs": [],
   "source": [
    "names(vector.num) <- c('one', 'two', 'three', 'four', 'five', 'six', 'seven', 'eight', 'nine', 'ten')"
   ]
  },
  {
   "cell_type": "code",
   "execution_count": 108,
   "id": "24628f6e",
   "metadata": {},
   "outputs": [
    {
     "data": {
      "text/html": [
       "<style>\n",
       ".dl-inline {width: auto; margin:0; padding: 0}\n",
       ".dl-inline>dt, .dl-inline>dd {float: none; width: auto; display: inline-block}\n",
       ".dl-inline>dt::after {content: \":\\0020\"; padding-right: .5ex}\n",
       ".dl-inline>dt:not(:first-of-type) {padding-left: .5ex}\n",
       "</style><dl class=dl-inline><dt>one</dt><dd>1</dd><dt>two</dt><dd>2</dd><dt>three</dt><dd>3</dd><dt>four</dt><dd>4</dd><dt>five</dt><dd>5</dd><dt>six</dt><dd>6</dd><dt>seven</dt><dd>7</dd><dt>eight</dt><dd>8</dd><dt>nine</dt><dd>9</dd><dt>ten</dt><dd>10</dd></dl>\n"
      ],
      "text/latex": [
       "\\begin{description*}\n",
       "\\item[one] 1\n",
       "\\item[two] 2\n",
       "\\item[three] 3\n",
       "\\item[four] 4\n",
       "\\item[five] 5\n",
       "\\item[six] 6\n",
       "\\item[seven] 7\n",
       "\\item[eight] 8\n",
       "\\item[nine] 9\n",
       "\\item[ten] 10\n",
       "\\end{description*}\n"
      ],
      "text/markdown": [
       "one\n",
       ":   1two\n",
       ":   2three\n",
       ":   3four\n",
       ":   4five\n",
       ":   5six\n",
       ":   6seven\n",
       ":   7eight\n",
       ":   8nine\n",
       ":   9ten\n",
       ":   10\n",
       "\n"
      ],
      "text/plain": [
       "  one   two three  four  five   six seven eight  nine   ten \n",
       "    1     2     3     4     5     6     7     8     9    10 "
      ]
     },
     "metadata": {},
     "output_type": "display_data"
    }
   ],
   "source": [
    "vector.num"
   ]
  },
  {
   "cell_type": "code",
   "execution_count": 110,
   "id": "ab3b72fb",
   "metadata": {},
   "outputs": [
    {
     "data": {
      "text/html": [
       "<strong>two:</strong> 2"
      ],
      "text/latex": [
       "\\textbf{two:} 2"
      ],
      "text/markdown": [
       "**two:** 2"
      ],
      "text/plain": [
       "two \n",
       "  2 "
      ]
     },
     "metadata": {},
     "output_type": "display_data"
    }
   ],
   "source": [
    "vector.num['two']"
   ]
  },
  {
   "cell_type": "code",
   "execution_count": 117,
   "id": "98f95612",
   "metadata": {},
   "outputs": [
    {
     "name": "stdout",
     "output_type": "stream",
     "text": [
      "  one   two three  four  five   six seven eight  nine   ten \n",
      "    1     2     3     4     5     6     7     8     9    10 \n"
     ]
    }
   ],
   "source": [
    "print(vector.num)"
   ]
  },
  {
   "cell_type": "code",
   "execution_count": 118,
   "id": "5a8b0c6d",
   "metadata": {},
   "outputs": [
    {
     "name": "stdout",
     "output_type": "stream",
     "text": [
      "  six seven eight  nine   ten \n",
      "    6     7     8     9    10 \n"
     ]
    }
   ],
   "source": [
    "print(vector.num[vector.num > 5])"
   ]
  },
  {
   "cell_type": "code",
   "execution_count": 116,
   "id": "80888c8a",
   "metadata": {},
   "outputs": [
    {
     "name": "stdout",
     "output_type": "stream",
     "text": [
      "  one   two three  four  five   six seven eight  nine   ten \n",
      "FALSE FALSE  TRUE  TRUE  TRUE  TRUE  TRUE  TRUE  TRUE  TRUE \n"
     ]
    }
   ],
   "source": [
    "print(vector.num > 2)"
   ]
  },
  {
   "cell_type": "code",
   "execution_count": 119,
   "id": "12cf3aa2",
   "metadata": {},
   "outputs": [],
   "source": [
    "my.filter <- vector.num > 5"
   ]
  },
  {
   "cell_type": "code",
   "execution_count": 120,
   "id": "fb090948",
   "metadata": {},
   "outputs": [
    {
     "name": "stdout",
     "output_type": "stream",
     "text": [
      "  one   two three  four  five   six seven eight  nine   ten \n",
      "FALSE FALSE FALSE FALSE FALSE  TRUE  TRUE  TRUE  TRUE  TRUE \n"
     ]
    }
   ],
   "source": [
    "print(my.filter)"
   ]
  },
  {
   "cell_type": "code",
   "execution_count": 122,
   "id": "7885d434",
   "metadata": {},
   "outputs": [
    {
     "name": "stdout",
     "output_type": "stream",
     "text": [
      "  six seven eight  nine   ten \n",
      "    6     7     8     9    10 \n"
     ]
    }
   ],
   "source": [
    "print(vector.num[my.filter])"
   ]
  },
  {
   "cell_type": "markdown",
   "id": "0a6cfa8c",
   "metadata": {},
   "source": [
    "# getting help with R"
   ]
  },
  {
   "cell_type": "code",
   "execution_count": 123,
   "id": "3fd40af2",
   "metadata": {},
   "outputs": [
    {
     "name": "stderr",
     "output_type": "stream",
     "text": [
      "Warning message in seq_len(head.end.idx):\n",
      "\"first element used of 'length.out' argument\"\n",
      "ERROR while rich displaying an object: Error in seq_len(head.end.idx): argument must be coercible to non-negative integer\n",
      "\n",
      "Traceback:\n",
      "1. FUN(X[[i]], ...)\n",
      "2. tryCatch(withCallingHandlers({\n",
      " .     if (!mime %in% names(repr::mime2repr)) \n",
      " .         stop(\"No repr_* for mimetype \", mime, \" in repr::mime2repr\")\n",
      " .     rpr <- repr::mime2repr[[mime]](obj)\n",
      " .     if (is.null(rpr)) \n",
      " .         return(NULL)\n",
      " .     prepare_content(is.raw(rpr), rpr)\n",
      " . }, error = error_handler), error = outer_handler)\n",
      "3. tryCatchList(expr, classes, parentenv, handlers)\n",
      "4. tryCatchOne(expr, names, parentenv, handlers[[1L]])\n",
      "5. doTryCatch(return(expr), name, parentenv, handler)\n",
      "6. withCallingHandlers({\n",
      " .     if (!mime %in% names(repr::mime2repr)) \n",
      " .         stop(\"No repr_* for mimetype \", mime, \" in repr::mime2repr\")\n",
      " .     rpr <- repr::mime2repr[[mime]](obj)\n",
      " .     if (is.null(rpr)) \n",
      " .         return(NULL)\n",
      " .     prepare_content(is.raw(rpr), rpr)\n",
      " . }, error = error_handler)\n",
      "7. repr::mime2repr[[mime]](obj)\n",
      "8. repr_html.help_files_with_topic(obj)\n",
      "9. repr_help_files_with_topic_generic(obj, Rd2HTML)\n"
     ]
    },
    {
     "name": "stdout",
     "output_type": "stream",
     "text": [
      "numeric                  package:base                  R Documentation\n",
      "\n",
      "_\bN_\bu_\bm_\be_\br_\bi_\bc _\bV_\be_\bc_\bt_\bo_\br_\bs\n",
      "\n",
      "_\bD_\be_\bs_\bc_\br_\bi_\bp_\bt_\bi_\bo_\bn:\n",
      "\n",
      "     Creates or coerces objects of type '\"numeric\"'.  'is.numeric' is a\n",
      "     more general test of an object being interpretable as numbers.\n",
      "\n",
      "_\bU_\bs_\ba_\bg_\be:\n",
      "\n",
      "     numeric(length = 0)\n",
      "     as.numeric(x, ...)\n",
      "     is.numeric(x)\n",
      "     \n",
      "_\bA_\br_\bg_\bu_\bm_\be_\bn_\bt_\bs:\n",
      "\n",
      "  length: A non-negative integer specifying the desired length.  Double\n",
      "          values will be coerced to integer: supplying an argument of\n",
      "          length other than one is an error.\n",
      "\n",
      "       x: object to be coerced or tested.\n",
      "\n",
      "     ...: further arguments passed to or from other methods.\n",
      "\n",
      "_\bD_\be_\bt_\ba_\bi_\bl_\bs:\n",
      "\n",
      "     'numeric' is identical to 'double' (and 'real').  It creates a\n",
      "     double-precision vector of the specified length with each element\n",
      "     equal to '0'.\n",
      "\n",
      "     'as.numeric' is a generic function, but S3 methods must be written\n",
      "     for 'as.double'.  It is identical to 'as.double'.\n",
      "\n",
      "     'is.numeric' is an internal generic 'primitive' function: you can\n",
      "     write methods to handle specific classes of objects, see\n",
      "     InternalMethods.  It is *not* the same as 'is.double'.  Factors\n",
      "     are handled by the default method, and there are methods for\n",
      "     classes '\"Date\"', '\"POSIXt\"' and '\"difftime\"' (all of which return\n",
      "     false).  Methods for 'is.numeric' should only return true if the\n",
      "     base type of the class is 'double' or 'integer' _and_ values can\n",
      "     reasonably be regarded as numeric (e.g., arithmetic on them makes\n",
      "     sense, and comparison should be done via the base type).\n",
      "\n",
      "_\bV_\ba_\bl_\bu_\be:\n",
      "\n",
      "     for 'numeric' and 'as.numeric' see 'double'.\n",
      "\n",
      "     The default method for 'is.numeric' returns 'TRUE' if its argument\n",
      "     is of mode '\"numeric\"' (type '\"double\"' or type '\"integer\"') and\n",
      "     not a factor, and 'FALSE' otherwise.  That is, 'is.integer(x) ||\n",
      "     is.double(x)', or '(mode(x) == \"numeric\") && !is.factor(x)'.\n",
      "\n",
      "_\bW_\ba_\br_\bn_\bi_\bn_\bg:\n",
      "\n",
      "     If 'x' is a 'factor', 'as.numeric' will return the underlying\n",
      "     numeric (integer) representation, which is often meaningless as it\n",
      "     may not correspond to the 'factor' 'levels', see the 'Warning'\n",
      "     section in 'factor' (and the 2nd example below).\n",
      "\n",
      "_\bS_\b4 _\bm_\be_\bt_\bh_\bo_\bd_\bs:\n",
      "\n",
      "     'as.numeric' and 'is.numeric' are internally S4 generic and so\n",
      "     methods can be set for them _via_ 'setMethod'.\n",
      "\n",
      "     To ensure that 'as.numeric' and 'as.double' remain identical, S4\n",
      "     methods can only be set for 'as.numeric'.\n",
      "\n",
      "_\bN_\bo_\bt_\be _\bo_\bn _\bn_\ba_\bm_\be_\bs:\n",
      "\n",
      "     It is a historical anomaly that R has two names for its\n",
      "     floating-point vectors, 'double' and 'numeric' (and formerly had\n",
      "     'real').\n",
      "\n",
      "     'double' is the name of the type.  'numeric' is the name of the\n",
      "     mode and also of the implicit class.  As an S4 formal class, use\n",
      "     '\"numeric\"'.\n",
      "\n",
      "     The potential confusion is that R has used _mode_ '\"numeric\"' to\n",
      "     mean 'double or integer', which conflicts with the S4 usage.  Thus\n",
      "     'is.numeric' tests the mode, not the class, but 'as.numeric'\n",
      "     (which is identical to 'as.double') coerces to the class.\n",
      "\n",
      "_\bR_\be_\bf_\be_\br_\be_\bn_\bc_\be_\bs:\n",
      "\n",
      "     Becker, R. A., Chambers, J. M. and Wilks, A. R. (1988) _The New S\n",
      "     Language_.  Wadsworth & Brooks/Cole.\n",
      "\n",
      "_\bS_\be_\be _\bA_\bl_\bs_\bo:\n",
      "\n",
      "     'double', 'integer', 'storage.mode'.\n",
      "\n",
      "_\bE_\bx_\ba_\bm_\bp_\bl_\be_\bs:\n",
      "\n",
      "     ## Conversion does trim whitespace; non-numeric strings give NA + warning\n",
      "     as.numeric(c(\"-.1\",\" 2.7 \",\"B\"))\n",
      "     \n",
      "     ## Numeric values are sometimes accidentally converted to factors.\n",
      "     ## Converting them back to numeric is trickier than you'd expect.\n",
      "     f <- factor(5:10)\n",
      "     as.numeric(f) # not what you might expect, probably not what you want\n",
      "     ## what you typically meant and want:\n",
      "     as.numeric(as.character(f))\n",
      "     ## the same, considerably more efficient (for long vectors):\n",
      "     as.numeric(levels(f))[f]\n",
      "     "
     ]
    }
   ],
   "source": [
    "help(numeric)"
   ]
  },
  {
   "cell_type": "code",
   "execution_count": 125,
   "id": "7b6b0ccf",
   "metadata": {},
   "outputs": [
    {
     "name": "stderr",
     "output_type": "stream",
     "text": [
      "Warning message in seq_len(head.end.idx):\n",
      "\"first element used of 'length.out' argument\"\n",
      "ERROR while rich displaying an object: Error in seq_len(head.end.idx): argument must be coercible to non-negative integer\n",
      "\n",
      "Traceback:\n",
      "1. FUN(X[[i]], ...)\n",
      "2. tryCatch(withCallingHandlers({\n",
      " .     if (!mime %in% names(repr::mime2repr)) \n",
      " .         stop(\"No repr_* for mimetype \", mime, \" in repr::mime2repr\")\n",
      " .     rpr <- repr::mime2repr[[mime]](obj)\n",
      " .     if (is.null(rpr)) \n",
      " .         return(NULL)\n",
      " .     prepare_content(is.raw(rpr), rpr)\n",
      " . }, error = error_handler), error = outer_handler)\n",
      "3. tryCatchList(expr, classes, parentenv, handlers)\n",
      "4. tryCatchOne(expr, names, parentenv, handlers[[1L]])\n",
      "5. doTryCatch(return(expr), name, parentenv, handler)\n",
      "6. withCallingHandlers({\n",
      " .     if (!mime %in% names(repr::mime2repr)) \n",
      " .         stop(\"No repr_* for mimetype \", mime, \" in repr::mime2repr\")\n",
      " .     rpr <- repr::mime2repr[[mime]](obj)\n",
      " .     if (is.null(rpr)) \n",
      " .         return(NULL)\n",
      " .     prepare_content(is.raw(rpr), rpr)\n",
      " . }, error = error_handler)\n",
      "7. repr::mime2repr[[mime]](obj)\n",
      "8. repr_html.help_files_with_topic(obj)\n",
      "9. repr_help_files_with_topic_generic(obj, Rd2HTML)\n"
     ]
    },
    {
     "name": "stdout",
     "output_type": "stream",
     "text": [
      "vector                  package:base                   R Documentation\n",
      "\n",
      "_\bV_\be_\bc_\bt_\bo_\br_\bs\n",
      "\n",
      "_\bD_\be_\bs_\bc_\br_\bi_\bp_\bt_\bi_\bo_\bn:\n",
      "\n",
      "     'vector' produces a vector of the given length and mode.\n",
      "\n",
      "     'as.vector', a generic, attempts to coerce its argument into a\n",
      "     vector of mode 'mode' (the default is to coerce to whichever\n",
      "     vector mode is most convenient): if the result is atomic all\n",
      "     attributes are removed.\n",
      "\n",
      "     'is.vector' returns 'TRUE' if 'x' is a vector of the specified\n",
      "     mode having no attributes _other than names_.  It returns 'FALSE'\n",
      "     otherwise.\n",
      "\n",
      "_\bU_\bs_\ba_\bg_\be:\n",
      "\n",
      "     vector(mode = \"logical\", length = 0)\n",
      "     as.vector(x, mode = \"any\")\n",
      "     is.vector(x, mode = \"any\")\n",
      "     \n",
      "_\bA_\br_\bg_\bu_\bm_\be_\bn_\bt_\bs:\n",
      "\n",
      "    mode: character string naming an atomic mode or '\"list\"' or\n",
      "          '\"expression\"' or (except for 'vector') '\"any\"'.  Currently,\n",
      "          'is.vector()' allows any type (see 'typeof') for 'mode', and\n",
      "          when mode is not '\"any\"', 'is.vector(x, mode)' is almost the\n",
      "          same as 'typeof(x) == mode'.\n",
      "\n",
      "  length: a non-negative integer specifying the desired length.  For a\n",
      "          long vector, i.e., 'length > .Machine$integer.max', it has to\n",
      "          be of type '\"double\"'.  Supplying an argument of length other\n",
      "          than one is an error.\n",
      "\n",
      "       x: an R object.\n",
      "\n",
      "_\bD_\be_\bt_\ba_\bi_\bl_\bs:\n",
      "\n",
      "     The atomic modes are '\"logical\"', '\"integer\"', '\"numeric\"'\n",
      "     (synonym '\"double\"'), '\"complex\"', '\"character\"' and '\"raw\"'.\n",
      "\n",
      "     If 'mode = \"any\"', 'is.vector' may return 'TRUE' for the atomic\n",
      "     modes, 'list' and 'expression'.  For any 'mode', it will return\n",
      "     'FALSE' if 'x' has any attributes except names.  (This is\n",
      "     incompatible with S.)  On the other hand, 'as.vector' removes\n",
      "     _all_ attributes including names for results of atomic mode (but\n",
      "     not those of mode '\"list\"' nor '\"expression\"').\n",
      "\n",
      "     Note that factors are _not_ vectors; 'is.vector' returns 'FALSE'\n",
      "     and 'as.vector' converts a factor to a character vector for 'mode\n",
      "     = \"any\"'.\n",
      "\n",
      "_\bV_\ba_\bl_\bu_\be:\n",
      "\n",
      "     For 'vector', a vector of the given length and mode.  Logical\n",
      "     vector elements are initialized to 'FALSE', numeric vector\n",
      "     elements to '0', character vector elements to '\"\"', raw vector\n",
      "     elements to 'nul' bytes and list/expression elements to 'NULL'.\n",
      "\n",
      "     For 'as.vector', a vector (atomic or of type list or expression).\n",
      "     All attributes are removed from the result if it is of an atomic\n",
      "     mode, but not in general for a list result.  The default method\n",
      "     handles 24 input types and 12 values of 'type': the details of\n",
      "     most coercions are undocumented and subject to change.\n",
      "\n",
      "     For 'is.vector', 'TRUE' or 'FALSE'.  'is.vector(x, mode =\n",
      "     \"numeric\")' can be true for vectors of types '\"integer\"' or\n",
      "     '\"double\"' whereas 'is.vector(x, mode = \"double\")' can only be\n",
      "     true for those of type '\"double\"'.\n",
      "\n",
      "_\bM_\be_\bt_\bh_\bo_\bd_\bs _\bf_\bo_\br '_\ba_\bs._\bv_\be_\bc_\bt_\bo_\br()':\n",
      "\n",
      "     Writers of methods for 'as.vector' need to take care to follow the\n",
      "     conventions of the default method.  In particular\n",
      "\n",
      "        * Argument 'mode' can be '\"any\"', any of the atomic modes,\n",
      "          '\"list\"', '\"expression\"', '\"symbol\"', '\"pairlist\"' or one of\n",
      "          the aliases '\"double\"' and '\"name\"'.\n",
      "\n",
      "        * The return value should be of the appropriate mode.  For\n",
      "          'mode = \"any\"' this means an atomic vector or list.\n",
      "\n",
      "        * Attributes should be treated appropriately: in particular\n",
      "          when the result is an atomic vector there should be no\n",
      "          attributes, not even names.\n",
      "\n",
      "        * 'is.vector(as.vector(x, m), m)' should be true for any mode\n",
      "          'm', including the default '\"any\"'.\n",
      "\n",
      "_\bN_\bo_\bt_\be:\n",
      "\n",
      "     'as.vector' and 'is.vector' are quite distinct from the meaning of\n",
      "     the formal class '\"vector\"' in the 'methods' package, and hence\n",
      "     'as(x, \"vector\")' and 'is(x, \"vector\")'.\n",
      "\n",
      "     Note that 'as.vector(x)' is not necessarily a null operation if\n",
      "     'is.vector(x)' is true: any names will be removed from an atomic\n",
      "     vector.\n",
      "\n",
      "     Non-vector 'mode's '\"symbol\"' (synonym '\"name\"') and '\"pairlist\"'\n",
      "     are accepted but have long been undocumented: they are used to\n",
      "     implement 'as.name' and 'as.pairlist', and those functions should\n",
      "     preferably be used directly.  None of the description here applies\n",
      "     to those 'mode's: see the help for the preferred forms.\n",
      "\n",
      "_\bR_\be_\bf_\be_\br_\be_\bn_\bc_\be_\bs:\n",
      "\n",
      "     Becker, R. A., Chambers, J. M. and Wilks, A. R. (1988) _The New S\n",
      "     Language_.  Wadsworth & Brooks/Cole.\n",
      "\n",
      "_\bS_\be_\be _\bA_\bl_\bs_\bo:\n",
      "\n",
      "     'c', 'is.numeric', 'is.list', etc.\n",
      "\n",
      "_\bE_\bx_\ba_\bm_\bp_\bl_\be_\bs:\n",
      "\n",
      "     df <- data.frame(x = 1:3, y = 5:7)\n",
      "     ## Error:\n",
      "     try(as.vector(data.frame(x = 1:3, y = 5:7), mode = \"numeric\"))\n",
      "     \n",
      "     x <- c(a = 1, b = 2)\n",
      "     is.vector(x)\n",
      "     as.vector(x)\n",
      "     all.equal(x, as.vector(x)) ## FALSE\n",
      "     \n",
      "     \n",
      "     ###-- All the following are TRUE:\n",
      "     is.list(df)\n",
      "     ! is.vector(df)\n",
      "     ! is.vector(df, mode = \"list\")\n",
      "     \n",
      "     is.vector(list(), mode = \"list\")\n",
      "     "
     ]
    }
   ],
   "source": [
    "help(vector)"
   ]
  },
  {
   "cell_type": "code",
   "execution_count": null,
   "id": "c2e7ed11",
   "metadata": {},
   "outputs": [],
   "source": []
  }
 ],
 "metadata": {
  "kernelspec": {
   "display_name": "R",
   "language": "R",
   "name": "ir"
  },
  "language_info": {
   "codemirror_mode": "r",
   "file_extension": ".r",
   "mimetype": "text/x-r-source",
   "name": "R",
   "pygments_lexer": "r",
   "version": "4.1.2"
  }
 },
 "nbformat": 4,
 "nbformat_minor": 5
}
