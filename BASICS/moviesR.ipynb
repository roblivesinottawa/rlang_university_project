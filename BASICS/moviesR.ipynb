{
 "cells": [
  {
   "cell_type": "code",
   "execution_count": 6,
   "metadata": {
    "vscode": {
     "languageId": "r"
    }
   },
   "outputs": [
    {
     "name": "stdout",
     "output_type": "stream",
     "text": [
      "\n",
      "The downloaded binary packages are in\n",
      "\t/var/folders/83/_gttb8hn67dfsswspxfpc23w0000gn/T//RtmpuTpPt4/downloaded_packages\n"
     ]
    }
   ],
   "source": [
    "install.packages(\"ggplot2\")"
   ]
  },
  {
   "cell_type": "code",
   "execution_count": 7,
   "metadata": {
    "vscode": {
     "languageId": "r"
    }
   },
   "outputs": [],
   "source": [
    "library(ggplot2)"
   ]
  },
  {
   "cell_type": "code",
   "execution_count": 8,
   "metadata": {
    "vscode": {
     "languageId": "r"
    }
   },
   "outputs": [],
   "source": [
    "df <- read.csv(\"../data/movies.csv\")"
   ]
  },
  {
   "cell_type": "code",
   "execution_count": 9,
   "metadata": {
    "vscode": {
     "languageId": "r"
    }
   },
   "outputs": [
    {
     "name": "stdout",
     "output_type": "stream",
     "text": [
      "                name year length_min     genre average_rating cost_millions\n",
      "1          Toy Story 1995         81 Animation            8.3          30.0\n",
      "2              Akira 1998        125 Animation            8.1          10.4\n",
      "3 The Breakfast Club 1985         97     Drama            7.9           1.0\n",
      "4         The Artist 2011        100   Romance            8.0          15.0\n",
      "5       Modern Times 1936         87    Comedy            8.6           1.5\n",
      "6         Fight Club 1999        139     Drama            8.9          63.0\n",
      "7        City of God 2002        130     Crime            8.7           3.3\n",
      "  foreign age_restriction\n",
      "1   False               0\n",
      "2   False              14\n",
      "3   False              14\n",
      "4   False              12\n",
      "5   False              10\n",
      "6   False              18\n",
      "7    True              18\n"
     ]
    }
   ],
   "source": [
    "print(df)"
   ]
  },
  {
   "cell_type": "code",
   "execution_count": 10,
   "metadata": {
    "vscode": {
     "languageId": "r"
    }
   },
   "outputs": [
    {
     "name": "stdout",
     "output_type": "stream",
     "text": [
      "[1] 1985 1999 2015 1964\n"
     ]
    }
   ],
   "source": [
    "release_year <- c(1985, 1999, 2015, 1964)\n",
    "print(release_year)"
   ]
  },
  {
   "cell_type": "code",
   "execution_count": 11,
   "metadata": {
    "vscode": {
     "languageId": "r"
    }
   },
   "outputs": [
    {
     "name": "stdout",
     "output_type": "stream",
     "text": [
      "[1] \"Toy Story\"          \"Akira\"              \"The Breakfast Club\"\n"
     ]
    }
   ],
   "source": [
    "titles <- c(\"Toy Story\", \"Akira\", \"The Breakfast Club\")\n",
    "print(titles)"
   ]
  },
  {
   "cell_type": "code",
   "execution_count": 12,
   "metadata": {
    "vscode": {
     "languageId": "r"
    }
   },
   "outputs": [
    {
     "data": {
      "text/html": [
       "<style>\n",
       ".list-inline {list-style: none; margin:0; padding: 0}\n",
       ".list-inline>li {display: inline-block}\n",
       ".list-inline>li:not(:last-child)::after {content: \"\\00b7\"; padding: 0 .5ex}\n",
       "</style>\n",
       "<ol class=list-inline><li>FALSE</li><li>TRUE</li><li>FALSE</li></ol>\n"
      ],
      "text/latex": [
       "\\begin{enumerate*}\n",
       "\\item FALSE\n",
       "\\item TRUE\n",
       "\\item FALSE\n",
       "\\end{enumerate*}\n"
      ],
      "text/markdown": [
       "1. FALSE\n",
       "2. TRUE\n",
       "3. FALSE\n",
       "\n",
       "\n"
      ],
      "text/plain": [
       "[1] FALSE  TRUE FALSE"
      ]
     },
     "metadata": {},
     "output_type": "display_data"
    }
   ],
   "source": [
    "titles == \"Akira\""
   ]
  },
  {
   "cell_type": "markdown",
   "metadata": {},
   "source": [
    "adding more elements to a vector"
   ]
  },
  {
   "cell_type": "code",
   "execution_count": 13,
   "metadata": {
    "vscode": {
     "languageId": "r"
    }
   },
   "outputs": [
    {
     "data": {
      "text/html": [
       "<style>\n",
       ".list-inline {list-style: none; margin:0; padding: 0}\n",
       ".list-inline>li {display: inline-block}\n",
       ".list-inline>li:not(:last-child)::after {content: \"\\00b7\"; padding: 0 .5ex}\n",
       "</style>\n",
       "<ol class=list-inline><li>1985</li><li>1999</li><li>2015</li><li>1964</li><li>2016</li><li>2017</li><li>2018</li></ol>\n"
      ],
      "text/latex": [
       "\\begin{enumerate*}\n",
       "\\item 1985\n",
       "\\item 1999\n",
       "\\item 2015\n",
       "\\item 1964\n",
       "\\item 2016\n",
       "\\item 2017\n",
       "\\item 2018\n",
       "\\end{enumerate*}\n"
      ],
      "text/markdown": [
       "1. 1985\n",
       "2. 1999\n",
       "3. 2015\n",
       "4. 1964\n",
       "5. 2016\n",
       "6. 2017\n",
       "7. 2018\n",
       "\n",
       "\n"
      ],
      "text/plain": [
       "[1] 1985 1999 2015 1964 2016 2017 2018"
      ]
     },
     "metadata": {},
     "output_type": "display_data"
    }
   ],
   "source": [
    "release_year <- c(release_year, c(2016:2018))\n",
    "release_year"
   ]
  },
  {
   "cell_type": "code",
   "execution_count": 14,
   "metadata": {
    "vscode": {
     "languageId": "r"
    }
   },
   "outputs": [
    {
     "data": {
      "text/html": [
       "7"
      ],
      "text/latex": [
       "7"
      ],
      "text/markdown": [
       "7"
      ],
      "text/plain": [
       "[1] 7"
      ]
     },
     "metadata": {},
     "output_type": "display_data"
    }
   ],
   "source": [
    "length(release_year)"
   ]
  },
  {
   "cell_type": "code",
   "execution_count": 15,
   "metadata": {
    "vscode": {
     "languageId": "r"
    }
   },
   "outputs": [
    {
     "data": {
      "text/html": [
       "<table class=\"dataframe\">\n",
       "<caption>A data.frame: 3 × 8</caption>\n",
       "<thead>\n",
       "\t<tr><th></th><th scope=col>name</th><th scope=col>year</th><th scope=col>length_min</th><th scope=col>genre</th><th scope=col>average_rating</th><th scope=col>cost_millions</th><th scope=col>foreign</th><th scope=col>age_restriction</th></tr>\n",
       "\t<tr><th></th><th scope=col>&lt;chr&gt;</th><th scope=col>&lt;int&gt;</th><th scope=col>&lt;int&gt;</th><th scope=col>&lt;chr&gt;</th><th scope=col>&lt;dbl&gt;</th><th scope=col>&lt;dbl&gt;</th><th scope=col>&lt;chr&gt;</th><th scope=col>&lt;int&gt;</th></tr>\n",
       "</thead>\n",
       "<tbody>\n",
       "\t<tr><th scope=row>1</th><td>Toy Story         </td><td>1995</td><td> 81</td><td>Animation</td><td>8.3</td><td>30.0</td><td>False</td><td> 0</td></tr>\n",
       "\t<tr><th scope=row>2</th><td>Akira             </td><td>1998</td><td>125</td><td>Animation</td><td>8.1</td><td>10.4</td><td>False</td><td>14</td></tr>\n",
       "\t<tr><th scope=row>3</th><td>The Breakfast Club</td><td>1985</td><td> 97</td><td>Drama    </td><td>7.9</td><td> 1.0</td><td>False</td><td>14</td></tr>\n",
       "</tbody>\n",
       "</table>\n"
      ],
      "text/latex": [
       "A data.frame: 3 × 8\n",
       "\\begin{tabular}{r|llllllll}\n",
       "  & name & year & length\\_min & genre & average\\_rating & cost\\_millions & foreign & age\\_restriction\\\\\n",
       "  & <chr> & <int> & <int> & <chr> & <dbl> & <dbl> & <chr> & <int>\\\\\n",
       "\\hline\n",
       "\t1 & Toy Story          & 1995 &  81 & Animation & 8.3 & 30.0 & False &  0\\\\\n",
       "\t2 & Akira              & 1998 & 125 & Animation & 8.1 & 10.4 & False & 14\\\\\n",
       "\t3 & The Breakfast Club & 1985 &  97 & Drama     & 7.9 &  1.0 & False & 14\\\\\n",
       "\\end{tabular}\n"
      ],
      "text/markdown": [
       "\n",
       "A data.frame: 3 × 8\n",
       "\n",
       "| <!--/--> | name &lt;chr&gt; | year &lt;int&gt; | length_min &lt;int&gt; | genre &lt;chr&gt; | average_rating &lt;dbl&gt; | cost_millions &lt;dbl&gt; | foreign &lt;chr&gt; | age_restriction &lt;int&gt; |\n",
       "|---|---|---|---|---|---|---|---|---|\n",
       "| 1 | Toy Story          | 1995 |  81 | Animation | 8.3 | 30.0 | False |  0 |\n",
       "| 2 | Akira              | 1998 | 125 | Animation | 8.1 | 10.4 | False | 14 |\n",
       "| 3 | The Breakfast Club | 1985 |  97 | Drama     | 7.9 |  1.0 | False | 14 |\n",
       "\n"
      ],
      "text/plain": [
       "  name               year length_min genre     average_rating cost_millions\n",
       "1 Toy Story          1995  81        Animation 8.3            30.0         \n",
       "2 Akira              1998 125        Animation 8.1            10.4         \n",
       "3 The Breakfast Club 1985  97        Drama     7.9             1.0         \n",
       "  foreign age_restriction\n",
       "1 False    0             \n",
       "2 False   14             \n",
       "3 False   14             "
      ]
     },
     "metadata": {},
     "output_type": "display_data"
    }
   ],
   "source": [
    "head(df, 3)"
   ]
  },
  {
   "cell_type": "code",
   "execution_count": 16,
   "metadata": {
    "vscode": {
     "languageId": "r"
    }
   },
   "outputs": [
    {
     "data": {
      "text/html": [
       "<table class=\"dataframe\">\n",
       "<caption>A data.frame: 3 × 8</caption>\n",
       "<thead>\n",
       "\t<tr><th></th><th scope=col>name</th><th scope=col>year</th><th scope=col>length_min</th><th scope=col>genre</th><th scope=col>average_rating</th><th scope=col>cost_millions</th><th scope=col>foreign</th><th scope=col>age_restriction</th></tr>\n",
       "\t<tr><th></th><th scope=col>&lt;chr&gt;</th><th scope=col>&lt;int&gt;</th><th scope=col>&lt;int&gt;</th><th scope=col>&lt;chr&gt;</th><th scope=col>&lt;dbl&gt;</th><th scope=col>&lt;dbl&gt;</th><th scope=col>&lt;chr&gt;</th><th scope=col>&lt;int&gt;</th></tr>\n",
       "</thead>\n",
       "<tbody>\n",
       "\t<tr><th scope=row>5</th><td>Modern Times</td><td>1936</td><td> 87</td><td>Comedy</td><td>8.6</td><td> 1.5</td><td>False</td><td>10</td></tr>\n",
       "\t<tr><th scope=row>6</th><td>Fight Club  </td><td>1999</td><td>139</td><td>Drama </td><td>8.9</td><td>63.0</td><td>False</td><td>18</td></tr>\n",
       "\t<tr><th scope=row>7</th><td>City of God </td><td>2002</td><td>130</td><td>Crime </td><td>8.7</td><td> 3.3</td><td>True </td><td>18</td></tr>\n",
       "</tbody>\n",
       "</table>\n"
      ],
      "text/latex": [
       "A data.frame: 3 × 8\n",
       "\\begin{tabular}{r|llllllll}\n",
       "  & name & year & length\\_min & genre & average\\_rating & cost\\_millions & foreign & age\\_restriction\\\\\n",
       "  & <chr> & <int> & <int> & <chr> & <dbl> & <dbl> & <chr> & <int>\\\\\n",
       "\\hline\n",
       "\t5 & Modern Times & 1936 &  87 & Comedy & 8.6 &  1.5 & False & 10\\\\\n",
       "\t6 & Fight Club   & 1999 & 139 & Drama  & 8.9 & 63.0 & False & 18\\\\\n",
       "\t7 & City of God  & 2002 & 130 & Crime  & 8.7 &  3.3 & True  & 18\\\\\n",
       "\\end{tabular}\n"
      ],
      "text/markdown": [
       "\n",
       "A data.frame: 3 × 8\n",
       "\n",
       "| <!--/--> | name &lt;chr&gt; | year &lt;int&gt; | length_min &lt;int&gt; | genre &lt;chr&gt; | average_rating &lt;dbl&gt; | cost_millions &lt;dbl&gt; | foreign &lt;chr&gt; | age_restriction &lt;int&gt; |\n",
       "|---|---|---|---|---|---|---|---|---|\n",
       "| 5 | Modern Times | 1936 |  87 | Comedy | 8.6 |  1.5 | False | 10 |\n",
       "| 6 | Fight Club   | 1999 | 139 | Drama  | 8.9 | 63.0 | False | 18 |\n",
       "| 7 | City of God  | 2002 | 130 | Crime  | 8.7 |  3.3 | True  | 18 |\n",
       "\n"
      ],
      "text/plain": [
       "  name         year length_min genre  average_rating cost_millions foreign\n",
       "5 Modern Times 1936  87        Comedy 8.6             1.5          False  \n",
       "6 Fight Club   1999 139        Drama  8.9            63.0          False  \n",
       "7 City of God  2002 130        Crime  8.7             3.3          True   \n",
       "  age_restriction\n",
       "5 10             \n",
       "6 18             \n",
       "7 18             "
      ]
     },
     "metadata": {},
     "output_type": "display_data"
    }
   ],
   "source": [
    "tail(df, 3)"
   ]
  },
  {
   "cell_type": "code",
   "execution_count": 17,
   "metadata": {
    "vscode": {
     "languageId": "r"
    }
   },
   "outputs": [
    {
     "data": {
      "text/html": [
       "<style>\n",
       ".list-inline {list-style: none; margin:0; padding: 0}\n",
       ".list-inline>li {display: inline-block}\n",
       ".list-inline>li:not(:last-child)::after {content: \"\\00b7\"; padding: 0 .5ex}\n",
       "</style>\n",
       "<ol class=list-inline><li>1936</li><li>1985</li><li>1995</li><li>1998</li><li>1999</li><li>2002</li><li>2011</li></ol>\n"
      ],
      "text/latex": [
       "\\begin{enumerate*}\n",
       "\\item 1936\n",
       "\\item 1985\n",
       "\\item 1995\n",
       "\\item 1998\n",
       "\\item 1999\n",
       "\\item 2002\n",
       "\\item 2011\n",
       "\\end{enumerate*}\n"
      ],
      "text/markdown": [
       "1. 1936\n",
       "2. 1985\n",
       "3. 1995\n",
       "4. 1998\n",
       "5. 1999\n",
       "6. 2002\n",
       "7. 2011\n",
       "\n",
       "\n"
      ],
      "text/plain": [
       "[1] 1936 1985 1995 1998 1999 2002 2011"
      ]
     },
     "metadata": {},
     "output_type": "display_data"
    }
   ],
   "source": [
    "sort(df$year)"
   ]
  },
  {
   "cell_type": "code",
   "execution_count": 18,
   "metadata": {
    "vscode": {
     "languageId": "r"
    }
   },
   "outputs": [
    {
     "data": {
      "text/html": [
       "<style>\n",
       ".list-inline {list-style: none; margin:0; padding: 0}\n",
       ".list-inline>li {display: inline-block}\n",
       ".list-inline>li:not(:last-child)::after {content: \"\\00b7\"; padding: 0 .5ex}\n",
       "</style>\n",
       "<ol class=list-inline><li>1</li><li>1.5</li><li>3.3</li><li>10.4</li><li>15</li><li>30</li><li>63</li></ol>\n"
      ],
      "text/latex": [
       "\\begin{enumerate*}\n",
       "\\item 1\n",
       "\\item 1.5\n",
       "\\item 3.3\n",
       "\\item 10.4\n",
       "\\item 15\n",
       "\\item 30\n",
       "\\item 63\n",
       "\\end{enumerate*}\n"
      ],
      "text/markdown": [
       "1. 1\n",
       "2. 1.5\n",
       "3. 3.3\n",
       "4. 10.4\n",
       "5. 15\n",
       "6. 30\n",
       "7. 63\n",
       "\n",
       "\n"
      ],
      "text/plain": [
       "[1]  1.0  1.5  3.3 10.4 15.0 30.0 63.0"
      ]
     },
     "metadata": {},
     "output_type": "display_data"
    }
   ],
   "source": [
    "sort(df$cost_millions, decreasing=F)"
   ]
  },
  {
   "cell_type": "code",
   "execution_count": 19,
   "metadata": {
    "vscode": {
     "languageId": "r"
    }
   },
   "outputs": [
    {
     "data": {
      "text/html": [
       "1"
      ],
      "text/latex": [
       "1"
      ],
      "text/markdown": [
       "1"
      ],
      "text/plain": [
       "[1] 1"
      ]
     },
     "metadata": {},
     "output_type": "display_data"
    }
   ],
   "source": [
    "min(df$cost_millions)"
   ]
  },
  {
   "cell_type": "code",
   "execution_count": 20,
   "metadata": {
    "vscode": {
     "languageId": "r"
    }
   },
   "outputs": [
    {
     "data": {
      "text/html": [
       "63"
      ],
      "text/latex": [
       "63"
      ],
      "text/markdown": [
       "63"
      ],
      "text/plain": [
       "[1] 63"
      ]
     },
     "metadata": {},
     "output_type": "display_data"
    }
   ],
   "source": [
    "max(df$cost_millions)"
   ]
  },
  {
   "cell_type": "code",
   "execution_count": 21,
   "metadata": {
    "vscode": {
     "languageId": "r"
    }
   },
   "outputs": [
    {
     "name": "stdout",
     "output_type": "stream",
     "text": [
      "The Breakfast Club    American Beauty         Black Swan            Chicago \n",
      "              1985               1999               2010               2002 \n"
     ]
    }
   ],
   "source": [
    "release_year <- c(1985, 1999, 2010, 2002)\n",
    "names(release_year) <- c(\"The Breakfast Club\", \"American Beauty\", \"Black Swan\", \"Chicago\")\n",
    "print(release_year)"
   ]
  },
  {
   "cell_type": "code",
   "execution_count": 22,
   "metadata": {
    "vscode": {
     "languageId": "r"
    }
   },
   "outputs": [
    {
     "name": "stdout",
     "output_type": "stream",
     "text": [
      "The Breakfast Club \n",
      "              1985 \n"
     ]
    }
   ],
   "source": [
    "print(release_year[1])"
   ]
  },
  {
   "cell_type": "code",
   "execution_count": 23,
   "metadata": {
    "vscode": {
     "languageId": "r"
    }
   },
   "outputs": [
    {
     "name": "stdout",
     "output_type": "stream",
     "text": [
      "       name year length_min     genre average_rating cost_millions foreign\n",
      "1 Toy Story 1995         81 Animation            8.3            30   False\n",
      "  age_restriction\n",
      "1               0\n"
     ]
    }
   ],
   "source": [
    "print(df[1, ])"
   ]
  },
  {
   "cell_type": "code",
   "execution_count": 24,
   "metadata": {
    "vscode": {
     "languageId": "r"
    }
   },
   "outputs": [
    {
     "data": {
      "text/html": [
       "<style>\n",
       ".list-inline {list-style: none; margin:0; padding: 0}\n",
       ".list-inline>li {display: inline-block}\n",
       ".list-inline>li:not(:last-child)::after {content: \"\\00b7\"; padding: 0 .5ex}\n",
       "</style>\n",
       "<ol class=list-inline><li>'The Breakfast Club'</li><li>'American Beauty'</li><li>'Black Swan'</li><li>'Chicago'</li></ol>\n"
      ],
      "text/latex": [
       "\\begin{enumerate*}\n",
       "\\item 'The Breakfast Club'\n",
       "\\item 'American Beauty'\n",
       "\\item 'Black Swan'\n",
       "\\item 'Chicago'\n",
       "\\end{enumerate*}\n"
      ],
      "text/markdown": [
       "1. 'The Breakfast Club'\n",
       "2. 'American Beauty'\n",
       "3. 'Black Swan'\n",
       "4. 'Chicago'\n",
       "\n",
       "\n"
      ],
      "text/plain": [
       "[1] \"The Breakfast Club\" \"American Beauty\"    \"Black Swan\"        \n",
       "[4] \"Chicago\"           "
      ]
     },
     "metadata": {},
     "output_type": "display_data"
    }
   ],
   "source": [
    "names(release_year)"
   ]
  },
  {
   "cell_type": "code",
   "execution_count": 25,
   "metadata": {
    "vscode": {
     "languageId": "r"
    }
   },
   "outputs": [
    {
     "data": {
      "text/html": [
       "<style>\n",
       ".list-inline {list-style: none; margin:0; padding: 0}\n",
       ".list-inline>li {display: inline-block}\n",
       ".list-inline>li:not(:last-child)::after {content: \"\\00b7\"; padding: 0 .5ex}\n",
       "</style>\n",
       "<ol class=list-inline><li>'name'</li><li>'year'</li><li>'length_min'</li><li>'genre'</li><li>'average_rating'</li><li>'cost_millions'</li><li>'foreign'</li><li>'age_restriction'</li></ol>\n"
      ],
      "text/latex": [
       "\\begin{enumerate*}\n",
       "\\item 'name'\n",
       "\\item 'year'\n",
       "\\item 'length\\_min'\n",
       "\\item 'genre'\n",
       "\\item 'average\\_rating'\n",
       "\\item 'cost\\_millions'\n",
       "\\item 'foreign'\n",
       "\\item 'age\\_restriction'\n",
       "\\end{enumerate*}\n"
      ],
      "text/markdown": [
       "1. 'name'\n",
       "2. 'year'\n",
       "3. 'length_min'\n",
       "4. 'genre'\n",
       "5. 'average_rating'\n",
       "6. 'cost_millions'\n",
       "7. 'foreign'\n",
       "8. 'age_restriction'\n",
       "\n",
       "\n"
      ],
      "text/plain": [
       "[1] \"name\"            \"year\"            \"length_min\"      \"genre\"          \n",
       "[5] \"average_rating\"  \"cost_millions\"   \"foreign\"         \"age_restriction\""
      ]
     },
     "metadata": {},
     "output_type": "display_data"
    }
   ],
   "source": [
    "names(df)"
   ]
  },
  {
   "cell_type": "code",
   "execution_count": 26,
   "metadata": {
    "vscode": {
     "languageId": "r"
    }
   },
   "outputs": [
    {
     "name": "stdout",
     "output_type": "stream",
     "text": [
      "                name year length_min     genre average_rating cost_millions\n",
      "1          Toy Story 1995         81 Animation            8.3          30.0\n",
      "2              Akira 1998        125 Animation            8.1          10.4\n",
      "3 The Breakfast Club 1985         97     Drama            7.9           1.0\n",
      "4         The Artist 2011        100   Romance            8.0          15.0\n",
      "5       Modern Times 1936         87    Comedy            8.6           1.5\n",
      "6         Fight Club 1999        139     Drama            8.9          63.0\n",
      "7        City of God 2002        130     Crime            8.7           3.3\n",
      "  foreign age_restriction\n",
      "1   False               0\n",
      "2   False              14\n",
      "3   False              14\n",
      "4   False              12\n",
      "5   False              10\n",
      "6   False              18\n",
      "7    True              18\n"
     ]
    }
   ],
   "source": [
    "print(df)"
   ]
  },
  {
   "cell_type": "code",
   "execution_count": 27,
   "metadata": {
    "vscode": {
     "languageId": "r"
    }
   },
   "outputs": [
    {
     "name": "stdout",
     "output_type": "stream",
     "text": [
      "         Toy Story              Akira The Breakfast Club         The Artist \n",
      "              1995               1998               1985               2011 \n",
      "      Modern Times         Fight Club        City of God \n",
      "              1936               1999               2002 \n"
     ]
    }
   ],
   "source": [
    "release_year <- df[, \"year\"]\n",
    "names(release_year) <- df[, \"name\"]\n",
    "print(release_year)"
   ]
  },
  {
   "cell_type": "code",
   "execution_count": 28,
   "metadata": {
    "vscode": {
     "languageId": "r"
    }
   },
   "outputs": [
    {
     "name": "stdout",
     "output_type": "stream",
     "text": [
      "[1] \"Toy Story\"          \"Akira\"              \"The Breakfast Club\"\n",
      "[4] \"The Artist\"         \"Modern Times\"       \"Fight Club\"        \n",
      "[7] \"City of God\"       \n"
     ]
    }
   ],
   "source": [
    "print(names(release_year))"
   ]
  },
  {
   "cell_type": "code",
   "execution_count": 29,
   "metadata": {
    "vscode": {
     "languageId": "r"
    }
   },
   "outputs": [
    {
     "name": "stdout",
     "output_type": "stream",
     "text": [
      "Toy Story \n",
      "       59 \n"
     ]
    }
   ],
   "source": [
    "year_difference <- release_year[\"Toy Story\"] - release_year[\"Modern Times\"]\n",
    "print(year_difference)"
   ]
  },
  {
   "cell_type": "code",
   "execution_count": 30,
   "metadata": {
    "vscode": {
     "languageId": "r"
    }
   },
   "outputs": [
    {
     "data": {
      "text/plain": [
       "     name                year        length_min       genre          \n",
       " Length:7           Min.   :1936   Min.   : 81.0   Length:7          \n",
       " Class :character   1st Qu.:1990   1st Qu.: 92.0   Class :character  \n",
       " Mode  :character   Median :1998   Median :100.0   Mode  :character  \n",
       "                    Mean   :1989   Mean   :108.4                     \n",
       "                    3rd Qu.:2000   3rd Qu.:127.5                     \n",
       "                    Max.   :2011   Max.   :139.0                     \n",
       " average_rating  cost_millions     foreign          age_restriction\n",
       " Min.   :7.900   Min.   : 1.00   Length:7           Min.   : 0.00  \n",
       " 1st Qu.:8.050   1st Qu.: 2.40   Class :character   1st Qu.:11.00  \n",
       " Median :8.300   Median :10.40   Mode  :character   Median :14.00  \n",
       " Mean   :8.357   Mean   :17.74                      Mean   :12.29  \n",
       " 3rd Qu.:8.650   3rd Qu.:22.50                      3rd Qu.:16.00  \n",
       " Max.   :8.900   Max.   :63.00                      Max.   :18.00  "
      ]
     },
     "metadata": {},
     "output_type": "display_data"
    }
   ],
   "source": [
    "summary(df)"
   ]
  },
  {
   "cell_type": "code",
   "execution_count": 31,
   "metadata": {
    "vscode": {
     "languageId": "r"
    }
   },
   "outputs": [
    {
     "data": {
      "text/plain": [
       "   Min. 1st Qu.  Median    Mean 3rd Qu.    Max. \n",
       "   1936    1990    1998    1989    2000    2011 "
      ]
     },
     "metadata": {},
     "output_type": "display_data"
    }
   ],
   "source": [
    "summary(df$year)"
   ]
  },
  {
   "cell_type": "code",
   "execution_count": 32,
   "metadata": {
    "vscode": {
     "languageId": "r"
    }
   },
   "outputs": [
    {
     "data": {
      "text/plain": [
       "   Min. 1st Qu.  Median    Mean 3rd Qu.    Max. \n",
       "   1.00    2.40   10.40   17.74   22.50   63.00 "
      ]
     },
     "metadata": {},
     "output_type": "display_data"
    }
   ],
   "source": [
    "summary(df$cost_millions)"
   ]
  },
  {
   "cell_type": "code",
   "execution_count": 33,
   "metadata": {
    "vscode": {
     "languageId": "r"
    }
   },
   "outputs": [
    {
     "data": {
      "image/png": "[encoded data removed]",
      "text/plain": [
       "plot without title"
      ]
     },
     "metadata": {
      "image/png": {
       "height": 420,
       "width": 420
      }
     },
     "output_type": "display_data"
    }
   ],
   "source": [
    "ggplot(df, aes(x=year, y=cost_millions)) + geom_point() + geom_line()"
   ]
  },
  {
   "cell_type": "code",
   "execution_count": 34,
   "metadata": {
    "vscode": {
     "languageId": "r"
    }
   },
   "outputs": [
    {
     "data": {
      "text/html": [
       "'/Users/robsontrajano/Documents/GitHub/rlang_university_project/BASICS'"
      ],
      "text/latex": [
       "'/Users/robsontrajano/Documents/GitHub/rlang\\_university\\_project/BASICS'"
      ],
      "text/markdown": [
       "'/Users/robsontrajano/Documents/GitHub/rlang_university_project/BASICS'"
      ],
      "text/plain": [
       "[1] \"/Users/robsontrajano/Documents/GitHub/rlang_university_project/BASICS\""
      ]
     },
     "metadata": {},
     "output_type": "display_data"
    }
   ],
   "source": [
    "getwd()"
   ]
  },
  {
   "cell_type": "code",
   "execution_count": 35,
   "metadata": {
    "vscode": {
     "languageId": "r"
    }
   },
   "outputs": [],
   "source": [
    "download.file(\"https://cf-courses-data.s3.us.cloud-object-storage.appdomain.cloud/IBMDeveloperSkillsNetwork-RP0101EN-Coursera/v2/dataset/movies-db.csv\", destfile = \"movies-db.csv\")"
   ]
  },
  {
   "cell_type": "code",
   "execution_count": 36,
   "metadata": {
    "vscode": {
     "languageId": "r"
    }
   },
   "outputs": [],
   "source": [
    "df <- read.csv(\"../data/movies-db.csv\")"
   ]
  },
  {
   "cell_type": "code",
   "execution_count": 37,
   "metadata": {
    "vscode": {
     "languageId": "r"
    }
   },
   "outputs": [
    {
     "name": "stdout",
     "output_type": "stream",
     "text": [
      "                name year length_min     genre average_rating cost_millions\n",
      "1          Toy Story 1995         81 Animation            8.3          30.0\n",
      "2              Akira 1998        125 Animation            8.1          10.4\n",
      "3 The Breakfast Club 1985         97     Drama            7.9           1.0\n",
      "4         The Artist 2011        100   Romance            8.0          15.0\n",
      "5       Modern Times 1936         87    Comedy            8.6           1.5\n",
      "  foreign age_restriction\n",
      "1       0               0\n",
      "2       1              14\n",
      "3       0              14\n",
      "4       1              12\n",
      "5       0              10\n"
     ]
    }
   ],
   "source": [
    "print(head(df, 5))"
   ]
  },
  {
   "cell_type": "code",
   "execution_count": null,
   "metadata": {
    "vscode": {
     "languageId": "r"
    }
   },
   "outputs": [],
   "source": []
  }
 ],
 "metadata": {
  "kernelspec": {
   "display_name": "R",
   "language": "R",
   "name": "ir"
  },
  "language_info": {
   "codemirror_mode": "r",
   "file_extension": ".r",
   "mimetype": "text/x-r-source",
   "name": "R",
   "pygments_lexer": "r",
   "version": "4.2.0"
  },
  "orig_nbformat": 4
 },
 "nbformat": 4,
 "nbformat_minor": 2
}
