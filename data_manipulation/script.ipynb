{
 "cells": [
  {
   "cell_type": "markdown",
   "metadata": {},
   "source": [
    "USING DPLYR"
   ]
  },
  {
   "cell_type": "code",
   "execution_count": 1,
   "metadata": {},
   "outputs": [
    {
     "name": "stderr",
     "output_type": "stream",
     "text": [
      "\n",
      "Attaching package: 'dplyr'\n",
      "\n",
      "\n",
      "The following objects are masked from 'package:stats':\n",
      "\n",
      "    filter, lag\n",
      "\n",
      "\n",
      "The following objects are masked from 'package:base':\n",
      "\n",
      "    intersect, setdiff, setequal, union\n",
      "\n",
      "\n"
     ]
    }
   ],
   "source": [
    "library(dplyr)"
   ]
  },
  {
   "cell_type": "code",
   "execution_count": 3,
   "metadata": {},
   "outputs": [],
   "source": [
    "library(nycflights13)"
   ]
  },
  {
   "cell_type": "code",
   "execution_count": 4,
   "metadata": {},
   "outputs": [
    {
     "data": {
      "text/plain": [
       "      year          month             day           dep_time    sched_dep_time\n",
       " Min.   :2013   Min.   : 1.000   Min.   : 1.00   Min.   :   1   Min.   : 106  \n",
       " 1st Qu.:2013   1st Qu.: 4.000   1st Qu.: 8.00   1st Qu.: 907   1st Qu.: 906  \n",
       " Median :2013   Median : 7.000   Median :16.00   Median :1401   Median :1359  \n",
       " Mean   :2013   Mean   : 6.549   Mean   :15.71   Mean   :1349   Mean   :1344  \n",
       " 3rd Qu.:2013   3rd Qu.:10.000   3rd Qu.:23.00   3rd Qu.:1744   3rd Qu.:1729  \n",
       " Max.   :2013   Max.   :12.000   Max.   :31.00   Max.   :2400   Max.   :2359  \n",
       "                                                 NA's   :8255                 \n",
       "   dep_delay          arr_time    sched_arr_time   arr_delay       \n",
       " Min.   : -43.00   Min.   :   1   Min.   :   1   Min.   : -86.000  \n",
       " 1st Qu.:  -5.00   1st Qu.:1104   1st Qu.:1124   1st Qu.: -17.000  \n",
       " Median :  -2.00   Median :1535   Median :1556   Median :  -5.000  \n",
       " Mean   :  12.64   Mean   :1502   Mean   :1536   Mean   :   6.895  \n",
       " 3rd Qu.:  11.00   3rd Qu.:1940   3rd Qu.:1945   3rd Qu.:  14.000  \n",
       " Max.   :1301.00   Max.   :2400   Max.   :2359   Max.   :1272.000  \n",
       " NA's   :8255      NA's   :8713                  NA's   :9430      \n",
       "   carrier              flight       tailnum             origin         \n",
       " Length:336776      Min.   :   1   Length:336776      Length:336776     \n",
       " Class :character   1st Qu.: 553   Class :character   Class :character  \n",
       " Mode  :character   Median :1496   Mode  :character   Mode  :character  \n",
       "                    Mean   :1972                                        \n",
       "                    3rd Qu.:3465                                        \n",
       "                    Max.   :8500                                        \n",
       "                                                                        \n",
       "     dest              air_time        distance         hour      \n",
       " Length:336776      Min.   : 20.0   Min.   :  17   Min.   : 1.00  \n",
       " Class :character   1st Qu.: 82.0   1st Qu.: 502   1st Qu.: 9.00  \n",
       " Mode  :character   Median :129.0   Median : 872   Median :13.00  \n",
       "                    Mean   :150.7   Mean   :1040   Mean   :13.18  \n",
       "                    3rd Qu.:192.0   3rd Qu.:1389   3rd Qu.:17.00  \n",
       "                    Max.   :695.0   Max.   :4983   Max.   :23.00  \n",
       "                    NA's   :9430                                  \n",
       "     minute        time_hour                  \n",
       " Min.   : 0.00   Min.   :2013-01-01 05:00:00  \n",
       " 1st Qu.: 8.00   1st Qu.:2013-04-04 13:00:00  \n",
       " Median :29.00   Median :2013-07-03 10:00:00  \n",
       " Mean   :26.23   Mean   :2013-07-03 05:22:54  \n",
       " 3rd Qu.:44.00   3rd Qu.:2013-10-01 07:00:00  \n",
       " Max.   :59.00   Max.   :2013-12-31 23:00:00  \n",
       "                                              "
      ]
     },
     "metadata": {},
     "output_type": "display_data"
    }
   ],
   "source": [
    "summary(flights)"
   ]
  },
  {
   "cell_type": "code",
   "execution_count": 5,
   "metadata": {},
   "outputs": [
    {
     "data": {
      "text/html": [
       "<style>\n",
       ".list-inline {list-style: none; margin:0; padding: 0}\n",
       ".list-inline>li {display: inline-block}\n",
       ".list-inline>li:not(:last-child)::after {content: \"\\00b7\"; padding: 0 .5ex}\n",
       "</style>\n",
       "<ol class=list-inline><li>'tbl_df'</li><li>'tbl'</li><li>'data.frame'</li></ol>\n"
      ],
      "text/latex": [
       "\\begin{enumerate*}\n",
       "\\item 'tbl\\_df'\n",
       "\\item 'tbl'\n",
       "\\item 'data.frame'\n",
       "\\end{enumerate*}\n"
      ],
      "text/markdown": [
       "1. 'tbl_df'\n",
       "2. 'tbl'\n",
       "3. 'data.frame'\n",
       "\n",
       "\n"
      ],
      "text/plain": [
       "[1] \"tbl_df\"     \"tbl\"        \"data.frame\""
      ]
     },
     "metadata": {},
     "output_type": "display_data"
    }
   ],
   "source": [
    "class(flights)"
   ]
  },
  {
   "cell_type": "code",
   "execution_count": 6,
   "metadata": {},
   "outputs": [
    {
     "data": {
      "text/html": [
       "<style>\n",
       ".list-inline {list-style: none; margin:0; padding: 0}\n",
       ".list-inline>li {display: inline-block}\n",
       ".list-inline>li:not(:last-child)::after {content: \"\\00b7\"; padding: 0 .5ex}\n",
       "</style>\n",
       "<ol class=list-inline><li>336776</li><li>19</li></ol>\n"
      ],
      "text/latex": [
       "\\begin{enumerate*}\n",
       "\\item 336776\n",
       "\\item 19\n",
       "\\end{enumerate*}\n"
      ],
      "text/markdown": [
       "1. 336776\n",
       "2. 19\n",
       "\n",
       "\n"
      ],
      "text/plain": [
       "[1] 336776     19"
      ]
     },
     "metadata": {},
     "output_type": "display_data"
    }
   ],
   "source": [
    "dim(flights)"
   ]
  },
  {
   "cell_type": "code",
   "execution_count": 8,
   "metadata": {},
   "outputs": [
    {
     "name": "stdout",
     "output_type": "stream",
     "text": [
      "\u001b[90m# A tibble: 6 x 19\u001b[39m\n",
      "   year month   day dep_time sched_dep_time dep_delay arr_time sched_arr_time\n",
      "  \u001b[3m\u001b[90m<int>\u001b[39m\u001b[23m \u001b[3m\u001b[90m<int>\u001b[39m\u001b[23m \u001b[3m\u001b[90m<int>\u001b[39m\u001b[23m    \u001b[3m\u001b[90m<int>\u001b[39m\u001b[23m          \u001b[3m\u001b[90m<int>\u001b[39m\u001b[23m     \u001b[3m\u001b[90m<dbl>\u001b[39m\u001b[23m    \u001b[3m\u001b[90m<int>\u001b[39m\u001b[23m          \u001b[3m\u001b[90m<int>\u001b[39m\u001b[23m\n",
      "\u001b[90m1\u001b[39m  \u001b[4m2\u001b[24m013    11     3      538            545        -\u001b[31m7\u001b[39m      824            855\n",
      "\u001b[90m2\u001b[39m  \u001b[4m2\u001b[24m013    11     3      556            600        -\u001b[31m4\u001b[39m      900            905\n",
      "\u001b[90m3\u001b[39m  \u001b[4m2\u001b[24m013    11     3      604            610        -\u001b[31m6\u001b[39m      844            855\n",
      "\u001b[90m4\u001b[39m  \u001b[4m2\u001b[24m013    11     3      624            629        -\u001b[31m5\u001b[39m      907            929\n",
      "\u001b[90m5\u001b[39m  \u001b[4m2\u001b[24m013    11     3      625            630        -\u001b[31m5\u001b[39m      736            805\n",
      "\u001b[90m6\u001b[39m  \u001b[4m2\u001b[24m013    11     3      653            655        -\u001b[31m2\u001b[39m      925            920\n",
      "\u001b[90m# ... with 11 more variables: arr_delay <dbl>, carrier <chr>, flight <int>,\u001b[39m\n",
      "\u001b[90m#   tailnum <chr>, origin <chr>, dest <chr>, air_time <dbl>, distance <dbl>,\u001b[39m\n",
      "\u001b[90m#   hour <dbl>, minute <dbl>, time_hour <dttm>\u001b[39m\n"
     ]
    }
   ],
   "source": [
    "print(head(filter(flights, month == 11, day == 3, carrier == \"AA\")))"
   ]
  },
  {
   "cell_type": "code",
   "execution_count": 12,
   "metadata": {},
   "outputs": [
    {
     "data": {
      "text/html": [
       "<table class=\"dataframe\">\n",
       "<caption>A tibble: 6 × 19</caption>\n",
       "<thead>\n",
       "\t<tr><th scope=col>year</th><th scope=col>month</th><th scope=col>day</th><th scope=col>dep_time</th><th scope=col>sched_dep_time</th><th scope=col>dep_delay</th><th scope=col>arr_time</th><th scope=col>sched_arr_time</th><th scope=col>arr_delay</th><th scope=col>carrier</th><th scope=col>flight</th><th scope=col>tailnum</th><th scope=col>origin</th><th scope=col>dest</th><th scope=col>air_time</th><th scope=col>distance</th><th scope=col>hour</th><th scope=col>minute</th><th scope=col>time_hour</th></tr>\n",
       "\t<tr><th scope=col>&lt;int&gt;</th><th scope=col>&lt;int&gt;</th><th scope=col>&lt;int&gt;</th><th scope=col>&lt;int&gt;</th><th scope=col>&lt;int&gt;</th><th scope=col>&lt;dbl&gt;</th><th scope=col>&lt;int&gt;</th><th scope=col>&lt;int&gt;</th><th scope=col>&lt;dbl&gt;</th><th scope=col>&lt;chr&gt;</th><th scope=col>&lt;int&gt;</th><th scope=col>&lt;chr&gt;</th><th scope=col>&lt;chr&gt;</th><th scope=col>&lt;chr&gt;</th><th scope=col>&lt;dbl&gt;</th><th scope=col>&lt;dbl&gt;</th><th scope=col>&lt;dbl&gt;</th><th scope=col>&lt;dbl&gt;</th><th scope=col>&lt;dttm&gt;</th></tr>\n",
       "</thead>\n",
       "<tbody>\n",
       "\t<tr><td>2013</td><td>11</td><td>3</td><td>538</td><td>545</td><td>-7</td><td>824</td><td>855</td><td>-31</td><td>AA</td><td>2243</td><td>N5DWAA</td><td>JFK</td><td>MIA</td><td>144</td><td>1089</td><td>5</td><td>45</td><td>2013-11-03 05:00:00</td></tr>\n",
       "\t<tr><td>2013</td><td>11</td><td>3</td><td>556</td><td>600</td><td>-4</td><td>900</td><td>905</td><td> -5</td><td>AA</td><td>1175</td><td>N3CSAA</td><td>LGA</td><td>MIA</td><td>148</td><td>1096</td><td>6</td><td> 0</td><td>2013-11-03 06:00:00</td></tr>\n",
       "\t<tr><td>2013</td><td>11</td><td>3</td><td>604</td><td>610</td><td>-6</td><td>844</td><td>855</td><td>-11</td><td>AA</td><td>1103</td><td>N3KDAA</td><td>LGA</td><td>DFW</td><td>192</td><td>1389</td><td>6</td><td>10</td><td>2013-11-03 06:00:00</td></tr>\n",
       "\t<tr><td>2013</td><td>11</td><td>3</td><td>624</td><td>629</td><td>-5</td><td>907</td><td>929</td><td>-22</td><td>AA</td><td>1205</td><td>N3EJAA</td><td>EWR</td><td>MIA</td><td>141</td><td>1085</td><td>6</td><td>29</td><td>2013-11-03 06:00:00</td></tr>\n",
       "\t<tr><td>2013</td><td>11</td><td>3</td><td>625</td><td>630</td><td>-5</td><td>736</td><td>805</td><td>-29</td><td>AA</td><td> 303</td><td>N4WJAA</td><td>LGA</td><td>ORD</td><td>113</td><td> 733</td><td>6</td><td>30</td><td>2013-11-03 06:00:00</td></tr>\n",
       "\t<tr><td>2013</td><td>11</td><td>3</td><td>653</td><td>655</td><td>-2</td><td>925</td><td>920</td><td>  5</td><td>AA</td><td>1263</td><td>N634AA</td><td>JFK</td><td>LAS</td><td>306</td><td>2248</td><td>6</td><td>55</td><td>2013-11-03 06:00:00</td></tr>\n",
       "</tbody>\n",
       "</table>\n"
      ],
      "text/latex": [
       "A tibble: 6 × 19\n",
       "\\begin{tabular}{lllllllllllllllllll}\n",
       " year & month & day & dep\\_time & sched\\_dep\\_time & dep\\_delay & arr\\_time & sched\\_arr\\_time & arr\\_delay & carrier & flight & tailnum & origin & dest & air\\_time & distance & hour & minute & time\\_hour\\\\\n",
       " <int> & <int> & <int> & <int> & <int> & <dbl> & <int> & <int> & <dbl> & <chr> & <int> & <chr> & <chr> & <chr> & <dbl> & <dbl> & <dbl> & <dbl> & <dttm>\\\\\n",
       "\\hline\n",
       "\t 2013 & 11 & 3 & 538 & 545 & -7 & 824 & 855 & -31 & AA & 2243 & N5DWAA & JFK & MIA & 144 & 1089 & 5 & 45 & 2013-11-03 05:00:00\\\\\n",
       "\t 2013 & 11 & 3 & 556 & 600 & -4 & 900 & 905 &  -5 & AA & 1175 & N3CSAA & LGA & MIA & 148 & 1096 & 6 &  0 & 2013-11-03 06:00:00\\\\\n",
       "\t 2013 & 11 & 3 & 604 & 610 & -6 & 844 & 855 & -11 & AA & 1103 & N3KDAA & LGA & DFW & 192 & 1389 & 6 & 10 & 2013-11-03 06:00:00\\\\\n",
       "\t 2013 & 11 & 3 & 624 & 629 & -5 & 907 & 929 & -22 & AA & 1205 & N3EJAA & EWR & MIA & 141 & 1085 & 6 & 29 & 2013-11-03 06:00:00\\\\\n",
       "\t 2013 & 11 & 3 & 625 & 630 & -5 & 736 & 805 & -29 & AA &  303 & N4WJAA & LGA & ORD & 113 &  733 & 6 & 30 & 2013-11-03 06:00:00\\\\\n",
       "\t 2013 & 11 & 3 & 653 & 655 & -2 & 925 & 920 &   5 & AA & 1263 & N634AA & JFK & LAS & 306 & 2248 & 6 & 55 & 2013-11-03 06:00:00\\\\\n",
       "\\end{tabular}\n"
      ],
      "text/markdown": [
       "\n",
       "A tibble: 6 × 19\n",
       "\n",
       "| year &lt;int&gt; | month &lt;int&gt; | day &lt;int&gt; | dep_time &lt;int&gt; | sched_dep_time &lt;int&gt; | dep_delay &lt;dbl&gt; | arr_time &lt;int&gt; | sched_arr_time &lt;int&gt; | arr_delay &lt;dbl&gt; | carrier &lt;chr&gt; | flight &lt;int&gt; | tailnum &lt;chr&gt; | origin &lt;chr&gt; | dest &lt;chr&gt; | air_time &lt;dbl&gt; | distance &lt;dbl&gt; | hour &lt;dbl&gt; | minute &lt;dbl&gt; | time_hour &lt;dttm&gt; |\n",
       "|---|---|---|---|---|---|---|---|---|---|---|---|---|---|---|---|---|---|---|\n",
       "| 2013 | 11 | 3 | 538 | 545 | -7 | 824 | 855 | -31 | AA | 2243 | N5DWAA | JFK | MIA | 144 | 1089 | 5 | 45 | 2013-11-03 05:00:00 |\n",
       "| 2013 | 11 | 3 | 556 | 600 | -4 | 900 | 905 |  -5 | AA | 1175 | N3CSAA | LGA | MIA | 148 | 1096 | 6 |  0 | 2013-11-03 06:00:00 |\n",
       "| 2013 | 11 | 3 | 604 | 610 | -6 | 844 | 855 | -11 | AA | 1103 | N3KDAA | LGA | DFW | 192 | 1389 | 6 | 10 | 2013-11-03 06:00:00 |\n",
       "| 2013 | 11 | 3 | 624 | 629 | -5 | 907 | 929 | -22 | AA | 1205 | N3EJAA | EWR | MIA | 141 | 1085 | 6 | 29 | 2013-11-03 06:00:00 |\n",
       "| 2013 | 11 | 3 | 625 | 630 | -5 | 736 | 805 | -29 | AA |  303 | N4WJAA | LGA | ORD | 113 |  733 | 6 | 30 | 2013-11-03 06:00:00 |\n",
       "| 2013 | 11 | 3 | 653 | 655 | -2 | 925 | 920 |   5 | AA | 1263 | N634AA | JFK | LAS | 306 | 2248 | 6 | 55 | 2013-11-03 06:00:00 |\n",
       "\n"
      ],
      "text/plain": [
       "  year month day dep_time sched_dep_time dep_delay arr_time sched_arr_time\n",
       "1 2013 11    3   538      545            -7        824      855           \n",
       "2 2013 11    3   556      600            -4        900      905           \n",
       "3 2013 11    3   604      610            -6        844      855           \n",
       "4 2013 11    3   624      629            -5        907      929           \n",
       "5 2013 11    3   625      630            -5        736      805           \n",
       "6 2013 11    3   653      655            -2        925      920           \n",
       "  arr_delay carrier flight tailnum origin dest air_time distance hour minute\n",
       "1 -31       AA      2243   N5DWAA  JFK    MIA  144      1089     5    45    \n",
       "2  -5       AA      1175   N3CSAA  LGA    MIA  148      1096     6     0    \n",
       "3 -11       AA      1103   N3KDAA  LGA    DFW  192      1389     6    10    \n",
       "4 -22       AA      1205   N3EJAA  EWR    MIA  141      1085     6    29    \n",
       "5 -29       AA       303   N4WJAA  LGA    ORD  113       733     6    30    \n",
       "6   5       AA      1263   N634AA  JFK    LAS  306      2248     6    55    \n",
       "  time_hour          \n",
       "1 2013-11-03 05:00:00\n",
       "2 2013-11-03 06:00:00\n",
       "3 2013-11-03 06:00:00\n",
       "4 2013-11-03 06:00:00\n",
       "5 2013-11-03 06:00:00\n",
       "6 2013-11-03 06:00:00"
      ]
     },
     "metadata": {},
     "output_type": "display_data"
    }
   ],
   "source": [
    "head(flights[flights$month == 11 & flights$day == 3 & flights$carrier == \"AA\", ])"
   ]
  },
  {
   "cell_type": "code",
   "execution_count": 13,
   "metadata": {},
   "outputs": [
    {
     "data": {
      "text/html": [
       "<table class=\"dataframe\">\n",
       "<caption>A tibble: 10 × 19</caption>\n",
       "<thead>\n",
       "\t<tr><th scope=col>year</th><th scope=col>month</th><th scope=col>day</th><th scope=col>dep_time</th><th scope=col>sched_dep_time</th><th scope=col>dep_delay</th><th scope=col>arr_time</th><th scope=col>sched_arr_time</th><th scope=col>arr_delay</th><th scope=col>carrier</th><th scope=col>flight</th><th scope=col>tailnum</th><th scope=col>origin</th><th scope=col>dest</th><th scope=col>air_time</th><th scope=col>distance</th><th scope=col>hour</th><th scope=col>minute</th><th scope=col>time_hour</th></tr>\n",
       "\t<tr><th scope=col>&lt;int&gt;</th><th scope=col>&lt;int&gt;</th><th scope=col>&lt;int&gt;</th><th scope=col>&lt;int&gt;</th><th scope=col>&lt;int&gt;</th><th scope=col>&lt;dbl&gt;</th><th scope=col>&lt;int&gt;</th><th scope=col>&lt;int&gt;</th><th scope=col>&lt;dbl&gt;</th><th scope=col>&lt;chr&gt;</th><th scope=col>&lt;int&gt;</th><th scope=col>&lt;chr&gt;</th><th scope=col>&lt;chr&gt;</th><th scope=col>&lt;chr&gt;</th><th scope=col>&lt;dbl&gt;</th><th scope=col>&lt;dbl&gt;</th><th scope=col>&lt;dbl&gt;</th><th scope=col>&lt;dbl&gt;</th><th scope=col>&lt;dttm&gt;</th></tr>\n",
       "</thead>\n",
       "<tbody>\n",
       "\t<tr><td>2013</td><td>1</td><td>1</td><td>517</td><td>515</td><td> 2</td><td> 830</td><td> 819</td><td> 11</td><td>UA</td><td>1545</td><td>N14228</td><td>EWR</td><td>IAH</td><td>227</td><td>1400</td><td>5</td><td>15</td><td>2013-01-01 05:00:00</td></tr>\n",
       "\t<tr><td>2013</td><td>1</td><td>1</td><td>533</td><td>529</td><td> 4</td><td> 850</td><td> 830</td><td> 20</td><td>UA</td><td>1714</td><td>N24211</td><td>LGA</td><td>IAH</td><td>227</td><td>1416</td><td>5</td><td>29</td><td>2013-01-01 05:00:00</td></tr>\n",
       "\t<tr><td>2013</td><td>1</td><td>1</td><td>542</td><td>540</td><td> 2</td><td> 923</td><td> 850</td><td> 33</td><td>AA</td><td>1141</td><td>N619AA</td><td>JFK</td><td>MIA</td><td>160</td><td>1089</td><td>5</td><td>40</td><td>2013-01-01 05:00:00</td></tr>\n",
       "\t<tr><td>2013</td><td>1</td><td>1</td><td>544</td><td>545</td><td>-1</td><td>1004</td><td>1022</td><td>-18</td><td>B6</td><td> 725</td><td>N804JB</td><td>JFK</td><td>BQN</td><td>183</td><td>1576</td><td>5</td><td>45</td><td>2013-01-01 05:00:00</td></tr>\n",
       "\t<tr><td>2013</td><td>1</td><td>1</td><td>554</td><td>600</td><td>-6</td><td> 812</td><td> 837</td><td>-25</td><td>DL</td><td> 461</td><td>N668DN</td><td>LGA</td><td>ATL</td><td>116</td><td> 762</td><td>6</td><td> 0</td><td>2013-01-01 06:00:00</td></tr>\n",
       "\t<tr><td>2013</td><td>1</td><td>1</td><td>554</td><td>558</td><td>-4</td><td> 740</td><td> 728</td><td> 12</td><td>UA</td><td>1696</td><td>N39463</td><td>EWR</td><td>ORD</td><td>150</td><td> 719</td><td>5</td><td>58</td><td>2013-01-01 05:00:00</td></tr>\n",
       "\t<tr><td>2013</td><td>1</td><td>1</td><td>555</td><td>600</td><td>-5</td><td> 913</td><td> 854</td><td> 19</td><td>B6</td><td> 507</td><td>N516JB</td><td>EWR</td><td>FLL</td><td>158</td><td>1065</td><td>6</td><td> 0</td><td>2013-01-01 06:00:00</td></tr>\n",
       "\t<tr><td>2013</td><td>1</td><td>1</td><td>557</td><td>600</td><td>-3</td><td> 709</td><td> 723</td><td>-14</td><td>EV</td><td>5708</td><td>N829AS</td><td>LGA</td><td>IAD</td><td> 53</td><td> 229</td><td>6</td><td> 0</td><td>2013-01-01 06:00:00</td></tr>\n",
       "\t<tr><td>2013</td><td>1</td><td>1</td><td>557</td><td>600</td><td>-3</td><td> 838</td><td> 846</td><td> -8</td><td>B6</td><td>  79</td><td>N593JB</td><td>JFK</td><td>MCO</td><td>140</td><td> 944</td><td>6</td><td> 0</td><td>2013-01-01 06:00:00</td></tr>\n",
       "\t<tr><td>2013</td><td>1</td><td>1</td><td>558</td><td>600</td><td>-2</td><td> 753</td><td> 745</td><td>  8</td><td>AA</td><td> 301</td><td>N3ALAA</td><td>LGA</td><td>ORD</td><td>138</td><td> 733</td><td>6</td><td> 0</td><td>2013-01-01 06:00:00</td></tr>\n",
       "</tbody>\n",
       "</table>\n"
      ],
      "text/latex": [
       "A tibble: 10 × 19\n",
       "\\begin{tabular}{lllllllllllllllllll}\n",
       " year & month & day & dep\\_time & sched\\_dep\\_time & dep\\_delay & arr\\_time & sched\\_arr\\_time & arr\\_delay & carrier & flight & tailnum & origin & dest & air\\_time & distance & hour & minute & time\\_hour\\\\\n",
       " <int> & <int> & <int> & <int> & <int> & <dbl> & <int> & <int> & <dbl> & <chr> & <int> & <chr> & <chr> & <chr> & <dbl> & <dbl> & <dbl> & <dbl> & <dttm>\\\\\n",
       "\\hline\n",
       "\t 2013 & 1 & 1 & 517 & 515 &  2 &  830 &  819 &  11 & UA & 1545 & N14228 & EWR & IAH & 227 & 1400 & 5 & 15 & 2013-01-01 05:00:00\\\\\n",
       "\t 2013 & 1 & 1 & 533 & 529 &  4 &  850 &  830 &  20 & UA & 1714 & N24211 & LGA & IAH & 227 & 1416 & 5 & 29 & 2013-01-01 05:00:00\\\\\n",
       "\t 2013 & 1 & 1 & 542 & 540 &  2 &  923 &  850 &  33 & AA & 1141 & N619AA & JFK & MIA & 160 & 1089 & 5 & 40 & 2013-01-01 05:00:00\\\\\n",
       "\t 2013 & 1 & 1 & 544 & 545 & -1 & 1004 & 1022 & -18 & B6 &  725 & N804JB & JFK & BQN & 183 & 1576 & 5 & 45 & 2013-01-01 05:00:00\\\\\n",
       "\t 2013 & 1 & 1 & 554 & 600 & -6 &  812 &  837 & -25 & DL &  461 & N668DN & LGA & ATL & 116 &  762 & 6 &  0 & 2013-01-01 06:00:00\\\\\n",
       "\t 2013 & 1 & 1 & 554 & 558 & -4 &  740 &  728 &  12 & UA & 1696 & N39463 & EWR & ORD & 150 &  719 & 5 & 58 & 2013-01-01 05:00:00\\\\\n",
       "\t 2013 & 1 & 1 & 555 & 600 & -5 &  913 &  854 &  19 & B6 &  507 & N516JB & EWR & FLL & 158 & 1065 & 6 &  0 & 2013-01-01 06:00:00\\\\\n",
       "\t 2013 & 1 & 1 & 557 & 600 & -3 &  709 &  723 & -14 & EV & 5708 & N829AS & LGA & IAD &  53 &  229 & 6 &  0 & 2013-01-01 06:00:00\\\\\n",
       "\t 2013 & 1 & 1 & 557 & 600 & -3 &  838 &  846 &  -8 & B6 &   79 & N593JB & JFK & MCO & 140 &  944 & 6 &  0 & 2013-01-01 06:00:00\\\\\n",
       "\t 2013 & 1 & 1 & 558 & 600 & -2 &  753 &  745 &   8 & AA &  301 & N3ALAA & LGA & ORD & 138 &  733 & 6 &  0 & 2013-01-01 06:00:00\\\\\n",
       "\\end{tabular}\n"
      ],
      "text/markdown": [
       "\n",
       "A tibble: 10 × 19\n",
       "\n",
       "| year &lt;int&gt; | month &lt;int&gt; | day &lt;int&gt; | dep_time &lt;int&gt; | sched_dep_time &lt;int&gt; | dep_delay &lt;dbl&gt; | arr_time &lt;int&gt; | sched_arr_time &lt;int&gt; | arr_delay &lt;dbl&gt; | carrier &lt;chr&gt; | flight &lt;int&gt; | tailnum &lt;chr&gt; | origin &lt;chr&gt; | dest &lt;chr&gt; | air_time &lt;dbl&gt; | distance &lt;dbl&gt; | hour &lt;dbl&gt; | minute &lt;dbl&gt; | time_hour &lt;dttm&gt; |\n",
       "|---|---|---|---|---|---|---|---|---|---|---|---|---|---|---|---|---|---|---|\n",
       "| 2013 | 1 | 1 | 517 | 515 |  2 |  830 |  819 |  11 | UA | 1545 | N14228 | EWR | IAH | 227 | 1400 | 5 | 15 | 2013-01-01 05:00:00 |\n",
       "| 2013 | 1 | 1 | 533 | 529 |  4 |  850 |  830 |  20 | UA | 1714 | N24211 | LGA | IAH | 227 | 1416 | 5 | 29 | 2013-01-01 05:00:00 |\n",
       "| 2013 | 1 | 1 | 542 | 540 |  2 |  923 |  850 |  33 | AA | 1141 | N619AA | JFK | MIA | 160 | 1089 | 5 | 40 | 2013-01-01 05:00:00 |\n",
       "| 2013 | 1 | 1 | 544 | 545 | -1 | 1004 | 1022 | -18 | B6 |  725 | N804JB | JFK | BQN | 183 | 1576 | 5 | 45 | 2013-01-01 05:00:00 |\n",
       "| 2013 | 1 | 1 | 554 | 600 | -6 |  812 |  837 | -25 | DL |  461 | N668DN | LGA | ATL | 116 |  762 | 6 |  0 | 2013-01-01 06:00:00 |\n",
       "| 2013 | 1 | 1 | 554 | 558 | -4 |  740 |  728 |  12 | UA | 1696 | N39463 | EWR | ORD | 150 |  719 | 5 | 58 | 2013-01-01 05:00:00 |\n",
       "| 2013 | 1 | 1 | 555 | 600 | -5 |  913 |  854 |  19 | B6 |  507 | N516JB | EWR | FLL | 158 | 1065 | 6 |  0 | 2013-01-01 06:00:00 |\n",
       "| 2013 | 1 | 1 | 557 | 600 | -3 |  709 |  723 | -14 | EV | 5708 | N829AS | LGA | IAD |  53 |  229 | 6 |  0 | 2013-01-01 06:00:00 |\n",
       "| 2013 | 1 | 1 | 557 | 600 | -3 |  838 |  846 |  -8 | B6 |   79 | N593JB | JFK | MCO | 140 |  944 | 6 |  0 | 2013-01-01 06:00:00 |\n",
       "| 2013 | 1 | 1 | 558 | 600 | -2 |  753 |  745 |   8 | AA |  301 | N3ALAA | LGA | ORD | 138 |  733 | 6 |  0 | 2013-01-01 06:00:00 |\n",
       "\n"
      ],
      "text/plain": [
       "   year month day dep_time sched_dep_time dep_delay arr_time sched_arr_time\n",
       "1  2013 1     1   517      515             2         830      819          \n",
       "2  2013 1     1   533      529             4         850      830          \n",
       "3  2013 1     1   542      540             2         923      850          \n",
       "4  2013 1     1   544      545            -1        1004     1022          \n",
       "5  2013 1     1   554      600            -6         812      837          \n",
       "6  2013 1     1   554      558            -4         740      728          \n",
       "7  2013 1     1   555      600            -5         913      854          \n",
       "8  2013 1     1   557      600            -3         709      723          \n",
       "9  2013 1     1   557      600            -3         838      846          \n",
       "10 2013 1     1   558      600            -2         753      745          \n",
       "   arr_delay carrier flight tailnum origin dest air_time distance hour minute\n",
       "1   11       UA      1545   N14228  EWR    IAH  227      1400     5    15    \n",
       "2   20       UA      1714   N24211  LGA    IAH  227      1416     5    29    \n",
       "3   33       AA      1141   N619AA  JFK    MIA  160      1089     5    40    \n",
       "4  -18       B6       725   N804JB  JFK    BQN  183      1576     5    45    \n",
       "5  -25       DL       461   N668DN  LGA    ATL  116       762     6     0    \n",
       "6   12       UA      1696   N39463  EWR    ORD  150       719     5    58    \n",
       "7   19       B6       507   N516JB  EWR    FLL  158      1065     6     0    \n",
       "8  -14       EV      5708   N829AS  LGA    IAD   53       229     6     0    \n",
       "9   -8       B6        79   N593JB  JFK    MCO  140       944     6     0    \n",
       "10   8       AA       301   N3ALAA  LGA    ORD  138       733     6     0    \n",
       "   time_hour          \n",
       "1  2013-01-01 05:00:00\n",
       "2  2013-01-01 05:00:00\n",
       "3  2013-01-01 05:00:00\n",
       "4  2013-01-01 05:00:00\n",
       "5  2013-01-01 06:00:00\n",
       "6  2013-01-01 05:00:00\n",
       "7  2013-01-01 06:00:00\n",
       "8  2013-01-01 06:00:00\n",
       "9  2013-01-01 06:00:00\n",
       "10 2013-01-01 06:00:00"
      ]
     },
     "metadata": {},
     "output_type": "display_data"
    }
   ],
   "source": [
    "slice(flights, 1:10)"
   ]
  },
  {
   "cell_type": "code",
   "execution_count": 14,
   "metadata": {},
   "outputs": [
    {
     "data": {
      "text/html": [
       "<table class=\"dataframe\">\n",
       "<caption>A tibble: 6 × 19</caption>\n",
       "<thead>\n",
       "\t<tr><th scope=col>year</th><th scope=col>month</th><th scope=col>day</th><th scope=col>dep_time</th><th scope=col>sched_dep_time</th><th scope=col>dep_delay</th><th scope=col>arr_time</th><th scope=col>sched_arr_time</th><th scope=col>arr_delay</th><th scope=col>carrier</th><th scope=col>flight</th><th scope=col>tailnum</th><th scope=col>origin</th><th scope=col>dest</th><th scope=col>air_time</th><th scope=col>distance</th><th scope=col>hour</th><th scope=col>minute</th><th scope=col>time_hour</th></tr>\n",
       "\t<tr><th scope=col>&lt;int&gt;</th><th scope=col>&lt;int&gt;</th><th scope=col>&lt;int&gt;</th><th scope=col>&lt;int&gt;</th><th scope=col>&lt;int&gt;</th><th scope=col>&lt;dbl&gt;</th><th scope=col>&lt;int&gt;</th><th scope=col>&lt;int&gt;</th><th scope=col>&lt;dbl&gt;</th><th scope=col>&lt;chr&gt;</th><th scope=col>&lt;int&gt;</th><th scope=col>&lt;chr&gt;</th><th scope=col>&lt;chr&gt;</th><th scope=col>&lt;chr&gt;</th><th scope=col>&lt;dbl&gt;</th><th scope=col>&lt;dbl&gt;</th><th scope=col>&lt;dbl&gt;</th><th scope=col>&lt;dbl&gt;</th><th scope=col>&lt;dttm&gt;</th></tr>\n",
       "</thead>\n",
       "<tbody>\n",
       "\t<tr><td>2013</td><td>1</td><td>1</td><td>2302</td><td>2200</td><td>62</td><td>2342</td><td>2253</td><td> 49</td><td>EV</td><td>4276</td><td>N13903</td><td>EWR</td><td>BDL</td><td>24</td><td>116</td><td>22</td><td> 0</td><td>2013-01-01 22:00:00</td></tr>\n",
       "\t<tr><td>2013</td><td>1</td><td>1</td><td>1318</td><td>1322</td><td>-4</td><td>1358</td><td>1416</td><td>-18</td><td>EV</td><td>4106</td><td>N19554</td><td>EWR</td><td>BDL</td><td>25</td><td>116</td><td>13</td><td>22</td><td>2013-01-01 13:00:00</td></tr>\n",
       "\t<tr><td>2013</td><td>1</td><td>1</td><td>2116</td><td>2110</td><td> 6</td><td>2202</td><td>2212</td><td>-10</td><td>EV</td><td>4404</td><td>N15912</td><td>EWR</td><td>PVD</td><td>28</td><td>160</td><td>21</td><td>10</td><td>2013-01-01 21:00:00</td></tr>\n",
       "\t<tr><td>2013</td><td>1</td><td>1</td><td>2000</td><td>2000</td><td> 0</td><td>2054</td><td>2110</td><td>-16</td><td>9E</td><td>3664</td><td>N836AY</td><td>JFK</td><td>PHL</td><td>30</td><td> 94</td><td>20</td><td> 0</td><td>2013-01-01 20:00:00</td></tr>\n",
       "\t<tr><td>2013</td><td>1</td><td>1</td><td>2056</td><td>2004</td><td>52</td><td>2156</td><td>2112</td><td> 44</td><td>EV</td><td>4170</td><td>N12540</td><td>EWR</td><td>ALB</td><td>31</td><td>143</td><td>20</td><td> 4</td><td>2013-01-01 20:00:00</td></tr>\n",
       "\t<tr><td>2013</td><td>1</td><td>1</td><td> 908</td><td> 915</td><td>-7</td><td>1004</td><td>1033</td><td>-29</td><td>US</td><td>1467</td><td>N959UW</td><td>LGA</td><td>PHL</td><td>32</td><td> 96</td><td> 9</td><td>15</td><td>2013-01-01 09:00:00</td></tr>\n",
       "</tbody>\n",
       "</table>\n"
      ],
      "text/latex": [
       "A tibble: 6 × 19\n",
       "\\begin{tabular}{lllllllllllllllllll}\n",
       " year & month & day & dep\\_time & sched\\_dep\\_time & dep\\_delay & arr\\_time & sched\\_arr\\_time & arr\\_delay & carrier & flight & tailnum & origin & dest & air\\_time & distance & hour & minute & time\\_hour\\\\\n",
       " <int> & <int> & <int> & <int> & <int> & <dbl> & <int> & <int> & <dbl> & <chr> & <int> & <chr> & <chr> & <chr> & <dbl> & <dbl> & <dbl> & <dbl> & <dttm>\\\\\n",
       "\\hline\n",
       "\t 2013 & 1 & 1 & 2302 & 2200 & 62 & 2342 & 2253 &  49 & EV & 4276 & N13903 & EWR & BDL & 24 & 116 & 22 &  0 & 2013-01-01 22:00:00\\\\\n",
       "\t 2013 & 1 & 1 & 1318 & 1322 & -4 & 1358 & 1416 & -18 & EV & 4106 & N19554 & EWR & BDL & 25 & 116 & 13 & 22 & 2013-01-01 13:00:00\\\\\n",
       "\t 2013 & 1 & 1 & 2116 & 2110 &  6 & 2202 & 2212 & -10 & EV & 4404 & N15912 & EWR & PVD & 28 & 160 & 21 & 10 & 2013-01-01 21:00:00\\\\\n",
       "\t 2013 & 1 & 1 & 2000 & 2000 &  0 & 2054 & 2110 & -16 & 9E & 3664 & N836AY & JFK & PHL & 30 &  94 & 20 &  0 & 2013-01-01 20:00:00\\\\\n",
       "\t 2013 & 1 & 1 & 2056 & 2004 & 52 & 2156 & 2112 &  44 & EV & 4170 & N12540 & EWR & ALB & 31 & 143 & 20 &  4 & 2013-01-01 20:00:00\\\\\n",
       "\t 2013 & 1 & 1 &  908 &  915 & -7 & 1004 & 1033 & -29 & US & 1467 & N959UW & LGA & PHL & 32 &  96 &  9 & 15 & 2013-01-01 09:00:00\\\\\n",
       "\\end{tabular}\n"
      ],
      "text/markdown": [
       "\n",
       "A tibble: 6 × 19\n",
       "\n",
       "| year &lt;int&gt; | month &lt;int&gt; | day &lt;int&gt; | dep_time &lt;int&gt; | sched_dep_time &lt;int&gt; | dep_delay &lt;dbl&gt; | arr_time &lt;int&gt; | sched_arr_time &lt;int&gt; | arr_delay &lt;dbl&gt; | carrier &lt;chr&gt; | flight &lt;int&gt; | tailnum &lt;chr&gt; | origin &lt;chr&gt; | dest &lt;chr&gt; | air_time &lt;dbl&gt; | distance &lt;dbl&gt; | hour &lt;dbl&gt; | minute &lt;dbl&gt; | time_hour &lt;dttm&gt; |\n",
       "|---|---|---|---|---|---|---|---|---|---|---|---|---|---|---|---|---|---|---|\n",
       "| 2013 | 1 | 1 | 2302 | 2200 | 62 | 2342 | 2253 |  49 | EV | 4276 | N13903 | EWR | BDL | 24 | 116 | 22 |  0 | 2013-01-01 22:00:00 |\n",
       "| 2013 | 1 | 1 | 1318 | 1322 | -4 | 1358 | 1416 | -18 | EV | 4106 | N19554 | EWR | BDL | 25 | 116 | 13 | 22 | 2013-01-01 13:00:00 |\n",
       "| 2013 | 1 | 1 | 2116 | 2110 |  6 | 2202 | 2212 | -10 | EV | 4404 | N15912 | EWR | PVD | 28 | 160 | 21 | 10 | 2013-01-01 21:00:00 |\n",
       "| 2013 | 1 | 1 | 2000 | 2000 |  0 | 2054 | 2110 | -16 | 9E | 3664 | N836AY | JFK | PHL | 30 |  94 | 20 |  0 | 2013-01-01 20:00:00 |\n",
       "| 2013 | 1 | 1 | 2056 | 2004 | 52 | 2156 | 2112 |  44 | EV | 4170 | N12540 | EWR | ALB | 31 | 143 | 20 |  4 | 2013-01-01 20:00:00 |\n",
       "| 2013 | 1 | 1 |  908 |  915 | -7 | 1004 | 1033 | -29 | US | 1467 | N959UW | LGA | PHL | 32 |  96 |  9 | 15 | 2013-01-01 09:00:00 |\n",
       "\n"
      ],
      "text/plain": [
       "  year month day dep_time sched_dep_time dep_delay arr_time sched_arr_time\n",
       "1 2013 1     1   2302     2200           62        2342     2253          \n",
       "2 2013 1     1   1318     1322           -4        1358     1416          \n",
       "3 2013 1     1   2116     2110            6        2202     2212          \n",
       "4 2013 1     1   2000     2000            0        2054     2110          \n",
       "5 2013 1     1   2056     2004           52        2156     2112          \n",
       "6 2013 1     1    908      915           -7        1004     1033          \n",
       "  arr_delay carrier flight tailnum origin dest air_time distance hour minute\n",
       "1  49       EV      4276   N13903  EWR    BDL  24       116      22    0    \n",
       "2 -18       EV      4106   N19554  EWR    BDL  25       116      13   22    \n",
       "3 -10       EV      4404   N15912  EWR    PVD  28       160      21   10    \n",
       "4 -16       9E      3664   N836AY  JFK    PHL  30        94      20    0    \n",
       "5  44       EV      4170   N12540  EWR    ALB  31       143      20    4    \n",
       "6 -29       US      1467   N959UW  LGA    PHL  32        96       9   15    \n",
       "  time_hour          \n",
       "1 2013-01-01 22:00:00\n",
       "2 2013-01-01 13:00:00\n",
       "3 2013-01-01 21:00:00\n",
       "4 2013-01-01 20:00:00\n",
       "5 2013-01-01 20:00:00\n",
       "6 2013-01-01 09:00:00"
      ]
     },
     "metadata": {},
     "output_type": "display_data"
    }
   ],
   "source": [
    "head(arrange(flights, year, month, day, air_time))"
   ]
  },
  {
   "cell_type": "code",
   "execution_count": 15,
   "metadata": {},
   "outputs": [
    {
     "data": {
      "text/html": [
       "<table class=\"dataframe\">\n",
       "<caption>A tibble: 6 × 19</caption>\n",
       "<thead>\n",
       "\t<tr><th scope=col>year</th><th scope=col>month</th><th scope=col>day</th><th scope=col>dep_time</th><th scope=col>sched_dep_time</th><th scope=col>dep_delay</th><th scope=col>arr_time</th><th scope=col>sched_arr_time</th><th scope=col>arr_delay</th><th scope=col>carrier</th><th scope=col>flight</th><th scope=col>tailnum</th><th scope=col>origin</th><th scope=col>dest</th><th scope=col>air_time</th><th scope=col>distance</th><th scope=col>hour</th><th scope=col>minute</th><th scope=col>time_hour</th></tr>\n",
       "\t<tr><th scope=col>&lt;int&gt;</th><th scope=col>&lt;int&gt;</th><th scope=col>&lt;int&gt;</th><th scope=col>&lt;int&gt;</th><th scope=col>&lt;int&gt;</th><th scope=col>&lt;dbl&gt;</th><th scope=col>&lt;int&gt;</th><th scope=col>&lt;int&gt;</th><th scope=col>&lt;dbl&gt;</th><th scope=col>&lt;chr&gt;</th><th scope=col>&lt;int&gt;</th><th scope=col>&lt;chr&gt;</th><th scope=col>&lt;chr&gt;</th><th scope=col>&lt;chr&gt;</th><th scope=col>&lt;dbl&gt;</th><th scope=col>&lt;dbl&gt;</th><th scope=col>&lt;dbl&gt;</th><th scope=col>&lt;dbl&gt;</th><th scope=col>&lt;dttm&gt;</th></tr>\n",
       "</thead>\n",
       "<tbody>\n",
       "\t<tr><td>2013</td><td>1</td><td> 9</td><td> 641</td><td> 900</td><td>1301</td><td>1242</td><td>1530</td><td>1272</td><td>HA</td><td>  51</td><td>N384HA</td><td>JFK</td><td>HNL</td><td>640</td><td>4983</td><td> 9</td><td> 0</td><td>2013-01-09 09:00:00</td></tr>\n",
       "\t<tr><td>2013</td><td>6</td><td>15</td><td>1432</td><td>1935</td><td>1137</td><td>1607</td><td>2120</td><td>1127</td><td>MQ</td><td>3535</td><td>N504MQ</td><td>JFK</td><td>CMH</td><td> 74</td><td> 483</td><td>19</td><td>35</td><td>2013-06-15 19:00:00</td></tr>\n",
       "\t<tr><td>2013</td><td>1</td><td>10</td><td>1121</td><td>1635</td><td>1126</td><td>1239</td><td>1810</td><td>1109</td><td>MQ</td><td>3695</td><td>N517MQ</td><td>EWR</td><td>ORD</td><td>111</td><td> 719</td><td>16</td><td>35</td><td>2013-01-10 16:00:00</td></tr>\n",
       "\t<tr><td>2013</td><td>9</td><td>20</td><td>1139</td><td>1845</td><td>1014</td><td>1457</td><td>2210</td><td>1007</td><td>AA</td><td> 177</td><td>N338AA</td><td>JFK</td><td>SFO</td><td>354</td><td>2586</td><td>18</td><td>45</td><td>2013-09-20 18:00:00</td></tr>\n",
       "\t<tr><td>2013</td><td>7</td><td>22</td><td> 845</td><td>1600</td><td>1005</td><td>1044</td><td>1815</td><td> 989</td><td>MQ</td><td>3075</td><td>N665MQ</td><td>JFK</td><td>CVG</td><td> 96</td><td> 589</td><td>16</td><td> 0</td><td>2013-07-22 16:00:00</td></tr>\n",
       "\t<tr><td>2013</td><td>4</td><td>10</td><td>1100</td><td>1900</td><td> 960</td><td>1342</td><td>2211</td><td> 931</td><td>DL</td><td>2391</td><td>N959DL</td><td>JFK</td><td>TPA</td><td>139</td><td>1005</td><td>19</td><td> 0</td><td>2013-04-10 19:00:00</td></tr>\n",
       "</tbody>\n",
       "</table>\n"
      ],
      "text/latex": [
       "A tibble: 6 × 19\n",
       "\\begin{tabular}{lllllllllllllllllll}\n",
       " year & month & day & dep\\_time & sched\\_dep\\_time & dep\\_delay & arr\\_time & sched\\_arr\\_time & arr\\_delay & carrier & flight & tailnum & origin & dest & air\\_time & distance & hour & minute & time\\_hour\\\\\n",
       " <int> & <int> & <int> & <int> & <int> & <dbl> & <int> & <int> & <dbl> & <chr> & <int> & <chr> & <chr> & <chr> & <dbl> & <dbl> & <dbl> & <dbl> & <dttm>\\\\\n",
       "\\hline\n",
       "\t 2013 & 1 &  9 &  641 &  900 & 1301 & 1242 & 1530 & 1272 & HA &   51 & N384HA & JFK & HNL & 640 & 4983 &  9 &  0 & 2013-01-09 09:00:00\\\\\n",
       "\t 2013 & 6 & 15 & 1432 & 1935 & 1137 & 1607 & 2120 & 1127 & MQ & 3535 & N504MQ & JFK & CMH &  74 &  483 & 19 & 35 & 2013-06-15 19:00:00\\\\\n",
       "\t 2013 & 1 & 10 & 1121 & 1635 & 1126 & 1239 & 1810 & 1109 & MQ & 3695 & N517MQ & EWR & ORD & 111 &  719 & 16 & 35 & 2013-01-10 16:00:00\\\\\n",
       "\t 2013 & 9 & 20 & 1139 & 1845 & 1014 & 1457 & 2210 & 1007 & AA &  177 & N338AA & JFK & SFO & 354 & 2586 & 18 & 45 & 2013-09-20 18:00:00\\\\\n",
       "\t 2013 & 7 & 22 &  845 & 1600 & 1005 & 1044 & 1815 &  989 & MQ & 3075 & N665MQ & JFK & CVG &  96 &  589 & 16 &  0 & 2013-07-22 16:00:00\\\\\n",
       "\t 2013 & 4 & 10 & 1100 & 1900 &  960 & 1342 & 2211 &  931 & DL & 2391 & N959DL & JFK & TPA & 139 & 1005 & 19 &  0 & 2013-04-10 19:00:00\\\\\n",
       "\\end{tabular}\n"
      ],
      "text/markdown": [
       "\n",
       "A tibble: 6 × 19\n",
       "\n",
       "| year &lt;int&gt; | month &lt;int&gt; | day &lt;int&gt; | dep_time &lt;int&gt; | sched_dep_time &lt;int&gt; | dep_delay &lt;dbl&gt; | arr_time &lt;int&gt; | sched_arr_time &lt;int&gt; | arr_delay &lt;dbl&gt; | carrier &lt;chr&gt; | flight &lt;int&gt; | tailnum &lt;chr&gt; | origin &lt;chr&gt; | dest &lt;chr&gt; | air_time &lt;dbl&gt; | distance &lt;dbl&gt; | hour &lt;dbl&gt; | minute &lt;dbl&gt; | time_hour &lt;dttm&gt; |\n",
       "|---|---|---|---|---|---|---|---|---|---|---|---|---|---|---|---|---|---|---|\n",
       "| 2013 | 1 |  9 |  641 |  900 | 1301 | 1242 | 1530 | 1272 | HA |   51 | N384HA | JFK | HNL | 640 | 4983 |  9 |  0 | 2013-01-09 09:00:00 |\n",
       "| 2013 | 6 | 15 | 1432 | 1935 | 1137 | 1607 | 2120 | 1127 | MQ | 3535 | N504MQ | JFK | CMH |  74 |  483 | 19 | 35 | 2013-06-15 19:00:00 |\n",
       "| 2013 | 1 | 10 | 1121 | 1635 | 1126 | 1239 | 1810 | 1109 | MQ | 3695 | N517MQ | EWR | ORD | 111 |  719 | 16 | 35 | 2013-01-10 16:00:00 |\n",
       "| 2013 | 9 | 20 | 1139 | 1845 | 1014 | 1457 | 2210 | 1007 | AA |  177 | N338AA | JFK | SFO | 354 | 2586 | 18 | 45 | 2013-09-20 18:00:00 |\n",
       "| 2013 | 7 | 22 |  845 | 1600 | 1005 | 1044 | 1815 |  989 | MQ | 3075 | N665MQ | JFK | CVG |  96 |  589 | 16 |  0 | 2013-07-22 16:00:00 |\n",
       "| 2013 | 4 | 10 | 1100 | 1900 |  960 | 1342 | 2211 |  931 | DL | 2391 | N959DL | JFK | TPA | 139 | 1005 | 19 |  0 | 2013-04-10 19:00:00 |\n",
       "\n"
      ],
      "text/plain": [
       "  year month day dep_time sched_dep_time dep_delay arr_time sched_arr_time\n",
       "1 2013 1      9   641      900           1301      1242     1530          \n",
       "2 2013 6     15  1432     1935           1137      1607     2120          \n",
       "3 2013 1     10  1121     1635           1126      1239     1810          \n",
       "4 2013 9     20  1139     1845           1014      1457     2210          \n",
       "5 2013 7     22   845     1600           1005      1044     1815          \n",
       "6 2013 4     10  1100     1900            960      1342     2211          \n",
       "  arr_delay carrier flight tailnum origin dest air_time distance hour minute\n",
       "1 1272      HA        51   N384HA  JFK    HNL  640      4983      9    0    \n",
       "2 1127      MQ      3535   N504MQ  JFK    CMH   74       483     19   35    \n",
       "3 1109      MQ      3695   N517MQ  EWR    ORD  111       719     16   35    \n",
       "4 1007      AA       177   N338AA  JFK    SFO  354      2586     18   45    \n",
       "5  989      MQ      3075   N665MQ  JFK    CVG   96       589     16    0    \n",
       "6  931      DL      2391   N959DL  JFK    TPA  139      1005     19    0    \n",
       "  time_hour          \n",
       "1 2013-01-09 09:00:00\n",
       "2 2013-06-15 19:00:00\n",
       "3 2013-01-10 16:00:00\n",
       "4 2013-09-20 18:00:00\n",
       "5 2013-07-22 16:00:00\n",
       "6 2013-04-10 19:00:00"
      ]
     },
     "metadata": {},
     "output_type": "display_data"
    }
   ],
   "source": [
    "head(arrange(flights, desc(dep_delay)))"
   ]
  },
  {
   "cell_type": "code",
   "execution_count": 19,
   "metadata": {},
   "outputs": [
    {
     "name": "stdout",
     "output_type": "stream",
     "text": [
      "\u001b[90m# A tibble: 6 x 1\u001b[39m\n",
      "  carrier\n",
      "  \u001b[3m\u001b[90m<chr>\u001b[39m\u001b[23m  \n",
      "\u001b[90m1\u001b[39m UA     \n",
      "\u001b[90m2\u001b[39m UA     \n",
      "\u001b[90m3\u001b[39m AA     \n",
      "\u001b[90m4\u001b[39m B6     \n",
      "\u001b[90m5\u001b[39m DL     \n",
      "\u001b[90m6\u001b[39m UA     \n"
     ]
    }
   ],
   "source": [
    "print(head(select(flights, carrier)))"
   ]
  },
  {
   "cell_type": "code",
   "execution_count": 20,
   "metadata": {},
   "outputs": [
    {
     "name": "stdout",
     "output_type": "stream",
     "text": [
      "\u001b[90m# A tibble: 336,776 x 19\u001b[39m\n",
      "    year month   day dep_time sched_dep_time dep_delay arr_time sched_arr_time\n",
      "   \u001b[3m\u001b[90m<int>\u001b[39m\u001b[23m \u001b[3m\u001b[90m<int>\u001b[39m\u001b[23m \u001b[3m\u001b[90m<int>\u001b[39m\u001b[23m    \u001b[3m\u001b[90m<int>\u001b[39m\u001b[23m          \u001b[3m\u001b[90m<int>\u001b[39m\u001b[23m     \u001b[3m\u001b[90m<dbl>\u001b[39m\u001b[23m    \u001b[3m\u001b[90m<int>\u001b[39m\u001b[23m          \u001b[3m\u001b[90m<int>\u001b[39m\u001b[23m\n",
      "\u001b[90m 1\u001b[39m  \u001b[4m2\u001b[24m013     1     1      517            515         2      830            819\n",
      "\u001b[90m 2\u001b[39m  \u001b[4m2\u001b[24m013     1     1      533            529         4      850            830\n",
      "\u001b[90m 3\u001b[39m  \u001b[4m2\u001b[24m013     1     1      542            540         2      923            850\n",
      "\u001b[90m 4\u001b[39m  \u001b[4m2\u001b[24m013     1     1      544            545        -\u001b[31m1\u001b[39m     \u001b[4m1\u001b[24m004           \u001b[4m1\u001b[24m022\n",
      "\u001b[90m 5\u001b[39m  \u001b[4m2\u001b[24m013     1     1      554            600        -\u001b[31m6\u001b[39m      812            837\n",
      "\u001b[90m 6\u001b[39m  \u001b[4m2\u001b[24m013     1     1      554            558        -\u001b[31m4\u001b[39m      740            728\n",
      "\u001b[90m 7\u001b[39m  \u001b[4m2\u001b[24m013     1     1      555            600        -\u001b[31m5\u001b[39m      913            854\n",
      "\u001b[90m 8\u001b[39m  \u001b[4m2\u001b[24m013     1     1      557            600        -\u001b[31m3\u001b[39m      709            723\n",
      "\u001b[90m 9\u001b[39m  \u001b[4m2\u001b[24m013     1     1      557            600        -\u001b[31m3\u001b[39m      838            846\n",
      "\u001b[90m10\u001b[39m  \u001b[4m2\u001b[24m013     1     1      558            600        -\u001b[31m2\u001b[39m      753            745\n",
      "\u001b[90m# ... with 336,766 more rows, and 11 more variables: arr_delay <dbl>,\u001b[39m\n",
      "\u001b[90m#   airline_car <chr>, flight <int>, tailnum <chr>, origin <chr>, dest <chr>,\u001b[39m\n",
      "\u001b[90m#   air_time <dbl>, distance <dbl>, hour <dbl>, minute <dbl>, time_hour <dttm>\u001b[39m\n"
     ]
    }
   ],
   "source": [
    "print(rename(flights, airline_car = carrier))"
   ]
  },
  {
   "cell_type": "code",
   "execution_count": 22,
   "metadata": {},
   "outputs": [
    {
     "name": "stdout",
     "output_type": "stream",
     "text": [
      "\u001b[90m# A tibble: 16 x 1\u001b[39m\n",
      "   carrier\n",
      "   \u001b[3m\u001b[90m<chr>\u001b[39m\u001b[23m  \n",
      "\u001b[90m 1\u001b[39m UA     \n",
      "\u001b[90m 2\u001b[39m AA     \n",
      "\u001b[90m 3\u001b[39m B6     \n",
      "\u001b[90m 4\u001b[39m DL     \n",
      "\u001b[90m 5\u001b[39m EV     \n",
      "\u001b[90m 6\u001b[39m MQ     \n",
      "\u001b[90m 7\u001b[39m US     \n",
      "\u001b[90m 8\u001b[39m WN     \n",
      "\u001b[90m 9\u001b[39m VX     \n",
      "\u001b[90m10\u001b[39m FL     \n",
      "\u001b[90m11\u001b[39m AS     \n",
      "\u001b[90m12\u001b[39m 9E     \n",
      "\u001b[90m13\u001b[39m F9     \n",
      "\u001b[90m14\u001b[39m HA     \n",
      "\u001b[90m15\u001b[39m YV     \n",
      "\u001b[90m16\u001b[39m OO     \n"
     ]
    }
   ],
   "source": [
    "print(distinct(select(flights, carrier)))"
   ]
  },
  {
   "cell_type": "code",
   "execution_count": 23,
   "metadata": {},
   "outputs": [
    {
     "name": "stdout",
     "output_type": "stream",
     "text": [
      "\u001b[90m# A tibble: 6 x 20\u001b[39m\n",
      "   year month   day dep_time sched_dep_time dep_delay arr_time sched_arr_time\n",
      "  \u001b[3m\u001b[90m<int>\u001b[39m\u001b[23m \u001b[3m\u001b[90m<int>\u001b[39m\u001b[23m \u001b[3m\u001b[90m<int>\u001b[39m\u001b[23m    \u001b[3m\u001b[90m<int>\u001b[39m\u001b[23m          \u001b[3m\u001b[90m<int>\u001b[39m\u001b[23m     \u001b[3m\u001b[90m<dbl>\u001b[39m\u001b[23m    \u001b[3m\u001b[90m<int>\u001b[39m\u001b[23m          \u001b[3m\u001b[90m<int>\u001b[39m\u001b[23m\n",
      "\u001b[90m1\u001b[39m  \u001b[4m2\u001b[24m013     1     1      517            515         2      830            819\n",
      "\u001b[90m2\u001b[39m  \u001b[4m2\u001b[24m013     1     1      533            529         4      850            830\n",
      "\u001b[90m3\u001b[39m  \u001b[4m2\u001b[24m013     1     1      542            540         2      923            850\n",
      "\u001b[90m4\u001b[39m  \u001b[4m2\u001b[24m013     1     1      544            545        -\u001b[31m1\u001b[39m     \u001b[4m1\u001b[24m004           \u001b[4m1\u001b[24m022\n",
      "\u001b[90m5\u001b[39m  \u001b[4m2\u001b[24m013     1     1      554            600        -\u001b[31m6\u001b[39m      812            837\n",
      "\u001b[90m6\u001b[39m  \u001b[4m2\u001b[24m013     1     1      554            558        -\u001b[31m4\u001b[39m      740            728\n",
      "\u001b[90m# ... with 12 more variables: arr_delay <dbl>, carrier <chr>, flight <int>,\u001b[39m\n",
      "\u001b[90m#   tailnum <chr>, origin <chr>, dest <chr>, air_time <dbl>, distance <dbl>,\u001b[39m\n",
      "\u001b[90m#   hour <dbl>, minute <dbl>, time_hour <dttm>, new_col <dbl>\u001b[39m\n"
     ]
    }
   ],
   "source": [
    "print(head(mutate(flights, new_col = arr_delay - dep_delay)))"
   ]
  },
  {
   "cell_type": "code",
   "execution_count": 26,
   "metadata": {},
   "outputs": [
    {
     "name": "stdout",
     "output_type": "stream",
     "text": [
      "\u001b[90m# A tibble: 6 x 1\u001b[39m\n",
      "  new_col\n",
      "    \u001b[3m\u001b[90m<dbl>\u001b[39m\u001b[23m\n",
      "\u001b[90m1\u001b[39m       9\n",
      "\u001b[90m2\u001b[39m      16\n",
      "\u001b[90m3\u001b[39m      31\n",
      "\u001b[90m4\u001b[39m     -\u001b[31m17\u001b[39m\n",
      "\u001b[90m5\u001b[39m     -\u001b[31m19\u001b[39m\n",
      "\u001b[90m6\u001b[39m      16\n"
     ]
    }
   ],
   "source": [
    "print(head(transmute(flights, new_col = arr_delay - dep_delay)))"
   ]
  },
  {
   "cell_type": "code",
   "execution_count": 28,
   "metadata": {},
   "outputs": [
    {
     "name": "stdout",
     "output_type": "stream",
     "text": [
      "\u001b[90m# A tibble: 1 x 1\u001b[39m\n",
      "  avg_air_time\n",
      "         \u001b[3m\u001b[90m<dbl>\u001b[39m\u001b[23m\n",
      "\u001b[90m1\u001b[39m         151.\n"
     ]
    }
   ],
   "source": [
    "print(summarise(flights, avg_air_time=mean(air_time, na.rm=TRUE)))"
   ]
  },
  {
   "cell_type": "code",
   "execution_count": 29,
   "metadata": {},
   "outputs": [
    {
     "data": {
      "text/html": [
       "<table class=\"dataframe\">\n",
       "<caption>A tibble: 10 × 19</caption>\n",
       "<thead>\n",
       "\t<tr><th scope=col>year</th><th scope=col>month</th><th scope=col>day</th><th scope=col>dep_time</th><th scope=col>sched_dep_time</th><th scope=col>dep_delay</th><th scope=col>arr_time</th><th scope=col>sched_arr_time</th><th scope=col>arr_delay</th><th scope=col>carrier</th><th scope=col>flight</th><th scope=col>tailnum</th><th scope=col>origin</th><th scope=col>dest</th><th scope=col>air_time</th><th scope=col>distance</th><th scope=col>hour</th><th scope=col>minute</th><th scope=col>time_hour</th></tr>\n",
       "\t<tr><th scope=col>&lt;int&gt;</th><th scope=col>&lt;int&gt;</th><th scope=col>&lt;int&gt;</th><th scope=col>&lt;int&gt;</th><th scope=col>&lt;int&gt;</th><th scope=col>&lt;dbl&gt;</th><th scope=col>&lt;int&gt;</th><th scope=col>&lt;int&gt;</th><th scope=col>&lt;dbl&gt;</th><th scope=col>&lt;chr&gt;</th><th scope=col>&lt;int&gt;</th><th scope=col>&lt;chr&gt;</th><th scope=col>&lt;chr&gt;</th><th scope=col>&lt;chr&gt;</th><th scope=col>&lt;dbl&gt;</th><th scope=col>&lt;dbl&gt;</th><th scope=col>&lt;dbl&gt;</th><th scope=col>&lt;dbl&gt;</th><th scope=col>&lt;dttm&gt;</th></tr>\n",
       "</thead>\n",
       "<tbody>\n",
       "\t<tr><td>2013</td><td> 8</td><td> 1</td><td>2024</td><td>1822</td><td>122</td><td>2344</td><td>2155</td><td>109</td><td>UA</td><td>1141</td><td>N27421</td><td>EWR</td><td>SFO</td><td>355</td><td>2565</td><td>18</td><td>22</td><td>2013-08-01 18:00:00</td></tr>\n",
       "\t<tr><td>2013</td><td> 7</td><td>30</td><td> 755</td><td> 755</td><td>  0</td><td> 939</td><td> 915</td><td> 24</td><td>MQ</td><td>3709</td><td>N546MQ</td><td>EWR</td><td>ORD</td><td>110</td><td> 719</td><td> 7</td><td>55</td><td>2013-07-30 07:00:00</td></tr>\n",
       "\t<tr><td>2013</td><td>10</td><td>12</td><td> 950</td><td>1000</td><td>-10</td><td>1053</td><td>1115</td><td>-22</td><td>US</td><td>2142</td><td>N961UW</td><td>LGA</td><td>BOS</td><td> 36</td><td> 184</td><td>10</td><td> 0</td><td>2013-10-12 10:00:00</td></tr>\n",
       "\t<tr><td>2013</td><td> 5</td><td>28</td><td>1500</td><td>1455</td><td>  5</td><td>1653</td><td>1649</td><td>  4</td><td>EV</td><td>4326</td><td>N12563</td><td>EWR</td><td>CLT</td><td> 81</td><td> 529</td><td>14</td><td>55</td><td>2013-05-28 14:00:00</td></tr>\n",
       "\t<tr><td>2013</td><td>10</td><td> 2</td><td>1932</td><td>1942</td><td>-10</td><td>2254</td><td>2250</td><td>  4</td><td>B6</td><td>1271</td><td>N561JB</td><td>LGA</td><td>FLL</td><td>141</td><td>1076</td><td>19</td><td>42</td><td>2013-10-02 19:00:00</td></tr>\n",
       "\t<tr><td>2013</td><td> 1</td><td>12</td><td> 711</td><td> 715</td><td> -4</td><td>1017</td><td>1045</td><td>-28</td><td>AA</td><td> 443</td><td>N5CAAA</td><td>JFK</td><td>MIA</td><td>151</td><td>1089</td><td> 7</td><td>15</td><td>2013-01-12 07:00:00</td></tr>\n",
       "\t<tr><td>2013</td><td> 9</td><td> 9</td><td>1447</td><td>1449</td><td> -2</td><td>1721</td><td>1750</td><td>-29</td><td>UA</td><td> 501</td><td>N410UA</td><td>LGA</td><td>IAH</td><td>183</td><td>1416</td><td>14</td><td>49</td><td>2013-09-09 14:00:00</td></tr>\n",
       "\t<tr><td>2013</td><td> 1</td><td>21</td><td>1104</td><td> 829</td><td>155</td><td>1236</td><td>1012</td><td>144</td><td>EV</td><td>3815</td><td>N11187</td><td>EWR</td><td>GSO</td><td> 75</td><td> 445</td><td> 8</td><td>29</td><td>2013-01-21 08:00:00</td></tr>\n",
       "\t<tr><td>2013</td><td> 2</td><td>22</td><td>1236</td><td>1245</td><td> -9</td><td>1337</td><td>1350</td><td>-13</td><td>AA</td><td>1850</td><td>N3CHAA</td><td>JFK</td><td>BOS</td><td> 33</td><td> 187</td><td>12</td><td>45</td><td>2013-02-22 12:00:00</td></tr>\n",
       "\t<tr><td>2013</td><td>11</td><td>20</td><td>1957</td><td>2005</td><td> -8</td><td>2111</td><td>2130</td><td>-19</td><td>EV</td><td>4224</td><td>N17984</td><td>EWR</td><td>MKE</td><td>109</td><td> 725</td><td>20</td><td> 5</td><td>2013-11-20 20:00:00</td></tr>\n",
       "</tbody>\n",
       "</table>\n"
      ],
      "text/latex": [
       "A tibble: 10 × 19\n",
       "\\begin{tabular}{lllllllllllllllllll}\n",
       " year & month & day & dep\\_time & sched\\_dep\\_time & dep\\_delay & arr\\_time & sched\\_arr\\_time & arr\\_delay & carrier & flight & tailnum & origin & dest & air\\_time & distance & hour & minute & time\\_hour\\\\\n",
       " <int> & <int> & <int> & <int> & <int> & <dbl> & <int> & <int> & <dbl> & <chr> & <int> & <chr> & <chr> & <chr> & <dbl> & <dbl> & <dbl> & <dbl> & <dttm>\\\\\n",
       "\\hline\n",
       "\t 2013 &  8 &  1 & 2024 & 1822 & 122 & 2344 & 2155 & 109 & UA & 1141 & N27421 & EWR & SFO & 355 & 2565 & 18 & 22 & 2013-08-01 18:00:00\\\\\n",
       "\t 2013 &  7 & 30 &  755 &  755 &   0 &  939 &  915 &  24 & MQ & 3709 & N546MQ & EWR & ORD & 110 &  719 &  7 & 55 & 2013-07-30 07:00:00\\\\\n",
       "\t 2013 & 10 & 12 &  950 & 1000 & -10 & 1053 & 1115 & -22 & US & 2142 & N961UW & LGA & BOS &  36 &  184 & 10 &  0 & 2013-10-12 10:00:00\\\\\n",
       "\t 2013 &  5 & 28 & 1500 & 1455 &   5 & 1653 & 1649 &   4 & EV & 4326 & N12563 & EWR & CLT &  81 &  529 & 14 & 55 & 2013-05-28 14:00:00\\\\\n",
       "\t 2013 & 10 &  2 & 1932 & 1942 & -10 & 2254 & 2250 &   4 & B6 & 1271 & N561JB & LGA & FLL & 141 & 1076 & 19 & 42 & 2013-10-02 19:00:00\\\\\n",
       "\t 2013 &  1 & 12 &  711 &  715 &  -4 & 1017 & 1045 & -28 & AA &  443 & N5CAAA & JFK & MIA & 151 & 1089 &  7 & 15 & 2013-01-12 07:00:00\\\\\n",
       "\t 2013 &  9 &  9 & 1447 & 1449 &  -2 & 1721 & 1750 & -29 & UA &  501 & N410UA & LGA & IAH & 183 & 1416 & 14 & 49 & 2013-09-09 14:00:00\\\\\n",
       "\t 2013 &  1 & 21 & 1104 &  829 & 155 & 1236 & 1012 & 144 & EV & 3815 & N11187 & EWR & GSO &  75 &  445 &  8 & 29 & 2013-01-21 08:00:00\\\\\n",
       "\t 2013 &  2 & 22 & 1236 & 1245 &  -9 & 1337 & 1350 & -13 & AA & 1850 & N3CHAA & JFK & BOS &  33 &  187 & 12 & 45 & 2013-02-22 12:00:00\\\\\n",
       "\t 2013 & 11 & 20 & 1957 & 2005 &  -8 & 2111 & 2130 & -19 & EV & 4224 & N17984 & EWR & MKE & 109 &  725 & 20 &  5 & 2013-11-20 20:00:00\\\\\n",
       "\\end{tabular}\n"
      ],
      "text/markdown": [
       "\n",
       "A tibble: 10 × 19\n",
       "\n",
       "| year &lt;int&gt; | month &lt;int&gt; | day &lt;int&gt; | dep_time &lt;int&gt; | sched_dep_time &lt;int&gt; | dep_delay &lt;dbl&gt; | arr_time &lt;int&gt; | sched_arr_time &lt;int&gt; | arr_delay &lt;dbl&gt; | carrier &lt;chr&gt; | flight &lt;int&gt; | tailnum &lt;chr&gt; | origin &lt;chr&gt; | dest &lt;chr&gt; | air_time &lt;dbl&gt; | distance &lt;dbl&gt; | hour &lt;dbl&gt; | minute &lt;dbl&gt; | time_hour &lt;dttm&gt; |\n",
       "|---|---|---|---|---|---|---|---|---|---|---|---|---|---|---|---|---|---|---|\n",
       "| 2013 |  8 |  1 | 2024 | 1822 | 122 | 2344 | 2155 | 109 | UA | 1141 | N27421 | EWR | SFO | 355 | 2565 | 18 | 22 | 2013-08-01 18:00:00 |\n",
       "| 2013 |  7 | 30 |  755 |  755 |   0 |  939 |  915 |  24 | MQ | 3709 | N546MQ | EWR | ORD | 110 |  719 |  7 | 55 | 2013-07-30 07:00:00 |\n",
       "| 2013 | 10 | 12 |  950 | 1000 | -10 | 1053 | 1115 | -22 | US | 2142 | N961UW | LGA | BOS |  36 |  184 | 10 |  0 | 2013-10-12 10:00:00 |\n",
       "| 2013 |  5 | 28 | 1500 | 1455 |   5 | 1653 | 1649 |   4 | EV | 4326 | N12563 | EWR | CLT |  81 |  529 | 14 | 55 | 2013-05-28 14:00:00 |\n",
       "| 2013 | 10 |  2 | 1932 | 1942 | -10 | 2254 | 2250 |   4 | B6 | 1271 | N561JB | LGA | FLL | 141 | 1076 | 19 | 42 | 2013-10-02 19:00:00 |\n",
       "| 2013 |  1 | 12 |  711 |  715 |  -4 | 1017 | 1045 | -28 | AA |  443 | N5CAAA | JFK | MIA | 151 | 1089 |  7 | 15 | 2013-01-12 07:00:00 |\n",
       "| 2013 |  9 |  9 | 1447 | 1449 |  -2 | 1721 | 1750 | -29 | UA |  501 | N410UA | LGA | IAH | 183 | 1416 | 14 | 49 | 2013-09-09 14:00:00 |\n",
       "| 2013 |  1 | 21 | 1104 |  829 | 155 | 1236 | 1012 | 144 | EV | 3815 | N11187 | EWR | GSO |  75 |  445 |  8 | 29 | 2013-01-21 08:00:00 |\n",
       "| 2013 |  2 | 22 | 1236 | 1245 |  -9 | 1337 | 1350 | -13 | AA | 1850 | N3CHAA | JFK | BOS |  33 |  187 | 12 | 45 | 2013-02-22 12:00:00 |\n",
       "| 2013 | 11 | 20 | 1957 | 2005 |  -8 | 2111 | 2130 | -19 | EV | 4224 | N17984 | EWR | MKE | 109 |  725 | 20 |  5 | 2013-11-20 20:00:00 |\n",
       "\n"
      ],
      "text/plain": [
       "   year month day dep_time sched_dep_time dep_delay arr_time sched_arr_time\n",
       "1  2013  8     1  2024     1822           122       2344     2155          \n",
       "2  2013  7    30   755      755             0        939      915          \n",
       "3  2013 10    12   950     1000           -10       1053     1115          \n",
       "4  2013  5    28  1500     1455             5       1653     1649          \n",
       "5  2013 10     2  1932     1942           -10       2254     2250          \n",
       "6  2013  1    12   711      715            -4       1017     1045          \n",
       "7  2013  9     9  1447     1449            -2       1721     1750          \n",
       "8  2013  1    21  1104      829           155       1236     1012          \n",
       "9  2013  2    22  1236     1245            -9       1337     1350          \n",
       "10 2013 11    20  1957     2005            -8       2111     2130          \n",
       "   arr_delay carrier flight tailnum origin dest air_time distance hour minute\n",
       "1  109       UA      1141   N27421  EWR    SFO  355      2565     18   22    \n",
       "2   24       MQ      3709   N546MQ  EWR    ORD  110       719      7   55    \n",
       "3  -22       US      2142   N961UW  LGA    BOS   36       184     10    0    \n",
       "4    4       EV      4326   N12563  EWR    CLT   81       529     14   55    \n",
       "5    4       B6      1271   N561JB  LGA    FLL  141      1076     19   42    \n",
       "6  -28       AA       443   N5CAAA  JFK    MIA  151      1089      7   15    \n",
       "7  -29       UA       501   N410UA  LGA    IAH  183      1416     14   49    \n",
       "8  144       EV      3815   N11187  EWR    GSO   75       445      8   29    \n",
       "9  -13       AA      1850   N3CHAA  JFK    BOS   33       187     12   45    \n",
       "10 -19       EV      4224   N17984  EWR    MKE  109       725     20    5    \n",
       "   time_hour          \n",
       "1  2013-08-01 18:00:00\n",
       "2  2013-07-30 07:00:00\n",
       "3  2013-10-12 10:00:00\n",
       "4  2013-05-28 14:00:00\n",
       "5  2013-10-02 19:00:00\n",
       "6  2013-01-12 07:00:00\n",
       "7  2013-09-09 14:00:00\n",
       "8  2013-01-21 08:00:00\n",
       "9  2013-02-22 12:00:00\n",
       "10 2013-11-20 20:00:00"
      ]
     },
     "metadata": {},
     "output_type": "display_data"
    }
   ],
   "source": [
    "sample_n(flights, 10)"
   ]
  },
  {
   "cell_type": "code",
   "execution_count": 33,
   "metadata": {},
   "outputs": [
    {
     "name": "stdout",
     "output_type": "stream",
     "text": [
      "\u001b[90m# A tibble: 2 x 19\u001b[39m\n",
      "   year month   day dep_time sched_dep_time dep_delay arr_time sched_arr_time\n",
      "  \u001b[3m\u001b[90m<int>\u001b[39m\u001b[23m \u001b[3m\u001b[90m<int>\u001b[39m\u001b[23m \u001b[3m\u001b[90m<int>\u001b[39m\u001b[23m    \u001b[3m\u001b[90m<int>\u001b[39m\u001b[23m          \u001b[3m\u001b[90m<int>\u001b[39m\u001b[23m     \u001b[3m\u001b[90m<dbl>\u001b[39m\u001b[23m    \u001b[3m\u001b[90m<int>\u001b[39m\u001b[23m          \u001b[3m\u001b[90m<int>\u001b[39m\u001b[23m\n",
      "\u001b[90m1\u001b[39m  \u001b[4m2\u001b[24m013     5    30     \u001b[4m1\u001b[24m744           \u001b[4m1\u001b[24m730        14     \u001b[4m2\u001b[24m044           \u001b[4m2\u001b[24m039\n",
      "\u001b[90m2\u001b[39m  \u001b[4m2\u001b[24m013    10    29     \u001b[4m2\u001b[24m000           \u001b[4m2\u001b[24m003        -\u001b[31m3\u001b[39m     \u001b[4m2\u001b[24m257           \u001b[4m2\u001b[24m237\n",
      "\u001b[90m# ... with 11 more variables: arr_delay <dbl>, carrier <chr>, flight <int>,\u001b[39m\n",
      "\u001b[90m#   tailnum <chr>, origin <chr>, dest <chr>, air_time <dbl>, distance <dbl>,\u001b[39m\n",
      "\u001b[90m#   hour <dbl>, minute <dbl>, time_hour <dttm>\u001b[39m\n"
     ]
    }
   ],
   "source": [
    "print(sample_frac(flights, 0.000005, replace = TRUE))"
   ]
  },
  {
   "cell_type": "code",
   "execution_count": 35,
   "metadata": {},
   "outputs": [
    {
     "name": "stdout",
     "output_type": "stream",
     "text": [
      "R Help on 'dplyr'\n",
      "\n",
      "dplyr-package              package:dplyr               R Documentation\n",
      "\n",
      "_\bd_\bp_\bl_\by_\br: _\bA _\bG_\br_\ba_\bm_\bm_\ba_\br _\bo_\bf _\bD_\ba_\bt_\ba _\bM_\ba_\bn_\bi_\bp_\bu_\bl_\ba_\bt_\bi_\bo_\bn\n",
      "\n",
      "_\bD_\be_\bs_\bc_\br_\bi_\bp_\bt_\bi_\bo_\bn:\n",
      "\n",
      "     To learn more about dplyr, start with the vignettes:\n",
      "     'browseVignettes(package = \"dplyr\")'\n",
      "\n",
      "_\bA_\bu_\bt_\bh_\bo_\br(_\bs):\n",
      "\n",
      "     *Maintainer*: Hadley Wickham <email: hadley@rstudio.com> (ORCID)\n",
      "\n",
      "     Authors:\n",
      "\n",
      "        * Romain Fran<c3><a7>ois (ORCID)\n",
      "\n",
      "        * Lionel Henry\n",
      "\n",
      "        * Kirill M<c3><bc>ller (ORCID)\n",
      "\n",
      "     Other contributors:\n",
      "\n",
      "        * RStudio [copyright holder, funder]\n",
      "\n",
      "_\bS_\be_\be _\bA_\bl_\bs_\bo:\n",
      "\n",
      "     Useful links:\n",
      "\n",
      "        * <URL: https://dplyr.tidyverse.org>\n",
      "\n",
      "        * <URL: https://github.com/tidyverse/dplyr>\n",
      "\n",
      "        * Report bugs at <URL:\n",
      "          https://github.com/tidyverse/dplyr/issues>\n"
     ]
    }
   ],
   "source": [
    "print(help(dplyr))"
   ]
  },
  {
   "cell_type": "code",
   "execution_count": null,
   "metadata": {},
   "outputs": [],
   "source": []
  },
  {
   "cell_type": "markdown",
   "metadata": {},
   "source": [
    "USING TIDYR"
   ]
  },
  {
   "cell_type": "code",
   "execution_count": 36,
   "metadata": {},
   "outputs": [],
   "source": [
    "library(tidyr)"
   ]
  },
  {
   "cell_type": "code",
   "execution_count": 38,
   "metadata": {},
   "outputs": [
    {
     "name": "stderr",
     "output_type": "stream",
     "text": [
      "\n",
      "Attaching package: 'data.table'\n",
      "\n",
      "\n",
      "The following objects are masked from 'package:dplyr':\n",
      "\n",
      "    between, first, last\n",
      "\n",
      "\n"
     ]
    }
   ],
   "source": [
    "library(data.table)"
   ]
  },
  {
   "cell_type": "code",
   "execution_count": 39,
   "metadata": {},
   "outputs": [],
   "source": [
    "comp <- c(1,1,1,2,2,2,3,3,3)\n",
    "yr <- c(1998, 1999, 2000, 1998, 1999, 2000, 1998, 1999, 2000)\n",
    "q1 <- runif(9, min = 0, max = 100)\n",
    "q2 <- runif(9, min = 0, max = 100)\n",
    "q3 <- runif(9, min = 0, max = 100)\n",
    "q4 <- runif(9, min = 0, max = 100)\n",
    "\n",
    "df <- data.frame(comp = comp, year = yr, Qtr1 = q1, Qtr2 = q2, Qtr3 = q3, Qtr4 = q4)"
   ]
  },
  {
   "cell_type": "code",
   "execution_count": 41,
   "metadata": {},
   "outputs": [
    {
     "name": "stdout",
     "output_type": "stream",
     "text": [
      "  comp year      Qtr1     Qtr2      Qtr3     Qtr4\n",
      "1    1 1998 53.464824 30.32930 42.594743 36.31471\n",
      "2    1 1999 92.602616 88.87818  1.426324 23.25657\n",
      "3    1 2000 69.918653 67.32618 77.589180 38.55171\n",
      "4    2 1998 12.885871 14.46680 90.764768 84.48418\n",
      "5    2 1999 39.385877 50.73274 15.247696 36.04137\n",
      "6    2 2000  2.279336 34.51119 92.071897 47.10621\n",
      "7    3 1998 14.047943 14.89382 66.641446 49.02781\n",
      "8    3 1999 49.733675 29.33066 22.597480 41.32730\n",
      "9    3 2000  6.686931 87.73560 59.738274 59.46868\n"
     ]
    }
   ],
   "source": [
    "print(df)"
   ]
  },
  {
   "cell_type": "code",
   "execution_count": 42,
   "metadata": {},
   "outputs": [
    {
     "name": "stdout",
     "output_type": "stream",
     "text": [
      "  comp year Quarter   Revenue\n",
      "1    1 1998    Qtr1 53.464824\n",
      "2    1 1999    Qtr1 92.602616\n",
      "3    1 2000    Qtr1 69.918653\n",
      "4    2 1998    Qtr1 12.885871\n",
      "5    2 1999    Qtr1 39.385877\n",
      "6    2 2000    Qtr1  2.279336\n"
     ]
    }
   ],
   "source": [
    "print(head(df %>% gather(Quarter, Revenue, Qtr1:Qtr4)))"
   ]
  },
  {
   "cell_type": "code",
   "execution_count": 44,
   "metadata": {},
   "outputs": [
    {
     "name": "stdout",
     "output_type": "stream",
     "text": [
      "  comp year Quarter   Revenue\n",
      "1    1 1998    Qtr1 53.464824\n",
      "2    1 1999    Qtr1 92.602616\n",
      "3    1 2000    Qtr1 69.918653\n",
      "4    2 1998    Qtr1 12.885871\n",
      "5    2 1999    Qtr1 39.385877\n",
      "6    2 2000    Qtr1  2.279336\n"
     ]
    }
   ],
   "source": [
    "print(head(gather(df, Quarter, Revenue, Qtr1:Qtr4)))"
   ]
  },
  {
   "cell_type": "code",
   "execution_count": 45,
   "metadata": {},
   "outputs": [
    {
     "name": "stdout",
     "output_type": "stream",
     "text": [
      "         time           X           Y         Z\n",
      "1  2009-01-01 -1.47043743 -1.01239751 -1.459824\n",
      "2  2009-01-02 -0.61517952 -1.49374794  3.535520\n",
      "3  2009-01-03  0.29852450  4.86146723 -1.692746\n",
      "4  2009-01-04 -0.34882942 -2.74143667 -1.772492\n",
      "5  2009-01-05 -1.00709141 -0.26215745  1.303087\n",
      "6  2009-01-06 -0.85394132  0.07231976 -1.528814\n",
      "7  2009-01-07  1.38297060  2.13006562  0.370445\n",
      "8  2009-01-08  0.13616634  1.35354644 -2.476408\n",
      "9  2009-01-09 -0.27802506 -2.30433524 -2.399505\n",
      "10 2009-01-10 -0.01718467  2.23125586  6.680102\n"
     ]
    }
   ],
   "source": [
    "stocks <- data.frame(\n",
    "    time = as.Date('2009-01-01') + 0:9,\n",
    "    X = rnorm(10, 0, 1),\n",
    "    Y = rnorm(10, 0, 2),\n",
    "    Z = rnorm(10, 0, 4)\n",
    ")\n",
    "print(stocks)"
   ]
  },
  {
   "cell_type": "code",
   "execution_count": 46,
   "metadata": {},
   "outputs": [],
   "source": [
    "stocksm <- stocks %>% gather(stock, price, -time)"
   ]
  },
  {
   "cell_type": "code",
   "execution_count": 48,
   "metadata": {},
   "outputs": [
    {
     "name": "stdout",
     "output_type": "stream",
     "text": [
      "         time           X           Y         Z\n",
      "1  2009-01-01 -1.47043743 -1.01239751 -1.459824\n",
      "2  2009-01-02 -0.61517952 -1.49374794  3.535520\n",
      "3  2009-01-03  0.29852450  4.86146723 -1.692746\n",
      "4  2009-01-04 -0.34882942 -2.74143667 -1.772492\n",
      "5  2009-01-05 -1.00709141 -0.26215745  1.303087\n",
      "6  2009-01-06 -0.85394132  0.07231976 -1.528814\n",
      "7  2009-01-07  1.38297060  2.13006562  0.370445\n",
      "8  2009-01-08  0.13616634  1.35354644 -2.476408\n",
      "9  2009-01-09 -0.27802506 -2.30433524 -2.399505\n",
      "10 2009-01-10 -0.01718467  2.23125586  6.680102\n"
     ]
    }
   ],
   "source": [
    "print(stocksm %>% spread(stock, price))"
   ]
  },
  {
   "cell_type": "code",
   "execution_count": 49,
   "metadata": {},
   "outputs": [
    {
     "name": "stdout",
     "output_type": "stream",
     "text": [
      "  stock 2009-01-01 2009-01-02 2009-01-03 2009-01-04 2009-01-05  2009-01-06\n",
      "1     X  -1.470437 -0.6151795  0.2985245 -0.3488294 -1.0070914 -0.85394132\n",
      "2     Y  -1.012398 -1.4937479  4.8614672 -2.7414367 -0.2621575  0.07231976\n",
      "3     Z  -1.459824  3.5355197 -1.6927458 -1.7724924  1.3030869 -1.52881384\n",
      "  2009-01-07 2009-01-08 2009-01-09  2009-01-10\n",
      "1   1.382971  0.1361663 -0.2780251 -0.01718467\n",
      "2   2.130066  1.3535464 -2.3043352  2.23125586\n",
      "3   0.370445 -2.4764079 -2.3995055  6.68010222\n"
     ]
    }
   ],
   "source": [
    "print(stocksm %>% spread(time, price))"
   ]
  },
  {
   "cell_type": "markdown",
   "metadata": {},
   "source": [
    "SEPARATE AND UNITE"
   ]
  },
  {
   "cell_type": "code",
   "execution_count": 50,
   "metadata": {},
   "outputs": [
    {
     "name": "stdout",
     "output_type": "stream",
     "text": [
      "     x\n",
      "1 <NA>\n",
      "2  a.x\n",
      "3  b.y\n",
      "4  c.z\n"
     ]
    }
   ],
   "source": [
    "df <- data.frame(x = c(NA, \"a.x\", \"b.y\", \"c.z\"))\n",
    "print(df)"
   ]
  },
  {
   "cell_type": "code",
   "execution_count": 51,
   "metadata": {},
   "outputs": [
    {
     "data": {
      "text/html": [
       "<table class=\"dataframe\">\n",
       "<caption>A data.frame: 4 × 2</caption>\n",
       "<thead>\n",
       "\t<tr><th scope=col>ABC</th><th scope=col>XYZ</th></tr>\n",
       "\t<tr><th scope=col>&lt;chr&gt;</th><th scope=col>&lt;chr&gt;</th></tr>\n",
       "</thead>\n",
       "<tbody>\n",
       "\t<tr><td>NA</td><td>NA</td></tr>\n",
       "\t<tr><td>a </td><td>x </td></tr>\n",
       "\t<tr><td>b </td><td>y </td></tr>\n",
       "\t<tr><td>c </td><td>z </td></tr>\n",
       "</tbody>\n",
       "</table>\n"
      ],
      "text/latex": [
       "A data.frame: 4 × 2\n",
       "\\begin{tabular}{ll}\n",
       " ABC & XYZ\\\\\n",
       " <chr> & <chr>\\\\\n",
       "\\hline\n",
       "\t NA & NA\\\\\n",
       "\t a  & x \\\\\n",
       "\t b  & y \\\\\n",
       "\t c  & z \\\\\n",
       "\\end{tabular}\n"
      ],
      "text/markdown": [
       "\n",
       "A data.frame: 4 × 2\n",
       "\n",
       "| ABC &lt;chr&gt; | XYZ &lt;chr&gt; |\n",
       "|---|---|\n",
       "| NA | NA |\n",
       "| a  | x  |\n",
       "| b  | y  |\n",
       "| c  | z  |\n",
       "\n"
      ],
      "text/plain": [
       "  ABC XYZ\n",
       "1 NA  NA \n",
       "2 a   x  \n",
       "3 b   y  \n",
       "4 c   z  "
      ]
     },
     "metadata": {},
     "output_type": "display_data"
    }
   ],
   "source": [
    "df %>% separate(x, c(\"ABC\", \"XYZ\"))"
   ]
  },
  {
   "cell_type": "markdown",
   "metadata": {},
   "source": [
    "UNITE()"
   ]
  },
  {
   "cell_type": "code",
   "execution_count": 53,
   "metadata": {},
   "outputs": [
    {
     "name": "stdout",
     "output_type": "stream",
     "text": [
      "                   mpg cyl disp  hp drat    wt  qsec vs am gear carb\n",
      "Mazda RX4         21.0   6  160 110 3.90 2.620 16.46  0  1    4    4\n",
      "Mazda RX4 Wag     21.0   6  160 110 3.90 2.875 17.02  0  1    4    4\n",
      "Datsun 710        22.8   4  108  93 3.85 2.320 18.61  1  1    4    1\n",
      "Hornet 4 Drive    21.4   6  258 110 3.08 3.215 19.44  1  0    3    1\n",
      "Hornet Sportabout 18.7   8  360 175 3.15 3.440 17.02  0  0    3    2\n",
      "Valiant           18.1   6  225 105 2.76 3.460 20.22  1  0    3    1\n"
     ]
    }
   ],
   "source": [
    "print(head(mtcars))"
   ]
  },
  {
   "cell_type": "code",
   "execution_count": 55,
   "metadata": {},
   "outputs": [
    {
     "name": "stdout",
     "output_type": "stream",
     "text": [
      "                     mpg cyl  disp  hp drat    wt  qsec vs.am gear carb\n",
      "Mazda RX4           21.0   6 160.0 110 3.90 2.620 16.46   0.1    4    4\n",
      "Mazda RX4 Wag       21.0   6 160.0 110 3.90 2.875 17.02   0.1    4    4\n",
      "Datsun 710          22.8   4 108.0  93 3.85 2.320 18.61   1.1    4    1\n",
      "Hornet 4 Drive      21.4   6 258.0 110 3.08 3.215 19.44   1.0    3    1\n",
      "Hornet Sportabout   18.7   8 360.0 175 3.15 3.440 17.02   0.0    3    2\n",
      "Valiant             18.1   6 225.0 105 2.76 3.460 20.22   1.0    3    1\n",
      "Duster 360          14.3   8 360.0 245 3.21 3.570 15.84   0.0    3    4\n",
      "Merc 240D           24.4   4 146.7  62 3.69 3.190 20.00   1.0    4    2\n",
      "Merc 230            22.8   4 140.8  95 3.92 3.150 22.90   1.0    4    2\n",
      "Merc 280            19.2   6 167.6 123 3.92 3.440 18.30   1.0    4    4\n",
      "Merc 280C           17.8   6 167.6 123 3.92 3.440 18.90   1.0    4    4\n",
      "Merc 450SE          16.4   8 275.8 180 3.07 4.070 17.40   0.0    3    3\n",
      "Merc 450SL          17.3   8 275.8 180 3.07 3.730 17.60   0.0    3    3\n",
      "Merc 450SLC         15.2   8 275.8 180 3.07 3.780 18.00   0.0    3    3\n",
      "Cadillac Fleetwood  10.4   8 472.0 205 2.93 5.250 17.98   0.0    3    4\n",
      "Lincoln Continental 10.4   8 460.0 215 3.00 5.424 17.82   0.0    3    4\n",
      "Chrysler Imperial   14.7   8 440.0 230 3.23 5.345 17.42   0.0    3    4\n",
      "Fiat 128            32.4   4  78.7  66 4.08 2.200 19.47   1.1    4    1\n",
      "Honda Civic         30.4   4  75.7  52 4.93 1.615 18.52   1.1    4    2\n",
      "Toyota Corolla      33.9   4  71.1  65 4.22 1.835 19.90   1.1    4    1\n",
      "Toyota Corona       21.5   4 120.1  97 3.70 2.465 20.01   1.0    3    1\n",
      "Dodge Challenger    15.5   8 318.0 150 2.76 3.520 16.87   0.0    3    2\n",
      "AMC Javelin         15.2   8 304.0 150 3.15 3.435 17.30   0.0    3    2\n",
      "Camaro Z28          13.3   8 350.0 245 3.73 3.840 15.41   0.0    3    4\n",
      "Pontiac Firebird    19.2   8 400.0 175 3.08 3.845 17.05   0.0    3    2\n",
      "Fiat X1-9           27.3   4  79.0  66 4.08 1.935 18.90   1.1    4    1\n",
      "Porsche 914-2       26.0   4 120.3  91 4.43 2.140 16.70   0.1    5    2\n",
      "Lotus Europa        30.4   4  95.1 113 3.77 1.513 16.90   1.1    5    2\n",
      "Ford Pantera L      15.8   8 351.0 264 4.22 3.170 14.50   0.1    5    4\n",
      "Ferrari Dino        19.7   6 145.0 175 3.62 2.770 15.50   0.1    5    6\n",
      "Maserati Bora       15.0   8 301.0 335 3.54 3.570 14.60   0.1    5    8\n",
      "Volvo 142E          21.4   4 121.0 109 4.11 2.780 18.60   1.1    4    2\n"
     ]
    }
   ],
   "source": [
    "print(unite_(mtcars, \"vs.am\", c(\"vs\", \"am\"), sep = \".\"))"
   ]
  },
  {
   "cell_type": "code",
   "execution_count": 57,
   "metadata": {},
   "outputs": [
    {
     "name": "stdout",
     "output_type": "stream",
     "text": [
      "                     mpg cyl  disp  hp drat    wt  qsec vs am gear carb\n",
      "Mazda RX4           21.0   6 160.0 110 3.90 2.620 16.46  0  1    4    4\n",
      "Mazda RX4 Wag       21.0   6 160.0 110 3.90 2.875 17.02  0  1    4    4\n",
      "Datsun 710          22.8   4 108.0  93 3.85 2.320 18.61  1  1    4    1\n",
      "Hornet 4 Drive      21.4   6 258.0 110 3.08 3.215 19.44  1  0    3    1\n",
      "Hornet Sportabout   18.7   8 360.0 175 3.15 3.440 17.02  0  0    3    2\n",
      "Valiant             18.1   6 225.0 105 2.76 3.460 20.22  1  0    3    1\n",
      "Duster 360          14.3   8 360.0 245 3.21 3.570 15.84  0  0    3    4\n",
      "Merc 240D           24.4   4 146.7  62 3.69 3.190 20.00  1  0    4    2\n",
      "Merc 230            22.8   4 140.8  95 3.92 3.150 22.90  1  0    4    2\n",
      "Merc 280            19.2   6 167.6 123 3.92 3.440 18.30  1  0    4    4\n",
      "Merc 280C           17.8   6 167.6 123 3.92 3.440 18.90  1  0    4    4\n",
      "Merc 450SE          16.4   8 275.8 180 3.07 4.070 17.40  0  0    3    3\n",
      "Merc 450SL          17.3   8 275.8 180 3.07 3.730 17.60  0  0    3    3\n",
      "Merc 450SLC         15.2   8 275.8 180 3.07 3.780 18.00  0  0    3    3\n",
      "Cadillac Fleetwood  10.4   8 472.0 205 2.93 5.250 17.98  0  0    3    4\n",
      "Lincoln Continental 10.4   8 460.0 215 3.00 5.424 17.82  0  0    3    4\n",
      "Chrysler Imperial   14.7   8 440.0 230 3.23 5.345 17.42  0  0    3    4\n",
      "Fiat 128            32.4   4  78.7  66 4.08 2.200 19.47  1  1    4    1\n",
      "Honda Civic         30.4   4  75.7  52 4.93 1.615 18.52  1  1    4    2\n",
      "Toyota Corolla      33.9   4  71.1  65 4.22 1.835 19.90  1  1    4    1\n",
      "Toyota Corona       21.5   4 120.1  97 3.70 2.465 20.01  1  0    3    1\n",
      "Dodge Challenger    15.5   8 318.0 150 2.76 3.520 16.87  0  0    3    2\n",
      "AMC Javelin         15.2   8 304.0 150 3.15 3.435 17.30  0  0    3    2\n",
      "Camaro Z28          13.3   8 350.0 245 3.73 3.840 15.41  0  0    3    4\n",
      "Pontiac Firebird    19.2   8 400.0 175 3.08 3.845 17.05  0  0    3    2\n",
      "Fiat X1-9           27.3   4  79.0  66 4.08 1.935 18.90  1  1    4    1\n",
      "Porsche 914-2       26.0   4 120.3  91 4.43 2.140 16.70  0  1    5    2\n",
      "Lotus Europa        30.4   4  95.1 113 3.77 1.513 16.90  1  1    5    2\n",
      "Ford Pantera L      15.8   8 351.0 264 4.22 3.170 14.50  0  1    5    4\n",
      "Ferrari Dino        19.7   6 145.0 175 3.62 2.770 15.50  0  1    5    6\n",
      "Maserati Bora       15.0   8 301.0 335 3.54 3.570 14.60  0  1    5    8\n",
      "Volvo 142E          21.4   4 121.0 109 4.11 2.780 18.60  1  1    4    2\n"
     ]
    }
   ],
   "source": [
    "# separate is the complement of unite\n",
    "print(mtcars %>% unite(vs_am, vs, am) %>% separate(vs_am, c(\"vs\", \"am\")))"
   ]
  },
  {
   "cell_type": "markdown",
   "metadata": {},
   "source": [
    "PIPE OPERATOR: ALLOWS TO PERFORM MULTIPLE OPERATIONS ON A DATA SET. USEFUL TO AVOID A LONG NESTED OPERATION."
   ]
  },
  {
   "cell_type": "code",
   "execution_count": 58,
   "metadata": {},
   "outputs": [],
   "source": [
    "library(dplyr)"
   ]
  },
  {
   "cell_type": "code",
   "execution_count": 62,
   "metadata": {},
   "outputs": [],
   "source": [
    "df <- mtcars"
   ]
  },
  {
   "cell_type": "code",
   "execution_count": 63,
   "metadata": {},
   "outputs": [
    {
     "name": "stdout",
     "output_type": "stream",
     "text": [
      "                     mpg cyl  disp  hp drat    wt  qsec vs am gear carb\n",
      "Mazda RX4           21.0   6 160.0 110 3.90 2.620 16.46  0  1    4    4\n",
      "Mazda RX4 Wag       21.0   6 160.0 110 3.90 2.875 17.02  0  1    4    4\n",
      "Datsun 710          22.8   4 108.0  93 3.85 2.320 18.61  1  1    4    1\n",
      "Hornet 4 Drive      21.4   6 258.0 110 3.08 3.215 19.44  1  0    3    1\n",
      "Hornet Sportabout   18.7   8 360.0 175 3.15 3.440 17.02  0  0    3    2\n",
      "Valiant             18.1   6 225.0 105 2.76 3.460 20.22  1  0    3    1\n",
      "Duster 360          14.3   8 360.0 245 3.21 3.570 15.84  0  0    3    4\n",
      "Merc 240D           24.4   4 146.7  62 3.69 3.190 20.00  1  0    4    2\n",
      "Merc 230            22.8   4 140.8  95 3.92 3.150 22.90  1  0    4    2\n",
      "Merc 280            19.2   6 167.6 123 3.92 3.440 18.30  1  0    4    4\n",
      "Merc 280C           17.8   6 167.6 123 3.92 3.440 18.90  1  0    4    4\n",
      "Merc 450SE          16.4   8 275.8 180 3.07 4.070 17.40  0  0    3    3\n",
      "Merc 450SL          17.3   8 275.8 180 3.07 3.730 17.60  0  0    3    3\n",
      "Merc 450SLC         15.2   8 275.8 180 3.07 3.780 18.00  0  0    3    3\n",
      "Cadillac Fleetwood  10.4   8 472.0 205 2.93 5.250 17.98  0  0    3    4\n",
      "Lincoln Continental 10.4   8 460.0 215 3.00 5.424 17.82  0  0    3    4\n",
      "Chrysler Imperial   14.7   8 440.0 230 3.23 5.345 17.42  0  0    3    4\n",
      "Fiat 128            32.4   4  78.7  66 4.08 2.200 19.47  1  1    4    1\n",
      "Honda Civic         30.4   4  75.7  52 4.93 1.615 18.52  1  1    4    2\n",
      "Toyota Corolla      33.9   4  71.1  65 4.22 1.835 19.90  1  1    4    1\n",
      "Toyota Corona       21.5   4 120.1  97 3.70 2.465 20.01  1  0    3    1\n",
      "Dodge Challenger    15.5   8 318.0 150 2.76 3.520 16.87  0  0    3    2\n",
      "AMC Javelin         15.2   8 304.0 150 3.15 3.435 17.30  0  0    3    2\n",
      "Camaro Z28          13.3   8 350.0 245 3.73 3.840 15.41  0  0    3    4\n",
      "Pontiac Firebird    19.2   8 400.0 175 3.08 3.845 17.05  0  0    3    2\n",
      "Fiat X1-9           27.3   4  79.0  66 4.08 1.935 18.90  1  1    4    1\n",
      "Porsche 914-2       26.0   4 120.3  91 4.43 2.140 16.70  0  1    5    2\n",
      "Lotus Europa        30.4   4  95.1 113 3.77 1.513 16.90  1  1    5    2\n",
      "Ford Pantera L      15.8   8 351.0 264 4.22 3.170 14.50  0  1    5    4\n",
      "Ferrari Dino        19.7   6 145.0 175 3.62 2.770 15.50  0  1    5    6\n",
      "Maserati Bora       15.0   8 301.0 335 3.54 3.570 14.60  0  1    5    8\n",
      "Volvo 142E          21.4   4 121.0 109 4.11 2.780 18.60  1  1    4    2\n"
     ]
    }
   ],
   "source": [
    "print(df)"
   ]
  },
  {
   "cell_type": "code",
   "execution_count": 64,
   "metadata": {},
   "outputs": [
    {
     "name": "stdout",
     "output_type": "stream",
     "text": [
      "                mpg cyl  disp  hp drat    wt  qsec vs am gear carb\n",
      "Honda Civic    30.4   4  75.7  52 4.93 1.615 18.52  1  1    4    2\n",
      "Fiat X1-9      27.3   4  79.0  66 4.08 1.935 18.90  1  1    4    1\n",
      "Datsun 710     22.8   4 108.0  93 3.85 2.320 18.61  1  1    4    1\n",
      "Volvo 142E     21.4   4 121.0 109 4.11 2.780 18.60  1  1    4    2\n",
      "Hornet 4 Drive 21.4   6 258.0 110 3.08 3.215 19.44  1  0    3    1\n"
     ]
    }
   ],
   "source": [
    "print(arrange(sample_n(filter(df, mpg > 20), size = 5), desc(mpg)))"
   ]
  },
  {
   "cell_type": "code",
   "execution_count": 65,
   "metadata": {},
   "outputs": [
    {
     "name": "stdout",
     "output_type": "stream",
     "text": [
      "             mpg cyl  disp  hp drat    wt  qsec vs am gear carb\n",
      "Honda Civic 30.4   4  75.7  52 4.93 1.615 18.52  1  1    4    2\n",
      "Fiat X1-9   27.3   4  79.0  66 4.08 1.935 18.90  1  1    4    1\n",
      "Merc 240D   24.4   4 146.7  62 3.69 3.190 20.00  1  0    4    2\n",
      "Datsun 710  22.8   4 108.0  93 3.85 2.320 18.61  1  1    4    1\n",
      "Volvo 142E  21.4   4 121.0 109 4.11 2.780 18.60  1  1    4    2\n"
     ]
    }
   ],
   "source": [
    "a <- filter(df, mpg>20)\n",
    "b <- sample_n(a, size = 5)\n",
    "c <- arrange(b, desc(mpg))\n",
    "\n",
    "print(c)"
   ]
  },
  {
   "cell_type": "code",
   "execution_count": 67,
   "metadata": {},
   "outputs": [
    {
     "name": "stdout",
     "output_type": "stream",
     "text": [
      "                mpg cyl  disp  hp drat    wt  qsec vs am gear carb\n",
      "Toyota Corolla 33.9   4  71.1  65 4.22 1.835 19.90  1  1    4    1\n",
      "Fiat 128       32.4   4  78.7  66 4.08 2.200 19.47  1  1    4    1\n",
      "Fiat X1-9      27.3   4  79.0  66 4.08 1.935 18.90  1  1    4    1\n",
      "Merc 240D      24.4   4 146.7  62 3.69 3.190 20.00  1  0    4    2\n",
      "Mazda RX4      21.0   6 160.0 110 3.90 2.620 16.46  0  1    4    4\n"
     ]
    }
   ],
   "source": [
    "print(df %>% filter(mpg > 20) %>% sample_n(size = 5) %>% arrange(desc(mpg)))"
   ]
  },
  {
   "cell_type": "code",
   "execution_count": null,
   "metadata": {},
   "outputs": [],
   "source": []
  }
 ],
 "metadata": {
  "kernelspec": {
   "display_name": "R",
   "language": "R",
   "name": "ir"
  },
  "language_info": {
   "codemirror_mode": "r",
   "file_extension": ".r",
   "mimetype": "text/x-r-source",
   "name": "R",
   "pygments_lexer": "r",
   "version": "4.1.2"
  },
  "orig_nbformat": 4
 },
 "nbformat": 4,
 "nbformat_minor": 2
}
