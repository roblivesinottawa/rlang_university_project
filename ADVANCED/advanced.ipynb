{
 "cells": [
  {
   "cell_type": "markdown",
   "metadata": {},
   "source": [
    "BUILT-IN FEATURES: DATA STRUCTURES"
   ]
  },
  {
   "cell_type": "code",
   "execution_count": 1,
   "metadata": {},
   "outputs": [
    {
     "data": {
      "text/html": [
       "<style>\n",
       ".list-inline {list-style: none; margin:0; padding: 0}\n",
       ".list-inline>li {display: inline-block}\n",
       ".list-inline>li:not(:last-child)::after {content: \"\\00b7\"; padding: 0 .5ex}\n",
       "</style>\n",
       "<ol class=list-inline><li>0</li><li>10</li><li>20</li><li>30</li><li>40</li><li>50</li><li>60</li><li>70</li><li>80</li><li>90</li><li>100</li></ol>\n"
      ],
      "text/latex": [
       "\\begin{enumerate*}\n",
       "\\item 0\n",
       "\\item 10\n",
       "\\item 20\n",
       "\\item 30\n",
       "\\item 40\n",
       "\\item 50\n",
       "\\item 60\n",
       "\\item 70\n",
       "\\item 80\n",
       "\\item 90\n",
       "\\item 100\n",
       "\\end{enumerate*}\n"
      ],
      "text/markdown": [
       "1. 0\n",
       "2. 10\n",
       "3. 20\n",
       "4. 30\n",
       "5. 40\n",
       "6. 50\n",
       "7. 60\n",
       "8. 70\n",
       "9. 80\n",
       "10. 90\n",
       "11. 100\n",
       "\n",
       "\n"
      ],
      "text/plain": [
       " [1]   0  10  20  30  40  50  60  70  80  90 100"
      ]
     },
     "metadata": {},
     "output_type": "display_data"
    }
   ],
   "source": [
    "seq(0, 100, 10)"
   ]
  },
  {
   "cell_type": "code",
   "execution_count": 2,
   "metadata": {},
   "outputs": [
    {
     "data": {
      "text/html": [
       "<style>\n",
       ".list-inline {list-style: none; margin:0; padding: 0}\n",
       ".list-inline>li {display: inline-block}\n",
       ".list-inline>li:not(:last-child)::after {content: \"\\00b7\"; padding: 0 .5ex}\n",
       "</style>\n",
       "<ol class=list-inline><li>1</li><li>2</li><li>2</li><li>4</li><li>6</li><li>7</li><li>13</li></ol>\n"
      ],
      "text/latex": [
       "\\begin{enumerate*}\n",
       "\\item 1\n",
       "\\item 2\n",
       "\\item 2\n",
       "\\item 4\n",
       "\\item 6\n",
       "\\item 7\n",
       "\\item 13\n",
       "\\end{enumerate*}\n"
      ],
      "text/markdown": [
       "1. 1\n",
       "2. 2\n",
       "3. 2\n",
       "4. 4\n",
       "5. 6\n",
       "6. 7\n",
       "7. 13\n",
       "\n",
       "\n"
      ],
      "text/plain": [
       "[1]  1  2  2  4  6  7 13"
      ]
     },
     "metadata": {},
     "output_type": "display_data"
    }
   ],
   "source": [
    "v <- c(1, 4, 6, 7, 2, 13, 2)\n",
    "sort(v)"
   ]
  },
  {
   "cell_type": "code",
   "execution_count": 3,
   "metadata": {},
   "outputs": [
    {
     "data": {
      "text/html": [
       "<style>\n",
       ".list-inline {list-style: none; margin:0; padding: 0}\n",
       ".list-inline>li {display: inline-block}\n",
       ".list-inline>li:not(:last-child)::after {content: \"\\00b7\"; padding: 0 .5ex}\n",
       "</style>\n",
       "<ol class=list-inline><li>13</li><li>7</li><li>6</li><li>4</li><li>2</li><li>2</li><li>1</li></ol>\n"
      ],
      "text/latex": [
       "\\begin{enumerate*}\n",
       "\\item 13\n",
       "\\item 7\n",
       "\\item 6\n",
       "\\item 4\n",
       "\\item 2\n",
       "\\item 2\n",
       "\\item 1\n",
       "\\end{enumerate*}\n"
      ],
      "text/markdown": [
       "1. 13\n",
       "2. 7\n",
       "3. 6\n",
       "4. 4\n",
       "5. 2\n",
       "6. 2\n",
       "7. 1\n",
       "\n",
       "\n"
      ],
      "text/plain": [
       "[1] 13  7  6  4  2  2  1"
      ]
     },
     "metadata": {},
     "output_type": "display_data"
    }
   ],
   "source": [
    "sort(v, decreasing = TRUE)"
   ]
  },
  {
   "cell_type": "code",
   "execution_count": 4,
   "metadata": {},
   "outputs": [
    {
     "data": {
      "text/html": [
       "<style>\n",
       ".list-inline {list-style: none; margin:0; padding: 0}\n",
       ".list-inline>li {display: inline-block}\n",
       ".list-inline>li:not(:last-child)::after {content: \"\\00b7\"; padding: 0 .5ex}\n",
       "</style>\n",
       "<ol class=list-inline><li>10</li><li>9</li><li>8</li><li>7</li><li>6</li><li>5</li><li>4</li><li>3</li><li>2</li><li>1</li></ol>\n"
      ],
      "text/latex": [
       "\\begin{enumerate*}\n",
       "\\item 10\n",
       "\\item 9\n",
       "\\item 8\n",
       "\\item 7\n",
       "\\item 6\n",
       "\\item 5\n",
       "\\item 4\n",
       "\\item 3\n",
       "\\item 2\n",
       "\\item 1\n",
       "\\end{enumerate*}\n"
      ],
      "text/markdown": [
       "1. 10\n",
       "2. 9\n",
       "3. 8\n",
       "4. 7\n",
       "5. 6\n",
       "6. 5\n",
       "7. 4\n",
       "8. 3\n",
       "9. 2\n",
       "10. 1\n",
       "\n",
       "\n"
      ],
      "text/plain": [
       " [1] 10  9  8  7  6  5  4  3  2  1"
      ]
     },
     "metadata": {},
     "output_type": "display_data"
    }
   ],
   "source": [
    "v2 <- c(1:10)\n",
    "rev(v2)"
   ]
  },
  {
   "cell_type": "code",
   "execution_count": 5,
   "metadata": {},
   "outputs": [
    {
     "name": "stdout",
     "output_type": "stream",
     "text": [
      " int [1:10] 1 2 3 4 5 6 7 8 9 10\n"
     ]
    }
   ],
   "source": [
    "str(v2)"
   ]
  },
  {
   "cell_type": "code",
   "execution_count": 6,
   "metadata": {},
   "outputs": [
    {
     "name": "stdout",
     "output_type": "stream",
     "text": [
      " num [1:7] 1 4 6 7 2 13 2\n"
     ]
    }
   ],
   "source": [
    "str(v)"
   ]
  },
  {
   "cell_type": "code",
   "execution_count": 7,
   "metadata": {},
   "outputs": [
    {
     "data": {
      "text/html": [
       "<style>\n",
       ".list-inline {list-style: none; margin:0; padding: 0}\n",
       ".list-inline>li {display: inline-block}\n",
       ".list-inline>li:not(:last-child)::after {content: \"\\00b7\"; padding: 0 .5ex}\n",
       "</style>\n",
       "<ol class=list-inline><li>1</li><li>4</li><li>6</li><li>7</li><li>2</li><li>13</li><li>2</li><li>1</li><li>2</li><li>3</li><li>4</li><li>5</li><li>6</li><li>7</li><li>8</li><li>9</li><li>10</li></ol>\n"
      ],
      "text/latex": [
       "\\begin{enumerate*}\n",
       "\\item 1\n",
       "\\item 4\n",
       "\\item 6\n",
       "\\item 7\n",
       "\\item 2\n",
       "\\item 13\n",
       "\\item 2\n",
       "\\item 1\n",
       "\\item 2\n",
       "\\item 3\n",
       "\\item 4\n",
       "\\item 5\n",
       "\\item 6\n",
       "\\item 7\n",
       "\\item 8\n",
       "\\item 9\n",
       "\\item 10\n",
       "\\end{enumerate*}\n"
      ],
      "text/markdown": [
       "1. 1\n",
       "2. 4\n",
       "3. 6\n",
       "4. 7\n",
       "5. 2\n",
       "6. 13\n",
       "7. 2\n",
       "8. 1\n",
       "9. 2\n",
       "10. 3\n",
       "11. 4\n",
       "12. 5\n",
       "13. 6\n",
       "14. 7\n",
       "15. 8\n",
       "16. 9\n",
       "17. 10\n",
       "\n",
       "\n"
      ],
      "text/plain": [
       " [1]  1  4  6  7  2 13  2  1  2  3  4  5  6  7  8  9 10"
      ]
     },
     "metadata": {},
     "output_type": "display_data"
    }
   ],
   "source": [
    "append(v, v2)"
   ]
  },
  {
   "cell_type": "code",
   "execution_count": 10,
   "metadata": {},
   "outputs": [
    {
     "data": {
      "text/html": [
       "<style>\n",
       ".list-inline {list-style: none; margin:0; padding: 0}\n",
       ".list-inline>li {display: inline-block}\n",
       ".list-inline>li:not(:last-child)::after {content: \"\\00b7\"; padding: 0 .5ex}\n",
       "</style>\n",
       "<ol class=list-inline><li>1</li><li>1</li><li>2</li><li>2</li><li>2</li><li>3</li><li>4</li><li>4</li><li>5</li><li>6</li><li>6</li><li>7</li><li>7</li><li>8</li><li>9</li><li>10</li><li>13</li></ol>\n"
      ],
      "text/latex": [
       "\\begin{enumerate*}\n",
       "\\item 1\n",
       "\\item 1\n",
       "\\item 2\n",
       "\\item 2\n",
       "\\item 2\n",
       "\\item 3\n",
       "\\item 4\n",
       "\\item 4\n",
       "\\item 5\n",
       "\\item 6\n",
       "\\item 6\n",
       "\\item 7\n",
       "\\item 7\n",
       "\\item 8\n",
       "\\item 9\n",
       "\\item 10\n",
       "\\item 13\n",
       "\\end{enumerate*}\n"
      ],
      "text/markdown": [
       "1. 1\n",
       "2. 1\n",
       "3. 2\n",
       "4. 2\n",
       "5. 2\n",
       "6. 3\n",
       "7. 4\n",
       "8. 4\n",
       "9. 5\n",
       "10. 6\n",
       "11. 6\n",
       "12. 7\n",
       "13. 7\n",
       "14. 8\n",
       "15. 9\n",
       "16. 10\n",
       "17. 13\n",
       "\n",
       "\n"
      ],
      "text/plain": [
       " [1]  1  1  2  2  2  3  4  4  5  6  6  7  7  8  9 10 13"
      ]
     },
     "metadata": {},
     "output_type": "display_data"
    }
   ],
   "source": [
    "sort(append(v, v2))"
   ]
  },
  {
   "cell_type": "markdown",
   "metadata": {},
   "source": [
    "DATA TYPES"
   ]
  },
  {
   "cell_type": "code",
   "execution_count": 11,
   "metadata": {},
   "outputs": [
    {
     "data": {
      "text/html": [
       "TRUE"
      ],
      "text/latex": [
       "TRUE"
      ],
      "text/markdown": [
       "TRUE"
      ],
      "text/plain": [
       "[1] TRUE"
      ]
     },
     "metadata": {},
     "output_type": "display_data"
    }
   ],
   "source": [
    "v <- c(1:10)\n",
    "is.vector(v)"
   ]
  },
  {
   "cell_type": "code",
   "execution_count": 12,
   "metadata": {},
   "outputs": [
    {
     "data": {
      "text/html": [
       "FALSE"
      ],
      "text/latex": [
       "FALSE"
      ],
      "text/markdown": [
       "FALSE"
      ],
      "text/plain": [
       "[1] FALSE"
      ]
     },
     "metadata": {},
     "output_type": "display_data"
    }
   ],
   "source": [
    "is.list(v)"
   ]
  },
  {
   "cell_type": "code",
   "execution_count": 13,
   "metadata": {},
   "outputs": [
    {
     "data": {
      "text/html": [
       "TRUE"
      ],
      "text/latex": [
       "TRUE"
      ],
      "text/markdown": [
       "TRUE"
      ],
      "text/plain": [
       "[1] TRUE"
      ]
     },
     "metadata": {},
     "output_type": "display_data"
    }
   ],
   "source": [
    "li <- list(1:10)\n",
    "is.list(li)"
   ]
  },
  {
   "cell_type": "code",
   "execution_count": 14,
   "metadata": {},
   "outputs": [
    {
     "data": {
      "text/html": [
       "<ol>\n",
       "\t<li>1</li>\n",
       "\t<li>2</li>\n",
       "\t<li>3</li>\n",
       "\t<li>4</li>\n",
       "\t<li>5</li>\n",
       "\t<li>6</li>\n",
       "\t<li>7</li>\n",
       "\t<li>8</li>\n",
       "\t<li>9</li>\n",
       "\t<li>10</li>\n",
       "</ol>\n"
      ],
      "text/latex": [
       "\\begin{enumerate}\n",
       "\\item 1\n",
       "\\item 2\n",
       "\\item 3\n",
       "\\item 4\n",
       "\\item 5\n",
       "\\item 6\n",
       "\\item 7\n",
       "\\item 8\n",
       "\\item 9\n",
       "\\item 10\n",
       "\\end{enumerate}\n"
      ],
      "text/markdown": [
       "1. 1\n",
       "2. 2\n",
       "3. 3\n",
       "4. 4\n",
       "5. 5\n",
       "6. 6\n",
       "7. 7\n",
       "8. 8\n",
       "9. 9\n",
       "10. 10\n",
       "\n",
       "\n"
      ],
      "text/plain": [
       "[[1]]\n",
       "[1] 1\n",
       "\n",
       "[[2]]\n",
       "[1] 2\n",
       "\n",
       "[[3]]\n",
       "[1] 3\n",
       "\n",
       "[[4]]\n",
       "[1] 4\n",
       "\n",
       "[[5]]\n",
       "[1] 5\n",
       "\n",
       "[[6]]\n",
       "[1] 6\n",
       "\n",
       "[[7]]\n",
       "[1] 7\n",
       "\n",
       "[[8]]\n",
       "[1] 8\n",
       "\n",
       "[[9]]\n",
       "[1] 9\n",
       "\n",
       "[[10]]\n",
       "[1] 10\n"
      ]
     },
     "metadata": {},
     "output_type": "display_data"
    }
   ],
   "source": [
    "as.list(v)"
   ]
  },
  {
   "cell_type": "code",
   "execution_count": 16,
   "metadata": {},
   "outputs": [
    {
     "name": "stdout",
     "output_type": "stream",
     "text": [
      "      [,1]\n",
      " [1,]    1\n",
      " [2,]    2\n",
      " [3,]    3\n",
      " [4,]    4\n",
      " [5,]    5\n",
      " [6,]    6\n",
      " [7,]    7\n",
      " [8,]    8\n",
      " [9,]    9\n",
      "[10,]   10\n"
     ]
    }
   ],
   "source": [
    "print(as.matrix(v))"
   ]
  },
  {
   "cell_type": "code",
   "execution_count": null,
   "metadata": {},
   "outputs": [],
   "source": []
  },
  {
   "cell_type": "markdown",
   "metadata": {},
   "source": [
    "APPLY FUNCTIONS"
   ]
  },
  {
   "cell_type": "code",
   "execution_count": 17,
   "metadata": {},
   "outputs": [
    {
     "name": "stderr",
     "output_type": "stream",
     "text": [
      "Warning message in seq_len(head.end.idx):\n",
      "\"first element used of 'length.out' argument\"\n",
      "ERROR while rich displaying an object: Error in seq_len(head.end.idx): argument must be coercible to non-negative integer\n",
      "\n",
      "Traceback:\n",
      "1. FUN(X[[i]], ...)\n",
      "2. tryCatch(withCallingHandlers({\n",
      " .     if (!mime %in% names(repr::mime2repr)) \n",
      " .         stop(\"No repr_* for mimetype \", mime, \" in repr::mime2repr\")\n",
      " .     rpr <- repr::mime2repr[[mime]](obj)\n",
      " .     if (is.null(rpr)) \n",
      " .         return(NULL)\n",
      " .     prepare_content(is.raw(rpr), rpr)\n",
      " . }, error = error_handler), error = outer_handler)\n",
      "3. tryCatchList(expr, classes, parentenv, handlers)\n",
      "4. tryCatchOne(expr, names, parentenv, handlers[[1L]])\n",
      "5. doTryCatch(return(expr), name, parentenv, handler)\n",
      "6. withCallingHandlers({\n",
      " .     if (!mime %in% names(repr::mime2repr)) \n",
      " .         stop(\"No repr_* for mimetype \", mime, \" in repr::mime2repr\")\n",
      " .     rpr <- repr::mime2repr[[mime]](obj)\n",
      " .     if (is.null(rpr)) \n",
      " .         return(NULL)\n",
      " .     prepare_content(is.raw(rpr), rpr)\n",
      " . }, error = error_handler)\n",
      "7. repr::mime2repr[[mime]](obj)\n",
      "8. repr_html.help_files_with_topic(obj)\n",
      "9. repr_help_files_with_topic_generic(obj, Rd2HTML)\n"
     ]
    },
    {
     "name": "stdout",
     "output_type": "stream",
     "text": [
      "apply                   package:base                   R Documentation\n",
      "\n",
      "_\bA_\bp_\bp_\bl_\by _\bF_\bu_\bn_\bc_\bt_\bi_\bo_\bn_\bs _\bO_\bv_\be_\br _\bA_\br_\br_\ba_\by _\bM_\ba_\br_\bg_\bi_\bn_\bs\n",
      "\n",
      "_\bD_\be_\bs_\bc_\br_\bi_\bp_\bt_\bi_\bo_\bn:\n",
      "\n",
      "     Returns a vector or array or list of values obtained by applying a\n",
      "     function to margins of an array or matrix.\n",
      "\n",
      "_\bU_\bs_\ba_\bg_\be:\n",
      "\n",
      "     apply(X, MARGIN, FUN, ..., simplify = TRUE)\n",
      "     \n",
      "_\bA_\br_\bg_\bu_\bm_\be_\bn_\bt_\bs:\n",
      "\n",
      "       X: an array, including a matrix.\n",
      "\n",
      "  MARGIN: a vector giving the subscripts which the function will be\n",
      "          applied over.  E.g., for a matrix '1' indicates rows, '2'\n",
      "          indicates columns, 'c(1, 2)' indicates rows and columns.\n",
      "          Where 'X' has named dimnames, it can be a character vector\n",
      "          selecting dimension names.\n",
      "\n",
      "     FUN: the function to be applied: see 'Details'.  In the case of\n",
      "          functions like '+', '%*%', etc., the function name must be\n",
      "          backquoted or quoted.\n",
      "\n",
      "     ...: optional arguments to 'FUN'.\n",
      "\n",
      "simplify: a logical indicating whether results should be simplified if\n",
      "          possible.\n",
      "\n",
      "_\bD_\be_\bt_\ba_\bi_\bl_\bs:\n",
      "\n",
      "     If 'X' is not an array but an object of a class with a non-null\n",
      "     'dim' value (such as a data frame), 'apply' attempts to coerce it\n",
      "     to an array via 'as.matrix' if it is two-dimensional (e.g., a data\n",
      "     frame) or via 'as.array'.\n",
      "\n",
      "     'FUN' is found by a call to 'match.fun' and typically is either a\n",
      "     function or a symbol (e.g., a backquoted name) or a character\n",
      "     string specifying a function to be searched for from the\n",
      "     environment of the call to 'apply'.\n",
      "\n",
      "     Arguments in '...' cannot have the same name as any of the other\n",
      "     arguments, and care may be needed to avoid partial matching to\n",
      "     'MARGIN' or 'FUN'.  In general-purpose code it is good practice to\n",
      "     name the first three arguments if '...' is passed through: this\n",
      "     both avoids partial matching to 'MARGIN' or 'FUN' and ensures that\n",
      "     a sensible error message is given if arguments named 'X', 'MARGIN'\n",
      "     or 'FUN' are passed through '...'.\n",
      "\n",
      "_\bV_\ba_\bl_\bu_\be:\n",
      "\n",
      "     If each call to 'FUN' returns a vector of length 'n', and\n",
      "     'simplify' is 'TRUE', then 'apply' returns an array of dimension\n",
      "     'c(n, dim(X)[MARGIN])' if 'n > 1'.  If 'n' equals '1', 'apply'\n",
      "     returns a vector if 'MARGIN' has length 1 and an array of\n",
      "     dimension 'dim(X)[MARGIN]' otherwise.  If 'n' is '0', the result\n",
      "     has length 0 but not necessarily the 'correct' dimension.\n",
      "\n",
      "     If the calls to 'FUN' return vectors of different lengths, or if\n",
      "     'simplify' is 'FALSE', 'apply' returns a list of length\n",
      "     'prod(dim(X)[MARGIN])' with 'dim' set to 'MARGIN' if this has\n",
      "     length greater than one.\n",
      "\n",
      "     In all cases the result is coerced by 'as.vector' to one of the\n",
      "     basic vector types before the dimensions are set, so that (for\n",
      "     example) factor results will be coerced to a character array.\n",
      "\n",
      "_\bR_\be_\bf_\be_\br_\be_\bn_\bc_\be_\bs:\n",
      "\n",
      "     Becker, R. A., Chambers, J. M. and Wilks, A. R. (1988) _The New S\n",
      "     Language_.  Wadsworth & Brooks/Cole.\n",
      "\n",
      "_\bS_\be_\be _\bA_\bl_\bs_\bo:\n",
      "\n",
      "     'lapply' and there, 'simplify2array'; 'tapply', and convenience\n",
      "     functions 'sweep' and 'aggregate'.\n",
      "\n",
      "_\bE_\bx_\ba_\bm_\bp_\bl_\be_\bs:\n",
      "\n",
      "     ## Compute row and column sums for a matrix:\n",
      "     x <- cbind(x1 = 3, x2 = c(4:1, 2:5))\n",
      "     dimnames(x)[[1]] <- letters[1:8]\n",
      "     apply(x, 2, mean, trim = .2)\n",
      "     col.sums <- apply(x, 2, sum)\n",
      "     row.sums <- apply(x, 1, sum)\n",
      "     rbind(cbind(x, Rtot = row.sums), Ctot = c(col.sums, sum(col.sums)))\n",
      "     \n",
      "     stopifnot( apply(x, 2, is.vector))\n",
      "     \n",
      "     ## Sort the columns of a matrix\n",
      "     apply(x, 2, sort)\n",
      "     \n",
      "     ## keeping named dimnames\n",
      "     names(dimnames(x)) <- c(\"row\", \"col\")\n",
      "     x3 <- array(x, dim = c(dim(x),3),\n",
      "                 dimnames = c(dimnames(x), list(C = paste0(\"cop.\",1:3))))\n",
      "     identical(x,  apply( x,  2,  identity))\n",
      "     identical(x3, apply(x3, 2:3, identity))\n",
      "     \n",
      "     ##- function with extra args:\n",
      "     cave <- function(x, c1, c2) c(mean(x[c1]), mean(x[c2]))\n",
      "     apply(x, 1, cave,  c1 = \"x1\", c2 = c(\"x1\",\"x2\"))\n",
      "     \n",
      "     ma <- matrix(c(1:4, 1, 6:8), nrow = 2)\n",
      "     ma\n",
      "     apply(ma, 1, table)  #--> a list of length 2\n",
      "     apply(ma, 1, stats::quantile) # 5 x n matrix with rownames\n",
      "     \n",
      "     stopifnot(dim(ma) == dim(apply(ma, 1:2, sum)))\n",
      "     \n",
      "     ## Example with different lengths for each call\n",
      "     z <- array(1:24, dim = 2:4)\n",
      "     zseq <- apply(z, 1:2, function(x) seq_len(max(x)))\n",
      "     zseq         ## a 2 x 3 matrix\n",
      "     typeof(zseq) ## list\n",
      "     dim(zseq) ## 2 3\n",
      "     zseq[1,]\n",
      "     apply(z, 3, function(x) seq_len(max(x)))\n",
      "     # a list without a dim attribute\n",
      "     "
     ]
    }
   ],
   "source": [
    "help(apply)"
   ]
  },
  {
   "cell_type": "code",
   "execution_count": 20,
   "metadata": {},
   "outputs": [
    {
     "data": {
      "text/html": [
       "4"
      ],
      "text/latex": [
       "4"
      ],
      "text/markdown": [
       "4"
      ],
      "text/plain": [
       "[1] 4"
      ]
     },
     "metadata": {},
     "output_type": "display_data"
    }
   ],
   "source": [
    "sample(x = 1:10, 1) # prints out a random integer between 1 and 10"
   ]
  },
  {
   "cell_type": "code",
   "execution_count": 19,
   "metadata": {},
   "outputs": [
    {
     "name": "stdout",
     "output_type": "stream",
     "text": [
      "function (x, size, replace = FALSE, prob = NULL) \n",
      "{\n",
      "    if (length(x) == 1L && is.numeric(x) && is.finite(x) && x >= \n",
      "        1) {\n",
      "        if (missing(size)) \n",
      "            size <- x\n",
      "        sample.int(x, size, replace, prob)\n",
      "    }\n",
      "    else {\n",
      "        if (missing(size)) \n",
      "            size <- length(x)\n",
      "        x[sample.int(length(x), size, replace, prob)]\n",
      "    }\n",
      "}\n",
      "<bytecode: 0x7fcab5657ea0>\n",
      "<environment: namespace:base>\n"
     ]
    }
   ],
   "source": [
    "print(sample)"
   ]
  },
  {
   "cell_type": "code",
   "execution_count": 21,
   "metadata": {},
   "outputs": [
    {
     "data": {
      "text/html": [
       "<ol>\n",
       "\t<li>10</li>\n",
       "\t<li>10</li>\n",
       "\t<li>4</li>\n",
       "\t<li>9</li>\n",
       "\t<li>8</li>\n",
       "\t<li>13</li>\n",
       "\t<li>16</li>\n",
       "\t<li>17</li>\n",
       "\t<li>15</li>\n",
       "\t<li>20</li>\n",
       "</ol>\n"
      ],
      "text/latex": [
       "\\begin{enumerate}\n",
       "\\item 10\n",
       "\\item 10\n",
       "\\item 4\n",
       "\\item 9\n",
       "\\item 8\n",
       "\\item 13\n",
       "\\item 16\n",
       "\\item 17\n",
       "\\item 15\n",
       "\\item 20\n",
       "\\end{enumerate}\n"
      ],
      "text/markdown": [
       "1. 10\n",
       "2. 10\n",
       "3. 4\n",
       "4. 9\n",
       "5. 8\n",
       "6. 13\n",
       "7. 16\n",
       "8. 17\n",
       "9. 15\n",
       "10. 20\n",
       "\n",
       "\n"
      ],
      "text/plain": [
       "[[1]]\n",
       "[1] 10\n",
       "\n",
       "[[2]]\n",
       "[1] 10\n",
       "\n",
       "[[3]]\n",
       "[1] 4\n",
       "\n",
       "[[4]]\n",
       "[1] 9\n",
       "\n",
       "[[5]]\n",
       "[1] 8\n",
       "\n",
       "[[6]]\n",
       "[1] 13\n",
       "\n",
       "[[7]]\n",
       "[1] 16\n",
       "\n",
       "[[8]]\n",
       "[1] 17\n",
       "\n",
       "[[9]]\n",
       "[1] 15\n",
       "\n",
       "[[10]]\n",
       "[1] 20\n"
      ]
     },
     "metadata": {},
     "output_type": "display_data"
    }
   ],
   "source": [
    "v <- c(1:10)\n",
    "\n",
    "add_random <- function(x) {\n",
    "    rand <- sample(x = 1:10, 1)\n",
    "    return(x + rand)\n",
    "}\n",
    "\n",
    "lapply(v, add_random)"
   ]
  },
  {
   "cell_type": "markdown",
   "metadata": {},
   "source": [
    "ANONYMOUS FUNCTIONS"
   ]
  },
  {
   "cell_type": "code",
   "execution_count": 22,
   "metadata": {},
   "outputs": [
    {
     "data": {
      "text/html": [
       "<ol>\n",
       "\t<li>7</li>\n",
       "\t<li>12</li>\n",
       "\t<li>9</li>\n",
       "\t<li>14</li>\n",
       "\t<li>13</li>\n",
       "\t<li>14</li>\n",
       "\t<li>16</li>\n",
       "\t<li>15</li>\n",
       "\t<li>19</li>\n",
       "\t<li>20</li>\n",
       "</ol>\n"
      ],
      "text/latex": [
       "\\begin{enumerate}\n",
       "\\item 7\n",
       "\\item 12\n",
       "\\item 9\n",
       "\\item 14\n",
       "\\item 13\n",
       "\\item 14\n",
       "\\item 16\n",
       "\\item 15\n",
       "\\item 19\n",
       "\\item 20\n",
       "\\end{enumerate}\n"
      ],
      "text/markdown": [
       "1. 7\n",
       "2. 12\n",
       "3. 9\n",
       "4. 14\n",
       "5. 13\n",
       "6. 14\n",
       "7. 16\n",
       "8. 15\n",
       "9. 19\n",
       "10. 20\n",
       "\n",
       "\n"
      ],
      "text/plain": [
       "[[1]]\n",
       "[1] 7\n",
       "\n",
       "[[2]]\n",
       "[1] 12\n",
       "\n",
       "[[3]]\n",
       "[1] 9\n",
       "\n",
       "[[4]]\n",
       "[1] 14\n",
       "\n",
       "[[5]]\n",
       "[1] 13\n",
       "\n",
       "[[6]]\n",
       "[1] 14\n",
       "\n",
       "[[7]]\n",
       "[1] 16\n",
       "\n",
       "[[8]]\n",
       "[1] 15\n",
       "\n",
       "[[9]]\n",
       "[1] 19\n",
       "\n",
       "[[10]]\n",
       "[1] 20\n"
      ]
     },
     "metadata": {},
     "output_type": "display_data"
    }
   ],
   "source": [
    "lapply(v, function(x) {x + sample(x = 1:10, 1)})"
   ]
  },
  {
   "cell_type": "code",
   "execution_count": 23,
   "metadata": {},
   "outputs": [
    {
     "data": {
      "text/html": [
       "<ol>\n",
       "\t<li>3</li>\n",
       "\t<li>4</li>\n",
       "\t<li>5</li>\n",
       "\t<li>6</li>\n",
       "\t<li>7</li>\n",
       "\t<li>8</li>\n",
       "\t<li>9</li>\n",
       "\t<li>10</li>\n",
       "\t<li>11</li>\n",
       "\t<li>12</li>\n",
       "</ol>\n"
      ],
      "text/latex": [
       "\\begin{enumerate}\n",
       "\\item 3\n",
       "\\item 4\n",
       "\\item 5\n",
       "\\item 6\n",
       "\\item 7\n",
       "\\item 8\n",
       "\\item 9\n",
       "\\item 10\n",
       "\\item 11\n",
       "\\item 12\n",
       "\\end{enumerate}\n"
      ],
      "text/markdown": [
       "1. 3\n",
       "2. 4\n",
       "3. 5\n",
       "4. 6\n",
       "5. 7\n",
       "6. 8\n",
       "7. 9\n",
       "8. 10\n",
       "9. 11\n",
       "10. 12\n",
       "\n",
       "\n"
      ],
      "text/plain": [
       "[[1]]\n",
       "[1] 3\n",
       "\n",
       "[[2]]\n",
       "[1] 4\n",
       "\n",
       "[[3]]\n",
       "[1] 5\n",
       "\n",
       "[[4]]\n",
       "[1] 6\n",
       "\n",
       "[[5]]\n",
       "[1] 7\n",
       "\n",
       "[[6]]\n",
       "[1] 8\n",
       "\n",
       "[[7]]\n",
       "[1] 9\n",
       "\n",
       "[[8]]\n",
       "[1] 10\n",
       "\n",
       "[[9]]\n",
       "[1] 11\n",
       "\n",
       "[[10]]\n",
       "[1] 12\n"
      ]
     },
     "metadata": {},
     "output_type": "display_data"
    }
   ],
   "source": [
    "lapply(v, function(x) {x+2})"
   ]
  },
  {
   "cell_type": "code",
   "execution_count": 45,
   "metadata": {},
   "outputs": [
    {
     "name": "stdout",
     "output_type": "stream",
     "text": [
      " [1]  2  4  6  8 10 12 14 16 18 20 22 24 26 28 30 32 34 36 38 40\n"
     ]
    }
   ],
   "source": [
    "n <- 1:20\n",
    "res <- sapply(n, function(x) {x * 2})\n",
    "print(res)"
   ]
  },
  {
   "cell_type": "code",
   "execution_count": 25,
   "metadata": {},
   "outputs": [
    {
     "data": {
      "text/html": [
       "5"
      ],
      "text/latex": [
       "5"
      ],
      "text/markdown": [
       "5"
      ],
      "text/plain": [
       "[1] 5"
      ]
     },
     "metadata": {},
     "output_type": "display_data"
    }
   ],
   "source": [
    "add_choice <- function(n, choice) {\n",
    "    return(n + choice)\n",
    "}\n",
    "\n",
    "add_choice(2, 3)"
   ]
  },
  {
   "cell_type": "code",
   "execution_count": 26,
   "metadata": {},
   "outputs": [
    {
     "ename": "ERROR",
     "evalue": "Error in FUN(X[[i]], ...): argument \"choice\" is missing, with no default\n",
     "output_type": "error",
     "traceback": [
      "Error in FUN(X[[i]], ...): argument \"choice\" is missing, with no default\nTraceback:\n",
      "1. lapply(v, add_choice)",
      "2. FUN(X[[i]], ...)"
     ]
    }
   ],
   "source": [
    "lapply(v, add_choice)"
   ]
  },
  {
   "cell_type": "code",
   "execution_count": 28,
   "metadata": {},
   "outputs": [
    {
     "data": {
      "text/html": [
       "<ol>\n",
       "\t<li>4</li>\n",
       "\t<li>5</li>\n",
       "\t<li>6</li>\n",
       "\t<li>7</li>\n",
       "\t<li>8</li>\n",
       "\t<li>9</li>\n",
       "\t<li>10</li>\n",
       "\t<li>11</li>\n",
       "\t<li>12</li>\n",
       "\t<li>13</li>\n",
       "</ol>\n"
      ],
      "text/latex": [
       "\\begin{enumerate}\n",
       "\\item 4\n",
       "\\item 5\n",
       "\\item 6\n",
       "\\item 7\n",
       "\\item 8\n",
       "\\item 9\n",
       "\\item 10\n",
       "\\item 11\n",
       "\\item 12\n",
       "\\item 13\n",
       "\\end{enumerate}\n"
      ],
      "text/markdown": [
       "1. 4\n",
       "2. 5\n",
       "3. 6\n",
       "4. 7\n",
       "5. 8\n",
       "6. 9\n",
       "7. 10\n",
       "8. 11\n",
       "9. 12\n",
       "10. 13\n",
       "\n",
       "\n"
      ],
      "text/plain": [
       "[[1]]\n",
       "[1] 4\n",
       "\n",
       "[[2]]\n",
       "[1] 5\n",
       "\n",
       "[[3]]\n",
       "[1] 6\n",
       "\n",
       "[[4]]\n",
       "[1] 7\n",
       "\n",
       "[[5]]\n",
       "[1] 8\n",
       "\n",
       "[[6]]\n",
       "[1] 9\n",
       "\n",
       "[[7]]\n",
       "[1] 10\n",
       "\n",
       "[[8]]\n",
       "[1] 11\n",
       "\n",
       "[[9]]\n",
       "[1] 12\n",
       "\n",
       "[[10]]\n",
       "[1] 13\n"
      ]
     },
     "metadata": {},
     "output_type": "display_data"
    }
   ],
   "source": [
    "lapply(v, add_choice, choice = 3)"
   ]
  },
  {
   "cell_type": "markdown",
   "metadata": {},
   "source": [
    "SAPPLY()"
   ]
  },
  {
   "cell_type": "code",
   "execution_count": 29,
   "metadata": {},
   "outputs": [
    {
     "data": {
      "text/html": [
       "<style>\n",
       ".list-inline {list-style: none; margin:0; padding: 0}\n",
       ".list-inline>li {display: inline-block}\n",
       ".list-inline>li:not(:last-child)::after {content: \"\\00b7\"; padding: 0 .5ex}\n",
       "</style>\n",
       "<ol class=list-inline><li>11</li><li>12</li><li>13</li><li>14</li><li>15</li><li>16</li><li>17</li><li>18</li><li>19</li><li>20</li></ol>\n"
      ],
      "text/latex": [
       "\\begin{enumerate*}\n",
       "\\item 11\n",
       "\\item 12\n",
       "\\item 13\n",
       "\\item 14\n",
       "\\item 15\n",
       "\\item 16\n",
       "\\item 17\n",
       "\\item 18\n",
       "\\item 19\n",
       "\\item 20\n",
       "\\end{enumerate*}\n"
      ],
      "text/markdown": [
       "1. 11\n",
       "2. 12\n",
       "3. 13\n",
       "4. 14\n",
       "5. 15\n",
       "6. 16\n",
       "7. 17\n",
       "8. 18\n",
       "9. 19\n",
       "10. 20\n",
       "\n",
       "\n"
      ],
      "text/plain": [
       " [1] 11 12 13 14 15 16 17 18 19 20"
      ]
     },
     "metadata": {},
     "output_type": "display_data"
    }
   ],
   "source": [
    "sapply(v, add_choice, choice = 10)"
   ]
  },
  {
   "cell_type": "code",
   "execution_count": 30,
   "metadata": {},
   "outputs": [],
   "source": [
    "lapp <- lapply(v, add_choice, choice = 10)\n",
    "sapp <- sapply(v, add_choice, choice = 10)"
   ]
  },
  {
   "cell_type": "code",
   "execution_count": 32,
   "metadata": {},
   "outputs": [
    {
     "data": {
      "text/html": [
       "'list'"
      ],
      "text/latex": [
       "'list'"
      ],
      "text/markdown": [
       "'list'"
      ],
      "text/plain": [
       "[1] \"list\""
      ]
     },
     "metadata": {},
     "output_type": "display_data"
    },
    {
     "data": {
      "text/html": [
       "'numeric'"
      ],
      "text/latex": [
       "'numeric'"
      ],
      "text/markdown": [
       "'numeric'"
      ],
      "text/plain": [
       "[1] \"numeric\""
      ]
     },
     "metadata": {},
     "output_type": "display_data"
    }
   ],
   "source": [
    "class(lapp)\n",
    "class(sapp)"
   ]
  },
  {
   "cell_type": "code",
   "execution_count": 33,
   "metadata": {},
   "outputs": [
    {
     "name": "stdout",
     "output_type": "stream",
     "text": [
      "[[1]]\n",
      "[1] 11\n",
      "\n",
      "[[2]]\n",
      "[1] 12\n",
      "\n",
      "[[3]]\n",
      "[1] 13\n",
      "\n",
      "[[4]]\n",
      "[1] 14\n",
      "\n",
      "[[5]]\n",
      "[1] 15\n",
      "\n",
      "[[6]]\n",
      "[1] 16\n",
      "\n",
      "[[7]]\n",
      "[1] 17\n",
      "\n",
      "[[8]]\n",
      "[1] 18\n",
      "\n",
      "[[9]]\n",
      "[1] 19\n",
      "\n",
      "[[10]]\n",
      "[1] 20\n",
      "\n"
     ]
    }
   ],
   "source": [
    "print(lapp)"
   ]
  },
  {
   "cell_type": "code",
   "execution_count": 34,
   "metadata": {},
   "outputs": [
    {
     "name": "stdout",
     "output_type": "stream",
     "text": [
      " [1] 11 12 13 14 15 16 17 18 19 20\n"
     ]
    }
   ],
   "source": [
    "print(sapp)"
   ]
  },
  {
   "cell_type": "markdown",
   "metadata": {},
   "source": [
    "sapply() cannot return a vector if the applied function does not return something for all elements in that vector."
   ]
  },
  {
   "cell_type": "code",
   "execution_count": 38,
   "metadata": {},
   "outputs": [],
   "source": [
    "even <- function(x) {\n",
    "    return(x[x %% 2 == 0])\n",
    "}\n",
    "\n",
    "nums <- c(1:10)"
   ]
  },
  {
   "cell_type": "code",
   "execution_count": 39,
   "metadata": {},
   "outputs": [
    {
     "data": {
      "text/html": [
       "<ol>\n",
       "\t<li></li>\n",
       "\t<li>2</li>\n",
       "\t<li></li>\n",
       "\t<li>4</li>\n",
       "\t<li></li>\n",
       "\t<li>6</li>\n",
       "\t<li></li>\n",
       "\t<li>8</li>\n",
       "\t<li></li>\n",
       "\t<li>10</li>\n",
       "</ol>\n"
      ],
      "text/latex": [
       "\\begin{enumerate}\n",
       "\\item \n",
       "\\item 2\n",
       "\\item \n",
       "\\item 4\n",
       "\\item \n",
       "\\item 6\n",
       "\\item \n",
       "\\item 8\n",
       "\\item \n",
       "\\item 10\n",
       "\\end{enumerate}\n"
      ],
      "text/markdown": [
       "1. \n",
       "2. 2\n",
       "3. \n",
       "4. 4\n",
       "5. \n",
       "6. 6\n",
       "7. \n",
       "8. 8\n",
       "9. \n",
       "10. 10\n",
       "\n",
       "\n"
      ],
      "text/plain": [
       "[[1]]\n",
       "integer(0)\n",
       "\n",
       "[[2]]\n",
       "[1] 2\n",
       "\n",
       "[[3]]\n",
       "integer(0)\n",
       "\n",
       "[[4]]\n",
       "[1] 4\n",
       "\n",
       "[[5]]\n",
       "integer(0)\n",
       "\n",
       "[[6]]\n",
       "[1] 6\n",
       "\n",
       "[[7]]\n",
       "integer(0)\n",
       "\n",
       "[[8]]\n",
       "[1] 8\n",
       "\n",
       "[[9]]\n",
       "integer(0)\n",
       "\n",
       "[[10]]\n",
       "[1] 10\n"
      ]
     },
     "metadata": {},
     "output_type": "display_data"
    }
   ],
   "source": [
    "sapply(nums, even)"
   ]
  },
  {
   "cell_type": "code",
   "execution_count": 37,
   "metadata": {},
   "outputs": [
    {
     "data": {
      "text/html": [
       "<ol>\n",
       "\t<li></li>\n",
       "\t<li>2</li>\n",
       "\t<li></li>\n",
       "\t<li>4</li>\n",
       "\t<li></li>\n",
       "\t<li>6</li>\n",
       "\t<li></li>\n",
       "\t<li>8</li>\n",
       "\t<li></li>\n",
       "\t<li>10</li>\n",
       "</ol>\n"
      ],
      "text/latex": [
       "\\begin{enumerate}\n",
       "\\item \n",
       "\\item 2\n",
       "\\item \n",
       "\\item 4\n",
       "\\item \n",
       "\\item 6\n",
       "\\item \n",
       "\\item 8\n",
       "\\item \n",
       "\\item 10\n",
       "\\end{enumerate}\n"
      ],
      "text/markdown": [
       "1. \n",
       "2. 2\n",
       "3. \n",
       "4. 4\n",
       "5. \n",
       "6. 6\n",
       "7. \n",
       "8. 8\n",
       "9. \n",
       "10. 10\n",
       "\n",
       "\n"
      ],
      "text/plain": [
       "[[1]]\n",
       "integer(0)\n",
       "\n",
       "[[2]]\n",
       "[1] 2\n",
       "\n",
       "[[3]]\n",
       "integer(0)\n",
       "\n",
       "[[4]]\n",
       "[1] 4\n",
       "\n",
       "[[5]]\n",
       "integer(0)\n",
       "\n",
       "[[6]]\n",
       "[1] 6\n",
       "\n",
       "[[7]]\n",
       "integer(0)\n",
       "\n",
       "[[8]]\n",
       "[1] 8\n",
       "\n",
       "[[9]]\n",
       "integer(0)\n",
       "\n",
       "[[10]]\n",
       "[1] 10\n"
      ]
     },
     "metadata": {},
     "output_type": "display_data"
    }
   ],
   "source": [
    "lapply(nums, even)"
   ]
  },
  {
   "cell_type": "markdown",
   "metadata": {},
   "source": [
    "math functions"
   ]
  },
  {
   "cell_type": "code",
   "execution_count": 46,
   "metadata": {},
   "outputs": [],
   "source": [
    "v <- c(1:10)"
   ]
  },
  {
   "cell_type": "code",
   "execution_count": 47,
   "metadata": {},
   "outputs": [
    {
     "data": {
      "text/html": [
       "<style>\n",
       ".list-inline {list-style: none; margin:0; padding: 0}\n",
       ".list-inline>li {display: inline-block}\n",
       ".list-inline>li:not(:last-child)::after {content: \"\\00b7\"; padding: 0 .5ex}\n",
       "</style>\n",
       "<ol class=list-inline><li>1</li><li>2</li><li>3</li><li>4</li><li>5</li><li>6</li><li>7</li><li>8</li><li>9</li><li>10</li></ol>\n"
      ],
      "text/latex": [
       "\\begin{enumerate*}\n",
       "\\item 1\n",
       "\\item 2\n",
       "\\item 3\n",
       "\\item 4\n",
       "\\item 5\n",
       "\\item 6\n",
       "\\item 7\n",
       "\\item 8\n",
       "\\item 9\n",
       "\\item 10\n",
       "\\end{enumerate*}\n"
      ],
      "text/markdown": [
       "1. 1\n",
       "2. 2\n",
       "3. 3\n",
       "4. 4\n",
       "5. 5\n",
       "6. 6\n",
       "7. 7\n",
       "8. 8\n",
       "9. 9\n",
       "10. 10\n",
       "\n",
       "\n"
      ],
      "text/plain": [
       " [1]  1  2  3  4  5  6  7  8  9 10"
      ]
     },
     "metadata": {},
     "output_type": "display_data"
    }
   ],
   "source": [
    "abs(v)"
   ]
  },
  {
   "cell_type": "code",
   "execution_count": 48,
   "metadata": {},
   "outputs": [
    {
     "data": {
      "text/html": [
       "2"
      ],
      "text/latex": [
       "2"
      ],
      "text/markdown": [
       "2"
      ],
      "text/plain": [
       "[1] 2"
      ]
     },
     "metadata": {},
     "output_type": "display_data"
    }
   ],
   "source": [
    "abs(-2)"
   ]
  },
  {
   "cell_type": "code",
   "execution_count": 49,
   "metadata": {},
   "outputs": [
    {
     "data": {
      "text/html": [
       "55"
      ],
      "text/latex": [
       "55"
      ],
      "text/markdown": [
       "55"
      ],
      "text/plain": [
       "[1] 55"
      ]
     },
     "metadata": {},
     "output_type": "display_data"
    }
   ],
   "source": [
    "sum(v)"
   ]
  },
  {
   "cell_type": "code",
   "execution_count": 50,
   "metadata": {},
   "outputs": [
    {
     "data": {
      "text/html": [
       "5.5"
      ],
      "text/latex": [
       "5.5"
      ],
      "text/markdown": [
       "5.5"
      ],
      "text/plain": [
       "[1] 5.5"
      ]
     },
     "metadata": {},
     "output_type": "display_data"
    }
   ],
   "source": [
    "mean(v)"
   ]
  },
  {
   "cell_type": "code",
   "execution_count": 52,
   "metadata": {},
   "outputs": [
    {
     "data": {
      "text/html": [
       "24"
      ],
      "text/latex": [
       "24"
      ],
      "text/markdown": [
       "24"
      ],
      "text/plain": [
       "[1] 24"
      ]
     },
     "metadata": {},
     "output_type": "display_data"
    }
   ],
   "source": [
    "round(23.890)"
   ]
  },
  {
   "cell_type": "code",
   "execution_count": 53,
   "metadata": {},
   "outputs": [
    {
     "data": {
      "text/html": [
       "2.35"
      ],
      "text/latex": [
       "2.35"
      ],
      "text/markdown": [
       "2.35"
      ],
      "text/plain": [
       "[1] 2.35"
      ]
     },
     "metadata": {},
     "output_type": "display_data"
    }
   ],
   "source": [
    "round(2.345325, digits = 2)"
   ]
  },
  {
   "cell_type": "code",
   "execution_count": 54,
   "metadata": {},
   "outputs": [
    {
     "name": "stderr",
     "output_type": "stream",
     "text": [
      "Warning message in seq_len(head.end.idx):\n",
      "\"first element used of 'length.out' argument\"\n",
      "ERROR while rich displaying an object: Error in seq_len(head.end.idx): argument must be coercible to non-negative integer\n",
      "\n",
      "Traceback:\n",
      "1. FUN(X[[i]], ...)\n",
      "2. tryCatch(withCallingHandlers({\n",
      " .     if (!mime %in% names(repr::mime2repr)) \n",
      " .         stop(\"No repr_* for mimetype \", mime, \" in repr::mime2repr\")\n",
      " .     rpr <- repr::mime2repr[[mime]](obj)\n",
      " .     if (is.null(rpr)) \n",
      " .         return(NULL)\n",
      " .     prepare_content(is.raw(rpr), rpr)\n",
      " . }, error = error_handler), error = outer_handler)\n",
      "3. tryCatchList(expr, classes, parentenv, handlers)\n",
      "4. tryCatchOne(expr, names, parentenv, handlers[[1L]])\n",
      "5. doTryCatch(return(expr), name, parentenv, handler)\n",
      "6. withCallingHandlers({\n",
      " .     if (!mime %in% names(repr::mime2repr)) \n",
      " .         stop(\"No repr_* for mimetype \", mime, \" in repr::mime2repr\")\n",
      " .     rpr <- repr::mime2repr[[mime]](obj)\n",
      " .     if (is.null(rpr)) \n",
      " .         return(NULL)\n",
      " .     prepare_content(is.raw(rpr), rpr)\n",
      " . }, error = error_handler)\n",
      "7. repr::mime2repr[[mime]](obj)\n",
      "8. repr_html.help_files_with_topic(obj)\n",
      "9. repr_help_files_with_topic_generic(obj, Rd2HTML)\n"
     ]
    },
    {
     "name": "stdout",
     "output_type": "stream",
     "text": [
      "numeric                  package:base                  R Documentation\n",
      "\n",
      "_\bN_\bu_\bm_\be_\br_\bi_\bc _\bV_\be_\bc_\bt_\bo_\br_\bs\n",
      "\n",
      "_\bD_\be_\bs_\bc_\br_\bi_\bp_\bt_\bi_\bo_\bn:\n",
      "\n",
      "     Creates or coerces objects of type '\"numeric\"'.  'is.numeric' is a\n",
      "     more general test of an object being interpretable as numbers.\n",
      "\n",
      "_\bU_\bs_\ba_\bg_\be:\n",
      "\n",
      "     numeric(length = 0)\n",
      "     as.numeric(x, ...)\n",
      "     is.numeric(x)\n",
      "     \n",
      "_\bA_\br_\bg_\bu_\bm_\be_\bn_\bt_\bs:\n",
      "\n",
      "  length: A non-negative integer specifying the desired length.  Double\n",
      "          values will be coerced to integer: supplying an argument of\n",
      "          length other than one is an error.\n",
      "\n",
      "       x: object to be coerced or tested.\n",
      "\n",
      "     ...: further arguments passed to or from other methods.\n",
      "\n",
      "_\bD_\be_\bt_\ba_\bi_\bl_\bs:\n",
      "\n",
      "     'numeric' is identical to 'double' (and 'real').  It creates a\n",
      "     double-precision vector of the specified length with each element\n",
      "     equal to '0'.\n",
      "\n",
      "     'as.numeric' is a generic function, but S3 methods must be written\n",
      "     for 'as.double'.  It is identical to 'as.double'.\n",
      "\n",
      "     'is.numeric' is an internal generic 'primitive' function: you can\n",
      "     write methods to handle specific classes of objects, see\n",
      "     InternalMethods.  It is *not* the same as 'is.double'.  Factors\n",
      "     are handled by the default method, and there are methods for\n",
      "     classes '\"Date\"', '\"POSIXt\"' and '\"difftime\"' (all of which return\n",
      "     false).  Methods for 'is.numeric' should only return true if the\n",
      "     base type of the class is 'double' or 'integer' _and_ values can\n",
      "     reasonably be regarded as numeric (e.g., arithmetic on them makes\n",
      "     sense, and comparison should be done via the base type).\n",
      "\n",
      "_\bV_\ba_\bl_\bu_\be:\n",
      "\n",
      "     for 'numeric' and 'as.numeric' see 'double'.\n",
      "\n",
      "     The default method for 'is.numeric' returns 'TRUE' if its argument\n",
      "     is of mode '\"numeric\"' (type '\"double\"' or type '\"integer\"') and\n",
      "     not a factor, and 'FALSE' otherwise.  That is, 'is.integer(x) ||\n",
      "     is.double(x)', or '(mode(x) == \"numeric\") && !is.factor(x)'.\n",
      "\n",
      "_\bW_\ba_\br_\bn_\bi_\bn_\bg:\n",
      "\n",
      "     If 'x' is a 'factor', 'as.numeric' will return the underlying\n",
      "     numeric (integer) representation, which is often meaningless as it\n",
      "     may not correspond to the 'factor' 'levels', see the 'Warning'\n",
      "     section in 'factor' (and the 2nd example below).\n",
      "\n",
      "_\bS_\b4 _\bm_\be_\bt_\bh_\bo_\bd_\bs:\n",
      "\n",
      "     'as.numeric' and 'is.numeric' are internally S4 generic and so\n",
      "     methods can be set for them _via_ 'setMethod'.\n",
      "\n",
      "     To ensure that 'as.numeric' and 'as.double' remain identical, S4\n",
      "     methods can only be set for 'as.numeric'.\n",
      "\n",
      "_\bN_\bo_\bt_\be _\bo_\bn _\bn_\ba_\bm_\be_\bs:\n",
      "\n",
      "     It is a historical anomaly that R has two names for its\n",
      "     floating-point vectors, 'double' and 'numeric' (and formerly had\n",
      "     'real').\n",
      "\n",
      "     'double' is the name of the type.  'numeric' is the name of the\n",
      "     mode and also of the implicit class.  As an S4 formal class, use\n",
      "     '\"numeric\"'.\n",
      "\n",
      "     The potential confusion is that R has used _mode_ '\"numeric\"' to\n",
      "     mean 'double or integer', which conflicts with the S4 usage.  Thus\n",
      "     'is.numeric' tests the mode, not the class, but 'as.numeric'\n",
      "     (which is identical to 'as.double') coerces to the class.\n",
      "\n",
      "_\bR_\be_\bf_\be_\br_\be_\bn_\bc_\be_\bs:\n",
      "\n",
      "     Becker, R. A., Chambers, J. M. and Wilks, A. R. (1988) _The New S\n",
      "     Language_.  Wadsworth & Brooks/Cole.\n",
      "\n",
      "_\bS_\be_\be _\bA_\bl_\bs_\bo:\n",
      "\n",
      "     'double', 'integer', 'storage.mode'.\n",
      "\n",
      "_\bE_\bx_\ba_\bm_\bp_\bl_\be_\bs:\n",
      "\n",
      "     ## Conversion does trim whitespace; non-numeric strings give NA + warning\n",
      "     as.numeric(c(\"-.1\",\" 2.7 \",\"B\"))\n",
      "     \n",
      "     ## Numeric values are sometimes accidentally converted to factors.\n",
      "     ## Converting them back to numeric is trickier than you'd expect.\n",
      "     f <- factor(5:10)\n",
      "     as.numeric(f) # not what you might expect, probably not what you want\n",
      "     ## what you typically meant and want:\n",
      "     as.numeric(as.character(f))\n",
      "     ## the same, considerably more efficient (for long vectors):\n",
      "     as.numeric(levels(f))[f]\n",
      "     "
     ]
    }
   ],
   "source": [
    "help(numeric)"
   ]
  },
  {
   "cell_type": "markdown",
   "metadata": {},
   "source": [
    "REGEX"
   ]
  },
  {
   "cell_type": "code",
   "execution_count": 55,
   "metadata": {},
   "outputs": [],
   "source": [
    "text <- \" Hello, the new Spider-Man movie is coming out soon. Have you seen the new trailer? \""
   ]
  },
  {
   "cell_type": "code",
   "execution_count": 56,
   "metadata": {},
   "outputs": [
    {
     "data": {
      "text/html": [
       "TRUE"
      ],
      "text/latex": [
       "TRUE"
      ],
      "text/markdown": [
       "TRUE"
      ],
      "text/plain": [
       "[1] TRUE"
      ]
     },
     "metadata": {},
     "output_type": "display_data"
    }
   ],
   "source": [
    "grepl(\"Spider\", text)"
   ]
  },
  {
   "cell_type": "code",
   "execution_count": 57,
   "metadata": {},
   "outputs": [
    {
     "data": {
      "text/html": [
       "TRUE"
      ],
      "text/latex": [
       "TRUE"
      ],
      "text/markdown": [
       "TRUE"
      ],
      "text/plain": [
       "[1] TRUE"
      ]
     },
     "metadata": {},
     "output_type": "display_data"
    }
   ],
   "source": [
    "grepl(\"new\", text)"
   ]
  },
  {
   "cell_type": "code",
   "execution_count": 58,
   "metadata": {},
   "outputs": [
    {
     "data": {
      "text/html": [
       "FALSE"
      ],
      "text/latex": [
       "FALSE"
      ],
      "text/markdown": [
       "FALSE"
      ],
      "text/plain": [
       "[1] FALSE"
      ]
     },
     "metadata": {},
     "output_type": "display_data"
    }
   ],
   "source": [
    "grepl(\"Iron-Man\", text)"
   ]
  },
  {
   "cell_type": "code",
   "execution_count": 59,
   "metadata": {},
   "outputs": [],
   "source": [
    "v <- c('a', 'b', 'c', 'd', 'e')"
   ]
  },
  {
   "cell_type": "code",
   "execution_count": 60,
   "metadata": {},
   "outputs": [
    {
     "data": {
      "text/html": [
       "<style>\n",
       ".list-inline {list-style: none; margin:0; padding: 0}\n",
       ".list-inline>li {display: inline-block}\n",
       ".list-inline>li:not(:last-child)::after {content: \"\\00b7\"; padding: 0 .5ex}\n",
       "</style>\n",
       "<ol class=list-inline><li>TRUE</li><li>FALSE</li><li>FALSE</li><li>FALSE</li><li>FALSE</li></ol>\n"
      ],
      "text/latex": [
       "\\begin{enumerate*}\n",
       "\\item TRUE\n",
       "\\item FALSE\n",
       "\\item FALSE\n",
       "\\item FALSE\n",
       "\\item FALSE\n",
       "\\end{enumerate*}\n"
      ],
      "text/markdown": [
       "1. TRUE\n",
       "2. FALSE\n",
       "3. FALSE\n",
       "4. FALSE\n",
       "5. FALSE\n",
       "\n",
       "\n"
      ],
      "text/plain": [
       "[1]  TRUE FALSE FALSE FALSE FALSE"
      ]
     },
     "metadata": {},
     "output_type": "display_data"
    }
   ],
   "source": [
    "grepl('a', v)"
   ]
  },
  {
   "cell_type": "code",
   "execution_count": 61,
   "metadata": {},
   "outputs": [
    {
     "data": {
      "text/html": [
       "1"
      ],
      "text/latex": [
       "1"
      ],
      "text/markdown": [
       "1"
      ],
      "text/plain": [
       "[1] 1"
      ]
     },
     "metadata": {},
     "output_type": "display_data"
    }
   ],
   "source": [
    "grep('a', v)"
   ]
  },
  {
   "cell_type": "markdown",
   "metadata": {},
   "source": [
    "TIMESTAMPS"
   ]
  },
  {
   "cell_type": "code",
   "execution_count": 62,
   "metadata": {},
   "outputs": [
    {
     "data": {
      "text/html": [
       "<time datetime=\"2021-11-17\">2021-11-17</time>"
      ],
      "text/latex": [
       "2021-11-17"
      ],
      "text/markdown": [
       "2021-11-17"
      ],
      "text/plain": [
       "[1] \"2021-11-17\""
      ]
     },
     "metadata": {},
     "output_type": "display_data"
    }
   ],
   "source": [
    "Sys.Date()"
   ]
  },
  {
   "cell_type": "code",
   "execution_count": 63,
   "metadata": {},
   "outputs": [
    {
     "name": "stdout",
     "output_type": "stream",
     "text": [
      "[1] \"2021-11-17\"\n"
     ]
    }
   ],
   "source": [
    "today <- Sys.Date()\n",
    "print(today)"
   ]
  },
  {
   "cell_type": "code",
   "execution_count": 64,
   "metadata": {},
   "outputs": [
    {
     "data": {
      "text/html": [
       "<time datetime=\"1990-11-23\">1990-11-23</time>"
      ],
      "text/latex": [
       "1990-11-23"
      ],
      "text/markdown": [
       "1990-11-23"
      ],
      "text/plain": [
       "[1] \"1990-11-23\""
      ]
     },
     "metadata": {},
     "output_type": "display_data"
    }
   ],
   "source": [
    "# YYYY-MM-DD\n",
    "as.Date('1990-11-23')"
   ]
  },
  {
   "cell_type": "code",
   "execution_count": 65,
   "metadata": {},
   "outputs": [
    {
     "data": {
      "text/html": [
       "<time datetime=\"1990-11-30\">1990-11-30</time>"
      ],
      "text/latex": [
       "1990-11-30"
      ],
      "text/markdown": [
       "1990-11-30"
      ],
      "text/plain": [
       "[1] \"1990-11-30\""
      ]
     },
     "metadata": {},
     "output_type": "display_data"
    }
   ],
   "source": [
    "as.Date(\"Nov-30-90\", format = \"%b-%d-%y\")"
   ]
  },
  {
   "cell_type": "code",
   "execution_count": 66,
   "metadata": {},
   "outputs": [
    {
     "data": {
      "text/html": [
       "<time datetime=\"1990-11-30\">1990-11-30</time>"
      ],
      "text/latex": [
       "1990-11-30"
      ],
      "text/markdown": [
       "1990-11-30"
      ],
      "text/plain": [
       "[1] \"1990-11-30\""
      ]
     },
     "metadata": {},
     "output_type": "display_data"
    }
   ],
   "source": [
    "as.Date(\"November-30-1990\", format = \"%B-%d-%Y\")"
   ]
  },
  {
   "cell_type": "code",
   "execution_count": 68,
   "metadata": {},
   "outputs": [
    {
     "name": "stdout",
     "output_type": "stream",
     "text": [
      "R Help on 'strptime'\n",
      "\n",
      "strptime                 package:base                  R Documentation\n",
      "\n",
      "_\bD_\ba_\bt_\be-_\bt_\bi_\bm_\be _\bC_\bo_\bn_\bv_\be_\br_\bs_\bi_\bo_\bn _\bF_\bu_\bn_\bc_\bt_\bi_\bo_\bn_\bs _\bt_\bo _\ba_\bn_\bd _\bf_\br_\bo_\bm _\bC_\bh_\ba_\br_\ba_\bc_\bt_\be_\br\n",
      "\n",
      "_\bD_\be_\bs_\bc_\br_\bi_\bp_\bt_\bi_\bo_\bn:\n",
      "\n",
      "     Functions to convert between character representations and objects\n",
      "     of classes '\"POSIXlt\"' and '\"POSIXct\"' representing calendar dates\n",
      "     and times.\n",
      "\n",
      "_\bU_\bs_\ba_\bg_\be:\n",
      "\n",
      "     ## S3 method for class 'POSIXct'\n",
      "     format(x, format = \"\", tz = \"\", usetz = FALSE, ...)\n",
      "     ## S3 method for class 'POSIXlt'\n",
      "     format(x, format = \"\", usetz = FALSE, ...)\n",
      "     \n",
      "     ## S3 method for class 'POSIXt'\n",
      "     as.character(x, ...)\n",
      "     \n",
      "     strftime(x, format = \"\", tz = \"\", usetz = FALSE, ...)\n",
      "     strptime(x, format, tz = \"\")\n",
      "     \n",
      "_\bA_\br_\bg_\bu_\bm_\be_\bn_\bt_\bs:\n",
      "\n",
      "       x: An object to be converted: a character vector for 'strptime',\n",
      "          an object which can be converted to '\"POSIXlt\"' for\n",
      "          'strftime'.\n",
      "\n",
      "      tz: A character string specifying the time zone to be used for\n",
      "          the conversion.  System-specific (see 'as.POSIXlt'), but '\"\"'\n",
      "          is the current time zone, and '\"GMT\"' is UTC.  Invalid values\n",
      "          are most commonly treated as UTC, on some platforms with a\n",
      "          warning.\n",
      "\n",
      "  format: A character string.  The default for the 'format' methods is\n",
      "          '\"%Y-%m-%d %H:%M:%S\"' if any element has a time component\n",
      "          which is not midnight, and '\"%Y-%m-%d\"' otherwise.  If\n",
      "          'options(\"digits.secs\")' is set, up to the specified number\n",
      "          of digits will be printed for seconds.\n",
      "\n",
      "     ...: Further arguments to be passed from or to other methods.\n",
      "\n",
      "   usetz: logical.  Should the time zone abbreviation be appended to\n",
      "          the output?  This is used in printing times, and more\n",
      "          reliable than using '\"%Z\"'.\n",
      "\n",
      "_\bD_\be_\bt_\ba_\bi_\bl_\bs:\n",
      "\n",
      "     The 'format' and 'as.character' methods and 'strftime' convert\n",
      "     objects from the classes '\"POSIXlt\"' and '\"POSIXct\"' to character\n",
      "     vectors.\n",
      "\n",
      "     'strptime' converts character vectors to class '\"POSIXlt\"': its\n",
      "     input 'x' is first converted by 'as.character'.  Each input string\n",
      "     is processed as far as necessary for the format specified: any\n",
      "     trailing characters are ignored.\n",
      "\n",
      "     'strftime' is a wrapper for 'format.POSIXlt', and it and\n",
      "     'format.POSIXct' first convert to class '\"POSIXlt\"' by calling\n",
      "     'as.POSIXlt' (so they also work for class '\"Date\"').  Note that\n",
      "     only that conversion depends on the time zone.\n",
      "\n",
      "     The usual vector re-cycling rules are applied to 'x' and 'format'\n",
      "     so the answer will be of length of the longer of these vectors.\n",
      "\n",
      "     Locale-specific conversions to and from character strings are used\n",
      "     where appropriate and available.  This affects the names of the\n",
      "     days and months, the AM/PM indicator (if used) and the separators\n",
      "     in output formats such as '%x' and '%X', _via_ the setting of the\n",
      "     'LC_TIME' locale category.  The 'current locale' of the\n",
      "     descriptions might mean the locale in use at the start of the R\n",
      "     session or when these functions are first used.  (For input, the\n",
      "     locale-specific conversions can be changed by calling\n",
      "     'Sys.setlocale' with category 'LC_TIME' (or 'LC_ALL').  For\n",
      "     output, what happens depends on the OS but usually works.)\n",
      "\n",
      "     The details of the formats are platform-specific, but the\n",
      "     following are likely to be widely available: most are defined by\n",
      "     the POSIX standard.  A _conversion specification_ is introduced by\n",
      "     '%', usually followed by a single letter or 'O' or 'E' and then a\n",
      "     single letter.  Any character in the format string not part of a\n",
      "     conversion specification is interpreted literally (and '%%' gives\n",
      "     '%').  Widely implemented conversion specifications include\n",
      "\n",
      "     '%a' Abbreviated weekday name in the current locale on this\n",
      "          platform.  (Also matches full name on input: in some locales\n",
      "          there are no abbreviations of names.)\n",
      "\n",
      "     '%A' Full weekday name in the current locale.  (Also matches\n",
      "          abbreviated name on input.)\n",
      "\n",
      "     '%b' Abbreviated month name in the current locale on this\n",
      "          platform.  (Also matches full name on input: in some locales\n",
      "          there are no abbreviations of names.)\n",
      "\n",
      "     '%B' Full month name in the current locale.  (Also matches\n",
      "          abbreviated name on input.)\n",
      "\n",
      "     '%c' Date and time.  Locale-specific on output, '\"%a %b %e\n",
      "          %H:%M:%S %Y\"' on input.\n",
      "\n",
      "     '%C' Century (00-99): the integer part of the year divided by 100.\n",
      "\n",
      "     '%d' Day of the month as decimal number (01-31).\n",
      "\n",
      "     '%D' Date format such as '%m/%d/%y': the C99 standard says it\n",
      "          should be that exact format (but not all OSes comply).\n",
      "\n",
      "     '%e' Day of the month as decimal number (1-31), with a leading\n",
      "          space for a single-digit number.\n",
      "\n",
      "     '%F' Equivalent to %Y-%m-%d (the ISO 8601 date format).\n",
      "\n",
      "     '%g' The last two digits of the week-based year (see '%V').\n",
      "          (Accepted but ignored on input.)\n",
      "\n",
      "     '%G' The week-based year (see '%V') as a decimal number.\n",
      "          (Accepted but ignored on input.)\n",
      "\n",
      "     '%h' Equivalent to '%b'.\n",
      "\n",
      "     '%H' Hours as decimal number (00-23).  As a special exception\n",
      "          strings such as '24:00:00' are accepted for input, since ISO\n",
      "          8601 allows these.\n",
      "\n",
      "     '%I' Hours as decimal number (01-12).\n",
      "\n",
      "     '%j' Day of year as decimal number (001-366): For input, 366 is\n",
      "          only valid in a leap year.\n",
      "\n",
      "     '%m' Month as decimal number (01-12).\n",
      "\n",
      "     '%M' Minute as decimal number (00-59).\n",
      "\n",
      "     '%n' Newline on output, arbitrary whitespace on input.\n",
      "\n",
      "     '%p' AM/PM indicator in the locale.  Used in conjunction with '%I'\n",
      "          and *not* with '%H'.  An empty string in some locales (for\n",
      "          example on some OSes, non-English European locales including\n",
      "          Russia). The behaviour is undefined if used for input in such\n",
      "          a locale.\n",
      "\n",
      "          Some platforms accept '%P' for output, which uses a\n",
      "          lower-case version ('%p' may also use lower case): others\n",
      "          will output 'P'.\n",
      "\n",
      "     '%r' For output, the 12-hour clock time (using the locale's AM or\n",
      "          PM): only defined in some locales, and on some OSes\n",
      "          misleading in locales which do not define an AM/PM indicator.\n",
      "          For input, equivalent to '%I:%M:%S %p'.\n",
      "\n",
      "     '%R' Equivalent to '%H:%M'.\n",
      "\n",
      "     '%S' Second as integer (00-61), allowing for up to two\n",
      "          leap-seconds (but POSIX-compliant implementations will ignore\n",
      "          leap seconds).\n",
      "\n",
      "     '%t' Tab on output, arbitrary whitespace on input.\n",
      "\n",
      "     '%T' Equivalent to '%H:%M:%S'.\n",
      "\n",
      "     '%u' Weekday as a decimal number (1-7, Monday is 1).\n",
      "\n",
      "     '%U' Week of the year as decimal number (00-53) using Sunday as\n",
      "          the first day 1 of the week (and typically with the first\n",
      "          Sunday of the year as day 1 of week 1).  The US convention.\n",
      "\n",
      "     '%V' Week of the year as decimal number (01-53) as defined in ISO\n",
      "          8601.  If the week (starting on Monday) containing 1 January\n",
      "          has four or more days in the new year, then it is considered\n",
      "          week 1.  Otherwise, it is the last week of the previous year,\n",
      "          and the next week is week 1.  (Accepted but ignored on\n",
      "          input.)\n",
      "\n",
      "     '%w' Weekday as decimal number (0-6, Sunday is 0).\n",
      "\n",
      "     '%W' Week of the year as decimal number (00-53) using Monday as\n",
      "          the first day of week (and typically with the first Monday of\n",
      "          the year as day 1 of week 1).  The UK convention.\n",
      "\n",
      "     '%x' Date.  Locale-specific on output, '\"%y/%m/%d\"' on input.\n",
      "\n",
      "     '%X' Time.  Locale-specific on output, '\"%H:%M:%S\"' on input.\n",
      "\n",
      "     '%y' Year without century (00-99).  On input, values 00 to 68 are\n",
      "          prefixed by 20 and 69 to 99 by 19 - that is the behaviour\n",
      "          specified by the 2018 POSIX standard, but it does also say\n",
      "          'it is expected that in a future version the default century\n",
      "          inferred from a 2-digit year will change'.\n",
      "\n",
      "     '%Y' Year with century.  Note that whereas there was no zero in\n",
      "          the original Gregorian calendar, ISO 8601:2004 defines it to\n",
      "          be valid (interpreted as 1BC): see <URL:\n",
      "          https://en.wikipedia.org/wiki/0_(year)>.  However, the\n",
      "          standards also say that years before 1582 in its calendar\n",
      "          should only be used with agreement of the parties involved.\n",
      "\n",
      "          For input, only years '0:9999' are accepted.\n",
      "\n",
      "     '%z' Signed offset in hours and minutes from UTC, so '-0800' is 8\n",
      "          hours behind UTC. Values up to '+1400' are accepted.\n",
      "          (Standard only for output.  For input R currently supports it\n",
      "          on all platforms.)\n",
      "\n",
      "     '%Z' (Output only.)  Time zone abbreviation as a character string\n",
      "          (empty if not available).  This may not be reliable when a\n",
      "          time zone has changed abbreviations over the years.\n",
      "\n",
      "     Where leading zeros are shown they will be used on output but are\n",
      "     optional on input.  Names are matched case-insensitively on input:\n",
      "     whether they are capitalized on output depends on the platform and\n",
      "     the locale.  Note that abbreviated names are platform-specific\n",
      "     (although the standards specify that in the 'C' locale they must\n",
      "     be the first three letters of the capitalized English name: this\n",
      "     convention is widely used in English-language locales but for\n",
      "     example the French month abbreviations are not the same on any two\n",
      "     of Linux, macOS, Solaris and Windows). Knowing what the\n",
      "     abbreviations are is essential if you wish to use '%a', '%b' or\n",
      "     '%h' as part of an input format: see the examples for how to\n",
      "     check.\n",
      "\n",
      "     When '%z' or '%Z' is used for output with an object with an\n",
      "     assigned time zone an attempt is made to use the values for that\n",
      "     time zone - but it is not guaranteed to succeed.\n",
      "\n",
      "     Not in the standards and less widely implemented are\n",
      "\n",
      "     '%k' The 24-hour clock time with single digits preceded by a\n",
      "          blank.\n",
      "\n",
      "     '%l' The 12-hour clock time with single digits preceded by a\n",
      "          blank.\n",
      "\n",
      "     '%s' (Output only.) The number of seconds since the epoch.\n",
      "\n",
      "     '%+' (Output only.) Similar to '%c', often '\"%a %b %e %H:%M:%S %Z\n",
      "          %Y\"'. May depend on the locale.\n",
      "\n",
      "     For output there are also '%O[dHImMUVwWy]' which may emit numbers\n",
      "     in an alternative locale-dependent format (e.g., roman numerals),\n",
      "     and '%E[cCyYxX]' which can use an alternative 'era' (e.g., a\n",
      "     different religious calendar).  Which of these are supported is\n",
      "     OS-dependent.  These are accepted for input, but with the standard\n",
      "     interpretation.\n",
      "\n",
      "     Specific to R is '%OSn', which for output gives the seconds\n",
      "     truncated to '0 <= n <= 6' decimal places (and if '%OS' is not\n",
      "     followed by a digit, it uses the setting of\n",
      "     'getOption(\"digits.secs\")', or if that is unset, 'n = 0').\n",
      "     Further, for 'strptime' '%OS' will input seconds including\n",
      "     fractional seconds.  Note that '%S' does not read fractional parts\n",
      "     on output.\n",
      "\n",
      "     The behaviour of other conversion specifications (and even if\n",
      "     other character sequences commencing with '%' _are_ conversion\n",
      "     specifications) is system-specific.  Some systems document that\n",
      "     the use of multi-byte characters in 'format' is unsupported: UTF-8\n",
      "     locales are unlikely to cause a problem.\n",
      "\n",
      "_\bV_\ba_\bl_\bu_\be:\n",
      "\n",
      "     The 'format' methods and 'strftime' return character vectors\n",
      "     representing the time.  'NA' times are returned as\n",
      "     'NA_character_'.  The elements are restricted to 256 bytes, plus a\n",
      "     time zone abbreviation if 'usetz' is true.  (On known platforms\n",
      "     longer strings are truncated at 255 or 256 bytes, but this is not\n",
      "     guaranteed by the C99 standard.)\n",
      "\n",
      "     'strptime' turns character representations into an object of class\n",
      "     '\"POSIXlt\"'.  The time zone is used to set the 'isdst' component\n",
      "     and to set the '\"tzone\"' attribute if 'tz != \"\"'.  If the\n",
      "     specified time is invalid (for example '\"2010-02-30 08:00\"') all\n",
      "     the components of the result are 'NA'.  (NB: this does means\n",
      "     exactly what it says - if it is an invalid time, not just a time\n",
      "     that does not exist in some time zone.)\n",
      "\n",
      "_\bP_\br_\bi_\bn_\bt_\bi_\bn_\bg _\by_\be_\ba_\br_\bs:\n",
      "\n",
      "     Everyone agrees that years from 1000 to 9999 should be printed\n",
      "     with 4 digits, but the standards do not define what is to be done\n",
      "     outside that range.  For years 0 to 999 most OSes pad with zeros\n",
      "     or spaces to 4 characters, and Linux outputs just the number.\n",
      "\n",
      "     OS facilities will probably not print years before 1 CE (aka 1 AD)\n",
      "     'correctly' (they tend to assume the existence of a year 0: see\n",
      "     <URL: https://en.wikipedia.org/wiki/0_(year)>, and some OSes get\n",
      "     them completely wrong).  Common formats are '-45' and '-045'.\n",
      "\n",
      "     Years after 9999 and before -999 are normally printed with five or\n",
      "     more characters.\n",
      "\n",
      "     Some platforms support modifiers from POSIX 2008 (and others).  On\n",
      "     Linux the format '\"%04Y\"' assures a minimum of four characters and\n",
      "     zero-padding.  The internal code (as used on Windows and by\n",
      "     default on macOS) uses zero-padding by default, and formats '%_4Y'\n",
      "     and '%_Y' can be used for space padding and no padding.\n",
      "\n",
      "_\bT_\bi_\bm_\be _\bz_\bo_\bn_\be _\bo_\bf_\bf_\bs_\be_\bt_\bs:\n",
      "\n",
      "     Offsets from GMT (also known as UTC) are part of the conversion\n",
      "     between timezones and to/from class '\"POSIXct\"', but cause\n",
      "     difficulties as they are often computed incorrectly.\n",
      "\n",
      "     They conventionally have the opposite sign from time-zone\n",
      "     specifications (see 'Sys.timezone'): positive values are East of\n",
      "     the meridian.  Although there have been time zones with offsets\n",
      "     like 00:09:21 (Paris in 1900), and 00:44:30 (Liberia until 1972),\n",
      "     offsets are usually treated as whole numbers of minutes, and are\n",
      "     most often seen in RFC 5322 email headers in forms like '-0800'\n",
      "     (e.g., used on the Pacific coast of the USA in winter).\n",
      "\n",
      "     Format '%z' can be used for input or output: it is a character\n",
      "     string, conventionally plus or minus followed by two digits for\n",
      "     hours and two for minutes: the standards say that an empty string\n",
      "     should be output if the offset is unknown, but some systems use\n",
      "     the offsets for the time zone in use for the current year.\n",
      "\n",
      "_\bS_\bo_\bu_\br_\bc_\be_\bs:\n",
      "\n",
      "     Input uses the POSIX function 'strptime' and output the C99\n",
      "     function 'strftime'.\n",
      "\n",
      "     However, not all OSes (notably Windows) provided 'strptime' and\n",
      "     many issues were found for those which did, so since 2000 R has\n",
      "     used a fork of code from 'glibc'.  The forked code uses the\n",
      "     system's 'strftime' to find the locale-specific day and month\n",
      "     names and any AM/PM indicator.\n",
      "\n",
      "     On some platforms (including Windows and by default on macOS) the\n",
      "     system's 'strftime' is replaced (along with most of the rest of\n",
      "     the C-level datetime code) by code modified from IANA's 'tzcode'\n",
      "     distribution (<URL: https://www.iana.org/time-zones>).\n",
      "\n",
      "_\bN_\bo_\bt_\be:\n",
      "\n",
      "     The default formats follow the rules of the ISO 8601 international\n",
      "     standard which expresses a day as '\"2001-02-28\"' and a time as\n",
      "     '\"14:01:02\"' using leading zeroes as here.  (The ISO form uses no\n",
      "     space to separate dates and times: R does by default.)\n",
      "\n",
      "     For 'strptime' the input string need not specify the date\n",
      "     completely: it is assumed that unspecified seconds, minutes or\n",
      "     hours are zero, and an unspecified year, month or day is the\n",
      "     current one.  (However, if a month is specified, the day of that\n",
      "     month has to be specified by '%d' or '%e' since the current day of\n",
      "     the month need not be valid for the specified month.)  Some\n",
      "     components may be returned as 'NA' (but an unknown 'tzone'\n",
      "     component is represented by an empty string).\n",
      "\n",
      "     If the time zone specified is invalid on your system, what happens\n",
      "     is system-specific but it will probably be ignored.\n",
      "\n",
      "     Remember that in most time zones some times do not occur and some\n",
      "     occur twice because of transitions to/from 'daylight saving' (also\n",
      "     known as 'summer') time.  'strptime' does not validate such times\n",
      "     (it does not assume a specific time zone), but conversion by\n",
      "     'as.POSIXct' will do so.  Conversion by 'strftime' and\n",
      "     formatting/printing uses OS facilities and may return nonsensical\n",
      "     results for non-existent times at DST transitions.\n",
      "\n",
      "     In a C locale '%c' is required to be '\"%a %b %e %H:%M:%S %Y\"'.  As\n",
      "     Windows does not comply (and uses a date format not understood\n",
      "     outside N. America), that format is used by R on Windows in all\n",
      "     locales.\n",
      "\n",
      "_\bR_\be_\bf_\be_\br_\be_\bn_\bc_\be_\bs:\n",
      "\n",
      "     International Organization for Standardization (2004, 2000, ...)\n",
      "     'ISO 8601.  Data elements and interchange formats - Information\n",
      "     interchange - Representation of dates and times.', slightly\n",
      "     updated to International Organization for Standardization (2019)\n",
      "     'ISO 8601-1:2019.  Date and time - Representations for information\n",
      "     interchange - Part 1: Basic rules'.  For links to versions\n",
      "     available on-line see (at the time of writing) <URL:\n",
      "     https://dotat.at/tmp/ISO_8601-2004_E.pdf> and <URL:\n",
      "     https://www.qsl.net/g1smd/isopdf.htm>; for information on the\n",
      "     current official version, see <URL:\n",
      "     https://www.iso.org/iso/iso8601>.\n",
      "\n",
      "     The POSIX 1003.1 standard, which is in some respects stricter than\n",
      "     ISO 8601.\n",
      "\n",
      "_\bS_\be_\be _\bA_\bl_\bs_\bo:\n",
      "\n",
      "     DateTimeClasses for details of the date-time classes; locales to\n",
      "     query or set a locale.\n",
      "\n",
      "     Your system's help page on 'strftime' to see how to specify their\n",
      "     formats.  (On some systems, including Windows, 'strftime' is\n",
      "     replaced by more comprehensive internal code.)\n",
      "\n",
      "_\bE_\bx_\ba_\bm_\bp_\bl_\be_\bs:\n",
      "\n",
      "     ## locale-specific version of date()\n",
      "     format(Sys.time(), \"%a %b %d %X %Y %Z\")\n",
      "     \n",
      "     ## time to sub-second accuracy (if supported by the OS)\n",
      "     format(Sys.time(), \"%H:%M:%OS3\")\n",
      "     \n",
      "     ## read in date info in format 'ddmmmyyyy'\n",
      "     ## This will give NA(s) in some non-English locales; setting the C locale\n",
      "     ## as in the commented lines will overcome this on most systems.\n",
      "     ## lct <- Sys.getlocale(\"LC_TIME\"); Sys.setlocale(\"LC_TIME\", \"C\")\n",
      "     x <- c(\"1jan1960\", \"2jan1960\", \"31mar1960\", \"30jul1960\")\n",
      "     z <- strptime(x, \"%d%b%Y\")\n",
      "     ## Sys.setlocale(\"LC_TIME\", lct)\n",
      "     z\n",
      "     \n",
      "     ## read in date/time info in format 'm/d/y h:m:s'\n",
      "     dates <- c(\"02/27/92\", \"02/27/92\", \"01/14/92\", \"02/28/92\", \"02/01/92\")\n",
      "     times <- c(\"23:03:20\", \"22:29:56\", \"01:03:30\", \"18:21:03\", \"16:56:26\")\n",
      "     x <- paste(dates, times)\n",
      "     strptime(x, \"%m/%d/%y %H:%M:%S\")\n",
      "     \n",
      "     ## time with fractional seconds\n",
      "     z <- strptime(\"20/2/06 11:16:16.683\", \"%d/%m/%y %H:%M:%OS\")\n",
      "     z # prints without fractional seconds\n",
      "     op <- options(digits.secs = 3)\n",
      "     z\n",
      "     options(op)\n",
      "     \n",
      "     ## time zone names are not portable, but 'EST5EDT' comes pretty close.\n",
      "     (x <- strptime(c(\"2006-01-08 10:07:52\", \"2006-08-07 19:33:02\"),\n",
      "                    \"%Y-%m-%d %H:%M:%S\", tz = \"EST5EDT\"))\n",
      "     attr(x, \"tzone\")\n",
      "     \n",
      "     ## An RFC 5322 header (Eastern Canada, during DST)\n",
      "     ## In a non-English locale the commented lines may be needed.\n",
      "     ## prev <- Sys.getlocale(\"LC_TIME\"); Sys.setlocale(\"LC_TIME\", \"C\")\n",
      "     strptime(\"Tue, 23 Mar 2010 14:36:38 -0400\", \"%a, %d %b %Y %H:%M:%S %z\")\n",
      "     ## Sys.setlocale(\"LC_TIME\", prev)\n",
      "     \n",
      "     ## Make sure you know what the abbreviated names are for you if you wish\n",
      "     ## to use them for input (they are matched case-insensitively):\n",
      "     format(seq.Date(as.Date('1978-01-01'), by = 'day', len = 7), \"%a\")\n",
      "     format(seq.Date(as.Date('2000-01-01'), by = 'month', len = 12), \"%b\")\n",
      "     "
     ]
    }
   ],
   "source": [
    "print(help(strptime))"
   ]
  },
  {
   "cell_type": "code",
   "execution_count": 69,
   "metadata": {},
   "outputs": [
    {
     "data": {
      "text/plain": [
       "[1] \"2021-11-16 19:00:00 EST\""
      ]
     },
     "metadata": {},
     "output_type": "display_data"
    }
   ],
   "source": [
    "as.POSIXct(today)"
   ]
  },
  {
   "cell_type": "code",
   "execution_count": 70,
   "metadata": {},
   "outputs": [
    {
     "data": {
      "text/plain": [
       "[1] \"2021-11-17 11:02:03 EST\""
      ]
     },
     "metadata": {},
     "output_type": "display_data"
    }
   ],
   "source": [
    "as.POSIXct(\"11:02:03\", format = \"%H:%M:%S\")"
   ]
  },
  {
   "cell_type": "code",
   "execution_count": 71,
   "metadata": {},
   "outputs": [
    {
     "data": {
      "text/plain": [
       "[1] \"1990-11-03 11:02:03 EST\""
      ]
     },
     "metadata": {},
     "output_type": "display_data"
    }
   ],
   "source": [
    "as.POSIXct(\"November-03-1990 11:02:03\", format = \"%B-%d-%Y %H:%M:%S\")"
   ]
  },
  {
   "cell_type": "code",
   "execution_count": 72,
   "metadata": {},
   "outputs": [
    {
     "data": {
      "text/plain": [
       "[1] \"1990-11-03 11:02:03 EST\""
      ]
     },
     "metadata": {},
     "output_type": "display_data"
    }
   ],
   "source": [
    "strptime(\"November-03-1990 11:02:03\", format = \"%B-%d-%Y %H:%M:%S\")"
   ]
  },
  {
   "cell_type": "code",
   "execution_count": 75,
   "metadata": {},
   "outputs": [
    {
     "data": {
      "text/html": [
       "'Date'"
      ],
      "text/latex": [
       "'Date'"
      ],
      "text/markdown": [
       "'Date'"
      ],
      "text/plain": [
       "[1] \"Date\""
      ]
     },
     "metadata": {},
     "output_type": "display_data"
    }
   ],
   "source": [
    "class(today)"
   ]
  },
  {
   "cell_type": "code",
   "execution_count": null,
   "metadata": {},
   "outputs": [],
   "source": []
  }
 ],
 "metadata": {
  "kernelspec": {
   "display_name": "R",
   "language": "R",
   "name": "ir"
  },
  "language_info": {
   "codemirror_mode": "r",
   "file_extension": ".r",
   "mimetype": "text/x-r-source",
   "name": "R",
   "pygments_lexer": "r",
   "version": "4.1.2"
  },
  "orig_nbformat": 4
 },
 "nbformat": 4,
 "nbformat_minor": 2
}
