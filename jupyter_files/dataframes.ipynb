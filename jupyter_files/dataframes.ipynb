{
 "cells": [
  {
   "cell_type": "code",
   "execution_count": 99,
   "metadata": {},
   "outputs": [
    {
     "name": "stdout",
     "output_type": "stream",
     "text": [
      "               Population Income Illiteracy Life Exp Murder HS Grad Frost\n",
      "Alabama              3615   3624        2.1    69.05   15.1    41.3    20\n",
      "Alaska                365   6315        1.5    69.31   11.3    66.7   152\n",
      "Arizona              2212   4530        1.8    70.55    7.8    58.1    15\n",
      "Arkansas             2110   3378        1.9    70.66   10.1    39.9    65\n",
      "California          21198   5114        1.1    71.71   10.3    62.6    20\n",
      "Colorado             2541   4884        0.7    72.06    6.8    63.9   166\n",
      "Connecticut          3100   5348        1.1    72.48    3.1    56.0   139\n",
      "Delaware              579   4809        0.9    70.06    6.2    54.6   103\n",
      "Florida              8277   4815        1.3    70.66   10.7    52.6    11\n",
      "Georgia              4931   4091        2.0    68.54   13.9    40.6    60\n",
      "Hawaii                868   4963        1.9    73.60    6.2    61.9     0\n",
      "Idaho                 813   4119        0.6    71.87    5.3    59.5   126\n",
      "Illinois            11197   5107        0.9    70.14   10.3    52.6   127\n",
      "Indiana              5313   4458        0.7    70.88    7.1    52.9   122\n",
      "Iowa                 2861   4628        0.5    72.56    2.3    59.0   140\n",
      "Kansas               2280   4669        0.6    72.58    4.5    59.9   114\n",
      "Kentucky             3387   3712        1.6    70.10   10.6    38.5    95\n",
      "Louisiana            3806   3545        2.8    68.76   13.2    42.2    12\n",
      "Maine                1058   3694        0.7    70.39    2.7    54.7   161\n",
      "Maryland             4122   5299        0.9    70.22    8.5    52.3   101\n",
      "Massachusetts        5814   4755        1.1    71.83    3.3    58.5   103\n",
      "Michigan             9111   4751        0.9    70.63   11.1    52.8   125\n",
      "Minnesota            3921   4675        0.6    72.96    2.3    57.6   160\n",
      "Mississippi          2341   3098        2.4    68.09   12.5    41.0    50\n",
      "Missouri             4767   4254        0.8    70.69    9.3    48.8   108\n",
      "Montana               746   4347        0.6    70.56    5.0    59.2   155\n",
      "Nebraska             1544   4508        0.6    72.60    2.9    59.3   139\n",
      "Nevada                590   5149        0.5    69.03   11.5    65.2   188\n",
      "New Hampshire         812   4281        0.7    71.23    3.3    57.6   174\n",
      "New Jersey           7333   5237        1.1    70.93    5.2    52.5   115\n",
      "New Mexico           1144   3601        2.2    70.32    9.7    55.2   120\n",
      "New York            18076   4903        1.4    70.55   10.9    52.7    82\n",
      "North Carolina       5441   3875        1.8    69.21   11.1    38.5    80\n",
      "North Dakota          637   5087        0.8    72.78    1.4    50.3   186\n",
      "Ohio                10735   4561        0.8    70.82    7.4    53.2   124\n",
      "Oklahoma             2715   3983        1.1    71.42    6.4    51.6    82\n",
      "Oregon               2284   4660        0.6    72.13    4.2    60.0    44\n",
      "Pennsylvania        11860   4449        1.0    70.43    6.1    50.2   126\n",
      "Rhode Island          931   4558        1.3    71.90    2.4    46.4   127\n",
      "South Carolina       2816   3635        2.3    67.96   11.6    37.8    65\n",
      "South Dakota          681   4167        0.5    72.08    1.7    53.3   172\n",
      "Tennessee            4173   3821        1.7    70.11   11.0    41.8    70\n",
      "Texas               12237   4188        2.2    70.90   12.2    47.4    35\n",
      "Utah                 1203   4022        0.6    72.90    4.5    67.3   137\n",
      "Vermont               472   3907        0.6    71.64    5.5    57.1   168\n",
      "Virginia             4981   4701        1.4    70.08    9.5    47.8    85\n",
      "Washington           3559   4864        0.6    71.72    4.3    63.5    32\n",
      "West Virginia        1799   3617        1.4    69.48    6.7    41.6   100\n",
      "Wisconsin            4589   4468        0.7    72.48    3.0    54.5   149\n",
      "Wyoming               376   4566        0.6    70.29    6.9    62.9   173\n",
      "                 Area\n",
      "Alabama         50708\n",
      "Alaska         566432\n",
      "Arizona        113417\n",
      "Arkansas        51945\n",
      "California     156361\n",
      "Colorado       103766\n",
      "Connecticut      4862\n",
      "Delaware         1982\n",
      "Florida         54090\n",
      "Georgia         58073\n",
      "Hawaii           6425\n",
      "Idaho           82677\n",
      "Illinois        55748\n",
      "Indiana         36097\n",
      "Iowa            55941\n",
      "Kansas          81787\n",
      "Kentucky        39650\n",
      "Louisiana       44930\n",
      "Maine           30920\n",
      "Maryland         9891\n",
      "Massachusetts    7826\n",
      "Michigan        56817\n",
      "Minnesota       79289\n",
      "Mississippi     47296\n",
      "Missouri        68995\n",
      "Montana        145587\n",
      "Nebraska        76483\n",
      "Nevada         109889\n",
      "New Hampshire    9027\n",
      "New Jersey       7521\n",
      "New Mexico     121412\n",
      "New York        47831\n",
      "North Carolina  48798\n",
      "North Dakota    69273\n",
      "Ohio            40975\n",
      "Oklahoma        68782\n",
      "Oregon          96184\n",
      "Pennsylvania    44966\n",
      "Rhode Island     1049\n",
      "South Carolina  30225\n",
      "South Dakota    75955\n",
      "Tennessee       41328\n",
      "Texas          262134\n",
      "Utah            82096\n",
      "Vermont          9267\n",
      "Virginia        39780\n",
      "Washington      66570\n",
      "West Virginia   24070\n",
      "Wisconsin       54464\n",
      "Wyoming         97203\n"
     ]
    }
   ],
   "source": [
    "print(state.x77)"
   ]
  },
  {
   "cell_type": "code",
   "execution_count": 100,
   "metadata": {},
   "outputs": [
    {
     "name": "stdout",
     "output_type": "stream",
     "text": [
      "                      1940   1945  1950 1955  1960\n",
      "Food and Tobacco    22.200 44.500 59.60 73.2 86.80\n",
      "Household Operation 10.500 15.500 29.00 36.5 46.20\n",
      "Medical and Health   3.530  5.760  9.71 14.0 21.10\n",
      "Personal Care        1.040  1.980  2.45  3.4  5.40\n",
      "Private Education    0.341  0.974  1.80  2.6  3.64\n"
     ]
    }
   ],
   "source": [
    "print(USPersonalExpenditure)"
   ]
  },
  {
   "cell_type": "code",
   "execution_count": 101,
   "metadata": {},
   "outputs": [
    {
     "name": "stdout",
     "output_type": "stream",
     "text": [
      "   height weight\n",
      "1      58    115\n",
      "2      59    117\n",
      "3      60    120\n",
      "4      61    123\n",
      "5      62    126\n",
      "6      63    129\n",
      "7      64    132\n",
      "8      65    135\n",
      "9      66    139\n",
      "10     67    142\n",
      "11     68    146\n",
      "12     69    150\n",
      "13     70    154\n",
      "14     71    159\n",
      "15     72    164\n"
     ]
    }
   ],
   "source": [
    "print(women)"
   ]
  },
  {
   "cell_type": "code",
   "execution_count": 102,
   "metadata": {},
   "outputs": [
    {
     "name": "stdout",
     "output_type": "stream",
     "text": [
      "Data sets in package 'datasets':\n",
      "\n",
      "AirPassengers           Monthly Airline Passenger Numbers 1949-1960\n",
      "BJsales                 Sales Data with Leading Indicator\n",
      "BJsales.lead (BJsales)\n",
      "                        Sales Data with Leading Indicator\n",
      "BOD                     Biochemical Oxygen Demand\n",
      "CO2                     Carbon Dioxide Uptake in Grass Plants\n",
      "ChickWeight             Weight versus age of chicks on different diets\n",
      "DNase                   Elisa assay of DNase\n",
      "EuStockMarkets          Daily Closing Prices of Major European Stock\n",
      "                        Indices, 1991-1998\n",
      "Formaldehyde            Determination of Formaldehyde\n",
      "HairEyeColor            Hair and Eye Color of Statistics Students\n",
      "Harman23.cor            Harman Example 2.3\n",
      "Harman74.cor            Harman Example 7.4\n",
      "Indometh                Pharmacokinetics of Indomethacin\n",
      "InsectSprays            Effectiveness of Insect Sprays\n",
      "JohnsonJohnson          Quarterly Earnings per Johnson & Johnson Share\n",
      "LakeHuron               Level of Lake Huron 1875-1972\n",
      "LifeCycleSavings        Intercountry Life-Cycle Savings Data\n",
      "Loblolly                Growth of Loblolly pine trees\n",
      "Nile                    Flow of the River Nile\n",
      "Orange                  Growth of Orange Trees\n",
      "OrchardSprays           Potency of Orchard Sprays\n",
      "PlantGrowth             Results from an Experiment on Plant Growth\n",
      "Puromycin               Reaction Velocity of an Enzymatic Reaction\n",
      "Seatbelts               Road Casualties in Great Britain 1969-84\n",
      "Theoph                  Pharmacokinetics of Theophylline\n",
      "Titanic                 Survival of passengers on the Titanic\n",
      "ToothGrowth             The Effect of Vitamin C on Tooth Growth in\n",
      "                        Guinea Pigs\n",
      "UCBAdmissions           Student Admissions at UC Berkeley\n",
      "UKDriverDeaths          Road Casualties in Great Britain 1969-84\n",
      "UKgas                   UK Quarterly Gas Consumption\n",
      "USAccDeaths             Accidental Deaths in the US 1973-1978\n",
      "USArrests               Violent Crime Rates by US State\n",
      "USJudgeRatings          Lawyers' Ratings of State Judges in the US\n",
      "                        Superior Court\n",
      "USPersonalExpenditure   Personal Expenditure Data\n",
      "UScitiesD               Distances Between European Cities and Between\n",
      "                        US Cities\n",
      "VADeaths                Death Rates in Virginia (1940)\n",
      "WWWusage                Internet Usage per Minute\n",
      "WorldPhones             The World's Telephones\n",
      "ability.cov             Ability and Intelligence Tests\n",
      "airmiles                Passenger Miles on Commercial US Airlines,\n",
      "                        1937-1960\n",
      "airquality              New York Air Quality Measurements\n",
      "anscombe                Anscombe's Quartet of 'Identical' Simple Linear\n",
      "                        Regressions\n",
      "attenu                  The Joyner-Boore Attenuation Data\n",
      "attitude                The Chatterjee-Price Attitude Data\n",
      "austres                 Quarterly Time Series of the Number of\n",
      "                        Australian Residents\n",
      "beaver1 (beavers)       Body Temperature Series of Two Beavers\n",
      "beaver2 (beavers)       Body Temperature Series of Two Beavers\n",
      "cars                    Speed and Stopping Distances of Cars\n",
      "chickwts                Chicken Weights by Feed Type\n",
      "co2                     Mauna Loa Atmospheric CO2 Concentration\n",
      "crimtab                 Student's 3000 Criminals Data\n",
      "discoveries             Yearly Numbers of Important Discoveries\n",
      "esoph                   Smoking, Alcohol and (O)esophageal Cancer\n",
      "euro                    Conversion Rates of Euro Currencies\n",
      "euro.cross (euro)       Conversion Rates of Euro Currencies\n",
      "eurodist                Distances Between European Cities and Between\n",
      "                        US Cities\n",
      "faithful                Old Faithful Geyser Data\n",
      "fdeaths (UKLungDeaths)\n",
      "                        Monthly Deaths from Lung Diseases in the UK\n",
      "freeny                  Freeny's Revenue Data\n",
      "freeny.x (freeny)       Freeny's Revenue Data\n",
      "freeny.y (freeny)       Freeny's Revenue Data\n",
      "infert                  Infertility after Spontaneous and Induced\n",
      "                        Abortion\n",
      "iris                    Edgar Anderson's Iris Data\n",
      "iris3                   Edgar Anderson's Iris Data\n",
      "islands                 Areas of the World's Major Landmasses\n",
      "ldeaths (UKLungDeaths)\n",
      "                        Monthly Deaths from Lung Diseases in the UK\n",
      "lh                      Luteinizing Hormone in Blood Samples\n",
      "longley                 Longley's Economic Regression Data\n",
      "lynx                    Annual Canadian Lynx trappings 1821-1934\n",
      "mdeaths (UKLungDeaths)\n",
      "                        Monthly Deaths from Lung Diseases in the UK\n",
      "morley                  Michelson Speed of Light Data\n",
      "mtcars                  Motor Trend Car Road Tests\n",
      "nhtemp                  Average Yearly Temperatures in New Haven\n",
      "nottem                  Average Monthly Temperatures at Nottingham,\n",
      "                        1920-1939\n",
      "npk                     Classical N, P, K Factorial Experiment\n",
      "occupationalStatus      Occupational Status of Fathers and their Sons\n",
      "precip                  Annual Precipitation in US Cities\n",
      "presidents              Quarterly Approval Ratings of US Presidents\n",
      "pressure                Vapor Pressure of Mercury as a Function of\n",
      "                        Temperature\n",
      "quakes                  Locations of Earthquakes off Fiji\n",
      "randu                   Random Numbers from Congruential Generator\n",
      "                        RANDU\n",
      "rivers                  Lengths of Major North American Rivers\n",
      "rock                    Measurements on Petroleum Rock Samples\n",
      "sleep                   Student's Sleep Data\n",
      "stack.loss (stackloss)\n",
      "                        Brownlee's Stack Loss Plant Data\n",
      "stack.x (stackloss)     Brownlee's Stack Loss Plant Data\n",
      "stackloss               Brownlee's Stack Loss Plant Data\n",
      "state.abb (state)       US State Facts and Figures\n",
      "state.area (state)      US State Facts and Figures\n",
      "state.center (state)    US State Facts and Figures\n",
      "state.division (state)\n",
      "                        US State Facts and Figures\n",
      "state.name (state)      US State Facts and Figures\n",
      "state.region (state)    US State Facts and Figures\n",
      "state.x77 (state)       US State Facts and Figures\n",
      "sunspot.month           Monthly Sunspot Data, from 1749 to \"Present\"\n",
      "sunspot.year            Yearly Sunspot Data, 1700-1988\n",
      "sunspots                Monthly Sunspot Numbers, 1749-1983\n",
      "swiss                   Swiss Fertility and Socioeconomic Indicators\n",
      "                        (1888) Data\n",
      "treering                Yearly Treering Data, -6000-1979\n",
      "trees                   Diameter, Height and Volume for Black Cherry\n",
      "                        Trees\n",
      "uspop                   Populations Recorded by the US Census\n",
      "volcano                 Topographic Information on Auckland's Maunga\n",
      "                        Whau Volcano\n",
      "warpbreaks              The Number of Breaks in Yarn during Weaving\n",
      "women                   Average Heights and Weights for American Women\n",
      "\n",
      "Use 'data(package = .packages(all.available = TRUE))'\n",
      "to list the data sets in all *available* packages."
     ]
    }
   ],
   "source": [
    "data()"
   ]
  },
  {
   "cell_type": "code",
   "execution_count": 103,
   "metadata": {},
   "outputs": [
    {
     "name": "stdout",
     "output_type": "stream",
     "text": [
      "      Qtr1  Qtr2  Qtr3  Qtr4\n",
      "1960  0.71  0.63  0.85  0.44\n",
      "1961  0.61  0.69  0.92  0.55\n",
      "1962  0.72  0.77  0.92  0.60\n",
      "1963  0.83  0.80  1.00  0.77\n",
      "1964  0.92  1.00  1.24  1.00\n",
      "1965  1.16  1.30  1.45  1.25\n",
      "1966  1.26  1.38  1.86  1.56\n",
      "1967  1.53  1.59  1.83  1.86\n",
      "1968  1.53  2.07  2.34  2.25\n",
      "1969  2.16  2.43  2.70  2.25\n",
      "1970  2.79  3.42  3.69  3.60\n",
      "1971  3.60  4.32  4.32  4.05\n",
      "1972  4.86  5.04  5.04  4.41\n",
      "1973  5.58  5.85  6.57  5.31\n",
      "1974  6.03  6.39  6.93  5.85\n",
      "1975  6.93  7.74  7.83  6.12\n",
      "1976  7.74  8.91  8.28  6.84\n",
      "1977  9.54 10.26  9.54  8.73\n",
      "1978 11.88 12.06 12.15  8.91\n",
      "1979 14.04 12.96 14.85  9.99\n",
      "1980 16.20 14.67 16.02 11.61\n"
     ]
    }
   ],
   "source": [
    "print(JohnsonJohnson)"
   ]
  },
  {
   "cell_type": "code",
   "execution_count": 104,
   "metadata": {},
   "outputs": [
    {
     "name": "stdout",
     "output_type": "stream",
     "text": [
      "     Jan Feb Mar Apr May Jun Jul Aug Sep Oct Nov Dec\n",
      "1949 112 118 132 129 121 135 148 148 136 119 104 118\n",
      "1950 115 126 141 135 125 149 170 170 158 133 114 140\n",
      "1951 145 150 178 163 172 178 199 199 184 162 146 166\n",
      "1952 171 180 193 181 183 218 230 242 209 191 172 194\n",
      "1953 196 196 236 235 229 243 264 272 237 211 180 201\n",
      "1954 204 188 235 227 234 264 302 293 259 229 203 229\n",
      "1955 242 233 267 269 270 315 364 347 312 274 237 278\n",
      "1956 284 277 317 313 318 374 413 405 355 306 271 306\n",
      "1957 315 301 356 348 355 422 465 467 404 347 305 336\n",
      "1958 340 318 362 348 363 435 491 505 404 359 310 337\n",
      "1959 360 342 406 396 420 472 548 559 463 407 362 405\n",
      "1960 417 391 419 461 472 535 622 606 508 461 390 432\n"
     ]
    }
   ],
   "source": [
    "print(AirPassengers)"
   ]
  },
  {
   "cell_type": "code",
   "execution_count": 105,
   "metadata": {},
   "outputs": [
    {
     "data": {
      "image/png": "[encoded data removed]",
      "text/plain": [
       "Plot with title \"Histogram for Air Passengers from 1939 to 1960\""
      ]
     },
     "metadata": {
      "image/png": {
       "height": 420,
       "width": 420
      }
     },
     "output_type": "display_data"
    }
   ],
   "source": [
    "# make a histogram of AirPassengers from 1949 to 1960\n",
    "hist(AirPassengers, \n",
    "    main=\"Histogram for Air Passengers from 1939 to 1960\",\n",
    "    xlab=\"Air Passengers\",\n",
    "    ylab=\"Frequency\",\n",
    "    border=\"blue\",\n",
    "    col=\"white\",\n",
    "    xlim=c(100, 700),\n",
    "    las=1,\n",
    "    breaks=5\n",
    ")\n",
    "\n"
   ]
  },
  {
   "cell_type": "code",
   "execution_count": 106,
   "metadata": {},
   "outputs": [
    {
     "name": "stderr",
     "output_type": "stream",
     "text": [
      "Warning message in seq_len(head.end.idx):\n",
      "\"first element used of 'length.out' argument\"\n",
      "ERROR while rich displaying an object: Error in seq_len(head.end.idx): argument must be coercible to non-negative integer\n",
      "\n",
      "Traceback:\n",
      "1. FUN(X[[i]], ...)\n",
      "2. tryCatch(withCallingHandlers({\n",
      " .     if (!mime %in% names(repr::mime2repr)) \n",
      " .         stop(\"No repr_* for mimetype \", mime, \" in repr::mime2repr\")\n",
      " .     rpr <- repr::mime2repr[[mime]](obj)\n",
      " .     if (is.null(rpr)) \n",
      " .         return(NULL)\n",
      " .     prepare_content(is.raw(rpr), rpr)\n",
      " . }, error = error_handler), error = outer_handler)\n",
      "3. tryCatchList(expr, classes, parentenv, handlers)\n",
      "4. tryCatchOne(expr, names, parentenv, handlers[[1L]])\n",
      "5. doTryCatch(return(expr), name, parentenv, handler)\n",
      "6. withCallingHandlers({\n",
      " .     if (!mime %in% names(repr::mime2repr)) \n",
      " .         stop(\"No repr_* for mimetype \", mime, \" in repr::mime2repr\")\n",
      " .     rpr <- repr::mime2repr[[mime]](obj)\n",
      " .     if (is.null(rpr)) \n",
      " .         return(NULL)\n",
      " .     prepare_content(is.raw(rpr), rpr)\n",
      " . }, error = error_handler)\n",
      "7. repr::mime2repr[[mime]](obj)\n",
      "8. repr_html.help_files_with_topic(obj)\n",
      "9. repr_help_files_with_topic_generic(obj, Rd2HTML)\n"
     ]
    },
    {
     "name": "stdout",
     "output_type": "stream",
     "text": [
      "AirPassengers             package:datasets             R Documentation\n",
      "\n",
      "_\bM_\bo_\bn_\bt_\bh_\bl_\by _\bA_\bi_\br_\bl_\bi_\bn_\be _\bP_\ba_\bs_\bs_\be_\bn_\bg_\be_\br _\bN_\bu_\bm_\bb_\be_\br_\bs _\b1_\b9_\b4_\b9-_\b1_\b9_\b6_\b0\n",
      "\n",
      "_\bD_\be_\bs_\bc_\br_\bi_\bp_\bt_\bi_\bo_\bn:\n",
      "\n",
      "     The classic Box & Jenkins airline data.  Monthly totals of\n",
      "     international airline passengers, 1949 to 1960.\n",
      "\n",
      "_\bU_\bs_\ba_\bg_\be:\n",
      "\n",
      "     AirPassengers\n",
      "     \n",
      "_\bF_\bo_\br_\bm_\ba_\bt:\n",
      "\n",
      "     A monthly time series, in thousands.\n",
      "\n",
      "_\bS_\bo_\bu_\br_\bc_\be:\n",
      "\n",
      "     Box, G. E. P., Jenkins, G. M. and Reinsel, G. C. (1976) _Time\n",
      "     Series Analysis, Forecasting and Control._ Third Edition.\n",
      "     Holden-Day. Series G.\n",
      "\n",
      "_\bE_\bx_\ba_\bm_\bp_\bl_\be_\bs:\n",
      "\n",
      "     ## Not run:\n",
      "     \n",
      "     ## These are quite slow and so not run by example(AirPassengers)\n",
      "     \n",
      "     ## The classic 'airline model', by full ML\n",
      "     (fit <- arima(log10(AirPassengers), c(0, 1, 1),\n",
      "                   seasonal = list(order = c(0, 1, 1), period = 12)))\n",
      "     update(fit, method = \"CSS\")\n",
      "     update(fit, x = window(log10(AirPassengers), start = 1954))\n",
      "     pred <- predict(fit, n.ahead = 24)\n",
      "     tl <- pred$pred - 1.96 * pred$se\n",
      "     tu <- pred$pred + 1.96 * pred$se\n",
      "     ts.plot(AirPassengers, 10^tl, 10^tu, log = \"y\", lty = c(1, 2, 2))\n",
      "     \n",
      "     ## full ML fit is the same if the series is reversed, CSS fit is not\n",
      "     ap0 <- rev(log10(AirPassengers))\n",
      "     attributes(ap0) <- attributes(AirPassengers)\n",
      "     arima(ap0, c(0, 1, 1), seasonal = list(order = c(0, 1, 1), period = 12))\n",
      "     arima(ap0, c(0, 1, 1), seasonal = list(order = c(0, 1, 1), period = 12),\n",
      "           method = \"CSS\")\n",
      "     \n",
      "     ## Structural Time Series\n",
      "     ap <- log10(AirPassengers) - 2\n",
      "     (fit <- StructTS(ap, type = \"BSM\"))\n",
      "     par(mfrow = c(1, 2))\n",
      "     plot(cbind(ap, fitted(fit)), plot.type = \"single\")\n",
      "     plot(cbind(ap, tsSmooth(fit)), plot.type = \"single\")\n",
      "     ## End(Not run)\n",
      "     "
     ]
    }
   ],
   "source": [
    "help(AirPassengers)"
   ]
  },
  {
   "cell_type": "code",
   "execution_count": 107,
   "metadata": {},
   "outputs": [],
   "source": [
    "states <- state.x77"
   ]
  },
  {
   "cell_type": "code",
   "execution_count": 108,
   "metadata": {},
   "outputs": [
    {
     "name": "stdout",
     "output_type": "stream",
     "text": [
      "           Population Income Illiteracy Life Exp Murder HS Grad Frost   Area\n",
      "Alabama          3615   3624        2.1    69.05   15.1    41.3    20  50708\n",
      "Alaska            365   6315        1.5    69.31   11.3    66.7   152 566432\n",
      "Arizona          2212   4530        1.8    70.55    7.8    58.1    15 113417\n",
      "Arkansas         2110   3378        1.9    70.66   10.1    39.9    65  51945\n",
      "California      21198   5114        1.1    71.71   10.3    62.6    20 156361\n",
      "Colorado         2541   4884        0.7    72.06    6.8    63.9   166 103766\n"
     ]
    }
   ],
   "source": [
    "print(head(states))"
   ]
  },
  {
   "cell_type": "code",
   "execution_count": 109,
   "metadata": {},
   "outputs": [
    {
     "name": "stdout",
     "output_type": "stream",
     "text": [
      "              Population Income Illiteracy Life Exp Murder HS Grad Frost  Area\n",
      "Vermont              472   3907        0.6    71.64    5.5    57.1   168  9267\n",
      "Virginia            4981   4701        1.4    70.08    9.5    47.8    85 39780\n",
      "Washington          3559   4864        0.6    71.72    4.3    63.5    32 66570\n",
      "West Virginia       1799   3617        1.4    69.48    6.7    41.6   100 24070\n",
      "Wisconsin           4589   4468        0.7    72.48    3.0    54.5   149 54464\n",
      "Wyoming              376   4566        0.6    70.29    6.9    62.9   173 97203\n"
     ]
    }
   ],
   "source": [
    "print(tail(states))"
   ]
  },
  {
   "cell_type": "code",
   "execution_count": 110,
   "metadata": {},
   "outputs": [
    {
     "data": {
      "text/plain": [
       "   Population        Income       Illiteracy       Life Exp    \n",
       " Min.   :  365   Min.   :3098   Min.   :0.500   Min.   :67.96  \n",
       " 1st Qu.: 1080   1st Qu.:3993   1st Qu.:0.625   1st Qu.:70.12  \n",
       " Median : 2838   Median :4519   Median :0.950   Median :70.67  \n",
       " Mean   : 4246   Mean   :4436   Mean   :1.170   Mean   :70.88  \n",
       " 3rd Qu.: 4968   3rd Qu.:4814   3rd Qu.:1.575   3rd Qu.:71.89  \n",
       " Max.   :21198   Max.   :6315   Max.   :2.800   Max.   :73.60  \n",
       "     Murder          HS Grad          Frost             Area       \n",
       " Min.   : 1.400   Min.   :37.80   Min.   :  0.00   Min.   :  1049  \n",
       " 1st Qu.: 4.350   1st Qu.:48.05   1st Qu.: 66.25   1st Qu.: 36985  \n",
       " Median : 6.850   Median :53.25   Median :114.50   Median : 54277  \n",
       " Mean   : 7.378   Mean   :53.11   Mean   :104.46   Mean   : 70736  \n",
       " 3rd Qu.:10.675   3rd Qu.:59.15   3rd Qu.:139.75   3rd Qu.: 81162  \n",
       " Max.   :15.100   Max.   :67.30   Max.   :188.00   Max.   :566432  "
      ]
     },
     "metadata": {},
     "output_type": "display_data"
    }
   ],
   "source": [
    "summary(states)"
   ]
  },
  {
   "cell_type": "code",
   "execution_count": 111,
   "metadata": {},
   "outputs": [
    {
     "name": "stdout",
     "output_type": "stream",
     "text": [
      " num [1:50, 1:8] 3615 365 2212 2110 21198 ...\n",
      " - attr(*, \"dimnames\")=List of 2\n",
      "  ..$ : chr [1:50] \"Alabama\" \"Alaska\" \"Arizona\" \"Arkansas\" ...\n",
      "  ..$ : chr [1:8] \"Population\" \"Income\" \"Illiteracy\" \"Life Exp\" ...\n"
     ]
    }
   ],
   "source": [
    "# structure of data\n",
    "str(states)"
   ]
  },
  {
   "cell_type": "code",
   "execution_count": 112,
   "metadata": {},
   "outputs": [],
   "source": [
    "# creating a data frame (weather data)\n",
    "days <- c(\"Monday\", \"Tuesday\", \"Wednesday\", \"Thursday\", \"Friday\", \"Saturday\", \"Sunday\")\n",
    "temperatures <- c(68, 67, 65, 64, 62, 61, 60)\n",
    "rain <- c(TRUE, FALSE, TRUE, FALSE, TRUE, FALSE, TRUE)"
   ]
  },
  {
   "cell_type": "code",
   "execution_count": 113,
   "metadata": {},
   "outputs": [
    {
     "name": "stdout",
     "output_type": "stream",
     "text": [
      "       days temperatures  rain\n",
      "1    Monday           68  TRUE\n",
      "2   Tuesday           67 FALSE\n",
      "3 Wednesday           65  TRUE\n",
      "4  Thursday           64 FALSE\n",
      "5    Friday           62  TRUE\n",
      "6  Saturday           61 FALSE\n",
      "7    Sunday           60  TRUE\n"
     ]
    }
   ],
   "source": [
    "df <- data.frame(days, temperatures, rain)\n",
    "print(df)"
   ]
  },
  {
   "cell_type": "code",
   "execution_count": 114,
   "metadata": {},
   "outputs": [
    {
     "data": {
      "text/plain": [
       "     days            temperatures      rain        \n",
       " Length:7           Min.   :60.00   Mode :logical  \n",
       " Class :character   1st Qu.:61.50   FALSE:3        \n",
       " Mode  :character   Median :64.00   TRUE :4        \n",
       "                    Mean   :63.86                  \n",
       "                    3rd Qu.:66.00                  \n",
       "                    Max.   :68.00                  "
      ]
     },
     "metadata": {},
     "output_type": "display_data"
    }
   ],
   "source": [
    "summary(df)"
   ]
  },
  {
   "cell_type": "code",
   "execution_count": 115,
   "metadata": {},
   "outputs": [
    {
     "name": "stdout",
     "output_type": "stream",
     "text": [
      "'data.frame':\t7 obs. of  3 variables:\n",
      " $ days        : chr  \"Monday\" \"Tuesday\" \"Wednesday\" \"Thursday\" ...\n",
      " $ temperatures: num  68 67 65 64 62 61 60\n",
      " $ rain        : logi  TRUE FALSE TRUE FALSE TRUE FALSE ...\n"
     ]
    }
   ],
   "source": [
    "str(df)"
   ]
  },
  {
   "cell_type": "markdown",
   "metadata": {},
   "source": [
    "# data frame selection and indexing"
   ]
  },
  {
   "cell_type": "code",
   "execution_count": 116,
   "metadata": {},
   "outputs": [],
   "source": [
    "# days <- c(\"Monday\", \"Tuesday\", \"Wednesday\", \"Thursday\", \"Friday\", \"Saturday\", \"Sunday\")\n",
    "# temperatures <- c(68, 67, 65, 64, 62, 61, 60)\n",
    "# rain <- c(TRUE, FALSE, TRUE, FALSE, TRUE, FALSE, TRUE)\n",
    "\n",
    "# df <- data.frame(days, temperatures, rain)"
   ]
  },
  {
   "cell_type": "code",
   "execution_count": 117,
   "metadata": {},
   "outputs": [
    {
     "name": "stdout",
     "output_type": "stream",
     "text": [
      "       days temperatures  rain\n",
      "1    Monday           68  TRUE\n",
      "2   Tuesday           67 FALSE\n",
      "3 Wednesday           65  TRUE\n",
      "4  Thursday           64 FALSE\n",
      "5    Friday           62  TRUE\n",
      "6  Saturday           61 FALSE\n",
      "7    Sunday           60  TRUE\n"
     ]
    }
   ],
   "source": [
    "print(df)"
   ]
  },
  {
   "cell_type": "code",
   "execution_count": 118,
   "metadata": {},
   "outputs": [
    {
     "name": "stdout",
     "output_type": "stream",
     "text": [
      "    days temperatures rain\n",
      "1 Monday           68 TRUE\n"
     ]
    }
   ],
   "source": [
    "print(df[1,])"
   ]
  },
  {
   "cell_type": "code",
   "execution_count": 119,
   "metadata": {},
   "outputs": [
    {
     "name": "stdout",
     "output_type": "stream",
     "text": [
      "[1]  TRUE FALSE  TRUE FALSE  TRUE FALSE  TRUE\n"
     ]
    }
   ],
   "source": [
    "print(df[,'rain'])"
   ]
  },
  {
   "cell_type": "code",
   "execution_count": 120,
   "metadata": {},
   "outputs": [
    {
     "name": "stdout",
     "output_type": "stream",
     "text": [
      "       days temperatures\n",
      "1    Monday           68\n",
      "2   Tuesday           67\n",
      "3 Wednesday           65\n",
      "4  Thursday           64\n",
      "5    Friday           62\n"
     ]
    }
   ],
   "source": [
    "print(df[1:5, c('days', 'temperatures')])"
   ]
  },
  {
   "cell_type": "code",
   "execution_count": 121,
   "metadata": {},
   "outputs": [
    {
     "name": "stdout",
     "output_type": "stream",
     "text": [
      "[1] \"Monday\"    \"Tuesday\"   \"Wednesday\" \"Thursday\"  \"Friday\"    \"Saturday\" \n",
      "[7] \"Sunday\"   \n"
     ]
    }
   ],
   "source": [
    "print(df$days)"
   ]
  },
  {
   "cell_type": "code",
   "execution_count": 122,
   "metadata": {},
   "outputs": [
    {
     "name": "stdout",
     "output_type": "stream",
     "text": [
      "[1] 68 67 65 64 62 61 60\n"
     ]
    }
   ],
   "source": [
    "# $ returns all the values in a vector form\n",
    "print(df$temperatures)"
   ]
  },
  {
   "cell_type": "code",
   "execution_count": 123,
   "metadata": {},
   "outputs": [
    {
     "data": {
      "text/html": [
       "<table class=\"dataframe\">\n",
       "<caption>A data.frame: 7 × 1</caption>\n",
       "<thead>\n",
       "\t<tr><th scope=col>days</th></tr>\n",
       "\t<tr><th scope=col>&lt;chr&gt;</th></tr>\n",
       "</thead>\n",
       "<tbody>\n",
       "\t<tr><td>Monday   </td></tr>\n",
       "\t<tr><td>Tuesday  </td></tr>\n",
       "\t<tr><td>Wednesday</td></tr>\n",
       "\t<tr><td>Thursday </td></tr>\n",
       "\t<tr><td>Friday   </td></tr>\n",
       "\t<tr><td>Saturday </td></tr>\n",
       "\t<tr><td>Sunday   </td></tr>\n",
       "</tbody>\n",
       "</table>\n"
      ],
      "text/latex": [
       "A data.frame: 7 × 1\n",
       "\\begin{tabular}{l}\n",
       " days\\\\\n",
       " <chr>\\\\\n",
       "\\hline\n",
       "\t Monday   \\\\\n",
       "\t Tuesday  \\\\\n",
       "\t Wednesday\\\\\n",
       "\t Thursday \\\\\n",
       "\t Friday   \\\\\n",
       "\t Saturday \\\\\n",
       "\t Sunday   \\\\\n",
       "\\end{tabular}\n"
      ],
      "text/markdown": [
       "\n",
       "A data.frame: 7 × 1\n",
       "\n",
       "| days &lt;chr&gt; |\n",
       "|---|\n",
       "| Monday    |\n",
       "| Tuesday   |\n",
       "| Wednesday |\n",
       "| Thursday  |\n",
       "| Friday    |\n",
       "| Saturday  |\n",
       "| Sunday    |\n",
       "\n"
      ],
      "text/plain": [
       "  days     \n",
       "1 Monday   \n",
       "2 Tuesday  \n",
       "3 Wednesday\n",
       "4 Thursday \n",
       "5 Friday   \n",
       "6 Saturday \n",
       "7 Sunday   "
      ]
     },
     "metadata": {},
     "output_type": "display_data"
    }
   ],
   "source": [
    "df['days']"
   ]
  },
  {
   "cell_type": "code",
   "execution_count": 124,
   "metadata": {},
   "outputs": [
    {
     "name": "stdout",
     "output_type": "stream",
     "text": [
      "       days temperatures rain\n",
      "1    Monday           68 TRUE\n",
      "3 Wednesday           65 TRUE\n",
      "5    Friday           62 TRUE\n",
      "7    Sunday           60 TRUE\n"
     ]
    }
   ],
   "source": [
    "# grab a subset of values\n",
    "print(subset(df, subset=rain==TRUE))"
   ]
  },
  {
   "cell_type": "code",
   "execution_count": 125,
   "metadata": {},
   "outputs": [
    {
     "name": "stdout",
     "output_type": "stream",
     "text": [
      "      days temperatures  rain\n",
      "2  Tuesday           67 FALSE\n",
      "4 Thursday           64 FALSE\n",
      "6 Saturday           61 FALSE\n"
     ]
    }
   ],
   "source": [
    "# grab a subset of values\n",
    "print(subset(df, subset=rain==FALSE))"
   ]
  },
  {
   "cell_type": "code",
   "execution_count": 126,
   "metadata": {},
   "outputs": [
    {
     "name": "stdout",
     "output_type": "stream",
     "text": [
      "       days temperatures  rain\n",
      "1    Monday           68  TRUE\n",
      "2   Tuesday           67 FALSE\n",
      "3 Wednesday           65  TRUE\n",
      "4  Thursday           64 FALSE\n",
      "5    Friday           62  TRUE\n",
      "6  Saturday           61 FALSE\n",
      "7    Sunday           60  TRUE\n"
     ]
    }
   ],
   "source": [
    "print(subset(df,subset=temperatures>=60))"
   ]
  },
  {
   "cell_type": "code",
   "execution_count": 127,
   "metadata": {},
   "outputs": [
    {
     "name": "stderr",
     "output_type": "stream",
     "text": [
      "Warning message in xtfrm.data.frame(x):\n",
      "\"cannot xtfrm data frames\"\n"
     ]
    },
    {
     "name": "stdout",
     "output_type": "stream",
     "text": [
      "[1] 7 6 5 4 3 2 1\n"
     ]
    }
   ],
   "source": [
    "# sort the column\n",
    "sorted.temp <- order(df['temperatures'])\n",
    "print(sorted.temp)"
   ]
  },
  {
   "cell_type": "code",
   "execution_count": 128,
   "metadata": {},
   "outputs": [
    {
     "name": "stdout",
     "output_type": "stream",
     "text": [
      "       days temperatures  rain\n",
      "7    Sunday           60  TRUE\n",
      "6  Saturday           61 FALSE\n",
      "5    Friday           62  TRUE\n",
      "4  Thursday           64 FALSE\n",
      "3 Wednesday           65  TRUE\n",
      "2   Tuesday           67 FALSE\n",
      "1    Monday           68  TRUE\n"
     ]
    }
   ],
   "source": [
    "print(df[sorted.temp,])"
   ]
  },
  {
   "cell_type": "code",
   "execution_count": 129,
   "metadata": {},
   "outputs": [
    {
     "name": "stderr",
     "output_type": "stream",
     "text": [
      "Warning message in xtfrm.data.frame(x):\n",
      "\"cannot xtfrm data frames\"\n"
     ]
    },
    {
     "name": "stdout",
     "output_type": "stream",
     "text": [
      "[1] 1 2 3 4 5 6 7\n"
     ]
    }
   ],
   "source": [
    "desc.temp <- order(-df['temperatures'])\n",
    "print(desc.temp)"
   ]
  },
  {
   "cell_type": "code",
   "execution_count": 130,
   "metadata": {},
   "outputs": [
    {
     "name": "stdout",
     "output_type": "stream",
     "text": [
      "       days temperatures  rain\n",
      "1    Monday           68  TRUE\n",
      "2   Tuesday           67 FALSE\n",
      "3 Wednesday           65  TRUE\n",
      "4  Thursday           64 FALSE\n",
      "5    Friday           62  TRUE\n",
      "6  Saturday           61 FALSE\n",
      "7    Sunday           60  TRUE\n"
     ]
    }
   ],
   "source": [
    "print(df[desc.temp,])"
   ]
  },
  {
   "cell_type": "code",
   "execution_count": 131,
   "metadata": {},
   "outputs": [],
   "source": [
    "desc.temp <- order(-df$temperatures)"
   ]
  },
  {
   "cell_type": "code",
   "execution_count": 132,
   "metadata": {},
   "outputs": [
    {
     "name": "stdout",
     "output_type": "stream",
     "text": [
      "       days temperatures  rain\n",
      "1    Monday           68  TRUE\n",
      "2   Tuesday           67 FALSE\n",
      "3 Wednesday           65  TRUE\n",
      "4  Thursday           64 FALSE\n",
      "5    Friday           62  TRUE\n",
      "6  Saturday           61 FALSE\n",
      "7    Sunday           60  TRUE\n"
     ]
    }
   ],
   "source": [
    "print(df[desc.temp, ])"
   ]
  },
  {
   "cell_type": "markdown",
   "metadata": {},
   "source": [
    "# overview of dataframe operations"
   ]
  },
  {
   "cell_type": "code",
   "execution_count": 133,
   "metadata": {},
   "outputs": [],
   "source": [
    "# creating dataframes\n",
    "empty <- data.frame()\n",
    "c1 <- 1:10\n",
    "c2 <- letters[1:10]\n",
    "df <- data.frame(col.name.1=c1, col.name.2=c2)"
   ]
  },
  {
   "cell_type": "code",
   "execution_count": 134,
   "metadata": {},
   "outputs": [
    {
     "name": "stdout",
     "output_type": "stream",
     "text": [
      "   col.name.1 col.name.2\n",
      "1           1          a\n",
      "2           2          b\n",
      "3           3          c\n",
      "4           4          d\n",
      "5           5          e\n",
      "6           6          f\n",
      "7           7          g\n",
      "8           8          h\n",
      "9           9          i\n",
      "10         10          j\n"
     ]
    }
   ],
   "source": [
    "print(df)"
   ]
  },
  {
   "cell_type": "code",
   "execution_count": 135,
   "metadata": {},
   "outputs": [
    {
     "ename": "ERROR",
     "evalue": "Error in library(readxl): there is no package called 'readxl'\n",
     "output_type": "error",
     "traceback": [
      "Error in library(readxl): there is no package called 'readxl'\nTraceback:\n",
      "1. library(readxl)"
     ]
    }
   ],
   "source": [
    "# importing and exporting data\n",
    "d2 <- read.csv('../files/filename.csv')\n",
    "\n",
    "# load the excel library for xcel files\n",
    "library(readxl)\n",
    "df <- read_excel('Sample-Sales-Data.xlsx', sheet='Sheet1')\n",
    "\n",
    "# output to csv\n",
    "write.csv(df, '../files/filename.csv')"
   ]
  },
  {
   "cell_type": "code",
   "execution_count": null,
   "metadata": {},
   "outputs": [],
   "source": [
    "write.csv(df, file='../files/filename.csv')\n",
    "df2 <- read.csv('../files/filename.csv')"
   ]
  },
  {
   "cell_type": "code",
   "execution_count": null,
   "metadata": {},
   "outputs": [
    {
     "name": "stdout",
     "output_type": "stream",
     "text": [
      "    X col.name.1 col.name.2\n",
      "1   1          1          a\n",
      "2   2          2          b\n",
      "3   3          3          c\n",
      "4   4          4          d\n",
      "5   5          5          e\n",
      "6   6          6          f\n",
      "7   7          7          g\n",
      "8   8          8          h\n",
      "9   9          9          i\n",
      "10 10         10          j\n"
     ]
    }
   ],
   "source": [
    "print(df2)"
   ]
  },
  {
   "cell_type": "code",
   "execution_count": null,
   "metadata": {},
   "outputs": [
    {
     "name": "stdout",
     "output_type": "stream",
     "text": [
      "   col.name.1 col.name.2\n",
      "1           1          a\n",
      "2           2          b\n",
      "3           3          c\n",
      "4           4          d\n",
      "5           5          e\n",
      "6           6          f\n",
      "7           7          g\n",
      "8           8          h\n",
      "9           9          i\n",
      "10         10          j\n"
     ]
    }
   ],
   "source": [
    "print(df)"
   ]
  },
  {
   "cell_type": "code",
   "execution_count": null,
   "metadata": {},
   "outputs": [
    {
     "name": "stdout",
     "output_type": "stream",
     "text": [
      "[1] 10\n",
      "[1] 2\n",
      "[1] \"col.name.1\" \"col.name.2\"\n",
      " [1] \"1\"  \"2\"  \"3\"  \"4\"  \"5\"  \"6\"  \"7\"  \"8\"  \"9\"  \"10\"\n"
     ]
    }
   ],
   "source": [
    "# getting info about dataframe\n",
    "print(nrow(df))\n",
    "print(ncol(df))\n",
    "print(colnames(df))\n",
    "# print(rownames(df))"
   ]
  },
  {
   "cell_type": "code",
   "execution_count": null,
   "metadata": {},
   "outputs": [
    {
     "name": "stdout",
     "output_type": "stream",
     "text": [
      "'data.frame':\t10 obs. of  2 variables:\n",
      " $ col.name.1: int  1 2 3 4 5 6 7 8 9 10\n",
      " $ col.name.2: chr  \"a\" \"b\" \"c\" \"d\" ...\n",
      "NULL\n"
     ]
    }
   ],
   "source": [
    "print(str(df))"
   ]
  },
  {
   "cell_type": "code",
   "execution_count": null,
   "metadata": {},
   "outputs": [
    {
     "name": "stdout",
     "output_type": "stream",
     "text": [
      "   col.name.1     col.name.2       \n",
      " Min.   : 1.00   Length:10         \n",
      " 1st Qu.: 3.25   Class :character  \n",
      " Median : 5.50   Mode  :character  \n",
      " Mean   : 5.50                     \n",
      " 3rd Qu.: 7.75                     \n",
      " Max.   :10.00                     \n"
     ]
    }
   ],
   "source": [
    "print(summary(df))"
   ]
  },
  {
   "cell_type": "code",
   "execution_count": null,
   "metadata": {},
   "outputs": [
    {
     "name": "stdout",
     "output_type": "stream",
     "text": [
      "   col.name.1 col.name.2\n",
      "1           1          a\n",
      "2           2          b\n",
      "3           3          c\n",
      "4           4          d\n",
      "5           5          e\n",
      "6           6          f\n",
      "7           7          g\n",
      "8           8          h\n",
      "9           9          i\n",
      "10         10          j\n"
     ]
    }
   ],
   "source": [
    "# referencing cells\n",
    "print(df)"
   ]
  },
  {
   "cell_type": "code",
   "execution_count": null,
   "metadata": {},
   "outputs": [
    {
     "name": "stdout",
     "output_type": "stream",
     "text": [
      "[1] \"e\"\n"
     ]
    }
   ],
   "source": [
    "print(df[[5, 2]])"
   ]
  },
  {
   "cell_type": "code",
   "execution_count": null,
   "metadata": {},
   "outputs": [
    {
     "data": {
      "text/html": [
       "'e'"
      ],
      "text/latex": [
       "'e'"
      ],
      "text/markdown": [
       "'e'"
      ],
      "text/plain": [
       "[1] \"e\""
      ]
     },
     "metadata": {},
     "output_type": "display_data"
    }
   ],
   "source": [
    "df[[5, 'col.name.2']]"
   ]
  },
  {
   "cell_type": "code",
   "execution_count": null,
   "metadata": {},
   "outputs": [],
   "source": [
    "df[[2, 'col.name.1']] <- 9999"
   ]
  },
  {
   "cell_type": "code",
   "execution_count": null,
   "metadata": {},
   "outputs": [
    {
     "name": "stdout",
     "output_type": "stream",
     "text": [
      "   col.name.1 col.name.2\n",
      "1           1          a\n",
      "2        9999          b\n",
      "3           3          c\n",
      "4           4          d\n",
      "5           5          e\n",
      "6           6          f\n",
      "7           7          g\n",
      "8           8          h\n",
      "9           9          i\n",
      "10         10          j\n"
     ]
    }
   ],
   "source": [
    "print(df)"
   ]
  },
  {
   "cell_type": "code",
   "execution_count": null,
   "metadata": {},
   "outputs": [
    {
     "name": "stdout",
     "output_type": "stream",
     "text": [
      "  col.name.1 col.name.2\n",
      "1          1          a\n"
     ]
    }
   ],
   "source": [
    "# referencing rows\n",
    "print(df[1,])"
   ]
  },
  {
   "cell_type": "code",
   "execution_count": null,
   "metadata": {},
   "outputs": [
    {
     "name": "stdout",
     "output_type": "stream",
     "text": [
      "                     mpg cyl  disp  hp drat    wt  qsec vs am gear carb\n",
      "Mazda RX4           21.0   6 160.0 110 3.90 2.620 16.46  0  1    4    4\n",
      "Mazda RX4 Wag       21.0   6 160.0 110 3.90 2.875 17.02  0  1    4    4\n",
      "Datsun 710          22.8   4 108.0  93 3.85 2.320 18.61  1  1    4    1\n",
      "Hornet 4 Drive      21.4   6 258.0 110 3.08 3.215 19.44  1  0    3    1\n",
      "Hornet Sportabout   18.7   8 360.0 175 3.15 3.440 17.02  0  0    3    2\n",
      "Valiant             18.1   6 225.0 105 2.76 3.460 20.22  1  0    3    1\n",
      "Duster 360          14.3   8 360.0 245 3.21 3.570 15.84  0  0    3    4\n",
      "Merc 240D           24.4   4 146.7  62 3.69 3.190 20.00  1  0    4    2\n",
      "Merc 230            22.8   4 140.8  95 3.92 3.150 22.90  1  0    4    2\n",
      "Merc 280            19.2   6 167.6 123 3.92 3.440 18.30  1  0    4    4\n",
      "Merc 280C           17.8   6 167.6 123 3.92 3.440 18.90  1  0    4    4\n",
      "Merc 450SE          16.4   8 275.8 180 3.07 4.070 17.40  0  0    3    3\n",
      "Merc 450SL          17.3   8 275.8 180 3.07 3.730 17.60  0  0    3    3\n",
      "Merc 450SLC         15.2   8 275.8 180 3.07 3.780 18.00  0  0    3    3\n",
      "Cadillac Fleetwood  10.4   8 472.0 205 2.93 5.250 17.98  0  0    3    4\n",
      "Lincoln Continental 10.4   8 460.0 215 3.00 5.424 17.82  0  0    3    4\n",
      "Chrysler Imperial   14.7   8 440.0 230 3.23 5.345 17.42  0  0    3    4\n",
      "Fiat 128            32.4   4  78.7  66 4.08 2.200 19.47  1  1    4    1\n",
      "Honda Civic         30.4   4  75.7  52 4.93 1.615 18.52  1  1    4    2\n",
      "Toyota Corolla      33.9   4  71.1  65 4.22 1.835 19.90  1  1    4    1\n",
      "Toyota Corona       21.5   4 120.1  97 3.70 2.465 20.01  1  0    3    1\n",
      "Dodge Challenger    15.5   8 318.0 150 2.76 3.520 16.87  0  0    3    2\n",
      "AMC Javelin         15.2   8 304.0 150 3.15 3.435 17.30  0  0    3    2\n",
      "Camaro Z28          13.3   8 350.0 245 3.73 3.840 15.41  0  0    3    4\n",
      "Pontiac Firebird    19.2   8 400.0 175 3.08 3.845 17.05  0  0    3    2\n",
      "Fiat X1-9           27.3   4  79.0  66 4.08 1.935 18.90  1  1    4    1\n",
      "Porsche 914-2       26.0   4 120.3  91 4.43 2.140 16.70  0  1    5    2\n",
      "Lotus Europa        30.4   4  95.1 113 3.77 1.513 16.90  1  1    5    2\n",
      "Ford Pantera L      15.8   8 351.0 264 4.22 3.170 14.50  0  1    5    4\n",
      "Ferrari Dino        19.7   6 145.0 175 3.62 2.770 15.50  0  1    5    6\n",
      "Maserati Bora       15.0   8 301.0 335 3.54 3.570 14.60  0  1    5    8\n",
      "Volvo 142E          21.4   4 121.0 109 4.11 2.780 18.60  1  1    4    2\n"
     ]
    }
   ],
   "source": [
    "# referencing columns\n",
    "print(mtcars)"
   ]
  },
  {
   "cell_type": "code",
   "execution_count": null,
   "metadata": {},
   "outputs": [
    {
     "name": "stdout",
     "output_type": "stream",
     "text": [
      "                   mpg cyl disp  hp drat    wt  qsec vs am gear carb\n",
      "Mazda RX4         21.0   6  160 110 3.90 2.620 16.46  0  1    4    4\n",
      "Mazda RX4 Wag     21.0   6  160 110 3.90 2.875 17.02  0  1    4    4\n",
      "Datsun 710        22.8   4  108  93 3.85 2.320 18.61  1  1    4    1\n",
      "Hornet 4 Drive    21.4   6  258 110 3.08 3.215 19.44  1  0    3    1\n",
      "Hornet Sportabout 18.7   8  360 175 3.15 3.440 17.02  0  0    3    2\n",
      "Valiant           18.1   6  225 105 2.76 3.460 20.22  1  0    3    1\n"
     ]
    }
   ],
   "source": [
    "print(head(mtcars))"
   ]
  },
  {
   "cell_type": "code",
   "execution_count": null,
   "metadata": {},
   "outputs": [
    {
     "name": "stdout",
     "output_type": "stream",
     "text": [
      " [1] 21.0 21.0 22.8 21.4 18.7 18.1 14.3 24.4 22.8 19.2 17.8 16.4 17.3 15.2 10.4\n",
      "[16] 10.4 14.7 32.4 30.4 33.9 21.5 15.5 15.2 13.3 19.2 27.3 26.0 30.4 15.8 19.7\n",
      "[31] 15.0 21.4\n"
     ]
    }
   ],
   "source": [
    "print(mtcars$mpg)"
   ]
  },
  {
   "cell_type": "code",
   "execution_count": null,
   "metadata": {},
   "outputs": [
    {
     "name": "stdout",
     "output_type": "stream",
     "text": [
      " [1] 21.0 21.0 22.8 21.4 18.7 18.1 14.3 24.4 22.8 19.2 17.8 16.4 17.3 15.2 10.4\n",
      "[16] 10.4 14.7 32.4 30.4 33.9 21.5 15.5 15.2 13.3 19.2 27.3 26.0 30.4 15.8 19.7\n",
      "[31] 15.0 21.4\n"
     ]
    }
   ],
   "source": [
    "print(mtcars[, 'mpg'])"
   ]
  },
  {
   "cell_type": "code",
   "execution_count": null,
   "metadata": {},
   "outputs": [
    {
     "name": "stdout",
     "output_type": "stream",
     "text": [
      " [1] 21.0 21.0 22.8 21.4 18.7 18.1 14.3 24.4 22.8 19.2 17.8 16.4 17.3 15.2 10.4\n",
      "[16] 10.4 14.7 32.4 30.4 33.9 21.5 15.5 15.2 13.3 19.2 27.3 26.0 30.4 15.8 19.7\n",
      "[31] 15.0 21.4\n"
     ]
    }
   ],
   "source": [
    "print(mtcars[,1])"
   ]
  },
  {
   "cell_type": "code",
   "execution_count": null,
   "metadata": {},
   "outputs": [
    {
     "name": "stdout",
     "output_type": "stream",
     "text": [
      " [1] 21.0 21.0 22.8 21.4 18.7 18.1 14.3 24.4 22.8 19.2 17.8 16.4 17.3 15.2 10.4\n",
      "[16] 10.4 14.7 32.4 30.4 33.9 21.5 15.5 15.2 13.3 19.2 27.3 26.0 30.4 15.8 19.7\n",
      "[31] 15.0 21.4\n"
     ]
    }
   ],
   "source": [
    "print(mtcars[['mpg']])"
   ]
  },
  {
   "cell_type": "code",
   "execution_count": null,
   "metadata": {},
   "outputs": [
    {
     "data": {
      "text/html": [
       "<table class=\"dataframe\">\n",
       "<caption>A data.frame: 32 × 1</caption>\n",
       "<thead>\n",
       "\t<tr><th></th><th scope=col>mpg</th></tr>\n",
       "\t<tr><th></th><th scope=col>&lt;dbl&gt;</th></tr>\n",
       "</thead>\n",
       "<tbody>\n",
       "\t<tr><th scope=row>Mazda RX4</th><td>21.0</td></tr>\n",
       "\t<tr><th scope=row>Mazda RX4 Wag</th><td>21.0</td></tr>\n",
       "\t<tr><th scope=row>Datsun 710</th><td>22.8</td></tr>\n",
       "\t<tr><th scope=row>Hornet 4 Drive</th><td>21.4</td></tr>\n",
       "\t<tr><th scope=row>Hornet Sportabout</th><td>18.7</td></tr>\n",
       "\t<tr><th scope=row>Valiant</th><td>18.1</td></tr>\n",
       "\t<tr><th scope=row>Duster 360</th><td>14.3</td></tr>\n",
       "\t<tr><th scope=row>Merc 240D</th><td>24.4</td></tr>\n",
       "\t<tr><th scope=row>Merc 230</th><td>22.8</td></tr>\n",
       "\t<tr><th scope=row>Merc 280</th><td>19.2</td></tr>\n",
       "\t<tr><th scope=row>Merc 280C</th><td>17.8</td></tr>\n",
       "\t<tr><th scope=row>Merc 450SE</th><td>16.4</td></tr>\n",
       "\t<tr><th scope=row>Merc 450SL</th><td>17.3</td></tr>\n",
       "\t<tr><th scope=row>Merc 450SLC</th><td>15.2</td></tr>\n",
       "\t<tr><th scope=row>Cadillac Fleetwood</th><td>10.4</td></tr>\n",
       "\t<tr><th scope=row>Lincoln Continental</th><td>10.4</td></tr>\n",
       "\t<tr><th scope=row>Chrysler Imperial</th><td>14.7</td></tr>\n",
       "\t<tr><th scope=row>Fiat 128</th><td>32.4</td></tr>\n",
       "\t<tr><th scope=row>Honda Civic</th><td>30.4</td></tr>\n",
       "\t<tr><th scope=row>Toyota Corolla</th><td>33.9</td></tr>\n",
       "\t<tr><th scope=row>Toyota Corona</th><td>21.5</td></tr>\n",
       "\t<tr><th scope=row>Dodge Challenger</th><td>15.5</td></tr>\n",
       "\t<tr><th scope=row>AMC Javelin</th><td>15.2</td></tr>\n",
       "\t<tr><th scope=row>Camaro Z28</th><td>13.3</td></tr>\n",
       "\t<tr><th scope=row>Pontiac Firebird</th><td>19.2</td></tr>\n",
       "\t<tr><th scope=row>Fiat X1-9</th><td>27.3</td></tr>\n",
       "\t<tr><th scope=row>Porsche 914-2</th><td>26.0</td></tr>\n",
       "\t<tr><th scope=row>Lotus Europa</th><td>30.4</td></tr>\n",
       "\t<tr><th scope=row>Ford Pantera L</th><td>15.8</td></tr>\n",
       "\t<tr><th scope=row>Ferrari Dino</th><td>19.7</td></tr>\n",
       "\t<tr><th scope=row>Maserati Bora</th><td>15.0</td></tr>\n",
       "\t<tr><th scope=row>Volvo 142E</th><td>21.4</td></tr>\n",
       "</tbody>\n",
       "</table>\n"
      ],
      "text/latex": [
       "A data.frame: 32 × 1\n",
       "\\begin{tabular}{r|l}\n",
       "  & mpg\\\\\n",
       "  & <dbl>\\\\\n",
       "\\hline\n",
       "\tMazda RX4 & 21.0\\\\\n",
       "\tMazda RX4 Wag & 21.0\\\\\n",
       "\tDatsun 710 & 22.8\\\\\n",
       "\tHornet 4 Drive & 21.4\\\\\n",
       "\tHornet Sportabout & 18.7\\\\\n",
       "\tValiant & 18.1\\\\\n",
       "\tDuster 360 & 14.3\\\\\n",
       "\tMerc 240D & 24.4\\\\\n",
       "\tMerc 230 & 22.8\\\\\n",
       "\tMerc 280 & 19.2\\\\\n",
       "\tMerc 280C & 17.8\\\\\n",
       "\tMerc 450SE & 16.4\\\\\n",
       "\tMerc 450SL & 17.3\\\\\n",
       "\tMerc 450SLC & 15.2\\\\\n",
       "\tCadillac Fleetwood & 10.4\\\\\n",
       "\tLincoln Continental & 10.4\\\\\n",
       "\tChrysler Imperial & 14.7\\\\\n",
       "\tFiat 128 & 32.4\\\\\n",
       "\tHonda Civic & 30.4\\\\\n",
       "\tToyota Corolla & 33.9\\\\\n",
       "\tToyota Corona & 21.5\\\\\n",
       "\tDodge Challenger & 15.5\\\\\n",
       "\tAMC Javelin & 15.2\\\\\n",
       "\tCamaro Z28 & 13.3\\\\\n",
       "\tPontiac Firebird & 19.2\\\\\n",
       "\tFiat X1-9 & 27.3\\\\\n",
       "\tPorsche 914-2 & 26.0\\\\\n",
       "\tLotus Europa & 30.4\\\\\n",
       "\tFord Pantera L & 15.8\\\\\n",
       "\tFerrari Dino & 19.7\\\\\n",
       "\tMaserati Bora & 15.0\\\\\n",
       "\tVolvo 142E & 21.4\\\\\n",
       "\\end{tabular}\n"
      ],
      "text/markdown": [
       "\n",
       "A data.frame: 32 × 1\n",
       "\n",
       "| <!--/--> | mpg &lt;dbl&gt; |\n",
       "|---|---|\n",
       "| Mazda RX4 | 21.0 |\n",
       "| Mazda RX4 Wag | 21.0 |\n",
       "| Datsun 710 | 22.8 |\n",
       "| Hornet 4 Drive | 21.4 |\n",
       "| Hornet Sportabout | 18.7 |\n",
       "| Valiant | 18.1 |\n",
       "| Duster 360 | 14.3 |\n",
       "| Merc 240D | 24.4 |\n",
       "| Merc 230 | 22.8 |\n",
       "| Merc 280 | 19.2 |\n",
       "| Merc 280C | 17.8 |\n",
       "| Merc 450SE | 16.4 |\n",
       "| Merc 450SL | 17.3 |\n",
       "| Merc 450SLC | 15.2 |\n",
       "| Cadillac Fleetwood | 10.4 |\n",
       "| Lincoln Continental | 10.4 |\n",
       "| Chrysler Imperial | 14.7 |\n",
       "| Fiat 128 | 32.4 |\n",
       "| Honda Civic | 30.4 |\n",
       "| Toyota Corolla | 33.9 |\n",
       "| Toyota Corona | 21.5 |\n",
       "| Dodge Challenger | 15.5 |\n",
       "| AMC Javelin | 15.2 |\n",
       "| Camaro Z28 | 13.3 |\n",
       "| Pontiac Firebird | 19.2 |\n",
       "| Fiat X1-9 | 27.3 |\n",
       "| Porsche 914-2 | 26.0 |\n",
       "| Lotus Europa | 30.4 |\n",
       "| Ford Pantera L | 15.8 |\n",
       "| Ferrari Dino | 19.7 |\n",
       "| Maserati Bora | 15.0 |\n",
       "| Volvo 142E | 21.4 |\n",
       "\n"
      ],
      "text/plain": [
       "                    mpg \n",
       "Mazda RX4           21.0\n",
       "Mazda RX4 Wag       21.0\n",
       "Datsun 710          22.8\n",
       "Hornet 4 Drive      21.4\n",
       "Hornet Sportabout   18.7\n",
       "Valiant             18.1\n",
       "Duster 360          14.3\n",
       "Merc 240D           24.4\n",
       "Merc 230            22.8\n",
       "Merc 280            19.2\n",
       "Merc 280C           17.8\n",
       "Merc 450SE          16.4\n",
       "Merc 450SL          17.3\n",
       "Merc 450SLC         15.2\n",
       "Cadillac Fleetwood  10.4\n",
       "Lincoln Continental 10.4\n",
       "Chrysler Imperial   14.7\n",
       "Fiat 128            32.4\n",
       "Honda Civic         30.4\n",
       "Toyota Corolla      33.9\n",
       "Toyota Corona       21.5\n",
       "Dodge Challenger    15.5\n",
       "AMC Javelin         15.2\n",
       "Camaro Z28          13.3\n",
       "Pontiac Firebird    19.2\n",
       "Fiat X1-9           27.3\n",
       "Porsche 914-2       26.0\n",
       "Lotus Europa        30.4\n",
       "Ford Pantera L      15.8\n",
       "Ferrari Dino        19.7\n",
       "Maserati Bora       15.0\n",
       "Volvo 142E          21.4"
      ]
     },
     "metadata": {},
     "output_type": "display_data"
    }
   ],
   "source": [
    "#  return a dataframe\n",
    "mtcars['mpg']"
   ]
  },
  {
   "cell_type": "code",
   "execution_count": null,
   "metadata": {},
   "outputs": [
    {
     "data": {
      "text/html": [
       "<table class=\"dataframe\">\n",
       "<caption>A data.frame: 32 × 1</caption>\n",
       "<thead>\n",
       "\t<tr><th></th><th scope=col>mpg</th></tr>\n",
       "\t<tr><th></th><th scope=col>&lt;dbl&gt;</th></tr>\n",
       "</thead>\n",
       "<tbody>\n",
       "\t<tr><th scope=row>Mazda RX4</th><td>21.0</td></tr>\n",
       "\t<tr><th scope=row>Mazda RX4 Wag</th><td>21.0</td></tr>\n",
       "\t<tr><th scope=row>Datsun 710</th><td>22.8</td></tr>\n",
       "\t<tr><th scope=row>Hornet 4 Drive</th><td>21.4</td></tr>\n",
       "\t<tr><th scope=row>Hornet Sportabout</th><td>18.7</td></tr>\n",
       "\t<tr><th scope=row>Valiant</th><td>18.1</td></tr>\n",
       "\t<tr><th scope=row>Duster 360</th><td>14.3</td></tr>\n",
       "\t<tr><th scope=row>Merc 240D</th><td>24.4</td></tr>\n",
       "\t<tr><th scope=row>Merc 230</th><td>22.8</td></tr>\n",
       "\t<tr><th scope=row>Merc 280</th><td>19.2</td></tr>\n",
       "\t<tr><th scope=row>Merc 280C</th><td>17.8</td></tr>\n",
       "\t<tr><th scope=row>Merc 450SE</th><td>16.4</td></tr>\n",
       "\t<tr><th scope=row>Merc 450SL</th><td>17.3</td></tr>\n",
       "\t<tr><th scope=row>Merc 450SLC</th><td>15.2</td></tr>\n",
       "\t<tr><th scope=row>Cadillac Fleetwood</th><td>10.4</td></tr>\n",
       "\t<tr><th scope=row>Lincoln Continental</th><td>10.4</td></tr>\n",
       "\t<tr><th scope=row>Chrysler Imperial</th><td>14.7</td></tr>\n",
       "\t<tr><th scope=row>Fiat 128</th><td>32.4</td></tr>\n",
       "\t<tr><th scope=row>Honda Civic</th><td>30.4</td></tr>\n",
       "\t<tr><th scope=row>Toyota Corolla</th><td>33.9</td></tr>\n",
       "\t<tr><th scope=row>Toyota Corona</th><td>21.5</td></tr>\n",
       "\t<tr><th scope=row>Dodge Challenger</th><td>15.5</td></tr>\n",
       "\t<tr><th scope=row>AMC Javelin</th><td>15.2</td></tr>\n",
       "\t<tr><th scope=row>Camaro Z28</th><td>13.3</td></tr>\n",
       "\t<tr><th scope=row>Pontiac Firebird</th><td>19.2</td></tr>\n",
       "\t<tr><th scope=row>Fiat X1-9</th><td>27.3</td></tr>\n",
       "\t<tr><th scope=row>Porsche 914-2</th><td>26.0</td></tr>\n",
       "\t<tr><th scope=row>Lotus Europa</th><td>30.4</td></tr>\n",
       "\t<tr><th scope=row>Ford Pantera L</th><td>15.8</td></tr>\n",
       "\t<tr><th scope=row>Ferrari Dino</th><td>19.7</td></tr>\n",
       "\t<tr><th scope=row>Maserati Bora</th><td>15.0</td></tr>\n",
       "\t<tr><th scope=row>Volvo 142E</th><td>21.4</td></tr>\n",
       "</tbody>\n",
       "</table>\n"
      ],
      "text/latex": [
       "A data.frame: 32 × 1\n",
       "\\begin{tabular}{r|l}\n",
       "  & mpg\\\\\n",
       "  & <dbl>\\\\\n",
       "\\hline\n",
       "\tMazda RX4 & 21.0\\\\\n",
       "\tMazda RX4 Wag & 21.0\\\\\n",
       "\tDatsun 710 & 22.8\\\\\n",
       "\tHornet 4 Drive & 21.4\\\\\n",
       "\tHornet Sportabout & 18.7\\\\\n",
       "\tValiant & 18.1\\\\\n",
       "\tDuster 360 & 14.3\\\\\n",
       "\tMerc 240D & 24.4\\\\\n",
       "\tMerc 230 & 22.8\\\\\n",
       "\tMerc 280 & 19.2\\\\\n",
       "\tMerc 280C & 17.8\\\\\n",
       "\tMerc 450SE & 16.4\\\\\n",
       "\tMerc 450SL & 17.3\\\\\n",
       "\tMerc 450SLC & 15.2\\\\\n",
       "\tCadillac Fleetwood & 10.4\\\\\n",
       "\tLincoln Continental & 10.4\\\\\n",
       "\tChrysler Imperial & 14.7\\\\\n",
       "\tFiat 128 & 32.4\\\\\n",
       "\tHonda Civic & 30.4\\\\\n",
       "\tToyota Corolla & 33.9\\\\\n",
       "\tToyota Corona & 21.5\\\\\n",
       "\tDodge Challenger & 15.5\\\\\n",
       "\tAMC Javelin & 15.2\\\\\n",
       "\tCamaro Z28 & 13.3\\\\\n",
       "\tPontiac Firebird & 19.2\\\\\n",
       "\tFiat X1-9 & 27.3\\\\\n",
       "\tPorsche 914-2 & 26.0\\\\\n",
       "\tLotus Europa & 30.4\\\\\n",
       "\tFord Pantera L & 15.8\\\\\n",
       "\tFerrari Dino & 19.7\\\\\n",
       "\tMaserati Bora & 15.0\\\\\n",
       "\tVolvo 142E & 21.4\\\\\n",
       "\\end{tabular}\n"
      ],
      "text/markdown": [
       "\n",
       "A data.frame: 32 × 1\n",
       "\n",
       "| <!--/--> | mpg &lt;dbl&gt; |\n",
       "|---|---|\n",
       "| Mazda RX4 | 21.0 |\n",
       "| Mazda RX4 Wag | 21.0 |\n",
       "| Datsun 710 | 22.8 |\n",
       "| Hornet 4 Drive | 21.4 |\n",
       "| Hornet Sportabout | 18.7 |\n",
       "| Valiant | 18.1 |\n",
       "| Duster 360 | 14.3 |\n",
       "| Merc 240D | 24.4 |\n",
       "| Merc 230 | 22.8 |\n",
       "| Merc 280 | 19.2 |\n",
       "| Merc 280C | 17.8 |\n",
       "| Merc 450SE | 16.4 |\n",
       "| Merc 450SL | 17.3 |\n",
       "| Merc 450SLC | 15.2 |\n",
       "| Cadillac Fleetwood | 10.4 |\n",
       "| Lincoln Continental | 10.4 |\n",
       "| Chrysler Imperial | 14.7 |\n",
       "| Fiat 128 | 32.4 |\n",
       "| Honda Civic | 30.4 |\n",
       "| Toyota Corolla | 33.9 |\n",
       "| Toyota Corona | 21.5 |\n",
       "| Dodge Challenger | 15.5 |\n",
       "| AMC Javelin | 15.2 |\n",
       "| Camaro Z28 | 13.3 |\n",
       "| Pontiac Firebird | 19.2 |\n",
       "| Fiat X1-9 | 27.3 |\n",
       "| Porsche 914-2 | 26.0 |\n",
       "| Lotus Europa | 30.4 |\n",
       "| Ford Pantera L | 15.8 |\n",
       "| Ferrari Dino | 19.7 |\n",
       "| Maserati Bora | 15.0 |\n",
       "| Volvo 142E | 21.4 |\n",
       "\n"
      ],
      "text/plain": [
       "                    mpg \n",
       "Mazda RX4           21.0\n",
       "Mazda RX4 Wag       21.0\n",
       "Datsun 710          22.8\n",
       "Hornet 4 Drive      21.4\n",
       "Hornet Sportabout   18.7\n",
       "Valiant             18.1\n",
       "Duster 360          14.3\n",
       "Merc 240D           24.4\n",
       "Merc 230            22.8\n",
       "Merc 280            19.2\n",
       "Merc 280C           17.8\n",
       "Merc 450SE          16.4\n",
       "Merc 450SL          17.3\n",
       "Merc 450SLC         15.2\n",
       "Cadillac Fleetwood  10.4\n",
       "Lincoln Continental 10.4\n",
       "Chrysler Imperial   14.7\n",
       "Fiat 128            32.4\n",
       "Honda Civic         30.4\n",
       "Toyota Corolla      33.9\n",
       "Toyota Corona       21.5\n",
       "Dodge Challenger    15.5\n",
       "AMC Javelin         15.2\n",
       "Camaro Z28          13.3\n",
       "Pontiac Firebird    19.2\n",
       "Fiat X1-9           27.3\n",
       "Porsche 914-2       26.0\n",
       "Lotus Europa        30.4\n",
       "Ford Pantera L      15.8\n",
       "Ferrari Dino        19.7\n",
       "Maserati Bora       15.0\n",
       "Volvo 142E          21.4"
      ]
     },
     "metadata": {},
     "output_type": "display_data"
    }
   ],
   "source": [
    "mtcars['mpg']"
   ]
  },
  {
   "cell_type": "code",
   "execution_count": null,
   "metadata": {},
   "outputs": [
    {
     "data": {
      "text/html": [
       "<table class=\"dataframe\">\n",
       "<caption>A data.frame: 6 × 2</caption>\n",
       "<thead>\n",
       "\t<tr><th></th><th scope=col>mpg</th><th scope=col>cyl</th></tr>\n",
       "\t<tr><th></th><th scope=col>&lt;dbl&gt;</th><th scope=col>&lt;dbl&gt;</th></tr>\n",
       "</thead>\n",
       "<tbody>\n",
       "\t<tr><th scope=row>Mazda RX4</th><td>21.0</td><td>6</td></tr>\n",
       "\t<tr><th scope=row>Mazda RX4 Wag</th><td>21.0</td><td>6</td></tr>\n",
       "\t<tr><th scope=row>Datsun 710</th><td>22.8</td><td>4</td></tr>\n",
       "\t<tr><th scope=row>Hornet 4 Drive</th><td>21.4</td><td>6</td></tr>\n",
       "\t<tr><th scope=row>Hornet Sportabout</th><td>18.7</td><td>8</td></tr>\n",
       "\t<tr><th scope=row>Valiant</th><td>18.1</td><td>6</td></tr>\n",
       "</tbody>\n",
       "</table>\n"
      ],
      "text/latex": [
       "A data.frame: 6 × 2\n",
       "\\begin{tabular}{r|ll}\n",
       "  & mpg & cyl\\\\\n",
       "  & <dbl> & <dbl>\\\\\n",
       "\\hline\n",
       "\tMazda RX4 & 21.0 & 6\\\\\n",
       "\tMazda RX4 Wag & 21.0 & 6\\\\\n",
       "\tDatsun 710 & 22.8 & 4\\\\\n",
       "\tHornet 4 Drive & 21.4 & 6\\\\\n",
       "\tHornet Sportabout & 18.7 & 8\\\\\n",
       "\tValiant & 18.1 & 6\\\\\n",
       "\\end{tabular}\n"
      ],
      "text/markdown": [
       "\n",
       "A data.frame: 6 × 2\n",
       "\n",
       "| <!--/--> | mpg &lt;dbl&gt; | cyl &lt;dbl&gt; |\n",
       "|---|---|---|\n",
       "| Mazda RX4 | 21.0 | 6 |\n",
       "| Mazda RX4 Wag | 21.0 | 6 |\n",
       "| Datsun 710 | 22.8 | 4 |\n",
       "| Hornet 4 Drive | 21.4 | 6 |\n",
       "| Hornet Sportabout | 18.7 | 8 |\n",
       "| Valiant | 18.1 | 6 |\n",
       "\n"
      ],
      "text/plain": [
       "                  mpg  cyl\n",
       "Mazda RX4         21.0 6  \n",
       "Mazda RX4 Wag     21.0 6  \n",
       "Datsun 710        22.8 4  \n",
       "Hornet 4 Drive    21.4 6  \n",
       "Hornet Sportabout 18.7 8  \n",
       "Valiant           18.1 6  "
      ]
     },
     "metadata": {},
     "output_type": "display_data"
    }
   ],
   "source": [
    "head(mtcars[c('mpg', 'cyl')])"
   ]
  },
  {
   "cell_type": "code",
   "execution_count": null,
   "metadata": {},
   "outputs": [
    {
     "data": {
      "text/html": [
       "<table class=\"dataframe\">\n",
       "<caption>A data.frame: 1 × 2</caption>\n",
       "<thead>\n",
       "\t<tr><th scope=col>col.name.1</th><th scope=col>col.name.2</th></tr>\n",
       "\t<tr><th scope=col>&lt;dbl&gt;</th><th scope=col>&lt;chr&gt;</th></tr>\n",
       "</thead>\n",
       "<tbody>\n",
       "\t<tr><td>2000</td><td>new</td></tr>\n",
       "</tbody>\n",
       "</table>\n"
      ],
      "text/latex": [
       "A data.frame: 1 × 2\n",
       "\\begin{tabular}{ll}\n",
       " col.name.1 & col.name.2\\\\\n",
       " <dbl> & <chr>\\\\\n",
       "\\hline\n",
       "\t 2000 & new\\\\\n",
       "\\end{tabular}\n"
      ],
      "text/markdown": [
       "\n",
       "A data.frame: 1 × 2\n",
       "\n",
       "| col.name.1 &lt;dbl&gt; | col.name.2 &lt;chr&gt; |\n",
       "|---|---|\n",
       "| 2000 | new |\n",
       "\n"
      ],
      "text/plain": [
       "  col.name.1 col.name.2\n",
       "1 2000       new       "
      ]
     },
     "metadata": {},
     "output_type": "display_data"
    }
   ],
   "source": [
    "# adding rows\n",
    "df2 <- data.frame(col.name.1=2000, col.name.2='new')\n",
    "df2"
   ]
  },
  {
   "cell_type": "code",
   "execution_count": null,
   "metadata": {},
   "outputs": [
    {
     "data": {
      "text/html": [
       "<table class=\"dataframe\">\n",
       "<caption>A data.frame: 10 × 2</caption>\n",
       "<thead>\n",
       "\t<tr><th scope=col>col.name.1</th><th scope=col>col.name.2</th></tr>\n",
       "\t<tr><th scope=col>&lt;dbl&gt;</th><th scope=col>&lt;chr&gt;</th></tr>\n",
       "</thead>\n",
       "<tbody>\n",
       "\t<tr><td>   1</td><td>a</td></tr>\n",
       "\t<tr><td>9999</td><td>b</td></tr>\n",
       "\t<tr><td>   3</td><td>c</td></tr>\n",
       "\t<tr><td>   4</td><td>d</td></tr>\n",
       "\t<tr><td>   5</td><td>e</td></tr>\n",
       "\t<tr><td>   6</td><td>f</td></tr>\n",
       "\t<tr><td>   7</td><td>g</td></tr>\n",
       "\t<tr><td>   8</td><td>h</td></tr>\n",
       "\t<tr><td>   9</td><td>i</td></tr>\n",
       "\t<tr><td>  10</td><td>j</td></tr>\n",
       "</tbody>\n",
       "</table>\n"
      ],
      "text/latex": [
       "A data.frame: 10 × 2\n",
       "\\begin{tabular}{ll}\n",
       " col.name.1 & col.name.2\\\\\n",
       " <dbl> & <chr>\\\\\n",
       "\\hline\n",
       "\t    1 & a\\\\\n",
       "\t 9999 & b\\\\\n",
       "\t    3 & c\\\\\n",
       "\t    4 & d\\\\\n",
       "\t    5 & e\\\\\n",
       "\t    6 & f\\\\\n",
       "\t    7 & g\\\\\n",
       "\t    8 & h\\\\\n",
       "\t    9 & i\\\\\n",
       "\t   10 & j\\\\\n",
       "\\end{tabular}\n"
      ],
      "text/markdown": [
       "\n",
       "A data.frame: 10 × 2\n",
       "\n",
       "| col.name.1 &lt;dbl&gt; | col.name.2 &lt;chr&gt; |\n",
       "|---|---|\n",
       "|    1 | a |\n",
       "| 9999 | b |\n",
       "|    3 | c |\n",
       "|    4 | d |\n",
       "|    5 | e |\n",
       "|    6 | f |\n",
       "|    7 | g |\n",
       "|    8 | h |\n",
       "|    9 | i |\n",
       "|   10 | j |\n",
       "\n"
      ],
      "text/plain": [
       "   col.name.1 col.name.2\n",
       "1     1       a         \n",
       "2  9999       b         \n",
       "3     3       c         \n",
       "4     4       d         \n",
       "5     5       e         \n",
       "6     6       f         \n",
       "7     7       g         \n",
       "8     8       h         \n",
       "9     9       i         \n",
       "10   10       j         "
      ]
     },
     "metadata": {},
     "output_type": "display_data"
    }
   ],
   "source": [
    "df"
   ]
  },
  {
   "cell_type": "code",
   "execution_count": null,
   "metadata": {},
   "outputs": [],
   "source": [
    "dfnew <- rbind(df, df2)"
   ]
  },
  {
   "cell_type": "code",
   "execution_count": null,
   "metadata": {},
   "outputs": [
    {
     "name": "stdout",
     "output_type": "stream",
     "text": [
      "   col.name.1 col.name.2\n",
      "1           1          a\n",
      "2        9999          b\n",
      "3           3          c\n",
      "4           4          d\n",
      "5           5          e\n",
      "6           6          f\n",
      "7           7          g\n",
      "8           8          h\n",
      "9           9          i\n",
      "10         10          j\n",
      "11       2000        new\n"
     ]
    }
   ],
   "source": [
    "print(dfnew)"
   ]
  },
  {
   "cell_type": "code",
   "execution_count": null,
   "metadata": {},
   "outputs": [],
   "source": [
    "# adding columns"
   ]
  },
  {
   "cell_type": "code",
   "execution_count": null,
   "metadata": {},
   "outputs": [
    {
     "name": "stdout",
     "output_type": "stream",
     "text": [
      "   col.name.1 col.name.2\n",
      "1           1          a\n",
      "2        9999          b\n",
      "3           3          c\n",
      "4           4          d\n",
      "5           5          e\n",
      "6           6          f\n",
      "7           7          g\n",
      "8           8          h\n",
      "9           9          i\n",
      "10         10          j\n"
     ]
    }
   ],
   "source": [
    "print(df)"
   ]
  },
  {
   "cell_type": "code",
   "execution_count": null,
   "metadata": {},
   "outputs": [],
   "source": [
    "df$newcol <- 2*df$col.name.1"
   ]
  },
  {
   "cell_type": "code",
   "execution_count": null,
   "metadata": {},
   "outputs": [
    {
     "name": "stdout",
     "output_type": "stream",
     "text": [
      "   col.name.1 col.name.2 newcol\n",
      "1           1          a      2\n",
      "2        9999          b  19998\n",
      "3           3          c      6\n",
      "4           4          d      8\n",
      "5           5          e     10\n",
      "6           6          f     12\n",
      "7           7          g     14\n",
      "8           8          h     16\n",
      "9           9          i     18\n",
      "10         10          j     20\n"
     ]
    }
   ],
   "source": [
    "print(df)"
   ]
  },
  {
   "cell_type": "code",
   "execution_count": null,
   "metadata": {},
   "outputs": [],
   "source": [
    "df$newcol.copy <- df$newcol"
   ]
  },
  {
   "cell_type": "code",
   "execution_count": null,
   "metadata": {},
   "outputs": [
    {
     "data": {
      "text/html": [
       "<table class=\"dataframe\">\n",
       "<caption>A data.frame: 6 × 4</caption>\n",
       "<thead>\n",
       "\t<tr><th></th><th scope=col>col.name.1</th><th scope=col>col.name.2</th><th scope=col>newcol</th><th scope=col>newcol.copy</th></tr>\n",
       "\t<tr><th></th><th scope=col>&lt;dbl&gt;</th><th scope=col>&lt;chr&gt;</th><th scope=col>&lt;dbl&gt;</th><th scope=col>&lt;dbl&gt;</th></tr>\n",
       "</thead>\n",
       "<tbody>\n",
       "\t<tr><th scope=row>1</th><td>   1</td><td>a</td><td>    2</td><td>    2</td></tr>\n",
       "\t<tr><th scope=row>2</th><td>9999</td><td>b</td><td>19998</td><td>19998</td></tr>\n",
       "\t<tr><th scope=row>3</th><td>   3</td><td>c</td><td>    6</td><td>    6</td></tr>\n",
       "\t<tr><th scope=row>4</th><td>   4</td><td>d</td><td>    8</td><td>    8</td></tr>\n",
       "\t<tr><th scope=row>5</th><td>   5</td><td>e</td><td>   10</td><td>   10</td></tr>\n",
       "\t<tr><th scope=row>6</th><td>   6</td><td>f</td><td>   12</td><td>   12</td></tr>\n",
       "</tbody>\n",
       "</table>\n"
      ],
      "text/latex": [
       "A data.frame: 6 × 4\n",
       "\\begin{tabular}{r|llll}\n",
       "  & col.name.1 & col.name.2 & newcol & newcol.copy\\\\\n",
       "  & <dbl> & <chr> & <dbl> & <dbl>\\\\\n",
       "\\hline\n",
       "\t1 &    1 & a &     2 &     2\\\\\n",
       "\t2 & 9999 & b & 19998 & 19998\\\\\n",
       "\t3 &    3 & c &     6 &     6\\\\\n",
       "\t4 &    4 & d &     8 &     8\\\\\n",
       "\t5 &    5 & e &    10 &    10\\\\\n",
       "\t6 &    6 & f &    12 &    12\\\\\n",
       "\\end{tabular}\n"
      ],
      "text/markdown": [
       "\n",
       "A data.frame: 6 × 4\n",
       "\n",
       "| <!--/--> | col.name.1 &lt;dbl&gt; | col.name.2 &lt;chr&gt; | newcol &lt;dbl&gt; | newcol.copy &lt;dbl&gt; |\n",
       "|---|---|---|---|---|\n",
       "| 1 |    1 | a |     2 |     2 |\n",
       "| 2 | 9999 | b | 19998 | 19998 |\n",
       "| 3 |    3 | c |     6 |     6 |\n",
       "| 4 |    4 | d |     8 |     8 |\n",
       "| 5 |    5 | e |    10 |    10 |\n",
       "| 6 |    6 | f |    12 |    12 |\n",
       "\n"
      ],
      "text/plain": [
       "  col.name.1 col.name.2 newcol newcol.copy\n",
       "1    1       a              2      2      \n",
       "2 9999       b          19998  19998      \n",
       "3    3       c              6      6      \n",
       "4    4       d              8      8      \n",
       "5    5       e             10     10      \n",
       "6    6       f             12     12      "
      ]
     },
     "metadata": {},
     "output_type": "display_data"
    }
   ],
   "source": [
    "head(df)"
   ]
  },
  {
   "cell_type": "code",
   "execution_count": null,
   "metadata": {},
   "outputs": [
    {
     "data": {
      "text/html": [
       "<table class=\"dataframe\">\n",
       "<caption>A data.frame: 6 × 5</caption>\n",
       "<thead>\n",
       "\t<tr><th></th><th scope=col>col.name.1</th><th scope=col>col.name.2</th><th scope=col>newcol</th><th scope=col>newcol.copy</th><th scope=col>newcol.copy2</th></tr>\n",
       "\t<tr><th></th><th scope=col>&lt;dbl&gt;</th><th scope=col>&lt;chr&gt;</th><th scope=col>&lt;dbl&gt;</th><th scope=col>&lt;dbl&gt;</th><th scope=col>&lt;dbl&gt;</th></tr>\n",
       "</thead>\n",
       "<tbody>\n",
       "\t<tr><th scope=row>1</th><td>   1</td><td>a</td><td>    2</td><td>    2</td><td>    2</td></tr>\n",
       "\t<tr><th scope=row>2</th><td>9999</td><td>b</td><td>19998</td><td>19998</td><td>19998</td></tr>\n",
       "\t<tr><th scope=row>3</th><td>   3</td><td>c</td><td>    6</td><td>    6</td><td>    6</td></tr>\n",
       "\t<tr><th scope=row>4</th><td>   4</td><td>d</td><td>    8</td><td>    8</td><td>    8</td></tr>\n",
       "\t<tr><th scope=row>5</th><td>   5</td><td>e</td><td>   10</td><td>   10</td><td>   10</td></tr>\n",
       "\t<tr><th scope=row>6</th><td>   6</td><td>f</td><td>   12</td><td>   12</td><td>   12</td></tr>\n",
       "</tbody>\n",
       "</table>\n"
      ],
      "text/latex": [
       "A data.frame: 6 × 5\n",
       "\\begin{tabular}{r|lllll}\n",
       "  & col.name.1 & col.name.2 & newcol & newcol.copy & newcol.copy2\\\\\n",
       "  & <dbl> & <chr> & <dbl> & <dbl> & <dbl>\\\\\n",
       "\\hline\n",
       "\t1 &    1 & a &     2 &     2 &     2\\\\\n",
       "\t2 & 9999 & b & 19998 & 19998 & 19998\\\\\n",
       "\t3 &    3 & c &     6 &     6 &     6\\\\\n",
       "\t4 &    4 & d &     8 &     8 &     8\\\\\n",
       "\t5 &    5 & e &    10 &    10 &    10\\\\\n",
       "\t6 &    6 & f &    12 &    12 &    12\\\\\n",
       "\\end{tabular}\n"
      ],
      "text/markdown": [
       "\n",
       "A data.frame: 6 × 5\n",
       "\n",
       "| <!--/--> | col.name.1 &lt;dbl&gt; | col.name.2 &lt;chr&gt; | newcol &lt;dbl&gt; | newcol.copy &lt;dbl&gt; | newcol.copy2 &lt;dbl&gt; |\n",
       "|---|---|---|---|---|---|\n",
       "| 1 |    1 | a |     2 |     2 |     2 |\n",
       "| 2 | 9999 | b | 19998 | 19998 | 19998 |\n",
       "| 3 |    3 | c |     6 |     6 |     6 |\n",
       "| 4 |    4 | d |     8 |     8 |     8 |\n",
       "| 5 |    5 | e |    10 |    10 |    10 |\n",
       "| 6 |    6 | f |    12 |    12 |    12 |\n",
       "\n"
      ],
      "text/plain": [
       "  col.name.1 col.name.2 newcol newcol.copy newcol.copy2\n",
       "1    1       a              2      2           2       \n",
       "2 9999       b          19998  19998       19998       \n",
       "3    3       c              6      6           6       \n",
       "4    4       d              8      8           8       \n",
       "5    5       e             10     10          10       \n",
       "6    6       f             12     12          12       "
      ]
     },
     "metadata": {},
     "output_type": "display_data"
    }
   ],
   "source": [
    "df[, 'newcol.copy2'] <- df$newcol\n",
    "head(df)"
   ]
  },
  {
   "cell_type": "code",
   "execution_count": null,
   "metadata": {},
   "outputs": [],
   "source": [
    "# setting column names"
   ]
  },
  {
   "cell_type": "code",
   "execution_count": null,
   "metadata": {},
   "outputs": [
    {
     "data": {
      "text/html": [
       "<table class=\"dataframe\">\n",
       "<caption>A data.frame: 6 × 5</caption>\n",
       "<thead>\n",
       "\t<tr><th></th><th scope=col>1</th><th scope=col>2</th><th scope=col>3</th><th scope=col>4</th><th scope=col>5</th></tr>\n",
       "\t<tr><th></th><th scope=col>&lt;dbl&gt;</th><th scope=col>&lt;chr&gt;</th><th scope=col>&lt;dbl&gt;</th><th scope=col>&lt;dbl&gt;</th><th scope=col>&lt;dbl&gt;</th></tr>\n",
       "</thead>\n",
       "<tbody>\n",
       "\t<tr><th scope=row>1</th><td>   1</td><td>a</td><td>    2</td><td>    2</td><td>    2</td></tr>\n",
       "\t<tr><th scope=row>2</th><td>9999</td><td>b</td><td>19998</td><td>19998</td><td>19998</td></tr>\n",
       "\t<tr><th scope=row>3</th><td>   3</td><td>c</td><td>    6</td><td>    6</td><td>    6</td></tr>\n",
       "\t<tr><th scope=row>4</th><td>   4</td><td>d</td><td>    8</td><td>    8</td><td>    8</td></tr>\n",
       "\t<tr><th scope=row>5</th><td>   5</td><td>e</td><td>   10</td><td>   10</td><td>   10</td></tr>\n",
       "\t<tr><th scope=row>6</th><td>   6</td><td>f</td><td>   12</td><td>   12</td><td>   12</td></tr>\n",
       "</tbody>\n",
       "</table>\n"
      ],
      "text/latex": [
       "A data.frame: 6 × 5\n",
       "\\begin{tabular}{r|lllll}\n",
       "  & 1 & 2 & 3 & 4 & 5\\\\\n",
       "  & <dbl> & <chr> & <dbl> & <dbl> & <dbl>\\\\\n",
       "\\hline\n",
       "\t1 &    1 & a &     2 &     2 &     2\\\\\n",
       "\t2 & 9999 & b & 19998 & 19998 & 19998\\\\\n",
       "\t3 &    3 & c &     6 &     6 &     6\\\\\n",
       "\t4 &    4 & d &     8 &     8 &     8\\\\\n",
       "\t5 &    5 & e &    10 &    10 &    10\\\\\n",
       "\t6 &    6 & f &    12 &    12 &    12\\\\\n",
       "\\end{tabular}\n"
      ],
      "text/markdown": [
       "\n",
       "A data.frame: 6 × 5\n",
       "\n",
       "| <!--/--> | 1 &lt;dbl&gt; | 2 &lt;chr&gt; | 3 &lt;dbl&gt; | 4 &lt;dbl&gt; | 5 &lt;dbl&gt; |\n",
       "|---|---|---|---|---|---|\n",
       "| 1 |    1 | a |     2 |     2 |     2 |\n",
       "| 2 | 9999 | b | 19998 | 19998 | 19998 |\n",
       "| 3 |    3 | c |     6 |     6 |     6 |\n",
       "| 4 |    4 | d |     8 |     8 |     8 |\n",
       "| 5 |    5 | e |    10 |    10 |    10 |\n",
       "| 6 |    6 | f |    12 |    12 |    12 |\n",
       "\n"
      ],
      "text/plain": [
       "  1    2 3     4     5    \n",
       "1    1 a     2     2     2\n",
       "2 9999 b 19998 19998 19998\n",
       "3    3 c     6     6     6\n",
       "4    4 d     8     8     8\n",
       "5    5 e    10    10    10\n",
       "6    6 f    12    12    12"
      ]
     },
     "metadata": {},
     "output_type": "display_data"
    }
   ],
   "source": [
    "colnames(df) <- c('1', '2', '3', '4', '5')\n",
    "head(df)"
   ]
  },
  {
   "cell_type": "code",
   "execution_count": null,
   "metadata": {},
   "outputs": [
    {
     "data": {
      "text/html": [
       "<table class=\"dataframe\">\n",
       "<caption>A data.frame: 6 × 5</caption>\n",
       "<thead>\n",
       "\t<tr><th></th><th scope=col>new1</th><th scope=col>2</th><th scope=col>3</th><th scope=col>4</th><th scope=col>5</th></tr>\n",
       "\t<tr><th></th><th scope=col>&lt;dbl&gt;</th><th scope=col>&lt;chr&gt;</th><th scope=col>&lt;dbl&gt;</th><th scope=col>&lt;dbl&gt;</th><th scope=col>&lt;dbl&gt;</th></tr>\n",
       "</thead>\n",
       "<tbody>\n",
       "\t<tr><th scope=row>1</th><td>   1</td><td>a</td><td>    2</td><td>    2</td><td>    2</td></tr>\n",
       "\t<tr><th scope=row>2</th><td>9999</td><td>b</td><td>19998</td><td>19998</td><td>19998</td></tr>\n",
       "\t<tr><th scope=row>3</th><td>   3</td><td>c</td><td>    6</td><td>    6</td><td>    6</td></tr>\n",
       "\t<tr><th scope=row>4</th><td>   4</td><td>d</td><td>    8</td><td>    8</td><td>    8</td></tr>\n",
       "\t<tr><th scope=row>5</th><td>   5</td><td>e</td><td>   10</td><td>   10</td><td>   10</td></tr>\n",
       "\t<tr><th scope=row>6</th><td>   6</td><td>f</td><td>   12</td><td>   12</td><td>   12</td></tr>\n",
       "</tbody>\n",
       "</table>\n"
      ],
      "text/latex": [
       "A data.frame: 6 × 5\n",
       "\\begin{tabular}{r|lllll}\n",
       "  & new1 & 2 & 3 & 4 & 5\\\\\n",
       "  & <dbl> & <chr> & <dbl> & <dbl> & <dbl>\\\\\n",
       "\\hline\n",
       "\t1 &    1 & a &     2 &     2 &     2\\\\\n",
       "\t2 & 9999 & b & 19998 & 19998 & 19998\\\\\n",
       "\t3 &    3 & c &     6 &     6 &     6\\\\\n",
       "\t4 &    4 & d &     8 &     8 &     8\\\\\n",
       "\t5 &    5 & e &    10 &    10 &    10\\\\\n",
       "\t6 &    6 & f &    12 &    12 &    12\\\\\n",
       "\\end{tabular}\n"
      ],
      "text/markdown": [
       "\n",
       "A data.frame: 6 × 5\n",
       "\n",
       "| <!--/--> | new1 &lt;dbl&gt; | 2 &lt;chr&gt; | 3 &lt;dbl&gt; | 4 &lt;dbl&gt; | 5 &lt;dbl&gt; |\n",
       "|---|---|---|---|---|---|\n",
       "| 1 |    1 | a |     2 |     2 |     2 |\n",
       "| 2 | 9999 | b | 19998 | 19998 | 19998 |\n",
       "| 3 |    3 | c |     6 |     6 |     6 |\n",
       "| 4 |    4 | d |     8 |     8 |     8 |\n",
       "| 5 |    5 | e |    10 |    10 |    10 |\n",
       "| 6 |    6 | f |    12 |    12 |    12 |\n",
       "\n"
      ],
      "text/plain": [
       "  new1 2 3     4     5    \n",
       "1    1 a     2     2     2\n",
       "2 9999 b 19998 19998 19998\n",
       "3    3 c     6     6     6\n",
       "4    4 d     8     8     8\n",
       "5    5 e    10    10    10\n",
       "6    6 f    12    12    12"
      ]
     },
     "metadata": {},
     "output_type": "display_data"
    }
   ],
   "source": [
    "# rename a single column\n",
    "colnames(df)[1] <- 'new1'\n",
    "head(df)"
   ]
  },
  {
   "cell_type": "code",
   "execution_count": null,
   "metadata": {},
   "outputs": [
    {
     "data": {
      "text/html": [
       "<table class=\"dataframe\">\n",
       "<caption>A data.frame: 10 × 5</caption>\n",
       "<thead>\n",
       "\t<tr><th></th><th scope=col>new1</th><th scope=col>2</th><th scope=col>3</th><th scope=col>4</th><th scope=col>5</th></tr>\n",
       "\t<tr><th></th><th scope=col>&lt;dbl&gt;</th><th scope=col>&lt;chr&gt;</th><th scope=col>&lt;dbl&gt;</th><th scope=col>&lt;dbl&gt;</th><th scope=col>&lt;dbl&gt;</th></tr>\n",
       "</thead>\n",
       "<tbody>\n",
       "\t<tr><th scope=row>1</th><td>   1</td><td>a</td><td>    2</td><td>    2</td><td>    2</td></tr>\n",
       "\t<tr><th scope=row>2</th><td>9999</td><td>b</td><td>19998</td><td>19998</td><td>19998</td></tr>\n",
       "\t<tr><th scope=row>3</th><td>   3</td><td>c</td><td>    6</td><td>    6</td><td>    6</td></tr>\n",
       "\t<tr><th scope=row>4</th><td>   4</td><td>d</td><td>    8</td><td>    8</td><td>    8</td></tr>\n",
       "\t<tr><th scope=row>5</th><td>   5</td><td>e</td><td>   10</td><td>   10</td><td>   10</td></tr>\n",
       "\t<tr><th scope=row>6</th><td>   6</td><td>f</td><td>   12</td><td>   12</td><td>   12</td></tr>\n",
       "\t<tr><th scope=row>7</th><td>   7</td><td>g</td><td>   14</td><td>   14</td><td>   14</td></tr>\n",
       "\t<tr><th scope=row>8</th><td>   8</td><td>h</td><td>   16</td><td>   16</td><td>   16</td></tr>\n",
       "\t<tr><th scope=row>9</th><td>   9</td><td>i</td><td>   18</td><td>   18</td><td>   18</td></tr>\n",
       "\t<tr><th scope=row>10</th><td>  10</td><td>j</td><td>   20</td><td>   20</td><td>   20</td></tr>\n",
       "</tbody>\n",
       "</table>\n"
      ],
      "text/latex": [
       "A data.frame: 10 × 5\n",
       "\\begin{tabular}{r|lllll}\n",
       "  & new1 & 2 & 3 & 4 & 5\\\\\n",
       "  & <dbl> & <chr> & <dbl> & <dbl> & <dbl>\\\\\n",
       "\\hline\n",
       "\t1 &    1 & a &     2 &     2 &     2\\\\\n",
       "\t2 & 9999 & b & 19998 & 19998 & 19998\\\\\n",
       "\t3 &    3 & c &     6 &     6 &     6\\\\\n",
       "\t4 &    4 & d &     8 &     8 &     8\\\\\n",
       "\t5 &    5 & e &    10 &    10 &    10\\\\\n",
       "\t6 &    6 & f &    12 &    12 &    12\\\\\n",
       "\t7 &    7 & g &    14 &    14 &    14\\\\\n",
       "\t8 &    8 & h &    16 &    16 &    16\\\\\n",
       "\t9 &    9 & i &    18 &    18 &    18\\\\\n",
       "\t10 &   10 & j &    20 &    20 &    20\\\\\n",
       "\\end{tabular}\n"
      ],
      "text/markdown": [
       "\n",
       "A data.frame: 10 × 5\n",
       "\n",
       "| <!--/--> | new1 &lt;dbl&gt; | 2 &lt;chr&gt; | 3 &lt;dbl&gt; | 4 &lt;dbl&gt; | 5 &lt;dbl&gt; |\n",
       "|---|---|---|---|---|---|\n",
       "| 1 |    1 | a |     2 |     2 |     2 |\n",
       "| 2 | 9999 | b | 19998 | 19998 | 19998 |\n",
       "| 3 |    3 | c |     6 |     6 |     6 |\n",
       "| 4 |    4 | d |     8 |     8 |     8 |\n",
       "| 5 |    5 | e |    10 |    10 |    10 |\n",
       "| 6 |    6 | f |    12 |    12 |    12 |\n",
       "| 7 |    7 | g |    14 |    14 |    14 |\n",
       "| 8 |    8 | h |    16 |    16 |    16 |\n",
       "| 9 |    9 | i |    18 |    18 |    18 |\n",
       "| 10 |   10 | j |    20 |    20 |    20 |\n",
       "\n"
      ],
      "text/plain": [
       "   new1 2 3     4     5    \n",
       "1     1 a     2     2     2\n",
       "2  9999 b 19998 19998 19998\n",
       "3     3 c     6     6     6\n",
       "4     4 d     8     8     8\n",
       "5     5 e    10    10    10\n",
       "6     6 f    12    12    12\n",
       "7     7 g    14    14    14\n",
       "8     8 h    16    16    16\n",
       "9     9 i    18    18    18\n",
       "10   10 j    20    20    20"
      ]
     },
     "metadata": {},
     "output_type": "display_data"
    }
   ],
   "source": [
    "# selecting multiple rows\n",
    "df[1:10, ]"
   ]
  },
  {
   "cell_type": "code",
   "execution_count": null,
   "metadata": {},
   "outputs": [
    {
     "data": {
      "text/html": [
       "<table class=\"dataframe\">\n",
       "<caption>A data.frame: 3 × 5</caption>\n",
       "<thead>\n",
       "\t<tr><th></th><th scope=col>new1</th><th scope=col>2</th><th scope=col>3</th><th scope=col>4</th><th scope=col>5</th></tr>\n",
       "\t<tr><th></th><th scope=col>&lt;dbl&gt;</th><th scope=col>&lt;chr&gt;</th><th scope=col>&lt;dbl&gt;</th><th scope=col>&lt;dbl&gt;</th><th scope=col>&lt;dbl&gt;</th></tr>\n",
       "</thead>\n",
       "<tbody>\n",
       "\t<tr><th scope=row>1</th><td>   1</td><td>a</td><td>    2</td><td>    2</td><td>    2</td></tr>\n",
       "\t<tr><th scope=row>2</th><td>9999</td><td>b</td><td>19998</td><td>19998</td><td>19998</td></tr>\n",
       "\t<tr><th scope=row>3</th><td>   3</td><td>c</td><td>    6</td><td>    6</td><td>    6</td></tr>\n",
       "</tbody>\n",
       "</table>\n"
      ],
      "text/latex": [
       "A data.frame: 3 × 5\n",
       "\\begin{tabular}{r|lllll}\n",
       "  & new1 & 2 & 3 & 4 & 5\\\\\n",
       "  & <dbl> & <chr> & <dbl> & <dbl> & <dbl>\\\\\n",
       "\\hline\n",
       "\t1 &    1 & a &     2 &     2 &     2\\\\\n",
       "\t2 & 9999 & b & 19998 & 19998 & 19998\\\\\n",
       "\t3 &    3 & c &     6 &     6 &     6\\\\\n",
       "\\end{tabular}\n"
      ],
      "text/markdown": [
       "\n",
       "A data.frame: 3 × 5\n",
       "\n",
       "| <!--/--> | new1 &lt;dbl&gt; | 2 &lt;chr&gt; | 3 &lt;dbl&gt; | 4 &lt;dbl&gt; | 5 &lt;dbl&gt; |\n",
       "|---|---|---|---|---|---|\n",
       "| 1 |    1 | a |     2 |     2 |     2 |\n",
       "| 2 | 9999 | b | 19998 | 19998 | 19998 |\n",
       "| 3 |    3 | c |     6 |     6 |     6 |\n",
       "\n"
      ],
      "text/plain": [
       "  new1 2 3     4     5    \n",
       "1    1 a     2     2     2\n",
       "2 9999 b 19998 19998 19998\n",
       "3    3 c     6     6     6"
      ]
     },
     "metadata": {},
     "output_type": "display_data"
    }
   ],
   "source": [
    "df[1:3, ]"
   ]
  },
  {
   "cell_type": "code",
   "execution_count": null,
   "metadata": {},
   "outputs": [
    {
     "data": {
      "text/html": [
       "<table class=\"dataframe\">\n",
       "<caption>A data.frame: 7 × 5</caption>\n",
       "<thead>\n",
       "\t<tr><th></th><th scope=col>new1</th><th scope=col>2</th><th scope=col>3</th><th scope=col>4</th><th scope=col>5</th></tr>\n",
       "\t<tr><th></th><th scope=col>&lt;dbl&gt;</th><th scope=col>&lt;chr&gt;</th><th scope=col>&lt;dbl&gt;</th><th scope=col>&lt;dbl&gt;</th><th scope=col>&lt;dbl&gt;</th></tr>\n",
       "</thead>\n",
       "<tbody>\n",
       "\t<tr><th scope=row>1</th><td>   1</td><td>a</td><td>    2</td><td>    2</td><td>    2</td></tr>\n",
       "\t<tr><th scope=row>2</th><td>9999</td><td>b</td><td>19998</td><td>19998</td><td>19998</td></tr>\n",
       "\t<tr><th scope=row>3</th><td>   3</td><td>c</td><td>    6</td><td>    6</td><td>    6</td></tr>\n",
       "\t<tr><th scope=row>4</th><td>   4</td><td>d</td><td>    8</td><td>    8</td><td>    8</td></tr>\n",
       "\t<tr><th scope=row>5</th><td>   5</td><td>e</td><td>   10</td><td>   10</td><td>   10</td></tr>\n",
       "\t<tr><th scope=row>6</th><td>   6</td><td>f</td><td>   12</td><td>   12</td><td>   12</td></tr>\n",
       "\t<tr><th scope=row>7</th><td>   7</td><td>g</td><td>   14</td><td>   14</td><td>   14</td></tr>\n",
       "</tbody>\n",
       "</table>\n"
      ],
      "text/latex": [
       "A data.frame: 7 × 5\n",
       "\\begin{tabular}{r|lllll}\n",
       "  & new1 & 2 & 3 & 4 & 5\\\\\n",
       "  & <dbl> & <chr> & <dbl> & <dbl> & <dbl>\\\\\n",
       "\\hline\n",
       "\t1 &    1 & a &     2 &     2 &     2\\\\\n",
       "\t2 & 9999 & b & 19998 & 19998 & 19998\\\\\n",
       "\t3 &    3 & c &     6 &     6 &     6\\\\\n",
       "\t4 &    4 & d &     8 &     8 &     8\\\\\n",
       "\t5 &    5 & e &    10 &    10 &    10\\\\\n",
       "\t6 &    6 & f &    12 &    12 &    12\\\\\n",
       "\t7 &    7 & g &    14 &    14 &    14\\\\\n",
       "\\end{tabular}\n"
      ],
      "text/markdown": [
       "\n",
       "A data.frame: 7 × 5\n",
       "\n",
       "| <!--/--> | new1 &lt;dbl&gt; | 2 &lt;chr&gt; | 3 &lt;dbl&gt; | 4 &lt;dbl&gt; | 5 &lt;dbl&gt; |\n",
       "|---|---|---|---|---|---|\n",
       "| 1 |    1 | a |     2 |     2 |     2 |\n",
       "| 2 | 9999 | b | 19998 | 19998 | 19998 |\n",
       "| 3 |    3 | c |     6 |     6 |     6 |\n",
       "| 4 |    4 | d |     8 |     8 |     8 |\n",
       "| 5 |    5 | e |    10 |    10 |    10 |\n",
       "| 6 |    6 | f |    12 |    12 |    12 |\n",
       "| 7 |    7 | g |    14 |    14 |    14 |\n",
       "\n"
      ],
      "text/plain": [
       "  new1 2 3     4     5    \n",
       "1    1 a     2     2     2\n",
       "2 9999 b 19998 19998 19998\n",
       "3    3 c     6     6     6\n",
       "4    4 d     8     8     8\n",
       "5    5 e    10    10    10\n",
       "6    6 f    12    12    12\n",
       "7    7 g    14    14    14"
      ]
     },
     "metadata": {},
     "output_type": "display_data"
    }
   ],
   "source": [
    "head(df, 7)"
   ]
  },
  {
   "cell_type": "code",
   "execution_count": 136,
   "metadata": {},
   "outputs": [
    {
     "data": {
      "text/html": [
       "<table class=\"dataframe\">\n",
       "<caption>A data.frame: 9 × 2</caption>\n",
       "<thead>\n",
       "\t<tr><th></th><th scope=col>col.name.1</th><th scope=col>col.name.2</th></tr>\n",
       "\t<tr><th></th><th scope=col>&lt;int&gt;</th><th scope=col>&lt;chr&gt;</th></tr>\n",
       "</thead>\n",
       "<tbody>\n",
       "\t<tr><th scope=row>1</th><td> 1</td><td>a</td></tr>\n",
       "\t<tr><th scope=row>3</th><td> 3</td><td>c</td></tr>\n",
       "\t<tr><th scope=row>4</th><td> 4</td><td>d</td></tr>\n",
       "\t<tr><th scope=row>5</th><td> 5</td><td>e</td></tr>\n",
       "\t<tr><th scope=row>6</th><td> 6</td><td>f</td></tr>\n",
       "\t<tr><th scope=row>7</th><td> 7</td><td>g</td></tr>\n",
       "\t<tr><th scope=row>8</th><td> 8</td><td>h</td></tr>\n",
       "\t<tr><th scope=row>9</th><td> 9</td><td>i</td></tr>\n",
       "\t<tr><th scope=row>10</th><td>10</td><td>j</td></tr>\n",
       "</tbody>\n",
       "</table>\n"
      ],
      "text/latex": [
       "A data.frame: 9 × 2\n",
       "\\begin{tabular}{r|ll}\n",
       "  & col.name.1 & col.name.2\\\\\n",
       "  & <int> & <chr>\\\\\n",
       "\\hline\n",
       "\t1 &  1 & a\\\\\n",
       "\t3 &  3 & c\\\\\n",
       "\t4 &  4 & d\\\\\n",
       "\t5 &  5 & e\\\\\n",
       "\t6 &  6 & f\\\\\n",
       "\t7 &  7 & g\\\\\n",
       "\t8 &  8 & h\\\\\n",
       "\t9 &  9 & i\\\\\n",
       "\t10 & 10 & j\\\\\n",
       "\\end{tabular}\n"
      ],
      "text/markdown": [
       "\n",
       "A data.frame: 9 × 2\n",
       "\n",
       "| <!--/--> | col.name.1 &lt;int&gt; | col.name.2 &lt;chr&gt; |\n",
       "|---|---|---|\n",
       "| 1 |  1 | a |\n",
       "| 3 |  3 | c |\n",
       "| 4 |  4 | d |\n",
       "| 5 |  5 | e |\n",
       "| 6 |  6 | f |\n",
       "| 7 |  7 | g |\n",
       "| 8 |  8 | h |\n",
       "| 9 |  9 | i |\n",
       "| 10 | 10 | j |\n",
       "\n"
      ],
      "text/plain": [
       "   col.name.1 col.name.2\n",
       "1   1         a         \n",
       "3   3         c         \n",
       "4   4         d         \n",
       "5   5         e         \n",
       "6   6         f         \n",
       "7   7         g         \n",
       "8   8         h         \n",
       "9   9         i         \n",
       "10 10         j         "
      ]
     },
     "metadata": {},
     "output_type": "display_data"
    }
   ],
   "source": [
    "# select everything but row 2\n",
    "df[-2, ]"
   ]
  },
  {
   "cell_type": "code",
   "execution_count": 137,
   "metadata": {},
   "outputs": [
    {
     "data": {
      "text/html": [
       "<table class=\"dataframe\">\n",
       "<caption>A data.frame: 6 × 2</caption>\n",
       "<thead>\n",
       "\t<tr><th></th><th scope=col>col.name.1</th><th scope=col>col.name.2</th></tr>\n",
       "\t<tr><th></th><th scope=col>&lt;int&gt;</th><th scope=col>&lt;chr&gt;</th></tr>\n",
       "</thead>\n",
       "<tbody>\n",
       "\t<tr><th scope=row>1</th><td>1</td><td>a</td></tr>\n",
       "\t<tr><th scope=row>2</th><td>2</td><td>b</td></tr>\n",
       "\t<tr><th scope=row>3</th><td>3</td><td>c</td></tr>\n",
       "\t<tr><th scope=row>4</th><td>4</td><td>d</td></tr>\n",
       "\t<tr><th scope=row>5</th><td>5</td><td>e</td></tr>\n",
       "\t<tr><th scope=row>6</th><td>6</td><td>f</td></tr>\n",
       "</tbody>\n",
       "</table>\n"
      ],
      "text/latex": [
       "A data.frame: 6 × 2\n",
       "\\begin{tabular}{r|ll}\n",
       "  & col.name.1 & col.name.2\\\\\n",
       "  & <int> & <chr>\\\\\n",
       "\\hline\n",
       "\t1 & 1 & a\\\\\n",
       "\t2 & 2 & b\\\\\n",
       "\t3 & 3 & c\\\\\n",
       "\t4 & 4 & d\\\\\n",
       "\t5 & 5 & e\\\\\n",
       "\t6 & 6 & f\\\\\n",
       "\\end{tabular}\n"
      ],
      "text/markdown": [
       "\n",
       "A data.frame: 6 × 2\n",
       "\n",
       "| <!--/--> | col.name.1 &lt;int&gt; | col.name.2 &lt;chr&gt; |\n",
       "|---|---|---|\n",
       "| 1 | 1 | a |\n",
       "| 2 | 2 | b |\n",
       "| 3 | 3 | c |\n",
       "| 4 | 4 | d |\n",
       "| 5 | 5 | e |\n",
       "| 6 | 6 | f |\n",
       "\n"
      ],
      "text/plain": [
       "  col.name.1 col.name.2\n",
       "1 1          a         \n",
       "2 2          b         \n",
       "3 3          c         \n",
       "4 4          d         \n",
       "5 5          e         \n",
       "6 6          f         "
      ]
     },
     "metadata": {},
     "output_type": "display_data"
    }
   ],
   "source": [
    "head(df)"
   ]
  },
  {
   "cell_type": "code",
   "execution_count": 138,
   "metadata": {},
   "outputs": [
    {
     "data": {
      "text/html": [
       "<table class=\"dataframe\">\n",
       "<caption>A data.frame: 6 × 11</caption>\n",
       "<thead>\n",
       "\t<tr><th></th><th scope=col>mpg</th><th scope=col>cyl</th><th scope=col>disp</th><th scope=col>hp</th><th scope=col>drat</th><th scope=col>wt</th><th scope=col>qsec</th><th scope=col>vs</th><th scope=col>am</th><th scope=col>gear</th><th scope=col>carb</th></tr>\n",
       "\t<tr><th></th><th scope=col>&lt;dbl&gt;</th><th scope=col>&lt;dbl&gt;</th><th scope=col>&lt;dbl&gt;</th><th scope=col>&lt;dbl&gt;</th><th scope=col>&lt;dbl&gt;</th><th scope=col>&lt;dbl&gt;</th><th scope=col>&lt;dbl&gt;</th><th scope=col>&lt;dbl&gt;</th><th scope=col>&lt;dbl&gt;</th><th scope=col>&lt;dbl&gt;</th><th scope=col>&lt;dbl&gt;</th></tr>\n",
       "</thead>\n",
       "<tbody>\n",
       "\t<tr><th scope=row>Mazda RX4</th><td>21.0</td><td>6</td><td>160</td><td>110</td><td>3.90</td><td>2.620</td><td>16.46</td><td>0</td><td>1</td><td>4</td><td>4</td></tr>\n",
       "\t<tr><th scope=row>Mazda RX4 Wag</th><td>21.0</td><td>6</td><td>160</td><td>110</td><td>3.90</td><td>2.875</td><td>17.02</td><td>0</td><td>1</td><td>4</td><td>4</td></tr>\n",
       "\t<tr><th scope=row>Datsun 710</th><td>22.8</td><td>4</td><td>108</td><td> 93</td><td>3.85</td><td>2.320</td><td>18.61</td><td>1</td><td>1</td><td>4</td><td>1</td></tr>\n",
       "\t<tr><th scope=row>Hornet 4 Drive</th><td>21.4</td><td>6</td><td>258</td><td>110</td><td>3.08</td><td>3.215</td><td>19.44</td><td>1</td><td>0</td><td>3</td><td>1</td></tr>\n",
       "\t<tr><th scope=row>Hornet Sportabout</th><td>18.7</td><td>8</td><td>360</td><td>175</td><td>3.15</td><td>3.440</td><td>17.02</td><td>0</td><td>0</td><td>3</td><td>2</td></tr>\n",
       "\t<tr><th scope=row>Valiant</th><td>18.1</td><td>6</td><td>225</td><td>105</td><td>2.76</td><td>3.460</td><td>20.22</td><td>1</td><td>0</td><td>3</td><td>1</td></tr>\n",
       "</tbody>\n",
       "</table>\n"
      ],
      "text/latex": [
       "A data.frame: 6 × 11\n",
       "\\begin{tabular}{r|lllllllllll}\n",
       "  & mpg & cyl & disp & hp & drat & wt & qsec & vs & am & gear & carb\\\\\n",
       "  & <dbl> & <dbl> & <dbl> & <dbl> & <dbl> & <dbl> & <dbl> & <dbl> & <dbl> & <dbl> & <dbl>\\\\\n",
       "\\hline\n",
       "\tMazda RX4 & 21.0 & 6 & 160 & 110 & 3.90 & 2.620 & 16.46 & 0 & 1 & 4 & 4\\\\\n",
       "\tMazda RX4 Wag & 21.0 & 6 & 160 & 110 & 3.90 & 2.875 & 17.02 & 0 & 1 & 4 & 4\\\\\n",
       "\tDatsun 710 & 22.8 & 4 & 108 &  93 & 3.85 & 2.320 & 18.61 & 1 & 1 & 4 & 1\\\\\n",
       "\tHornet 4 Drive & 21.4 & 6 & 258 & 110 & 3.08 & 3.215 & 19.44 & 1 & 0 & 3 & 1\\\\\n",
       "\tHornet Sportabout & 18.7 & 8 & 360 & 175 & 3.15 & 3.440 & 17.02 & 0 & 0 & 3 & 2\\\\\n",
       "\tValiant & 18.1 & 6 & 225 & 105 & 2.76 & 3.460 & 20.22 & 1 & 0 & 3 & 1\\\\\n",
       "\\end{tabular}\n"
      ],
      "text/markdown": [
       "\n",
       "A data.frame: 6 × 11\n",
       "\n",
       "| <!--/--> | mpg &lt;dbl&gt; | cyl &lt;dbl&gt; | disp &lt;dbl&gt; | hp &lt;dbl&gt; | drat &lt;dbl&gt; | wt &lt;dbl&gt; | qsec &lt;dbl&gt; | vs &lt;dbl&gt; | am &lt;dbl&gt; | gear &lt;dbl&gt; | carb &lt;dbl&gt; |\n",
       "|---|---|---|---|---|---|---|---|---|---|---|---|\n",
       "| Mazda RX4 | 21.0 | 6 | 160 | 110 | 3.90 | 2.620 | 16.46 | 0 | 1 | 4 | 4 |\n",
       "| Mazda RX4 Wag | 21.0 | 6 | 160 | 110 | 3.90 | 2.875 | 17.02 | 0 | 1 | 4 | 4 |\n",
       "| Datsun 710 | 22.8 | 4 | 108 |  93 | 3.85 | 2.320 | 18.61 | 1 | 1 | 4 | 1 |\n",
       "| Hornet 4 Drive | 21.4 | 6 | 258 | 110 | 3.08 | 3.215 | 19.44 | 1 | 0 | 3 | 1 |\n",
       "| Hornet Sportabout | 18.7 | 8 | 360 | 175 | 3.15 | 3.440 | 17.02 | 0 | 0 | 3 | 2 |\n",
       "| Valiant | 18.1 | 6 | 225 | 105 | 2.76 | 3.460 | 20.22 | 1 | 0 | 3 | 1 |\n",
       "\n"
      ],
      "text/plain": [
       "                  mpg  cyl disp hp  drat wt    qsec  vs am gear carb\n",
       "Mazda RX4         21.0 6   160  110 3.90 2.620 16.46 0  1  4    4   \n",
       "Mazda RX4 Wag     21.0 6   160  110 3.90 2.875 17.02 0  1  4    4   \n",
       "Datsun 710        22.8 4   108   93 3.85 2.320 18.61 1  1  4    1   \n",
       "Hornet 4 Drive    21.4 6   258  110 3.08 3.215 19.44 1  0  3    1   \n",
       "Hornet Sportabout 18.7 8   360  175 3.15 3.440 17.02 0  0  3    2   \n",
       "Valiant           18.1 6   225  105 2.76 3.460 20.22 1  0  3    1   "
      ]
     },
     "metadata": {},
     "output_type": "display_data"
    }
   ],
   "source": [
    "head(mtcars)"
   ]
  },
  {
   "cell_type": "code",
   "execution_count": 141,
   "metadata": {},
   "outputs": [
    {
     "name": "stdout",
     "output_type": "stream",
     "text": [
      "                mpg cyl  disp  hp drat    wt  qsec vs am gear carb\n",
      "Mazda RX4      21.0   6 160.0 110 3.90 2.620 16.46  0  1    4    4\n",
      "Mazda RX4 Wag  21.0   6 160.0 110 3.90 2.875 17.02  0  1    4    4\n",
      "Datsun 710     22.8   4 108.0  93 3.85 2.320 18.61  1  1    4    1\n",
      "Hornet 4 Drive 21.4   6 258.0 110 3.08 3.215 19.44  1  0    3    1\n",
      "Merc 240D      24.4   4 146.7  62 3.69 3.190 20.00  1  0    4    2\n",
      "Merc 230       22.8   4 140.8  95 3.92 3.150 22.90  1  0    4    2\n",
      "Fiat 128       32.4   4  78.7  66 4.08 2.200 19.47  1  1    4    1\n",
      "Honda Civic    30.4   4  75.7  52 4.93 1.615 18.52  1  1    4    2\n",
      "Toyota Corolla 33.9   4  71.1  65 4.22 1.835 19.90  1  1    4    1\n",
      "Toyota Corona  21.5   4 120.1  97 3.70 2.465 20.01  1  0    3    1\n",
      "Fiat X1-9      27.3   4  79.0  66 4.08 1.935 18.90  1  1    4    1\n",
      "Porsche 914-2  26.0   4 120.3  91 4.43 2.140 16.70  0  1    5    2\n",
      "Lotus Europa   30.4   4  95.1 113 3.77 1.513 16.90  1  1    5    2\n",
      "Volvo 142E     21.4   4 121.0 109 4.11 2.780 18.60  1  1    4    2\n"
     ]
    }
   ],
   "source": [
    "print(mtcars[ mtcars$mpg > 20 , ])"
   ]
  },
  {
   "cell_type": "code",
   "execution_count": 142,
   "metadata": {},
   "outputs": [
    {
     "data": {
      "text/html": [
       "<table class=\"dataframe\">\n",
       "<caption>A data.frame: 6 × 11</caption>\n",
       "<thead>\n",
       "\t<tr><th></th><th scope=col>mpg</th><th scope=col>cyl</th><th scope=col>disp</th><th scope=col>hp</th><th scope=col>drat</th><th scope=col>wt</th><th scope=col>qsec</th><th scope=col>vs</th><th scope=col>am</th><th scope=col>gear</th><th scope=col>carb</th></tr>\n",
       "\t<tr><th></th><th scope=col>&lt;dbl&gt;</th><th scope=col>&lt;dbl&gt;</th><th scope=col>&lt;dbl&gt;</th><th scope=col>&lt;dbl&gt;</th><th scope=col>&lt;dbl&gt;</th><th scope=col>&lt;dbl&gt;</th><th scope=col>&lt;dbl&gt;</th><th scope=col>&lt;dbl&gt;</th><th scope=col>&lt;dbl&gt;</th><th scope=col>&lt;dbl&gt;</th><th scope=col>&lt;dbl&gt;</th></tr>\n",
       "</thead>\n",
       "<tbody>\n",
       "\t<tr><th scope=row>Mazda RX4</th><td>21.0</td><td>6</td><td>160</td><td>110</td><td>3.90</td><td>2.620</td><td>16.46</td><td>0</td><td>1</td><td>4</td><td>4</td></tr>\n",
       "\t<tr><th scope=row>Mazda RX4 Wag</th><td>21.0</td><td>6</td><td>160</td><td>110</td><td>3.90</td><td>2.875</td><td>17.02</td><td>0</td><td>1</td><td>4</td><td>4</td></tr>\n",
       "\t<tr><th scope=row>Datsun 710</th><td>22.8</td><td>4</td><td>108</td><td> 93</td><td>3.85</td><td>2.320</td><td>18.61</td><td>1</td><td>1</td><td>4</td><td>1</td></tr>\n",
       "\t<tr><th scope=row>Hornet 4 Drive</th><td>21.4</td><td>6</td><td>258</td><td>110</td><td>3.08</td><td>3.215</td><td>19.44</td><td>1</td><td>0</td><td>3</td><td>1</td></tr>\n",
       "\t<tr><th scope=row>Hornet Sportabout</th><td>18.7</td><td>8</td><td>360</td><td>175</td><td>3.15</td><td>3.440</td><td>17.02</td><td>0</td><td>0</td><td>3</td><td>2</td></tr>\n",
       "\t<tr><th scope=row>Valiant</th><td>18.1</td><td>6</td><td>225</td><td>105</td><td>2.76</td><td>3.460</td><td>20.22</td><td>1</td><td>0</td><td>3</td><td>1</td></tr>\n",
       "</tbody>\n",
       "</table>\n"
      ],
      "text/latex": [
       "A data.frame: 6 × 11\n",
       "\\begin{tabular}{r|lllllllllll}\n",
       "  & mpg & cyl & disp & hp & drat & wt & qsec & vs & am & gear & carb\\\\\n",
       "  & <dbl> & <dbl> & <dbl> & <dbl> & <dbl> & <dbl> & <dbl> & <dbl> & <dbl> & <dbl> & <dbl>\\\\\n",
       "\\hline\n",
       "\tMazda RX4 & 21.0 & 6 & 160 & 110 & 3.90 & 2.620 & 16.46 & 0 & 1 & 4 & 4\\\\\n",
       "\tMazda RX4 Wag & 21.0 & 6 & 160 & 110 & 3.90 & 2.875 & 17.02 & 0 & 1 & 4 & 4\\\\\n",
       "\tDatsun 710 & 22.8 & 4 & 108 &  93 & 3.85 & 2.320 & 18.61 & 1 & 1 & 4 & 1\\\\\n",
       "\tHornet 4 Drive & 21.4 & 6 & 258 & 110 & 3.08 & 3.215 & 19.44 & 1 & 0 & 3 & 1\\\\\n",
       "\tHornet Sportabout & 18.7 & 8 & 360 & 175 & 3.15 & 3.440 & 17.02 & 0 & 0 & 3 & 2\\\\\n",
       "\tValiant & 18.1 & 6 & 225 & 105 & 2.76 & 3.460 & 20.22 & 1 & 0 & 3 & 1\\\\\n",
       "\\end{tabular}\n"
      ],
      "text/markdown": [
       "\n",
       "A data.frame: 6 × 11\n",
       "\n",
       "| <!--/--> | mpg &lt;dbl&gt; | cyl &lt;dbl&gt; | disp &lt;dbl&gt; | hp &lt;dbl&gt; | drat &lt;dbl&gt; | wt &lt;dbl&gt; | qsec &lt;dbl&gt; | vs &lt;dbl&gt; | am &lt;dbl&gt; | gear &lt;dbl&gt; | carb &lt;dbl&gt; |\n",
       "|---|---|---|---|---|---|---|---|---|---|---|---|\n",
       "| Mazda RX4 | 21.0 | 6 | 160 | 110 | 3.90 | 2.620 | 16.46 | 0 | 1 | 4 | 4 |\n",
       "| Mazda RX4 Wag | 21.0 | 6 | 160 | 110 | 3.90 | 2.875 | 17.02 | 0 | 1 | 4 | 4 |\n",
       "| Datsun 710 | 22.8 | 4 | 108 |  93 | 3.85 | 2.320 | 18.61 | 1 | 1 | 4 | 1 |\n",
       "| Hornet 4 Drive | 21.4 | 6 | 258 | 110 | 3.08 | 3.215 | 19.44 | 1 | 0 | 3 | 1 |\n",
       "| Hornet Sportabout | 18.7 | 8 | 360 | 175 | 3.15 | 3.440 | 17.02 | 0 | 0 | 3 | 2 |\n",
       "| Valiant | 18.1 | 6 | 225 | 105 | 2.76 | 3.460 | 20.22 | 1 | 0 | 3 | 1 |\n",
       "\n"
      ],
      "text/plain": [
       "                  mpg  cyl disp hp  drat wt    qsec  vs am gear carb\n",
       "Mazda RX4         21.0 6   160  110 3.90 2.620 16.46 0  1  4    4   \n",
       "Mazda RX4 Wag     21.0 6   160  110 3.90 2.875 17.02 0  1  4    4   \n",
       "Datsun 710        22.8 4   108   93 3.85 2.320 18.61 1  1  4    1   \n",
       "Hornet 4 Drive    21.4 6   258  110 3.08 3.215 19.44 1  0  3    1   \n",
       "Hornet Sportabout 18.7 8   360  175 3.15 3.440 17.02 0  0  3    2   \n",
       "Valiant           18.1 6   225  105 2.76 3.460 20.22 1  0  3    1   "
      ]
     },
     "metadata": {},
     "output_type": "display_data"
    }
   ],
   "source": [
    "head(mtcars)"
   ]
  },
  {
   "cell_type": "code",
   "execution_count": 146,
   "metadata": {},
   "outputs": [
    {
     "name": "stdout",
     "output_type": "stream",
     "text": [
      "                     mpg cyl  hp\n",
      "Mazda RX4           21.0   6 110\n",
      "Mazda RX4 Wag       21.0   6 110\n",
      "Datsun 710          22.8   4  93\n",
      "Hornet 4 Drive      21.4   6 110\n",
      "Hornet Sportabout   18.7   8 175\n",
      "Valiant             18.1   6 105\n",
      "Duster 360          14.3   8 245\n",
      "Merc 240D           24.4   4  62\n",
      "Merc 230            22.8   4  95\n",
      "Merc 280            19.2   6 123\n",
      "Merc 280C           17.8   6 123\n",
      "Merc 450SE          16.4   8 180\n",
      "Merc 450SL          17.3   8 180\n",
      "Merc 450SLC         15.2   8 180\n",
      "Cadillac Fleetwood  10.4   8 205\n",
      "Lincoln Continental 10.4   8 215\n",
      "Chrysler Imperial   14.7   8 230\n",
      "Fiat 128            32.4   4  66\n",
      "Honda Civic         30.4   4  52\n",
      "Toyota Corolla      33.9   4  65\n",
      "Toyota Corona       21.5   4  97\n",
      "Dodge Challenger    15.5   8 150\n",
      "AMC Javelin         15.2   8 150\n",
      "Camaro Z28          13.3   8 245\n",
      "Pontiac Firebird    19.2   8 175\n",
      "Fiat X1-9           27.3   4  66\n",
      "Porsche 914-2       26.0   4  91\n",
      "Lotus Europa        30.4   4 113\n",
      "Ford Pantera L      15.8   8 264\n",
      "Ferrari Dino        19.7   6 175\n",
      "Maserati Bora       15.0   8 335\n",
      "Volvo 142E          21.4   4 109\n"
     ]
    }
   ],
   "source": [
    "print(mtcars[ (mtcars$mpg > 20) &( mtcars$cyl == 6) ], )"
   ]
  },
  {
   "cell_type": "code",
   "execution_count": 148,
   "metadata": {},
   "outputs": [
    {
     "name": "stdout",
     "output_type": "stream",
     "text": [
      "                mpg cyl  hp\n",
      "Mazda RX4      21.0   6 110\n",
      "Mazda RX4 Wag  21.0   6 110\n",
      "Hornet 4 Drive 21.4   6 110\n"
     ]
    }
   ],
   "source": [
    "print(mtcars[ (mtcars$mpg > 20) & ( mtcars$cyl == 6), c('mpg', 'cyl', 'hp')])"
   ]
  },
  {
   "cell_type": "code",
   "execution_count": 150,
   "metadata": {},
   "outputs": [
    {
     "name": "stdout",
     "output_type": "stream",
     "text": [
      "                mpg cyl disp  hp drat    wt  qsec vs am gear carb\n",
      "Mazda RX4      21.0   6  160 110 3.90 2.620 16.46  0  1    4    4\n",
      "Mazda RX4 Wag  21.0   6  160 110 3.90 2.875 17.02  0  1    4    4\n",
      "Hornet 4 Drive 21.4   6  258 110 3.08 3.215 19.44  1  0    3    1\n"
     ]
    }
   ],
   "source": [
    "print(subset(mtcars, mpg>20 & cyl==6))"
   ]
  },
  {
   "cell_type": "code",
   "execution_count": 151,
   "metadata": {},
   "outputs": [
    {
     "data": {
      "text/html": [
       "<table class=\"dataframe\">\n",
       "<caption>A data.frame: 6 × 11</caption>\n",
       "<thead>\n",
       "\t<tr><th></th><th scope=col>mpg</th><th scope=col>cyl</th><th scope=col>disp</th><th scope=col>hp</th><th scope=col>drat</th><th scope=col>wt</th><th scope=col>qsec</th><th scope=col>vs</th><th scope=col>am</th><th scope=col>gear</th><th scope=col>carb</th></tr>\n",
       "\t<tr><th></th><th scope=col>&lt;dbl&gt;</th><th scope=col>&lt;dbl&gt;</th><th scope=col>&lt;dbl&gt;</th><th scope=col>&lt;dbl&gt;</th><th scope=col>&lt;dbl&gt;</th><th scope=col>&lt;dbl&gt;</th><th scope=col>&lt;dbl&gt;</th><th scope=col>&lt;dbl&gt;</th><th scope=col>&lt;dbl&gt;</th><th scope=col>&lt;dbl&gt;</th><th scope=col>&lt;dbl&gt;</th></tr>\n",
       "</thead>\n",
       "<tbody>\n",
       "\t<tr><th scope=row>Mazda RX4</th><td>21.0</td><td>6</td><td>160</td><td>110</td><td>3.90</td><td>2.620</td><td>16.46</td><td>0</td><td>1</td><td>4</td><td>4</td></tr>\n",
       "\t<tr><th scope=row>Mazda RX4 Wag</th><td>21.0</td><td>6</td><td>160</td><td>110</td><td>3.90</td><td>2.875</td><td>17.02</td><td>0</td><td>1</td><td>4</td><td>4</td></tr>\n",
       "\t<tr><th scope=row>Datsun 710</th><td>22.8</td><td>4</td><td>108</td><td> 93</td><td>3.85</td><td>2.320</td><td>18.61</td><td>1</td><td>1</td><td>4</td><td>1</td></tr>\n",
       "\t<tr><th scope=row>Hornet 4 Drive</th><td>21.4</td><td>6</td><td>258</td><td>110</td><td>3.08</td><td>3.215</td><td>19.44</td><td>1</td><td>0</td><td>3</td><td>1</td></tr>\n",
       "\t<tr><th scope=row>Hornet Sportabout</th><td>18.7</td><td>8</td><td>360</td><td>175</td><td>3.15</td><td>3.440</td><td>17.02</td><td>0</td><td>0</td><td>3</td><td>2</td></tr>\n",
       "\t<tr><th scope=row>Valiant</th><td>18.1</td><td>6</td><td>225</td><td>105</td><td>2.76</td><td>3.460</td><td>20.22</td><td>1</td><td>0</td><td>3</td><td>1</td></tr>\n",
       "</tbody>\n",
       "</table>\n"
      ],
      "text/latex": [
       "A data.frame: 6 × 11\n",
       "\\begin{tabular}{r|lllllllllll}\n",
       "  & mpg & cyl & disp & hp & drat & wt & qsec & vs & am & gear & carb\\\\\n",
       "  & <dbl> & <dbl> & <dbl> & <dbl> & <dbl> & <dbl> & <dbl> & <dbl> & <dbl> & <dbl> & <dbl>\\\\\n",
       "\\hline\n",
       "\tMazda RX4 & 21.0 & 6 & 160 & 110 & 3.90 & 2.620 & 16.46 & 0 & 1 & 4 & 4\\\\\n",
       "\tMazda RX4 Wag & 21.0 & 6 & 160 & 110 & 3.90 & 2.875 & 17.02 & 0 & 1 & 4 & 4\\\\\n",
       "\tDatsun 710 & 22.8 & 4 & 108 &  93 & 3.85 & 2.320 & 18.61 & 1 & 1 & 4 & 1\\\\\n",
       "\tHornet 4 Drive & 21.4 & 6 & 258 & 110 & 3.08 & 3.215 & 19.44 & 1 & 0 & 3 & 1\\\\\n",
       "\tHornet Sportabout & 18.7 & 8 & 360 & 175 & 3.15 & 3.440 & 17.02 & 0 & 0 & 3 & 2\\\\\n",
       "\tValiant & 18.1 & 6 & 225 & 105 & 2.76 & 3.460 & 20.22 & 1 & 0 & 3 & 1\\\\\n",
       "\\end{tabular}\n"
      ],
      "text/markdown": [
       "\n",
       "A data.frame: 6 × 11\n",
       "\n",
       "| <!--/--> | mpg &lt;dbl&gt; | cyl &lt;dbl&gt; | disp &lt;dbl&gt; | hp &lt;dbl&gt; | drat &lt;dbl&gt; | wt &lt;dbl&gt; | qsec &lt;dbl&gt; | vs &lt;dbl&gt; | am &lt;dbl&gt; | gear &lt;dbl&gt; | carb &lt;dbl&gt; |\n",
       "|---|---|---|---|---|---|---|---|---|---|---|---|\n",
       "| Mazda RX4 | 21.0 | 6 | 160 | 110 | 3.90 | 2.620 | 16.46 | 0 | 1 | 4 | 4 |\n",
       "| Mazda RX4 Wag | 21.0 | 6 | 160 | 110 | 3.90 | 2.875 | 17.02 | 0 | 1 | 4 | 4 |\n",
       "| Datsun 710 | 22.8 | 4 | 108 |  93 | 3.85 | 2.320 | 18.61 | 1 | 1 | 4 | 1 |\n",
       "| Hornet 4 Drive | 21.4 | 6 | 258 | 110 | 3.08 | 3.215 | 19.44 | 1 | 0 | 3 | 1 |\n",
       "| Hornet Sportabout | 18.7 | 8 | 360 | 175 | 3.15 | 3.440 | 17.02 | 0 | 0 | 3 | 2 |\n",
       "| Valiant | 18.1 | 6 | 225 | 105 | 2.76 | 3.460 | 20.22 | 1 | 0 | 3 | 1 |\n",
       "\n"
      ],
      "text/plain": [
       "                  mpg  cyl disp hp  drat wt    qsec  vs am gear carb\n",
       "Mazda RX4         21.0 6   160  110 3.90 2.620 16.46 0  1  4    4   \n",
       "Mazda RX4 Wag     21.0 6   160  110 3.90 2.875 17.02 0  1  4    4   \n",
       "Datsun 710        22.8 4   108   93 3.85 2.320 18.61 1  1  4    1   \n",
       "Hornet 4 Drive    21.4 6   258  110 3.08 3.215 19.44 1  0  3    1   \n",
       "Hornet Sportabout 18.7 8   360  175 3.15 3.440 17.02 0  0  3    2   \n",
       "Valiant           18.1 6   225  105 2.76 3.460 20.22 1  0  3    1   "
      ]
     },
     "metadata": {},
     "output_type": "display_data"
    }
   ],
   "source": [
    "head(mtcars)"
   ]
  },
  {
   "cell_type": "code",
   "execution_count": 152,
   "metadata": {},
   "outputs": [
    {
     "data": {
      "text/html": [
       "<table class=\"dataframe\">\n",
       "<caption>A data.frame: 32 × 3</caption>\n",
       "<thead>\n",
       "\t<tr><th></th><th scope=col>mpg</th><th scope=col>cyl</th><th scope=col>disp</th></tr>\n",
       "\t<tr><th></th><th scope=col>&lt;dbl&gt;</th><th scope=col>&lt;dbl&gt;</th><th scope=col>&lt;dbl&gt;</th></tr>\n",
       "</thead>\n",
       "<tbody>\n",
       "\t<tr><th scope=row>Mazda RX4</th><td>21.0</td><td>6</td><td>160.0</td></tr>\n",
       "\t<tr><th scope=row>Mazda RX4 Wag</th><td>21.0</td><td>6</td><td>160.0</td></tr>\n",
       "\t<tr><th scope=row>Datsun 710</th><td>22.8</td><td>4</td><td>108.0</td></tr>\n",
       "\t<tr><th scope=row>Hornet 4 Drive</th><td>21.4</td><td>6</td><td>258.0</td></tr>\n",
       "\t<tr><th scope=row>Hornet Sportabout</th><td>18.7</td><td>8</td><td>360.0</td></tr>\n",
       "\t<tr><th scope=row>Valiant</th><td>18.1</td><td>6</td><td>225.0</td></tr>\n",
       "\t<tr><th scope=row>Duster 360</th><td>14.3</td><td>8</td><td>360.0</td></tr>\n",
       "\t<tr><th scope=row>Merc 240D</th><td>24.4</td><td>4</td><td>146.7</td></tr>\n",
       "\t<tr><th scope=row>Merc 230</th><td>22.8</td><td>4</td><td>140.8</td></tr>\n",
       "\t<tr><th scope=row>Merc 280</th><td>19.2</td><td>6</td><td>167.6</td></tr>\n",
       "\t<tr><th scope=row>Merc 280C</th><td>17.8</td><td>6</td><td>167.6</td></tr>\n",
       "\t<tr><th scope=row>Merc 450SE</th><td>16.4</td><td>8</td><td>275.8</td></tr>\n",
       "\t<tr><th scope=row>Merc 450SL</th><td>17.3</td><td>8</td><td>275.8</td></tr>\n",
       "\t<tr><th scope=row>Merc 450SLC</th><td>15.2</td><td>8</td><td>275.8</td></tr>\n",
       "\t<tr><th scope=row>Cadillac Fleetwood</th><td>10.4</td><td>8</td><td>472.0</td></tr>\n",
       "\t<tr><th scope=row>Lincoln Continental</th><td>10.4</td><td>8</td><td>460.0</td></tr>\n",
       "\t<tr><th scope=row>Chrysler Imperial</th><td>14.7</td><td>8</td><td>440.0</td></tr>\n",
       "\t<tr><th scope=row>Fiat 128</th><td>32.4</td><td>4</td><td> 78.7</td></tr>\n",
       "\t<tr><th scope=row>Honda Civic</th><td>30.4</td><td>4</td><td> 75.7</td></tr>\n",
       "\t<tr><th scope=row>Toyota Corolla</th><td>33.9</td><td>4</td><td> 71.1</td></tr>\n",
       "\t<tr><th scope=row>Toyota Corona</th><td>21.5</td><td>4</td><td>120.1</td></tr>\n",
       "\t<tr><th scope=row>Dodge Challenger</th><td>15.5</td><td>8</td><td>318.0</td></tr>\n",
       "\t<tr><th scope=row>AMC Javelin</th><td>15.2</td><td>8</td><td>304.0</td></tr>\n",
       "\t<tr><th scope=row>Camaro Z28</th><td>13.3</td><td>8</td><td>350.0</td></tr>\n",
       "\t<tr><th scope=row>Pontiac Firebird</th><td>19.2</td><td>8</td><td>400.0</td></tr>\n",
       "\t<tr><th scope=row>Fiat X1-9</th><td>27.3</td><td>4</td><td> 79.0</td></tr>\n",
       "\t<tr><th scope=row>Porsche 914-2</th><td>26.0</td><td>4</td><td>120.3</td></tr>\n",
       "\t<tr><th scope=row>Lotus Europa</th><td>30.4</td><td>4</td><td> 95.1</td></tr>\n",
       "\t<tr><th scope=row>Ford Pantera L</th><td>15.8</td><td>8</td><td>351.0</td></tr>\n",
       "\t<tr><th scope=row>Ferrari Dino</th><td>19.7</td><td>6</td><td>145.0</td></tr>\n",
       "\t<tr><th scope=row>Maserati Bora</th><td>15.0</td><td>8</td><td>301.0</td></tr>\n",
       "\t<tr><th scope=row>Volvo 142E</th><td>21.4</td><td>4</td><td>121.0</td></tr>\n",
       "</tbody>\n",
       "</table>\n"
      ],
      "text/latex": [
       "A data.frame: 32 × 3\n",
       "\\begin{tabular}{r|lll}\n",
       "  & mpg & cyl & disp\\\\\n",
       "  & <dbl> & <dbl> & <dbl>\\\\\n",
       "\\hline\n",
       "\tMazda RX4 & 21.0 & 6 & 160.0\\\\\n",
       "\tMazda RX4 Wag & 21.0 & 6 & 160.0\\\\\n",
       "\tDatsun 710 & 22.8 & 4 & 108.0\\\\\n",
       "\tHornet 4 Drive & 21.4 & 6 & 258.0\\\\\n",
       "\tHornet Sportabout & 18.7 & 8 & 360.0\\\\\n",
       "\tValiant & 18.1 & 6 & 225.0\\\\\n",
       "\tDuster 360 & 14.3 & 8 & 360.0\\\\\n",
       "\tMerc 240D & 24.4 & 4 & 146.7\\\\\n",
       "\tMerc 230 & 22.8 & 4 & 140.8\\\\\n",
       "\tMerc 280 & 19.2 & 6 & 167.6\\\\\n",
       "\tMerc 280C & 17.8 & 6 & 167.6\\\\\n",
       "\tMerc 450SE & 16.4 & 8 & 275.8\\\\\n",
       "\tMerc 450SL & 17.3 & 8 & 275.8\\\\\n",
       "\tMerc 450SLC & 15.2 & 8 & 275.8\\\\\n",
       "\tCadillac Fleetwood & 10.4 & 8 & 472.0\\\\\n",
       "\tLincoln Continental & 10.4 & 8 & 460.0\\\\\n",
       "\tChrysler Imperial & 14.7 & 8 & 440.0\\\\\n",
       "\tFiat 128 & 32.4 & 4 &  78.7\\\\\n",
       "\tHonda Civic & 30.4 & 4 &  75.7\\\\\n",
       "\tToyota Corolla & 33.9 & 4 &  71.1\\\\\n",
       "\tToyota Corona & 21.5 & 4 & 120.1\\\\\n",
       "\tDodge Challenger & 15.5 & 8 & 318.0\\\\\n",
       "\tAMC Javelin & 15.2 & 8 & 304.0\\\\\n",
       "\tCamaro Z28 & 13.3 & 8 & 350.0\\\\\n",
       "\tPontiac Firebird & 19.2 & 8 & 400.0\\\\\n",
       "\tFiat X1-9 & 27.3 & 4 &  79.0\\\\\n",
       "\tPorsche 914-2 & 26.0 & 4 & 120.3\\\\\n",
       "\tLotus Europa & 30.4 & 4 &  95.1\\\\\n",
       "\tFord Pantera L & 15.8 & 8 & 351.0\\\\\n",
       "\tFerrari Dino & 19.7 & 6 & 145.0\\\\\n",
       "\tMaserati Bora & 15.0 & 8 & 301.0\\\\\n",
       "\tVolvo 142E & 21.4 & 4 & 121.0\\\\\n",
       "\\end{tabular}\n"
      ],
      "text/markdown": [
       "\n",
       "A data.frame: 32 × 3\n",
       "\n",
       "| <!--/--> | mpg &lt;dbl&gt; | cyl &lt;dbl&gt; | disp &lt;dbl&gt; |\n",
       "|---|---|---|---|\n",
       "| Mazda RX4 | 21.0 | 6 | 160.0 |\n",
       "| Mazda RX4 Wag | 21.0 | 6 | 160.0 |\n",
       "| Datsun 710 | 22.8 | 4 | 108.0 |\n",
       "| Hornet 4 Drive | 21.4 | 6 | 258.0 |\n",
       "| Hornet Sportabout | 18.7 | 8 | 360.0 |\n",
       "| Valiant | 18.1 | 6 | 225.0 |\n",
       "| Duster 360 | 14.3 | 8 | 360.0 |\n",
       "| Merc 240D | 24.4 | 4 | 146.7 |\n",
       "| Merc 230 | 22.8 | 4 | 140.8 |\n",
       "| Merc 280 | 19.2 | 6 | 167.6 |\n",
       "| Merc 280C | 17.8 | 6 | 167.6 |\n",
       "| Merc 450SE | 16.4 | 8 | 275.8 |\n",
       "| Merc 450SL | 17.3 | 8 | 275.8 |\n",
       "| Merc 450SLC | 15.2 | 8 | 275.8 |\n",
       "| Cadillac Fleetwood | 10.4 | 8 | 472.0 |\n",
       "| Lincoln Continental | 10.4 | 8 | 460.0 |\n",
       "| Chrysler Imperial | 14.7 | 8 | 440.0 |\n",
       "| Fiat 128 | 32.4 | 4 |  78.7 |\n",
       "| Honda Civic | 30.4 | 4 |  75.7 |\n",
       "| Toyota Corolla | 33.9 | 4 |  71.1 |\n",
       "| Toyota Corona | 21.5 | 4 | 120.1 |\n",
       "| Dodge Challenger | 15.5 | 8 | 318.0 |\n",
       "| AMC Javelin | 15.2 | 8 | 304.0 |\n",
       "| Camaro Z28 | 13.3 | 8 | 350.0 |\n",
       "| Pontiac Firebird | 19.2 | 8 | 400.0 |\n",
       "| Fiat X1-9 | 27.3 | 4 |  79.0 |\n",
       "| Porsche 914-2 | 26.0 | 4 | 120.3 |\n",
       "| Lotus Europa | 30.4 | 4 |  95.1 |\n",
       "| Ford Pantera L | 15.8 | 8 | 351.0 |\n",
       "| Ferrari Dino | 19.7 | 6 | 145.0 |\n",
       "| Maserati Bora | 15.0 | 8 | 301.0 |\n",
       "| Volvo 142E | 21.4 | 4 | 121.0 |\n",
       "\n"
      ],
      "text/plain": [
       "                    mpg  cyl disp \n",
       "Mazda RX4           21.0 6   160.0\n",
       "Mazda RX4 Wag       21.0 6   160.0\n",
       "Datsun 710          22.8 4   108.0\n",
       "Hornet 4 Drive      21.4 6   258.0\n",
       "Hornet Sportabout   18.7 8   360.0\n",
       "Valiant             18.1 6   225.0\n",
       "Duster 360          14.3 8   360.0\n",
       "Merc 240D           24.4 4   146.7\n",
       "Merc 230            22.8 4   140.8\n",
       "Merc 280            19.2 6   167.6\n",
       "Merc 280C           17.8 6   167.6\n",
       "Merc 450SE          16.4 8   275.8\n",
       "Merc 450SL          17.3 8   275.8\n",
       "Merc 450SLC         15.2 8   275.8\n",
       "Cadillac Fleetwood  10.4 8   472.0\n",
       "Lincoln Continental 10.4 8   460.0\n",
       "Chrysler Imperial   14.7 8   440.0\n",
       "Fiat 128            32.4 4    78.7\n",
       "Honda Civic         30.4 4    75.7\n",
       "Toyota Corolla      33.9 4    71.1\n",
       "Toyota Corona       21.5 4   120.1\n",
       "Dodge Challenger    15.5 8   318.0\n",
       "AMC Javelin         15.2 8   304.0\n",
       "Camaro Z28          13.3 8   350.0\n",
       "Pontiac Firebird    19.2 8   400.0\n",
       "Fiat X1-9           27.3 4    79.0\n",
       "Porsche 914-2       26.0 4   120.3\n",
       "Lotus Europa        30.4 4    95.1\n",
       "Ford Pantera L      15.8 8   351.0\n",
       "Ferrari Dino        19.7 6   145.0\n",
       "Maserati Bora       15.0 8   301.0\n",
       "Volvo 142E          21.4 4   121.0"
      ]
     },
     "metadata": {},
     "output_type": "display_data"
    }
   ],
   "source": [
    "mtcars[, c(1,2,3)]"
   ]
  },
  {
   "cell_type": "code",
   "execution_count": 153,
   "metadata": {},
   "outputs": [
    {
     "data": {
      "text/html": [
       "<table class=\"dataframe\">\n",
       "<caption>A data.frame: 32 × 2</caption>\n",
       "<thead>\n",
       "\t<tr><th></th><th scope=col>mpg</th><th scope=col>cyl</th></tr>\n",
       "\t<tr><th></th><th scope=col>&lt;dbl&gt;</th><th scope=col>&lt;dbl&gt;</th></tr>\n",
       "</thead>\n",
       "<tbody>\n",
       "\t<tr><th scope=row>Mazda RX4</th><td>21.0</td><td>6</td></tr>\n",
       "\t<tr><th scope=row>Mazda RX4 Wag</th><td>21.0</td><td>6</td></tr>\n",
       "\t<tr><th scope=row>Datsun 710</th><td>22.8</td><td>4</td></tr>\n",
       "\t<tr><th scope=row>Hornet 4 Drive</th><td>21.4</td><td>6</td></tr>\n",
       "\t<tr><th scope=row>Hornet Sportabout</th><td>18.7</td><td>8</td></tr>\n",
       "\t<tr><th scope=row>Valiant</th><td>18.1</td><td>6</td></tr>\n",
       "\t<tr><th scope=row>Duster 360</th><td>14.3</td><td>8</td></tr>\n",
       "\t<tr><th scope=row>Merc 240D</th><td>24.4</td><td>4</td></tr>\n",
       "\t<tr><th scope=row>Merc 230</th><td>22.8</td><td>4</td></tr>\n",
       "\t<tr><th scope=row>Merc 280</th><td>19.2</td><td>6</td></tr>\n",
       "\t<tr><th scope=row>Merc 280C</th><td>17.8</td><td>6</td></tr>\n",
       "\t<tr><th scope=row>Merc 450SE</th><td>16.4</td><td>8</td></tr>\n",
       "\t<tr><th scope=row>Merc 450SL</th><td>17.3</td><td>8</td></tr>\n",
       "\t<tr><th scope=row>Merc 450SLC</th><td>15.2</td><td>8</td></tr>\n",
       "\t<tr><th scope=row>Cadillac Fleetwood</th><td>10.4</td><td>8</td></tr>\n",
       "\t<tr><th scope=row>Lincoln Continental</th><td>10.4</td><td>8</td></tr>\n",
       "\t<tr><th scope=row>Chrysler Imperial</th><td>14.7</td><td>8</td></tr>\n",
       "\t<tr><th scope=row>Fiat 128</th><td>32.4</td><td>4</td></tr>\n",
       "\t<tr><th scope=row>Honda Civic</th><td>30.4</td><td>4</td></tr>\n",
       "\t<tr><th scope=row>Toyota Corolla</th><td>33.9</td><td>4</td></tr>\n",
       "\t<tr><th scope=row>Toyota Corona</th><td>21.5</td><td>4</td></tr>\n",
       "\t<tr><th scope=row>Dodge Challenger</th><td>15.5</td><td>8</td></tr>\n",
       "\t<tr><th scope=row>AMC Javelin</th><td>15.2</td><td>8</td></tr>\n",
       "\t<tr><th scope=row>Camaro Z28</th><td>13.3</td><td>8</td></tr>\n",
       "\t<tr><th scope=row>Pontiac Firebird</th><td>19.2</td><td>8</td></tr>\n",
       "\t<tr><th scope=row>Fiat X1-9</th><td>27.3</td><td>4</td></tr>\n",
       "\t<tr><th scope=row>Porsche 914-2</th><td>26.0</td><td>4</td></tr>\n",
       "\t<tr><th scope=row>Lotus Europa</th><td>30.4</td><td>4</td></tr>\n",
       "\t<tr><th scope=row>Ford Pantera L</th><td>15.8</td><td>8</td></tr>\n",
       "\t<tr><th scope=row>Ferrari Dino</th><td>19.7</td><td>6</td></tr>\n",
       "\t<tr><th scope=row>Maserati Bora</th><td>15.0</td><td>8</td></tr>\n",
       "\t<tr><th scope=row>Volvo 142E</th><td>21.4</td><td>4</td></tr>\n",
       "</tbody>\n",
       "</table>\n"
      ],
      "text/latex": [
       "A data.frame: 32 × 2\n",
       "\\begin{tabular}{r|ll}\n",
       "  & mpg & cyl\\\\\n",
       "  & <dbl> & <dbl>\\\\\n",
       "\\hline\n",
       "\tMazda RX4 & 21.0 & 6\\\\\n",
       "\tMazda RX4 Wag & 21.0 & 6\\\\\n",
       "\tDatsun 710 & 22.8 & 4\\\\\n",
       "\tHornet 4 Drive & 21.4 & 6\\\\\n",
       "\tHornet Sportabout & 18.7 & 8\\\\\n",
       "\tValiant & 18.1 & 6\\\\\n",
       "\tDuster 360 & 14.3 & 8\\\\\n",
       "\tMerc 240D & 24.4 & 4\\\\\n",
       "\tMerc 230 & 22.8 & 4\\\\\n",
       "\tMerc 280 & 19.2 & 6\\\\\n",
       "\tMerc 280C & 17.8 & 6\\\\\n",
       "\tMerc 450SE & 16.4 & 8\\\\\n",
       "\tMerc 450SL & 17.3 & 8\\\\\n",
       "\tMerc 450SLC & 15.2 & 8\\\\\n",
       "\tCadillac Fleetwood & 10.4 & 8\\\\\n",
       "\tLincoln Continental & 10.4 & 8\\\\\n",
       "\tChrysler Imperial & 14.7 & 8\\\\\n",
       "\tFiat 128 & 32.4 & 4\\\\\n",
       "\tHonda Civic & 30.4 & 4\\\\\n",
       "\tToyota Corolla & 33.9 & 4\\\\\n",
       "\tToyota Corona & 21.5 & 4\\\\\n",
       "\tDodge Challenger & 15.5 & 8\\\\\n",
       "\tAMC Javelin & 15.2 & 8\\\\\n",
       "\tCamaro Z28 & 13.3 & 8\\\\\n",
       "\tPontiac Firebird & 19.2 & 8\\\\\n",
       "\tFiat X1-9 & 27.3 & 4\\\\\n",
       "\tPorsche 914-2 & 26.0 & 4\\\\\n",
       "\tLotus Europa & 30.4 & 4\\\\\n",
       "\tFord Pantera L & 15.8 & 8\\\\\n",
       "\tFerrari Dino & 19.7 & 6\\\\\n",
       "\tMaserati Bora & 15.0 & 8\\\\\n",
       "\tVolvo 142E & 21.4 & 4\\\\\n",
       "\\end{tabular}\n"
      ],
      "text/markdown": [
       "\n",
       "A data.frame: 32 × 2\n",
       "\n",
       "| <!--/--> | mpg &lt;dbl&gt; | cyl &lt;dbl&gt; |\n",
       "|---|---|---|\n",
       "| Mazda RX4 | 21.0 | 6 |\n",
       "| Mazda RX4 Wag | 21.0 | 6 |\n",
       "| Datsun 710 | 22.8 | 4 |\n",
       "| Hornet 4 Drive | 21.4 | 6 |\n",
       "| Hornet Sportabout | 18.7 | 8 |\n",
       "| Valiant | 18.1 | 6 |\n",
       "| Duster 360 | 14.3 | 8 |\n",
       "| Merc 240D | 24.4 | 4 |\n",
       "| Merc 230 | 22.8 | 4 |\n",
       "| Merc 280 | 19.2 | 6 |\n",
       "| Merc 280C | 17.8 | 6 |\n",
       "| Merc 450SE | 16.4 | 8 |\n",
       "| Merc 450SL | 17.3 | 8 |\n",
       "| Merc 450SLC | 15.2 | 8 |\n",
       "| Cadillac Fleetwood | 10.4 | 8 |\n",
       "| Lincoln Continental | 10.4 | 8 |\n",
       "| Chrysler Imperial | 14.7 | 8 |\n",
       "| Fiat 128 | 32.4 | 4 |\n",
       "| Honda Civic | 30.4 | 4 |\n",
       "| Toyota Corolla | 33.9 | 4 |\n",
       "| Toyota Corona | 21.5 | 4 |\n",
       "| Dodge Challenger | 15.5 | 8 |\n",
       "| AMC Javelin | 15.2 | 8 |\n",
       "| Camaro Z28 | 13.3 | 8 |\n",
       "| Pontiac Firebird | 19.2 | 8 |\n",
       "| Fiat X1-9 | 27.3 | 4 |\n",
       "| Porsche 914-2 | 26.0 | 4 |\n",
       "| Lotus Europa | 30.4 | 4 |\n",
       "| Ford Pantera L | 15.8 | 8 |\n",
       "| Ferrari Dino | 19.7 | 6 |\n",
       "| Maserati Bora | 15.0 | 8 |\n",
       "| Volvo 142E | 21.4 | 4 |\n",
       "\n"
      ],
      "text/plain": [
       "                    mpg  cyl\n",
       "Mazda RX4           21.0 6  \n",
       "Mazda RX4 Wag       21.0 6  \n",
       "Datsun 710          22.8 4  \n",
       "Hornet 4 Drive      21.4 6  \n",
       "Hornet Sportabout   18.7 8  \n",
       "Valiant             18.1 6  \n",
       "Duster 360          14.3 8  \n",
       "Merc 240D           24.4 4  \n",
       "Merc 230            22.8 4  \n",
       "Merc 280            19.2 6  \n",
       "Merc 280C           17.8 6  \n",
       "Merc 450SE          16.4 8  \n",
       "Merc 450SL          17.3 8  \n",
       "Merc 450SLC         15.2 8  \n",
       "Cadillac Fleetwood  10.4 8  \n",
       "Lincoln Continental 10.4 8  \n",
       "Chrysler Imperial   14.7 8  \n",
       "Fiat 128            32.4 4  \n",
       "Honda Civic         30.4 4  \n",
       "Toyota Corolla      33.9 4  \n",
       "Toyota Corona       21.5 4  \n",
       "Dodge Challenger    15.5 8  \n",
       "AMC Javelin         15.2 8  \n",
       "Camaro Z28          13.3 8  \n",
       "Pontiac Firebird    19.2 8  \n",
       "Fiat X1-9           27.3 4  \n",
       "Porsche 914-2       26.0 4  \n",
       "Lotus Europa        30.4 4  \n",
       "Ford Pantera L      15.8 8  \n",
       "Ferrari Dino        19.7 6  \n",
       "Maserati Bora       15.0 8  \n",
       "Volvo 142E          21.4 4  "
      ]
     },
     "metadata": {},
     "output_type": "display_data"
    }
   ],
   "source": [
    "mtcars[, c('mpg', 'cyl')]"
   ]
  },
  {
   "cell_type": "code",
   "execution_count": 154,
   "metadata": {},
   "outputs": [],
   "source": [
    "# dealing with missing data"
   ]
  },
  {
   "cell_type": "code",
   "execution_count": 155,
   "metadata": {},
   "outputs": [
    {
     "name": "stdout",
     "output_type": "stream",
     "text": [
      "                      mpg   cyl  disp    hp  drat    wt  qsec    vs    am  gear\n",
      "Mazda RX4           FALSE FALSE FALSE FALSE FALSE FALSE FALSE FALSE FALSE FALSE\n",
      "Mazda RX4 Wag       FALSE FALSE FALSE FALSE FALSE FALSE FALSE FALSE FALSE FALSE\n",
      "Datsun 710          FALSE FALSE FALSE FALSE FALSE FALSE FALSE FALSE FALSE FALSE\n",
      "Hornet 4 Drive      FALSE FALSE FALSE FALSE FALSE FALSE FALSE FALSE FALSE FALSE\n",
      "Hornet Sportabout   FALSE FALSE FALSE FALSE FALSE FALSE FALSE FALSE FALSE FALSE\n",
      "Valiant             FALSE FALSE FALSE FALSE FALSE FALSE FALSE FALSE FALSE FALSE\n",
      "Duster 360          FALSE FALSE FALSE FALSE FALSE FALSE FALSE FALSE FALSE FALSE\n",
      "Merc 240D           FALSE FALSE FALSE FALSE FALSE FALSE FALSE FALSE FALSE FALSE\n",
      "Merc 230            FALSE FALSE FALSE FALSE FALSE FALSE FALSE FALSE FALSE FALSE\n",
      "Merc 280            FALSE FALSE FALSE FALSE FALSE FALSE FALSE FALSE FALSE FALSE\n",
      "Merc 280C           FALSE FALSE FALSE FALSE FALSE FALSE FALSE FALSE FALSE FALSE\n",
      "Merc 450SE          FALSE FALSE FALSE FALSE FALSE FALSE FALSE FALSE FALSE FALSE\n",
      "Merc 450SL          FALSE FALSE FALSE FALSE FALSE FALSE FALSE FALSE FALSE FALSE\n",
      "Merc 450SLC         FALSE FALSE FALSE FALSE FALSE FALSE FALSE FALSE FALSE FALSE\n",
      "Cadillac Fleetwood  FALSE FALSE FALSE FALSE FALSE FALSE FALSE FALSE FALSE FALSE\n",
      "Lincoln Continental FALSE FALSE FALSE FALSE FALSE FALSE FALSE FALSE FALSE FALSE\n",
      "Chrysler Imperial   FALSE FALSE FALSE FALSE FALSE FALSE FALSE FALSE FALSE FALSE\n",
      "Fiat 128            FALSE FALSE FALSE FALSE FALSE FALSE FALSE FALSE FALSE FALSE\n",
      "Honda Civic         FALSE FALSE FALSE FALSE FALSE FALSE FALSE FALSE FALSE FALSE\n",
      "Toyota Corolla      FALSE FALSE FALSE FALSE FALSE FALSE FALSE FALSE FALSE FALSE\n",
      "Toyota Corona       FALSE FALSE FALSE FALSE FALSE FALSE FALSE FALSE FALSE FALSE\n",
      "Dodge Challenger    FALSE FALSE FALSE FALSE FALSE FALSE FALSE FALSE FALSE FALSE\n",
      "AMC Javelin         FALSE FALSE FALSE FALSE FALSE FALSE FALSE FALSE FALSE FALSE\n",
      "Camaro Z28          FALSE FALSE FALSE FALSE FALSE FALSE FALSE FALSE FALSE FALSE\n",
      "Pontiac Firebird    FALSE FALSE FALSE FALSE FALSE FALSE FALSE FALSE FALSE FALSE\n",
      "Fiat X1-9           FALSE FALSE FALSE FALSE FALSE FALSE FALSE FALSE FALSE FALSE\n",
      "Porsche 914-2       FALSE FALSE FALSE FALSE FALSE FALSE FALSE FALSE FALSE FALSE\n",
      "Lotus Europa        FALSE FALSE FALSE FALSE FALSE FALSE FALSE FALSE FALSE FALSE\n",
      "Ford Pantera L      FALSE FALSE FALSE FALSE FALSE FALSE FALSE FALSE FALSE FALSE\n",
      "Ferrari Dino        FALSE FALSE FALSE FALSE FALSE FALSE FALSE FALSE FALSE FALSE\n",
      "Maserati Bora       FALSE FALSE FALSE FALSE FALSE FALSE FALSE FALSE FALSE FALSE\n",
      "Volvo 142E          FALSE FALSE FALSE FALSE FALSE FALSE FALSE FALSE FALSE FALSE\n",
      "                     carb\n",
      "Mazda RX4           FALSE\n",
      "Mazda RX4 Wag       FALSE\n",
      "Datsun 710          FALSE\n",
      "Hornet 4 Drive      FALSE\n",
      "Hornet Sportabout   FALSE\n",
      "Valiant             FALSE\n",
      "Duster 360          FALSE\n",
      "Merc 240D           FALSE\n",
      "Merc 230            FALSE\n",
      "Merc 280            FALSE\n",
      "Merc 280C           FALSE\n",
      "Merc 450SE          FALSE\n",
      "Merc 450SL          FALSE\n",
      "Merc 450SLC         FALSE\n",
      "Cadillac Fleetwood  FALSE\n",
      "Lincoln Continental FALSE\n",
      "Chrysler Imperial   FALSE\n",
      "Fiat 128            FALSE\n",
      "Honda Civic         FALSE\n",
      "Toyota Corolla      FALSE\n",
      "Toyota Corona       FALSE\n",
      "Dodge Challenger    FALSE\n",
      "AMC Javelin         FALSE\n",
      "Camaro Z28          FALSE\n",
      "Pontiac Firebird    FALSE\n",
      "Fiat X1-9           FALSE\n",
      "Porsche 914-2       FALSE\n",
      "Lotus Europa        FALSE\n",
      "Ford Pantera L      FALSE\n",
      "Ferrari Dino        FALSE\n",
      "Maserati Bora       FALSE\n",
      "Volvo 142E          FALSE\n"
     ]
    }
   ],
   "source": [
    "print(is.na(mtcars))"
   ]
  },
  {
   "cell_type": "code",
   "execution_count": 156,
   "metadata": {},
   "outputs": [
    {
     "name": "stdout",
     "output_type": "stream",
     "text": [
      "[1] FALSE\n"
     ]
    }
   ],
   "source": [
    "print(any(is.na(df)))"
   ]
  },
  {
   "cell_type": "code",
   "execution_count": 157,
   "metadata": {},
   "outputs": [
    {
     "name": "stdout",
     "output_type": "stream",
     "text": [
      "[1] FALSE\n"
     ]
    }
   ],
   "source": [
    "print(any(is.na(mtcars)))"
   ]
  },
  {
   "cell_type": "code",
   "execution_count": 158,
   "metadata": {},
   "outputs": [
    {
     "name": "stdout",
     "output_type": "stream",
     "text": [
      "[1] FALSE\n"
     ]
    }
   ],
   "source": [
    "print(any(is.na(mtcars[, c('mpg', 'cyl')])))"
   ]
  },
  {
   "cell_type": "code",
   "execution_count": 159,
   "metadata": {},
   "outputs": [],
   "source": [
    "# replace missing data"
   ]
  },
  {
   "cell_type": "code",
   "execution_count": 161,
   "metadata": {},
   "outputs": [
    {
     "name": "stdout",
     "output_type": "stream",
     "text": [
      "  col.name.1 col.name.2\n",
      "1          1          a\n",
      "2          2          b\n",
      "3          3          c\n",
      "4          4          d\n",
      "5          5          e\n",
      "6          6          f\n"
     ]
    }
   ],
   "source": [
    "print(head(df))"
   ]
  },
  {
   "cell_type": "code",
   "execution_count": 163,
   "metadata": {},
   "outputs": [],
   "source": [
    "mtcars$mpg[is.na(mtcars$mpg)] <- mean(mtcars$mpg)"
   ]
  },
  {
   "cell_type": "code",
   "execution_count": 164,
   "metadata": {},
   "outputs": [
    {
     "name": "stdout",
     "output_type": "stream",
     "text": [
      "                   mpg cyl disp  hp drat    wt  qsec vs am gear carb\n",
      "Mazda RX4         21.0   6  160 110 3.90 2.620 16.46  0  1    4    4\n",
      "Mazda RX4 Wag     21.0   6  160 110 3.90 2.875 17.02  0  1    4    4\n",
      "Datsun 710        22.8   4  108  93 3.85 2.320 18.61  1  1    4    1\n",
      "Hornet 4 Drive    21.4   6  258 110 3.08 3.215 19.44  1  0    3    1\n",
      "Hornet Sportabout 18.7   8  360 175 3.15 3.440 17.02  0  0    3    2\n",
      "Valiant           18.1   6  225 105 2.76 3.460 20.22  1  0    3    1\n"
     ]
    }
   ],
   "source": [
    "print(head(mtcars))"
   ]
  },
  {
   "cell_type": "code",
   "execution_count": null,
   "metadata": {},
   "outputs": [],
   "source": []
  }
 ],
 "metadata": {
  "kernelspec": {
   "display_name": "R",
   "language": "R",
   "name": "ir"
  },
  "language_info": {
   "codemirror_mode": "r",
   "file_extension": ".r",
   "mimetype": "text/x-r-source",
   "name": "R",
   "pygments_lexer": "r",
   "version": "4.1.2"
  },
  "orig_nbformat": 4
 },
 "nbformat": 4,
 "nbformat_minor": 2
}
