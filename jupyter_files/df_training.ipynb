{
 "cells": [
  {
   "cell_type": "code",
   "execution_count": 4,
   "metadata": {},
   "outputs": [
    {
     "name": "stdout",
     "output_type": "stream",
     "text": [
      "   Name Age Weight Gender\n",
      "1   Sam  22    150      M\n",
      "2 Frank  25    165      M\n",
      "3   Amy  26    120      F\n"
     ]
    }
   ],
   "source": [
    "Name <- c(\"Sam\", \"Frank\", \"Amy\")\n",
    "Age <- c(22, 25, 26)\n",
    "Weight <- c(150, 165, 120)\n",
    "Gender <- c(\"M\", \"M\", \"F\")\n",
    "\n",
    "df <- data.frame(Name, Age, Weight, Gender)\n",
    "print(df)"
   ]
  },
  {
   "cell_type": "code",
   "execution_count": 5,
   "metadata": {},
   "outputs": [
    {
     "name": "stdout",
     "output_type": "stream",
     "text": [
      "                   mpg cyl disp  hp drat    wt  qsec vs am gear carb\n",
      "Mazda RX4         21.0   6  160 110 3.90 2.620 16.46  0  1    4    4\n",
      "Mazda RX4 Wag     21.0   6  160 110 3.90 2.875 17.02  0  1    4    4\n",
      "Datsun 710        22.8   4  108  93 3.85 2.320 18.61  1  1    4    1\n",
      "Hornet 4 Drive    21.4   6  258 110 3.08 3.215 19.44  1  0    3    1\n",
      "Hornet Sportabout 18.7   8  360 175 3.15 3.440 17.02  0  0    3    2\n",
      "Valiant           18.1   6  225 105 2.76 3.460 20.22  1  0    3    1\n"
     ]
    }
   ],
   "source": [
    "print(head(mtcars))"
   ]
  },
  {
   "cell_type": "code",
   "execution_count": 6,
   "metadata": {},
   "outputs": [
    {
     "name": "stdout",
     "output_type": "stream",
     "text": [
      "[1] TRUE\n"
     ]
    }
   ],
   "source": [
    "print(is.data.frame(mtcars))"
   ]
  },
  {
   "cell_type": "code",
   "execution_count": 7,
   "metadata": {},
   "outputs": [
    {
     "name": "stdout",
     "output_type": "stream",
     "text": [
      "     [,1] [,2] [,3] [,4] [,5]\n",
      "[1,]    1    6   11   16   21\n",
      "[2,]    2    7   12   17   22\n",
      "[3,]    3    8   13   18   23\n",
      "[4,]    4    9   14   19   24\n",
      "[5,]    5   10   15   20   25\n"
     ]
    }
   ],
   "source": [
    "mat <- matrix(1:25, nrow=5)\n",
    "print(mat)"
   ]
  },
  {
   "cell_type": "code",
   "execution_count": 8,
   "metadata": {},
   "outputs": [
    {
     "name": "stdout",
     "output_type": "stream",
     "text": [
      "  V1 V2 V3 V4 V5\n",
      "1  1  6 11 16 21\n",
      "2  2  7 12 17 22\n",
      "3  3  8 13 18 23\n",
      "4  4  9 14 19 24\n",
      "5  5 10 15 20 25\n"
     ]
    }
   ],
   "source": [
    "df1 <- as.data.frame(mat)\n",
    "print(df1)"
   ]
  },
  {
   "cell_type": "code",
   "execution_count": 9,
   "metadata": {},
   "outputs": [
    {
     "name": "stdout",
     "output_type": "stream",
     "text": [
      "[1] TRUE\n"
     ]
    }
   ],
   "source": [
    "print(is.data.frame(df1))"
   ]
  },
  {
   "cell_type": "code",
   "execution_count": 10,
   "metadata": {},
   "outputs": [
    {
     "name": "stdout",
     "output_type": "stream",
     "text": [
      "                   mpg cyl disp  hp drat    wt  qsec vs am gear carb\n",
      "Mazda RX4         21.0   6  160 110 3.90 2.620 16.46  0  1    4    4\n",
      "Mazda RX4 Wag     21.0   6  160 110 3.90 2.875 17.02  0  1    4    4\n",
      "Datsun 710        22.8   4  108  93 3.85 2.320 18.61  1  1    4    1\n",
      "Hornet 4 Drive    21.4   6  258 110 3.08 3.215 19.44  1  0    3    1\n",
      "Hornet Sportabout 18.7   8  360 175 3.15 3.440 17.02  0  0    3    2\n",
      "Valiant           18.1   6  225 105 2.76 3.460 20.22  1  0    3    1\n"
     ]
    }
   ],
   "source": [
    "df <- mtcars\n",
    "print(head(df, 6))"
   ]
  },
  {
   "cell_type": "code",
   "execution_count": 13,
   "metadata": {},
   "outputs": [
    {
     "name": "stdout",
     "output_type": "stream",
     "text": [
      "[1] 20.09062\n"
     ]
    }
   ],
   "source": [
    "print(mean(df$mpg))"
   ]
  },
  {
   "cell_type": "code",
   "execution_count": 14,
   "metadata": {},
   "outputs": [
    {
     "name": "stdout",
     "output_type": "stream",
     "text": [
      "                mpg cyl  disp  hp drat    wt  qsec vs am gear carb\n",
      "Mazda RX4      21.0   6 160.0 110 3.90 2.620 16.46  0  1    4    4\n",
      "Mazda RX4 Wag  21.0   6 160.0 110 3.90 2.875 17.02  0  1    4    4\n",
      "Hornet 4 Drive 21.4   6 258.0 110 3.08 3.215 19.44  1  0    3    1\n",
      "Valiant        18.1   6 225.0 105 2.76 3.460 20.22  1  0    3    1\n",
      "Merc 280       19.2   6 167.6 123 3.92 3.440 18.30  1  0    4    4\n",
      "Merc 280C      17.8   6 167.6 123 3.92 3.440 18.90  1  0    4    4\n",
      "Ferrari Dino   19.7   6 145.0 175 3.62 2.770 15.50  0  1    5    6\n"
     ]
    }
   ],
   "source": [
    "# select all rows where all cars have 6 cylinders\n",
    "print(df[df$cyl == 6, ])"
   ]
  },
  {
   "cell_type": "code",
   "execution_count": 15,
   "metadata": {},
   "outputs": [
    {
     "name": "stdout",
     "output_type": "stream",
     "text": [
      "                    am gear carb\n",
      "Mazda RX4            1    4    4\n",
      "Mazda RX4 Wag        1    4    4\n",
      "Datsun 710           1    4    1\n",
      "Hornet 4 Drive       0    3    1\n",
      "Hornet Sportabout    0    3    2\n",
      "Valiant              0    3    1\n",
      "Duster 360           0    3    4\n",
      "Merc 240D            0    4    2\n",
      "Merc 230             0    4    2\n",
      "Merc 280             0    4    4\n",
      "Merc 280C            0    4    4\n",
      "Merc 450SE           0    3    3\n",
      "Merc 450SL           0    3    3\n",
      "Merc 450SLC          0    3    3\n",
      "Cadillac Fleetwood   0    3    4\n",
      "Lincoln Continental  0    3    4\n",
      "Chrysler Imperial    0    3    4\n",
      "Fiat 128             1    4    1\n",
      "Honda Civic          1    4    2\n",
      "Toyota Corolla       1    4    1\n",
      "Toyota Corona        0    3    1\n",
      "Dodge Challenger     0    3    2\n",
      "AMC Javelin          0    3    2\n",
      "Camaro Z28           0    3    4\n",
      "Pontiac Firebird     0    3    2\n",
      "Fiat X1-9            1    4    1\n",
      "Porsche 914-2        1    5    2\n",
      "Lotus Europa         1    5    2\n",
      "Ford Pantera L       1    5    4\n",
      "Ferrari Dino         1    5    6\n",
      "Maserati Bora        1    5    8\n",
      "Volvo 142E           1    4    2\n"
     ]
    }
   ],
   "source": [
    "print(df[, c(\"am\", \"gear\", \"carb\")])"
   ]
  },
  {
   "cell_type": "code",
   "execution_count": 16,
   "metadata": {},
   "outputs": [
    {
     "name": "stdout",
     "output_type": "stream",
     "text": [
      "                   mpg cyl disp  hp drat    wt  qsec vs am gear carb\n",
      "Mazda RX4         21.0   6  160 110 3.90 2.620 16.46  0  1    4    4\n",
      "Mazda RX4 Wag     21.0   6  160 110 3.90 2.875 17.02  0  1    4    4\n",
      "Datsun 710        22.8   4  108  93 3.85 2.320 18.61  1  1    4    1\n",
      "Hornet 4 Drive    21.4   6  258 110 3.08 3.215 19.44  1  0    3    1\n",
      "Hornet Sportabout 18.7   8  360 175 3.15 3.440 17.02  0  0    3    2\n",
      "Valiant           18.1   6  225 105 2.76 3.460 20.22  1  0    3    1\n"
     ]
    }
   ],
   "source": [
    "print(head(df))"
   ]
  },
  {
   "cell_type": "code",
   "execution_count": 17,
   "metadata": {},
   "outputs": [
    {
     "name": "stdout",
     "output_type": "stream",
     "text": [
      "                   mpg cyl disp  hp drat    wt  qsec vs am gear carb\n",
      "Mazda RX4         21.0   6  160 110 3.90 2.620 16.46  0  1    4    4\n",
      "Mazda RX4 Wag     21.0   6  160 110 3.90 2.875 17.02  0  1    4    4\n",
      "Datsun 710        22.8   4  108  93 3.85 2.320 18.61  1  1    4    1\n",
      "Hornet 4 Drive    21.4   6  258 110 3.08 3.215 19.44  1  0    3    1\n",
      "Hornet Sportabout 18.7   8  360 175 3.15 3.440 17.02  0  0    3    2\n",
      "Valiant           18.1   6  225 105 2.76 3.460 20.22  1  0    3    1\n",
      "                  performance\n",
      "Mazda RX4            41.98473\n",
      "Mazda RX4 Wag        38.26087\n",
      "Datsun 710           40.08621\n",
      "Hornet 4 Drive       34.21462\n",
      "Hornet Sportabout    50.87209\n",
      "Valiant              30.34682\n"
     ]
    }
   ],
   "source": [
    "df$performance <- df$hp / df$wt\n",
    "print(head(df))"
   ]
  },
  {
   "cell_type": "code",
   "execution_count": 18,
   "metadata": {},
   "outputs": [
    {
     "data": {
      "text/html": [
       "<table class=\"dataframe\">\n",
       "<caption>A data.frame: 6 × 12</caption>\n",
       "<thead>\n",
       "\t<tr><th></th><th scope=col>mpg</th><th scope=col>cyl</th><th scope=col>disp</th><th scope=col>hp</th><th scope=col>drat</th><th scope=col>wt</th><th scope=col>qsec</th><th scope=col>vs</th><th scope=col>am</th><th scope=col>gear</th><th scope=col>carb</th><th scope=col>performance</th></tr>\n",
       "\t<tr><th></th><th scope=col>&lt;dbl&gt;</th><th scope=col>&lt;dbl&gt;</th><th scope=col>&lt;dbl&gt;</th><th scope=col>&lt;dbl&gt;</th><th scope=col>&lt;dbl&gt;</th><th scope=col>&lt;dbl&gt;</th><th scope=col>&lt;dbl&gt;</th><th scope=col>&lt;dbl&gt;</th><th scope=col>&lt;dbl&gt;</th><th scope=col>&lt;dbl&gt;</th><th scope=col>&lt;dbl&gt;</th><th scope=col>&lt;dbl&gt;</th></tr>\n",
       "</thead>\n",
       "<tbody>\n",
       "\t<tr><th scope=row>Mazda RX4</th><td>21.0</td><td>6</td><td>160</td><td>110</td><td>3.90</td><td>2.620</td><td>16.46</td><td>0</td><td>1</td><td>4</td><td>4</td><td>41.98473</td></tr>\n",
       "\t<tr><th scope=row>Mazda RX4 Wag</th><td>21.0</td><td>6</td><td>160</td><td>110</td><td>3.90</td><td>2.875</td><td>17.02</td><td>0</td><td>1</td><td>4</td><td>4</td><td>38.26087</td></tr>\n",
       "\t<tr><th scope=row>Datsun 710</th><td>22.8</td><td>4</td><td>108</td><td> 93</td><td>3.85</td><td>2.320</td><td>18.61</td><td>1</td><td>1</td><td>4</td><td>1</td><td>40.08621</td></tr>\n",
       "\t<tr><th scope=row>Hornet 4 Drive</th><td>21.4</td><td>6</td><td>258</td><td>110</td><td>3.08</td><td>3.215</td><td>19.44</td><td>1</td><td>0</td><td>3</td><td>1</td><td>34.21462</td></tr>\n",
       "\t<tr><th scope=row>Hornet Sportabout</th><td>18.7</td><td>8</td><td>360</td><td>175</td><td>3.15</td><td>3.440</td><td>17.02</td><td>0</td><td>0</td><td>3</td><td>2</td><td>50.87209</td></tr>\n",
       "\t<tr><th scope=row>Valiant</th><td>18.1</td><td>6</td><td>225</td><td>105</td><td>2.76</td><td>3.460</td><td>20.22</td><td>1</td><td>0</td><td>3</td><td>1</td><td>30.34682</td></tr>\n",
       "</tbody>\n",
       "</table>\n"
      ],
      "text/latex": [
       "A data.frame: 6 × 12\n",
       "\\begin{tabular}{r|llllllllllll}\n",
       "  & mpg & cyl & disp & hp & drat & wt & qsec & vs & am & gear & carb & performance\\\\\n",
       "  & <dbl> & <dbl> & <dbl> & <dbl> & <dbl> & <dbl> & <dbl> & <dbl> & <dbl> & <dbl> & <dbl> & <dbl>\\\\\n",
       "\\hline\n",
       "\tMazda RX4 & 21.0 & 6 & 160 & 110 & 3.90 & 2.620 & 16.46 & 0 & 1 & 4 & 4 & 41.98473\\\\\n",
       "\tMazda RX4 Wag & 21.0 & 6 & 160 & 110 & 3.90 & 2.875 & 17.02 & 0 & 1 & 4 & 4 & 38.26087\\\\\n",
       "\tDatsun 710 & 22.8 & 4 & 108 &  93 & 3.85 & 2.320 & 18.61 & 1 & 1 & 4 & 1 & 40.08621\\\\\n",
       "\tHornet 4 Drive & 21.4 & 6 & 258 & 110 & 3.08 & 3.215 & 19.44 & 1 & 0 & 3 & 1 & 34.21462\\\\\n",
       "\tHornet Sportabout & 18.7 & 8 & 360 & 175 & 3.15 & 3.440 & 17.02 & 0 & 0 & 3 & 2 & 50.87209\\\\\n",
       "\tValiant & 18.1 & 6 & 225 & 105 & 2.76 & 3.460 & 20.22 & 1 & 0 & 3 & 1 & 30.34682\\\\\n",
       "\\end{tabular}\n"
      ],
      "text/markdown": [
       "\n",
       "A data.frame: 6 × 12\n",
       "\n",
       "| <!--/--> | mpg &lt;dbl&gt; | cyl &lt;dbl&gt; | disp &lt;dbl&gt; | hp &lt;dbl&gt; | drat &lt;dbl&gt; | wt &lt;dbl&gt; | qsec &lt;dbl&gt; | vs &lt;dbl&gt; | am &lt;dbl&gt; | gear &lt;dbl&gt; | carb &lt;dbl&gt; | performance &lt;dbl&gt; |\n",
       "|---|---|---|---|---|---|---|---|---|---|---|---|---|\n",
       "| Mazda RX4 | 21.0 | 6 | 160 | 110 | 3.90 | 2.620 | 16.46 | 0 | 1 | 4 | 4 | 41.98473 |\n",
       "| Mazda RX4 Wag | 21.0 | 6 | 160 | 110 | 3.90 | 2.875 | 17.02 | 0 | 1 | 4 | 4 | 38.26087 |\n",
       "| Datsun 710 | 22.8 | 4 | 108 |  93 | 3.85 | 2.320 | 18.61 | 1 | 1 | 4 | 1 | 40.08621 |\n",
       "| Hornet 4 Drive | 21.4 | 6 | 258 | 110 | 3.08 | 3.215 | 19.44 | 1 | 0 | 3 | 1 | 34.21462 |\n",
       "| Hornet Sportabout | 18.7 | 8 | 360 | 175 | 3.15 | 3.440 | 17.02 | 0 | 0 | 3 | 2 | 50.87209 |\n",
       "| Valiant | 18.1 | 6 | 225 | 105 | 2.76 | 3.460 | 20.22 | 1 | 0 | 3 | 1 | 30.34682 |\n",
       "\n"
      ],
      "text/plain": [
       "                  mpg  cyl disp hp  drat wt    qsec  vs am gear carb\n",
       "Mazda RX4         21.0 6   160  110 3.90 2.620 16.46 0  1  4    4   \n",
       "Mazda RX4 Wag     21.0 6   160  110 3.90 2.875 17.02 0  1  4    4   \n",
       "Datsun 710        22.8 4   108   93 3.85 2.320 18.61 1  1  4    1   \n",
       "Hornet 4 Drive    21.4 6   258  110 3.08 3.215 19.44 1  0  3    1   \n",
       "Hornet Sportabout 18.7 8   360  175 3.15 3.440 17.02 0  0  3    2   \n",
       "Valiant           18.1 6   225  105 2.76 3.460 20.22 1  0  3    1   \n",
       "                  performance\n",
       "Mazda RX4         41.98473   \n",
       "Mazda RX4 Wag     38.26087   \n",
       "Datsun 710        40.08621   \n",
       "Hornet 4 Drive    34.21462   \n",
       "Hornet Sportabout 50.87209   \n",
       "Valiant           30.34682   "
      ]
     },
     "metadata": {},
     "output_type": "display_data"
    }
   ],
   "source": [
    "head(df)"
   ]
  },
  {
   "cell_type": "code",
   "execution_count": 19,
   "metadata": {},
   "outputs": [
    {
     "name": "stderr",
     "output_type": "stream",
     "text": [
      "Warning message in seq_len(head.end.idx):\n",
      "\"first element used of 'length.out' argument\"\n",
      "ERROR while rich displaying an object: Error in seq_len(head.end.idx): argument must be coercible to non-negative integer\n",
      "\n",
      "Traceback:\n",
      "1. FUN(X[[i]], ...)\n",
      "2. tryCatch(withCallingHandlers({\n",
      " .     if (!mime %in% names(repr::mime2repr)) \n",
      " .         stop(\"No repr_* for mimetype \", mime, \" in repr::mime2repr\")\n",
      " .     rpr <- repr::mime2repr[[mime]](obj)\n",
      " .     if (is.null(rpr)) \n",
      " .         return(NULL)\n",
      " .     prepare_content(is.raw(rpr), rpr)\n",
      " . }, error = error_handler), error = outer_handler)\n",
      "3. tryCatchList(expr, classes, parentenv, handlers)\n",
      "4. tryCatchOne(expr, names, parentenv, handlers[[1L]])\n",
      "5. doTryCatch(return(expr), name, parentenv, handler)\n",
      "6. withCallingHandlers({\n",
      " .     if (!mime %in% names(repr::mime2repr)) \n",
      " .         stop(\"No repr_* for mimetype \", mime, \" in repr::mime2repr\")\n",
      " .     rpr <- repr::mime2repr[[mime]](obj)\n",
      " .     if (is.null(rpr)) \n",
      " .         return(NULL)\n",
      " .     prepare_content(is.raw(rpr), rpr)\n",
      " . }, error = error_handler)\n",
      "7. repr::mime2repr[[mime]](obj)\n",
      "8. repr_html.help_files_with_topic(obj)\n",
      "9. repr_help_files_with_topic_generic(obj, Rd2HTML)\n"
     ]
    },
    {
     "name": "stdout",
     "output_type": "stream",
     "text": [
      "Round                   package:base                   R Documentation\n",
      "\n",
      "_\bR_\bo_\bu_\bn_\bd_\bi_\bn_\bg _\bo_\bf _\bN_\bu_\bm_\bb_\be_\br_\bs\n",
      "\n",
      "_\bD_\be_\bs_\bc_\br_\bi_\bp_\bt_\bi_\bo_\bn:\n",
      "\n",
      "     'ceiling' takes a single numeric argument 'x' and returns a\n",
      "     numeric vector containing the smallest integers not less than the\n",
      "     corresponding elements of 'x'.\n",
      "\n",
      "     'floor' takes a single numeric argument 'x' and returns a numeric\n",
      "     vector containing the largest integers not greater than the\n",
      "     corresponding elements of 'x'.\n",
      "\n",
      "     'trunc' takes a single numeric argument 'x' and returns a numeric\n",
      "     vector containing the integers formed by truncating the values in\n",
      "     'x' toward '0'.\n",
      "\n",
      "     'round' rounds the values in its first argument to the specified\n",
      "     number of decimal places (default 0).  See 'Details' about \"round\n",
      "     to even\" when rounding off a 5.\n",
      "\n",
      "     'signif' rounds the values in its first argument to the specified\n",
      "     number of significant digits.  Hence, for 'numeric' 'x',\n",
      "     'signif(x, dig)' is the same as 'round(x, dig -\n",
      "     ceiling(log10(abs(x))))'.  For 'complex' 'x', this is not the\n",
      "     case, see the 'Details'.\n",
      "\n",
      "_\bU_\bs_\ba_\bg_\be:\n",
      "\n",
      "     ceiling(x)\n",
      "     floor(x)\n",
      "     trunc(x, ...)\n",
      "     \n",
      "     round(x, digits = 0)\n",
      "     signif(x, digits = 6)\n",
      "     \n",
      "_\bA_\br_\bg_\bu_\bm_\be_\bn_\bt_\bs:\n",
      "\n",
      "       x: a numeric vector.  Or, for 'round' and 'signif', a complex\n",
      "          vector.\n",
      "\n",
      "  digits: integer indicating the number of decimal places ('round') or\n",
      "          significant digits ('signif') to be used.  Negative values\n",
      "          are allowed (see 'Details').\n",
      "\n",
      "     ...: arguments to be passed to methods.\n",
      "\n",
      "_\bD_\be_\bt_\ba_\bi_\bl_\bs:\n",
      "\n",
      "     These are generic functions: methods can be defined for them\n",
      "     individually or via the 'Math' group generic.\n",
      "\n",
      "     Note that for rounding off a 5, the IEC 60559 standard (see also\n",
      "     'IEEE 754') is expected to be used, '_go to the even digit_'.\n",
      "     Therefore 'round(0.5)' is '0' and 'round(-1.5)' is '-2'.  However,\n",
      "     this is dependent on OS services and on representation error\n",
      "     (since e.g. '0.15' is not represented exactly, the rounding rule\n",
      "     applies to the represented number and not to the printed number,\n",
      "     and so 'round(0.15, 1)' could be either '0.1' or '0.2').\n",
      "\n",
      "     Rounding to a negative number of digits means rounding to a power\n",
      "     of ten, so for example 'round(x, digits = -2)' rounds to the\n",
      "     nearest hundred.\n",
      "\n",
      "     For 'signif' the recognized values of 'digits' are '1...22', and\n",
      "     non-missing values are rounded to the nearest integer in that\n",
      "     range.  Complex numbers are rounded to retain the specified number\n",
      "     of digits in the larger of the components.  Each element of the\n",
      "     vector is rounded individually, unlike printing.\n",
      "\n",
      "     These are all primitive functions.\n",
      "\n",
      "_\bS_\b4 _\bm_\be_\bt_\bh_\bo_\bd_\bs:\n",
      "\n",
      "     These are all (internally) S4 generic.\n",
      "\n",
      "     'ceiling', 'floor' and 'trunc' are members of the 'Math' group\n",
      "     generic.  As an S4 generic, 'trunc' has only one argument.\n",
      "\n",
      "     'round' and 'signif' are members of the 'Math2' group generic.\n",
      "\n",
      "_\bW_\ba_\br_\bn_\bi_\bn_\bg:\n",
      "\n",
      "     The realities of computer arithmetic can cause unexpected results,\n",
      "     especially with 'floor' and 'ceiling'.  For example, we 'know'\n",
      "     that 'floor(log(x, base = 8))' for 'x = 8' is '1', but '0' has\n",
      "     been seen on an R platform.  It is normally necessary to use a\n",
      "     tolerance.\n",
      "\n",
      "     Rounding to decimal digits in binary arithmetic is non-trivial\n",
      "     (when 'digits != 0') and may be surprising.  Be aware that most\n",
      "     decimal fractions are _not_ exactly representable in binary double\n",
      "     precision.  In R 4.0.0, the algorithm for 'round(x, d)', for d >\n",
      "     0, has been improved to _measure_ and round \"to nearest even\",\n",
      "     contrary to earlier versions of R (or also to 'sprintf()' or\n",
      "     'format()' based rounding).\n",
      "\n",
      "_\bR_\be_\bf_\be_\br_\be_\bn_\bc_\be_\bs:\n",
      "\n",
      "     Becker, R. A., Chambers, J. M. and Wilks, A. R. (1988) _The New S\n",
      "     Language_.  Wadsworth & Brooks/Cole.\n",
      "\n",
      "     The ISO/IEC/IEEE 60559:2011 standard is available for money from\n",
      "     <URL: https://www.iso.org>.\n",
      "\n",
      "     The IEEE 754:2008 standard is more openly documented, e.g, at\n",
      "     <URL: https://en.wikipedia.org/wiki/IEEE_754>.\n",
      "\n",
      "_\bS_\be_\be _\bA_\bl_\bs_\bo:\n",
      "\n",
      "     'as.integer'.  Package 'round''s 'roundX()' for several versions\n",
      "     or implementations of rounding, including some previous and the\n",
      "     current R version (as 'version = \"3d.C\"').\n",
      "\n",
      "_\bE_\bx_\ba_\bm_\bp_\bl_\be_\bs:\n",
      "\n",
      "     round(.5 + -2:4) # IEEE / IEC rounding: -2  0  0  2  2  4  4\n",
      "     ## (this is *good* behaviour -- do *NOT* report it as bug !)\n",
      "     \n",
      "     ( x1 <- seq(-2, 4, by = .5) )\n",
      "     round(x1) #-- IEEE / IEC rounding !\n",
      "     x1[trunc(x1) != floor(x1)]\n",
      "     x1[round(x1) != floor(x1 + .5)]\n",
      "     (non.int <- ceiling(x1) != floor(x1))\n",
      "     \n",
      "     x2 <- pi * 100^(-1:3)\n",
      "     round(x2, 3)\n",
      "     signif(x2, 3)\n",
      "     "
     ]
    }
   ],
   "source": [
    "help(round)"
   ]
  },
  {
   "cell_type": "code",
   "execution_count": 20,
   "metadata": {},
   "outputs": [],
   "source": [
    "df$performance <- round(df$hp / df$wt, 2)"
   ]
  },
  {
   "cell_type": "code",
   "execution_count": 21,
   "metadata": {},
   "outputs": [
    {
     "data": {
      "text/html": [
       "<table class=\"dataframe\">\n",
       "<caption>A data.frame: 6 × 12</caption>\n",
       "<thead>\n",
       "\t<tr><th></th><th scope=col>mpg</th><th scope=col>cyl</th><th scope=col>disp</th><th scope=col>hp</th><th scope=col>drat</th><th scope=col>wt</th><th scope=col>qsec</th><th scope=col>vs</th><th scope=col>am</th><th scope=col>gear</th><th scope=col>carb</th><th scope=col>performance</th></tr>\n",
       "\t<tr><th></th><th scope=col>&lt;dbl&gt;</th><th scope=col>&lt;dbl&gt;</th><th scope=col>&lt;dbl&gt;</th><th scope=col>&lt;dbl&gt;</th><th scope=col>&lt;dbl&gt;</th><th scope=col>&lt;dbl&gt;</th><th scope=col>&lt;dbl&gt;</th><th scope=col>&lt;dbl&gt;</th><th scope=col>&lt;dbl&gt;</th><th scope=col>&lt;dbl&gt;</th><th scope=col>&lt;dbl&gt;</th><th scope=col>&lt;dbl&gt;</th></tr>\n",
       "</thead>\n",
       "<tbody>\n",
       "\t<tr><th scope=row>Mazda RX4</th><td>21.0</td><td>6</td><td>160</td><td>110</td><td>3.90</td><td>2.620</td><td>16.46</td><td>0</td><td>1</td><td>4</td><td>4</td><td>41.98</td></tr>\n",
       "\t<tr><th scope=row>Mazda RX4 Wag</th><td>21.0</td><td>6</td><td>160</td><td>110</td><td>3.90</td><td>2.875</td><td>17.02</td><td>0</td><td>1</td><td>4</td><td>4</td><td>38.26</td></tr>\n",
       "\t<tr><th scope=row>Datsun 710</th><td>22.8</td><td>4</td><td>108</td><td> 93</td><td>3.85</td><td>2.320</td><td>18.61</td><td>1</td><td>1</td><td>4</td><td>1</td><td>40.09</td></tr>\n",
       "\t<tr><th scope=row>Hornet 4 Drive</th><td>21.4</td><td>6</td><td>258</td><td>110</td><td>3.08</td><td>3.215</td><td>19.44</td><td>1</td><td>0</td><td>3</td><td>1</td><td>34.21</td></tr>\n",
       "\t<tr><th scope=row>Hornet Sportabout</th><td>18.7</td><td>8</td><td>360</td><td>175</td><td>3.15</td><td>3.440</td><td>17.02</td><td>0</td><td>0</td><td>3</td><td>2</td><td>50.87</td></tr>\n",
       "\t<tr><th scope=row>Valiant</th><td>18.1</td><td>6</td><td>225</td><td>105</td><td>2.76</td><td>3.460</td><td>20.22</td><td>1</td><td>0</td><td>3</td><td>1</td><td>30.35</td></tr>\n",
       "</tbody>\n",
       "</table>\n"
      ],
      "text/latex": [
       "A data.frame: 6 × 12\n",
       "\\begin{tabular}{r|llllllllllll}\n",
       "  & mpg & cyl & disp & hp & drat & wt & qsec & vs & am & gear & carb & performance\\\\\n",
       "  & <dbl> & <dbl> & <dbl> & <dbl> & <dbl> & <dbl> & <dbl> & <dbl> & <dbl> & <dbl> & <dbl> & <dbl>\\\\\n",
       "\\hline\n",
       "\tMazda RX4 & 21.0 & 6 & 160 & 110 & 3.90 & 2.620 & 16.46 & 0 & 1 & 4 & 4 & 41.98\\\\\n",
       "\tMazda RX4 Wag & 21.0 & 6 & 160 & 110 & 3.90 & 2.875 & 17.02 & 0 & 1 & 4 & 4 & 38.26\\\\\n",
       "\tDatsun 710 & 22.8 & 4 & 108 &  93 & 3.85 & 2.320 & 18.61 & 1 & 1 & 4 & 1 & 40.09\\\\\n",
       "\tHornet 4 Drive & 21.4 & 6 & 258 & 110 & 3.08 & 3.215 & 19.44 & 1 & 0 & 3 & 1 & 34.21\\\\\n",
       "\tHornet Sportabout & 18.7 & 8 & 360 & 175 & 3.15 & 3.440 & 17.02 & 0 & 0 & 3 & 2 & 50.87\\\\\n",
       "\tValiant & 18.1 & 6 & 225 & 105 & 2.76 & 3.460 & 20.22 & 1 & 0 & 3 & 1 & 30.35\\\\\n",
       "\\end{tabular}\n"
      ],
      "text/markdown": [
       "\n",
       "A data.frame: 6 × 12\n",
       "\n",
       "| <!--/--> | mpg &lt;dbl&gt; | cyl &lt;dbl&gt; | disp &lt;dbl&gt; | hp &lt;dbl&gt; | drat &lt;dbl&gt; | wt &lt;dbl&gt; | qsec &lt;dbl&gt; | vs &lt;dbl&gt; | am &lt;dbl&gt; | gear &lt;dbl&gt; | carb &lt;dbl&gt; | performance &lt;dbl&gt; |\n",
       "|---|---|---|---|---|---|---|---|---|---|---|---|---|\n",
       "| Mazda RX4 | 21.0 | 6 | 160 | 110 | 3.90 | 2.620 | 16.46 | 0 | 1 | 4 | 4 | 41.98 |\n",
       "| Mazda RX4 Wag | 21.0 | 6 | 160 | 110 | 3.90 | 2.875 | 17.02 | 0 | 1 | 4 | 4 | 38.26 |\n",
       "| Datsun 710 | 22.8 | 4 | 108 |  93 | 3.85 | 2.320 | 18.61 | 1 | 1 | 4 | 1 | 40.09 |\n",
       "| Hornet 4 Drive | 21.4 | 6 | 258 | 110 | 3.08 | 3.215 | 19.44 | 1 | 0 | 3 | 1 | 34.21 |\n",
       "| Hornet Sportabout | 18.7 | 8 | 360 | 175 | 3.15 | 3.440 | 17.02 | 0 | 0 | 3 | 2 | 50.87 |\n",
       "| Valiant | 18.1 | 6 | 225 | 105 | 2.76 | 3.460 | 20.22 | 1 | 0 | 3 | 1 | 30.35 |\n",
       "\n"
      ],
      "text/plain": [
       "                  mpg  cyl disp hp  drat wt    qsec  vs am gear carb\n",
       "Mazda RX4         21.0 6   160  110 3.90 2.620 16.46 0  1  4    4   \n",
       "Mazda RX4 Wag     21.0 6   160  110 3.90 2.875 17.02 0  1  4    4   \n",
       "Datsun 710        22.8 4   108   93 3.85 2.320 18.61 1  1  4    1   \n",
       "Hornet 4 Drive    21.4 6   258  110 3.08 3.215 19.44 1  0  3    1   \n",
       "Hornet Sportabout 18.7 8   360  175 3.15 3.440 17.02 0  0  3    2   \n",
       "Valiant           18.1 6   225  105 2.76 3.460 20.22 1  0  3    1   \n",
       "                  performance\n",
       "Mazda RX4         41.98      \n",
       "Mazda RX4 Wag     38.26      \n",
       "Datsun 710        40.09      \n",
       "Hornet 4 Drive    34.21      \n",
       "Hornet Sportabout 50.87      \n",
       "Valiant           30.35      "
      ]
     },
     "metadata": {},
     "output_type": "display_data"
    }
   ],
   "source": [
    "head(df)"
   ]
  },
  {
   "cell_type": "code",
   "execution_count": 38,
   "metadata": {},
   "outputs": [
    {
     "name": "stdout",
     "output_type": "stream",
     "text": [
      "[1] 16.86364\n"
     ]
    }
   ],
   "source": [
    "# what is the average mpg for cars with more than 100 hp and a wt value of more than 2.5?\n",
    "print(mean(df[df$hp > 100 & df$wt > 2.5, \"mpg\"]))"
   ]
  },
  {
   "cell_type": "code",
   "execution_count": 39,
   "metadata": {},
   "outputs": [
    {
     "name": "stdout",
     "output_type": "stream",
     "text": [
      "numeric(0)\n"
     ]
    }
   ],
   "source": [
    "# mpg of Hornet Sportabout?\n",
    "print(df[df$model == \"Hornet Sportabout\", \"mpg\"])"
   ]
  },
  {
   "cell_type": "code",
   "execution_count": null,
   "metadata": {},
   "outputs": [],
   "source": []
  }
 ],
 "metadata": {
  "kernelspec": {
   "display_name": "R",
   "language": "R",
   "name": "ir"
  },
  "language_info": {
   "codemirror_mode": "r",
   "file_extension": ".r",
   "mimetype": "text/x-r-source",
   "name": "R",
   "pygments_lexer": "r",
   "version": "4.1.2"
  },
  "orig_nbformat": 4
 },
 "nbformat": 4,
 "nbformat_minor": 2
}
